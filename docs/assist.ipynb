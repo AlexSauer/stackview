{
 "cells": [
  {
   "cell_type": "code",
   "execution_count": 1,
   "id": "6b0a48a5-778b-4789-aa28-84e270252e9c",
   "metadata": {},
   "outputs": [],
   "source": [
    "import stackview\n",
    "import napari_segment_blobs_and_things_with_membranes as nsbatwm\n",
    "import napari_simpleitk_image_processing as nsitk\n",
    "import skimage.filters as skfilters\n",
    "from pyclesperanto_prototype import voronoi_otsu_labeling, gauss_otsu_labeling, eroded_otsu_labeling, erode_connected_labels, label, \\\n",
    "                                    erode_labels, dilate_labels, opening_labels, closing_labels, smooth_labels\n",
    "\n",
    "import numpy as np\n",
    "from skimage.io import imread\n",
    "import pyclesperanto_prototype as cle"
   ]
  },
  {
   "cell_type": "code",
   "execution_count": 2,
   "id": "5bca1452-95b2-42f7-bc93-d354fe9d55b4",
   "metadata": {},
   "outputs": [],
   "source": [
    "image1 = np.random.random((100, 100))\n",
    "image2 = np.random.random((150, 150))\n",
    "image3 = np.random.random((10, 150, 150))\n",
    "blobs = imread(\"data/blobs.tif\")\n",
    "binary = blobs > 120\n",
    "labels = label(binary)"
   ]
  },
  {
   "cell_type": "code",
   "execution_count": 3,
   "id": "53e523c9-82e9-4d5e-8ff8-aab818ba211b",
   "metadata": {},
   "outputs": [],
   "source": [
    "dilated_labels = dilate_labels(labels, radius=7)"
   ]
  },
  {
   "cell_type": "code",
   "execution_count": 4,
   "id": "12030115-7837-41e1-bccc-6f4438dc731d",
   "metadata": {},
   "outputs": [],
   "source": [
    "#stackview.assist(\"nois\", globals(), continuous_update=True)"
   ]
  },
  {
   "cell_type": "code",
   "execution_count": 5,
   "id": "6d059ab4-5347-4c33-a318-a73ee493bab8",
   "metadata": {},
   "outputs": [],
   "source": [
    "#stackview.assist(\"background\", globals(), continuous_update=True)"
   ]
  },
  {
   "cell_type": "code",
   "execution_count": 6,
   "id": "2e59022e-7230-49af-bece-1fdde3c7c7fe",
   "metadata": {
    "tags": []
   },
   "outputs": [
    {
     "ename": "ImportError",
     "evalue": "cannot import name 'logo' from 'stackview._utilities' (c:\\structure\\code\\stackview\\stackview\\_utilities.py)",
     "output_type": "error",
     "traceback": [
      "\u001b[1;31m---------------------------------------------------------------------------\u001b[0m",
      "\u001b[1;31mImportError\u001b[0m                               Traceback (most recent call last)",
      "Cell \u001b[1;32mIn[6], line 1\u001b[0m\n\u001b[1;32m----> 1\u001b[0m \u001b[43mstackview\u001b[49m\u001b[38;5;241;43m.\u001b[39;49m\u001b[43massist\u001b[49m\u001b[43m(\u001b[49m\u001b[38;5;124;43m\"\u001b[39;49m\u001b[38;5;124;43mprojection\u001b[39;49m\u001b[38;5;124;43m\"\u001b[39;49m\u001b[43m,\u001b[49m\u001b[43m \u001b[49m\u001b[38;5;28;43mglobals\u001b[39;49m\u001b[43m(\u001b[49m\u001b[43m)\u001b[49m\u001b[43m,\u001b[49m\u001b[43m \u001b[49m\u001b[43mcontinuous_update\u001b[49m\u001b[38;5;241;43m=\u001b[39;49m\u001b[38;5;28;43;01mTrue\u001b[39;49;00m\u001b[43m)\u001b[49m\n",
      "File \u001b[1;32mc:\\structure\\code\\stackview\\stackview\\_assist.py:39\u001b[0m, in \u001b[0;36massist\u001b[1;34m(what, context, continuous_update, zoom_factor, zoom_spline_order)\u001b[0m\n\u001b[0;32m     37\u001b[0m \u001b[38;5;28;01mfrom\u001b[39;00m \u001b[38;5;21;01m.\u001b[39;00m\u001b[38;5;21;01m_utilities\u001b[39;00m \u001b[38;5;28;01mimport\u001b[39;00m _no_resize\n\u001b[0;32m     38\u001b[0m \u001b[38;5;28;01mfrom\u001b[39;00m \u001b[38;5;21;01m.\u001b[39;00m\u001b[38;5;21;01m_slice_viewer\u001b[39;00m \u001b[38;5;28;01mimport\u001b[39;00m _SliceViewer\n\u001b[1;32m---> 39\u001b[0m \u001b[38;5;28;01mfrom\u001b[39;00m \u001b[38;5;21;01m.\u001b[39;00m\u001b[38;5;21;01m_utilities\u001b[39;00m \u001b[38;5;28;01mimport\u001b[39;00m logo\n\u001b[0;32m     40\u001b[0m \u001b[38;5;28;01mfrom\u001b[39;00m \u001b[38;5;21;01m.\u001b[39;00m\u001b[38;5;21;01m_interact\u001b[39;00m \u001b[38;5;28;01mimport\u001b[39;00m interact\n\u001b[0;32m     42\u001b[0m \u001b[38;5;66;03m# search is case-insensitive\u001b[39;00m\n",
      "\u001b[1;31mImportError\u001b[0m: cannot import name 'logo' from 'stackview._utilities' (c:\\structure\\code\\stackview\\stackview\\_utilities.py)"
     ]
    }
   ],
   "source": [
    "stackview.assist(\"projection\", globals(), continuous_update=True)"
   ]
  },
  {
   "cell_type": "code",
   "execution_count": null,
   "id": "c60e735a-b810-44d7-8d44-a82ee1865164",
   "metadata": {},
   "outputs": [],
   "source": [
    "#stackview.interact(cle.z_position_of_minimum_z_projection , context=globals())"
   ]
  },
  {
   "cell_type": "code",
   "execution_count": null,
   "id": "038cf278-a709-4fb4-8299-7b8fb49f3126",
   "metadata": {},
   "outputs": [],
   "source": []
  }
 ],
 "metadata": {
  "kernelspec": {
   "display_name": "Python 3 (ipykernel)",
   "language": "python",
   "name": "python3"
  },
  "language_info": {
   "codemirror_mode": {
    "name": "ipython",
    "version": 3
   },
   "file_extension": ".py",
   "mimetype": "text/x-python",
   "name": "python",
   "nbconvert_exporter": "python",
   "pygments_lexer": "ipython3",
   "version": "3.9.15"
  },
  "widgets": {
   "application/vnd.jupyter.widget-state+json": {
    "state": {},
    "version_major": 2,
    "version_minor": 0
   }
  }
 },
 "nbformat": 4,
 "nbformat_minor": 5
}
