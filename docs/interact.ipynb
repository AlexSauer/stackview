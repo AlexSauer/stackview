{
 "cells": [
  {
   "cell_type": "markdown",
   "id": "0d686fb5-8925-4f0b-8da4-9a2bc3d473fa",
   "metadata": {},
   "source": [
    "## Image selection pulldowns\n",
    "In this notebook we demonstrate how to use `stackview.interact` for also selecting input image(s) from pulldowns. Key is to pass a dictionary with named images as `context`, e.g. `context=globals()`."
   ]
  },
  {
   "cell_type": "code",
   "execution_count": 1,
   "id": "d82088b1-661c-44fc-9d7c-9c7b1b3d4e72",
   "metadata": {},
   "outputs": [],
   "source": [
    "import stackview\n",
    "\n",
    "from skimage.filters import gaussian\n",
    "import numpy as np\n",
    "from skimage.io import imread"
   ]
  },
  {
   "cell_type": "code",
   "execution_count": 2,
   "id": "9462d7a5-a0b9-46c3-9914-8db188bb3e86",
   "metadata": {},
   "outputs": [],
   "source": [
    "image1 = imread(\"data/Haase_MRT_tfl3d1.tif\")\n",
    "image2 = imread(\"data/CalibZAPWfixed_000154_max.tif\")"
   ]
  },
  {
   "cell_type": "code",
   "execution_count": 3,
   "id": "0d6e0fb8-0a5a-4ebf-a288-efc0dd45aadf",
   "metadata": {},
   "outputs": [
    {
     "data": {
      "application/vnd.jupyter.widget-view+json": {
       "model_id": "0ff04c4ae75e428a8b7dd9229ebf50bc",
       "version_major": 2,
       "version_minor": 0
      },
      "text/plain": [
       "interactive(children=(Dropdown(description='image', options=('image1', 'image2'), value='image1'), FloatSlider…"
      ]
     },
     "metadata": {},
     "output_type": "display_data"
    },
    {
     "data": {
      "application/vnd.jupyter.widget-view+json": {
       "model_id": "a8bed6b5871840a2b3ef62d7d50cb154",
       "version_major": 2,
       "version_minor": 0
      },
      "text/plain": [
       "VBox(children=(HBox(children=(VBox(children=(ImageWidget(height=160, width=160),)),)), IntSlider(value=60, des…"
      ]
     },
     "execution_count": 3,
     "metadata": {},
     "output_type": "execute_result"
    }
   ],
   "source": [
    "stackview.interact(gaussian, context=globals(), continuous_update=True)"
   ]
  },
  {
   "cell_type": "code",
   "execution_count": null,
   "id": "cc7923d6-d33b-44c6-b113-589afd452dd7",
   "metadata": {},
   "outputs": [],
   "source": []
  }
 ],
 "metadata": {
  "kernelspec": {
   "display_name": "Python 3 (ipykernel)",
   "language": "python",
   "name": "python3"
  },
  "language_info": {
   "codemirror_mode": {
    "name": "ipython",
    "version": 3
   },
   "file_extension": ".py",
   "mimetype": "text/x-python",
   "name": "python",
   "nbconvert_exporter": "python",
   "pygments_lexer": "ipython3",
   "version": "3.9.15"
  },
  "widgets": {
   "application/vnd.jupyter.widget-state+json": {
    "state": {
     "0099c817f4a34242b80969548c53def7": {
      "model_module": "@jupyter-widgets/controls",
      "model_module_version": "2.0.0",
      "model_name": "DescriptionStyleModel",
      "state": {
       "description_width": ""
      }
     },
     "08efb7e442204b819f41f954f989e7bf": {
      "model_module": "@jupyter-widgets/base",
      "model_module_version": "2.0.0",
      "model_name": "LayoutModel",
      "state": {}
     },
     "09094abd3efd409aaf83b20e1f3283ec": {
      "model_module": "@jupyter-widgets/controls",
      "model_module_version": "2.0.0",
      "model_name": "FloatSliderModel",
      "state": {
       "behavior": "drag-tap",
       "description": "sigma",
       "layout": "IPY_MODEL_5a21ff9045b34f44afb90e883e8e135a",
       "max": 10,
       "style": "IPY_MODEL_e1aae96bfd4a4de0a43e093db7e2cafd",
       "value": 1
      }
     },
     "0ff04c4ae75e428a8b7dd9229ebf50bc": {
      "model_module": "@jupyter-widgets/controls",
      "model_module_version": "2.0.0",
      "model_name": "VBoxModel",
      "state": {
       "_dom_classes": [
        "widget-interact"
       ],
       "children": [
        "IPY_MODEL_fc31942659e74af4877c4f3d37b05b7a",
        "IPY_MODEL_09094abd3efd409aaf83b20e1f3283ec",
        "IPY_MODEL_a8ed826c6cf847b38cb36f3788cce1b8"
       ],
       "layout": "IPY_MODEL_639a81f9db8a45f2b16495ddd88f6b40"
      }
     },
     "1fc406643b734fc8a2eece32879f0ff0": {
      "model_module": "@jupyter-widgets/controls",
      "model_module_version": "2.0.0",
      "model_name": "HBoxModel",
      "state": {
       "children": [
        "IPY_MODEL_d4f9b177d6e44f94ac03026e7b6625a1"
       ],
       "layout": "IPY_MODEL_8e921d45ae2e47d694a3f1bcc51f089e"
      }
     },
     "36afe697260245a08ff8323f45eb076b": {
      "model_module": "@jupyter-widgets/base",
      "model_module_version": "2.0.0",
      "model_name": "LayoutModel",
      "state": {}
     },
     "3e7111fdd3fc433b99063a8337724699": {
      "model_module": "ipycanvas",
      "model_module_version": "^0.13",
      "model_name": "CanvasModel",
      "state": {
       "_canvas_manager": "IPY_MODEL_fc03e0e5d99a43b688f941436335c6d5",
       "_model_module_version": "^0.13",
       "_view_module_version": "^0.13",
       "height": 160,
       "layout": "IPY_MODEL_e0ecdc0da452441cb5530e4078a28a00",
       "width": 160
      }
     },
     "50765a7918d44618901fdab4780ae87e": {
      "model_module": "@jupyter-widgets/base",
      "model_module_version": "2.0.0",
      "model_name": "LayoutModel",
      "state": {}
     },
     "512214692399492f8a227bd7d04f0c3c": {
      "model_module": "@jupyter-widgets/controls",
      "model_module_version": "2.0.0",
      "model_name": "LabelStyleModel",
      "state": {
       "description_width": "",
       "font_family": null,
       "font_size": null,
       "font_style": null,
       "font_variant": null,
       "font_weight": null,
       "text_color": null,
       "text_decoration": null
      }
     },
     "5a21ff9045b34f44afb90e883e8e135a": {
      "model_module": "@jupyter-widgets/base",
      "model_module_version": "2.0.0",
      "model_name": "LayoutModel",
      "state": {}
     },
     "639a81f9db8a45f2b16495ddd88f6b40": {
      "model_module": "@jupyter-widgets/base",
      "model_module_version": "2.0.0",
      "model_name": "LayoutModel",
      "state": {}
     },
     "748a3dbcdb76490daa9dffd780e8d0a6": {
      "model_module": "@jupyter-widgets/controls",
      "model_module_version": "2.0.0",
      "model_name": "LabelModel",
      "state": {
       "layout": "IPY_MODEL_50765a7918d44618901fdab4780ae87e",
       "style": "IPY_MODEL_512214692399492f8a227bd7d04f0c3c",
       "value": "gaussian( image=image1, sigma=1.0)"
      }
     },
     "8e921d45ae2e47d694a3f1bcc51f089e": {
      "model_module": "@jupyter-widgets/base",
      "model_module_version": "2.0.0",
      "model_name": "LayoutModel",
      "state": {}
     },
     "9103799999bc491aade47c1876409de4": {
      "model_module": "@jupyter-widgets/base",
      "model_module_version": "2.0.0",
      "model_name": "LayoutModel",
      "state": {}
     },
     "a2546bdbf8564bf3978301a6bf3b8b66": {
      "model_module": "@jupyter-widgets/controls",
      "model_module_version": "2.0.0",
      "model_name": "IntSliderModel",
      "state": {
       "behavior": "drag-tap",
       "description": "Slice",
       "layout": "IPY_MODEL_08efb7e442204b819f41f954f989e7bf",
       "max": 119,
       "style": "IPY_MODEL_f2edaf51363b4a86b4ec466120fec894",
       "value": 60
      }
     },
     "a8bed6b5871840a2b3ef62d7d50cb154": {
      "model_module": "@jupyter-widgets/controls",
      "model_module_version": "2.0.0",
      "model_name": "VBoxModel",
      "state": {
       "children": [
        "IPY_MODEL_1fc406643b734fc8a2eece32879f0ff0",
        "IPY_MODEL_a2546bdbf8564bf3978301a6bf3b8b66",
        "IPY_MODEL_748a3dbcdb76490daa9dffd780e8d0a6"
       ],
       "layout": "IPY_MODEL_fa208eef6593476bb21dfdc3bc45ddf2"
      }
     },
     "a8ed826c6cf847b38cb36f3788cce1b8": {
      "model_module": "@jupyter-widgets/output",
      "model_module_version": "1.0.0",
      "model_name": "OutputModel",
      "state": {
       "layout": "IPY_MODEL_bbb0279fd0ad444ca2a15e45f0f263e9"
      }
     },
     "bbb0279fd0ad444ca2a15e45f0f263e9": {
      "model_module": "@jupyter-widgets/base",
      "model_module_version": "2.0.0",
      "model_name": "LayoutModel",
      "state": {}
     },
     "d4f9b177d6e44f94ac03026e7b6625a1": {
      "model_module": "@jupyter-widgets/controls",
      "model_module_version": "2.0.0",
      "model_name": "VBoxModel",
      "state": {
       "children": [
        "IPY_MODEL_3e7111fdd3fc433b99063a8337724699"
       ],
       "layout": "IPY_MODEL_9103799999bc491aade47c1876409de4"
      }
     },
     "e0ecdc0da452441cb5530e4078a28a00": {
      "model_module": "@jupyter-widgets/base",
      "model_module_version": "2.0.0",
      "model_name": "LayoutModel",
      "state": {}
     },
     "e1aae96bfd4a4de0a43e093db7e2cafd": {
      "model_module": "@jupyter-widgets/controls",
      "model_module_version": "2.0.0",
      "model_name": "SliderStyleModel",
      "state": {
       "description_width": ""
      }
     },
     "f2edaf51363b4a86b4ec466120fec894": {
      "model_module": "@jupyter-widgets/controls",
      "model_module_version": "2.0.0",
      "model_name": "SliderStyleModel",
      "state": {
       "description_width": ""
      }
     },
     "fa208eef6593476bb21dfdc3bc45ddf2": {
      "model_module": "@jupyter-widgets/base",
      "model_module_version": "2.0.0",
      "model_name": "LayoutModel",
      "state": {}
     },
     "fc03e0e5d99a43b688f941436335c6d5": {
      "model_module": "ipycanvas",
      "model_module_version": "^0.13",
      "model_name": "CanvasManagerModel",
      "state": {
       "_model_module_version": "^0.13",
       "_view_module": null,
       "_view_module_version": ""
      }
     },
     "fc31942659e74af4877c4f3d37b05b7a": {
      "model_module": "@jupyter-widgets/controls",
      "model_module_version": "2.0.0",
      "model_name": "DropdownModel",
      "state": {
       "_options_labels": [
        "image1",
        "image2"
       ],
       "description": "image",
       "index": 0,
       "layout": "IPY_MODEL_36afe697260245a08ff8323f45eb076b",
       "style": "IPY_MODEL_0099c817f4a34242b80969548c53def7"
      }
     }
    },
    "version_major": 2,
    "version_minor": 0
   }
  }
 },
 "nbformat": 4,
 "nbformat_minor": 5
}
