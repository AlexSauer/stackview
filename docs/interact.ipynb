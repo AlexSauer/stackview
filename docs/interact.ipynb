{
 "cells": [
  {
   "cell_type": "code",
   "execution_count": 1,
   "id": "d82088b1-661c-44fc-9d7c-9c7b1b3d4e72",
   "metadata": {},
   "outputs": [],
   "source": [
    "import skimage.filters as sf\n",
    "from skimage.io import imread"
   ]
  },
  {
   "cell_type": "code",
   "execution_count": 2,
   "id": "9462d7a5-a0b9-46c3-9914-8db188bb3e86",
   "metadata": {},
   "outputs": [],
   "source": [
    "import numpy as np\n",
    "image1 = imread(\"data/Haase_MRT_tfl3d1.tif\")\n",
    "image2 = imread(\"data/blobs.tif\")\n",
    "image2 = imread(\"data/CalibZAPWfixed_000154_max.tif\")"
   ]
  },
  {
   "cell_type": "code",
   "execution_count": 3,
   "id": "0d6e0fb8-0a5a-4ebf-a288-efc0dd45aadf",
   "metadata": {},
   "outputs": [
    {
     "data": {
      "application/vnd.jupyter.widget-view+json": {
       "model_id": "90fed5e77965484a811a7be3938a2c0d",
       "version_major": 2,
       "version_minor": 0
      },
      "text/plain": [
       "interactive(children=(Dropdown(description='image', options=('image1', 'image2'), value='image1'), FloatSlider…"
      ]
     },
     "metadata": {},
     "output_type": "display_data"
    },
    {
     "data": {
      "application/vnd.jupyter.widget-view+json": {
       "model_id": "62f4ed8e85e94fb3979662ba4bdeeafe",
       "version_major": 2,
       "version_minor": 0
      },
      "text/plain": [
       "VBox(children=(HBox(children=(VBox(children=(ImageWidget(height=160, width=160),)),)), IntSlider(value=60, des…"
      ]
     },
     "execution_count": 3,
     "metadata": {},
     "output_type": "execute_result"
    }
   ],
   "source": [
    "import stackview\n",
    "stackview.interact(sf.gaussian, context=globals(), continuous_update=True)"
   ]
  },
  {
   "cell_type": "code",
   "execution_count": null,
   "id": "cc7923d6-d33b-44c6-b113-589afd452dd7",
   "metadata": {},
   "outputs": [],
   "source": []
  }
 ],
 "metadata": {
  "kernelspec": {
   "display_name": "Python 3 (ipykernel)",
   "language": "python",
   "name": "python3"
  },
  "language_info": {
   "codemirror_mode": {
    "name": "ipython",
    "version": 3
   },
   "file_extension": ".py",
   "mimetype": "text/x-python",
   "name": "python",
   "nbconvert_exporter": "python",
   "pygments_lexer": "ipython3",
   "version": "3.9.15"
  },
  "widgets": {
   "application/vnd.jupyter.widget-state+json": {
    "state": {
     "0562d767c2ac4cb5b369855c745374ac": {
      "model_module": "@jupyter-widgets/controls",
      "model_module_version": "2.0.0",
      "model_name": "SliderStyleModel",
      "state": {
       "description_width": ""
      }
     },
     "0e06551c0535486ea6524f13fac60255": {
      "model_module": "@jupyter-widgets/controls",
      "model_module_version": "2.0.0",
      "model_name": "DropdownModel",
      "state": {
       "_options_labels": [
        "image1",
        "image2"
       ],
       "description": "image",
       "index": 0,
       "layout": "IPY_MODEL_588fdef4c3494101a99cb49e1f7c004c",
       "style": "IPY_MODEL_a15e66d2ae234b849435b64568abeb01"
      }
     },
     "1f0a4c918dfc41eaaf7b07455dd07de1": {
      "model_module": "@jupyter-widgets/base",
      "model_module_version": "2.0.0",
      "model_name": "LayoutModel",
      "state": {}
     },
     "2b5bb83c816d4229a22cca449bfc6eed": {
      "model_module": "@jupyter-widgets/base",
      "model_module_version": "2.0.0",
      "model_name": "LayoutModel",
      "state": {}
     },
     "3aa5efed263046b1a9c9efd1585ba0c3": {
      "model_module": "@jupyter-widgets/base",
      "model_module_version": "2.0.0",
      "model_name": "LayoutModel",
      "state": {}
     },
     "51af1f3d31a044a692157da3b3c85ff2": {
      "model_module": "@jupyter-widgets/controls",
      "model_module_version": "2.0.0",
      "model_name": "LabelModel",
      "state": {
       "layout": "IPY_MODEL_b99597db2c9e4c0a8846f55305cebe10",
       "style": "IPY_MODEL_7d7d7bd798bb4654884fa05218f94af6",
       "value": "gaussian( image=image1, sigma=1.0)"
      }
     },
     "588fdef4c3494101a99cb49e1f7c004c": {
      "model_module": "@jupyter-widgets/base",
      "model_module_version": "2.0.0",
      "model_name": "LayoutModel",
      "state": {}
     },
     "5c1f0148bfe844e5acefc0073e84e60c": {
      "model_module": "@jupyter-widgets/base",
      "model_module_version": "2.0.0",
      "model_name": "LayoutModel",
      "state": {}
     },
     "614e9a5ba39f49cca15a37390acad204": {
      "model_module": "@jupyter-widgets/base",
      "model_module_version": "2.0.0",
      "model_name": "LayoutModel",
      "state": {}
     },
     "62f4ed8e85e94fb3979662ba4bdeeafe": {
      "model_module": "@jupyter-widgets/controls",
      "model_module_version": "2.0.0",
      "model_name": "VBoxModel",
      "state": {
       "children": [
        "IPY_MODEL_dc740d71bcb147ef8ef90b47883e8662",
        "IPY_MODEL_be41b16178af4be5bd3fb7a2f7112760",
        "IPY_MODEL_51af1f3d31a044a692157da3b3c85ff2"
       ],
       "layout": "IPY_MODEL_67470d31fd27467cb091351f67117878"
      }
     },
     "67470d31fd27467cb091351f67117878": {
      "model_module": "@jupyter-widgets/base",
      "model_module_version": "2.0.0",
      "model_name": "LayoutModel",
      "state": {}
     },
     "7d7d7bd798bb4654884fa05218f94af6": {
      "model_module": "@jupyter-widgets/controls",
      "model_module_version": "2.0.0",
      "model_name": "LabelStyleModel",
      "state": {
       "description_width": "",
       "font_family": null,
       "font_size": null,
       "font_style": null,
       "font_variant": null,
       "font_weight": null,
       "text_color": null,
       "text_decoration": null
      }
     },
     "90fed5e77965484a811a7be3938a2c0d": {
      "model_module": "@jupyter-widgets/controls",
      "model_module_version": "2.0.0",
      "model_name": "VBoxModel",
      "state": {
       "_dom_classes": [
        "widget-interact"
       ],
       "children": [
        "IPY_MODEL_0e06551c0535486ea6524f13fac60255",
        "IPY_MODEL_edbd73a02cce45ef8310baa64983f2bf",
        "IPY_MODEL_b7f92ccdbdca47eb8a5612c58d13714a"
       ],
       "layout": "IPY_MODEL_fa00ab43414843628398cb629863381f"
      }
     },
     "a15e66d2ae234b849435b64568abeb01": {
      "model_module": "@jupyter-widgets/controls",
      "model_module_version": "2.0.0",
      "model_name": "DescriptionStyleModel",
      "state": {
       "description_width": ""
      }
     },
     "a9e559395c1e4af2a7e4488d1c767463": {
      "model_module": "ipycanvas",
      "model_module_version": "^0.13",
      "model_name": "CanvasManagerModel",
      "state": {
       "_model_module_version": "^0.13",
       "_view_module": null,
       "_view_module_version": ""
      }
     },
     "ab3126a760a5489586c238ab8b20a8b4": {
      "model_module": "ipycanvas",
      "model_module_version": "^0.13",
      "model_name": "CanvasModel",
      "state": {
       "_canvas_manager": "IPY_MODEL_a9e559395c1e4af2a7e4488d1c767463",
       "_model_module_version": "^0.13",
       "_view_module_version": "^0.13",
       "height": 160,
       "layout": "IPY_MODEL_5c1f0148bfe844e5acefc0073e84e60c",
       "width": 160
      }
     },
     "b7f92ccdbdca47eb8a5612c58d13714a": {
      "model_module": "@jupyter-widgets/output",
      "model_module_version": "1.0.0",
      "model_name": "OutputModel",
      "state": {
       "layout": "IPY_MODEL_614e9a5ba39f49cca15a37390acad204"
      }
     },
     "b99597db2c9e4c0a8846f55305cebe10": {
      "model_module": "@jupyter-widgets/base",
      "model_module_version": "2.0.0",
      "model_name": "LayoutModel",
      "state": {}
     },
     "be41b16178af4be5bd3fb7a2f7112760": {
      "model_module": "@jupyter-widgets/controls",
      "model_module_version": "2.0.0",
      "model_name": "IntSliderModel",
      "state": {
       "behavior": "drag-tap",
       "description": "Slice",
       "layout": "IPY_MODEL_cd7871ac5fd647b19b6288c1d3467946",
       "max": 119,
       "style": "IPY_MODEL_0562d767c2ac4cb5b369855c745374ac",
       "value": 67
      }
     },
     "cabde2ea7cfa498c97c7d94957c8f6f4": {
      "model_module": "@jupyter-widgets/controls",
      "model_module_version": "2.0.0",
      "model_name": "SliderStyleModel",
      "state": {
       "description_width": ""
      }
     },
     "cd7871ac5fd647b19b6288c1d3467946": {
      "model_module": "@jupyter-widgets/base",
      "model_module_version": "2.0.0",
      "model_name": "LayoutModel",
      "state": {}
     },
     "dc740d71bcb147ef8ef90b47883e8662": {
      "model_module": "@jupyter-widgets/controls",
      "model_module_version": "2.0.0",
      "model_name": "HBoxModel",
      "state": {
       "children": [
        "IPY_MODEL_e9c57cb788e24b639df09571688e5159"
       ],
       "layout": "IPY_MODEL_3aa5efed263046b1a9c9efd1585ba0c3"
      }
     },
     "e9c57cb788e24b639df09571688e5159": {
      "model_module": "@jupyter-widgets/controls",
      "model_module_version": "2.0.0",
      "model_name": "VBoxModel",
      "state": {
       "children": [
        "IPY_MODEL_ab3126a760a5489586c238ab8b20a8b4"
       ],
       "layout": "IPY_MODEL_2b5bb83c816d4229a22cca449bfc6eed"
      }
     },
     "edbd73a02cce45ef8310baa64983f2bf": {
      "model_module": "@jupyter-widgets/controls",
      "model_module_version": "2.0.0",
      "model_name": "FloatSliderModel",
      "state": {
       "behavior": "drag-tap",
       "description": "sigma",
       "layout": "IPY_MODEL_1f0a4c918dfc41eaaf7b07455dd07de1",
       "max": 10,
       "style": "IPY_MODEL_cabde2ea7cfa498c97c7d94957c8f6f4",
       "value": 1
      }
     },
     "fa00ab43414843628398cb629863381f": {
      "model_module": "@jupyter-widgets/base",
      "model_module_version": "2.0.0",
      "model_name": "LayoutModel",
      "state": {}
     }
    },
    "version_major": 2,
    "version_minor": 0
   }
  }
 },
 "nbformat": 4,
 "nbformat_minor": 5
}
