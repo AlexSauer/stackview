{
 "cells": [
  {
   "cell_type": "code",
   "execution_count": 1,
   "id": "6a62000e-ede4-430c-b02c-ab49bb658ed3",
   "metadata": {},
   "outputs": [],
   "source": [
    "import stackview\n",
    "from ipywidgets import IntSlider\n",
    "from skimage.io import imread"
   ]
  },
  {
   "cell_type": "code",
   "execution_count": 2,
   "id": "53b1f041-3e9b-45d5-97ea-8e6bf0cbc3cb",
   "metadata": {},
   "outputs": [],
   "source": [
    "image = imread(\"data/CalibZAPWfixed_000154_max.tif\")"
   ]
  },
  {
   "cell_type": "code",
   "execution_count": 3,
   "id": "4fe9dcd7-1aa3-4be7-8a9c-1cfbb5c6e4b2",
   "metadata": {},
   "outputs": [],
   "source": [
    "def crop(image, min_z:int, max_z:int, min_y:int, max_y:int, min_x:int, max_x:int):\n",
    "    try:\n",
    "        return image[min_z:max_z,min_y:max_y,min_x:max_x]\n",
    "    except:\n",
    "        return image"
   ]
  },
  {
   "cell_type": "code",
   "execution_count": 4,
   "id": "6452d35f-006d-4028-ab08-f61119ebaf1e",
   "metadata": {},
   "outputs": [
    {
     "data": {
      "application/vnd.jupyter.widget-view+json": {
       "model_id": "e2872dc0eb1a4b8bb3a4bf30fa8b7c1e",
       "version_major": 2,
       "version_minor": 0
      },
      "text/plain": [
       "VBox(children=(interactive(children=(IntSlider(value=0, description='min_z', max=99), IntSlider(value=99, desc…"
      ]
     },
     "execution_count": 4,
     "metadata": {},
     "output_type": "execute_result"
    }
   ],
   "source": [
    "stackview.interact(crop,\n",
    "                   image,\n",
    "                   min_z=IntSlider(value=0, min=0, max=image.shape[0]-1),\n",
    "                   max_z=IntSlider(value=image.shape[0]-1, min=0, max=image.shape[0]-1),\n",
    "                   min_y=IntSlider(value=0, min=0, max=image.shape[1]-1),\n",
    "                   max_y=IntSlider(value=image.shape[1]-1, min=0, max=image.shape[1]-1),\n",
    "                   min_x=IntSlider(value=0, min=0, max=image.shape[2]),\n",
    "                   max_x=IntSlider(value=image.shape[2]-1, min=0, max=image.shape[2]-1),\n",
    "                  )"
   ]
  },
  {
   "cell_type": "code",
   "execution_count": null,
   "id": "810c614e-d79e-43af-bd80-fb7b42919837",
   "metadata": {},
   "outputs": [],
   "source": []
  }
 ],
 "metadata": {
  "kernelspec": {
   "display_name": "Python 3 (ipykernel)",
   "language": "python",
   "name": "python3"
  },
  "language_info": {
   "codemirror_mode": {
    "name": "ipython",
    "version": 3
   },
   "file_extension": ".py",
   "mimetype": "text/x-python",
   "name": "python",
   "nbconvert_exporter": "python",
   "pygments_lexer": "ipython3",
   "version": "3.9.15"
  },
  "widgets": {
   "application/vnd.jupyter.widget-state+json": {
    "state": {
     "00fe641e6bdf4fbdbbb1c74964e38901": {
      "model_module": "@jupyter-widgets/base",
      "model_module_version": "2.0.0",
      "model_name": "LayoutModel",
      "state": {}
     },
     "04a26bc93d63476597e5ed68d4b8a25f": {
      "model_module": "@jupyter-widgets/base",
      "model_module_version": "2.0.0",
      "model_name": "LayoutModel",
      "state": {}
     },
     "079a0a9818b645f1b2942c9949f0ebe1": {
      "model_module": "@jupyter-widgets/controls",
      "model_module_version": "2.0.0",
      "model_name": "SliderStyleModel",
      "state": {
       "description_width": ""
      }
     },
     "0cdfbcd9cbcd413c82792e5562f54d55": {
      "model_module": "@jupyter-widgets/controls",
      "model_module_version": "2.0.0",
      "model_name": "SliderStyleModel",
      "state": {
       "description_width": ""
      }
     },
     "1c4be10b08cf4a91b192384dcce9a63a": {
      "model_module": "@jupyter-widgets/base",
      "model_module_version": "2.0.0",
      "model_name": "LayoutModel",
      "state": {}
     },
     "213cdaa59de2472cb40aea6abedecd57": {
      "model_module": "@jupyter-widgets/controls",
      "model_module_version": "2.0.0",
      "model_name": "IntSliderModel",
      "state": {
       "behavior": "drag-tap",
       "continuous_update": false,
       "layout": "IPY_MODEL_1c4be10b08cf4a91b192384dcce9a63a",
       "style": "IPY_MODEL_e4cfe8b9abc541a39a3aa774e772af06"
      }
     },
     "264839a3709d455aba4378c970357d48": {
      "model_module": "@jupyter-widgets/controls",
      "model_module_version": "2.0.0",
      "model_name": "VBoxModel",
      "state": {
       "children": [
        "IPY_MODEL_fa1dcf8e36d14dcb887a020c09611cb5"
       ],
       "layout": "IPY_MODEL_6f904cc0d6614f67bc04906b06dd8b9b"
      }
     },
     "332e4e8873d54a2281e0de174aa93c26": {
      "model_module": "@jupyter-widgets/controls",
      "model_module_version": "2.0.0",
      "model_name": "SliderStyleModel",
      "state": {
       "description_width": ""
      }
     },
     "366f36b8e42941129a10491418f7ff41": {
      "model_module": "@jupyter-widgets/controls",
      "model_module_version": "2.0.0",
      "model_name": "SliderStyleModel",
      "state": {
       "description_width": ""
      }
     },
     "3b468039d6294a1593da9ae547e9e1e4": {
      "model_module": "ipycanvas",
      "model_module_version": "^0.13",
      "model_name": "CanvasManagerModel",
      "state": {
       "_model_module_version": "^0.13",
       "_view_module": null,
       "_view_module_version": ""
      }
     },
     "3c0915ace4eb4e96848aea3a0ac191bd": {
      "model_module": "@jupyter-widgets/base",
      "model_module_version": "2.0.0",
      "model_name": "LayoutModel",
      "state": {}
     },
     "41eb1c1da14d413b8a23a5e038648a7b": {
      "model_module": "@jupyter-widgets/base",
      "model_module_version": "2.0.0",
      "model_name": "LayoutModel",
      "state": {}
     },
     "44942b98922c40e7a0cf94486b001ced": {
      "model_module": "@jupyter-widgets/controls",
      "model_module_version": "2.0.0",
      "model_name": "IntSliderModel",
      "state": {
       "behavior": "drag-tap",
       "description": "min_y",
       "layout": "IPY_MODEL_d0d9f5a4e9bc498898a1f1f7302749e1",
       "max": 234,
       "style": "IPY_MODEL_a01b252dca93471e82568bd2a1964c25"
      }
     },
     "47164375862a47538512bb0ca0a891d5": {
      "model_module": "@jupyter-widgets/controls",
      "model_module_version": "2.0.0",
      "model_name": "IntSliderModel",
      "state": {
       "behavior": "drag-tap",
       "continuous_update": false,
       "description": "Slice",
       "layout": "IPY_MODEL_a1babbe24a024a559409adb0cace7e7d",
       "max": 99,
       "style": "IPY_MODEL_b457b13956924ac3a3ecd51d917fa8d2",
       "value": 50
      }
     },
     "54ebd332dcf0450cbb6676bfcb1cb7b5": {
      "model_module": "@jupyter-widgets/base",
      "model_module_version": "2.0.0",
      "model_name": "LayoutModel",
      "state": {}
     },
     "5b7fb777a51840eeb5dec4c5bec28a98": {
      "model_module": "@jupyter-widgets/controls",
      "model_module_version": "2.0.0",
      "model_name": "IntSliderModel",
      "state": {
       "behavior": "drag-tap",
       "continuous_update": false,
       "layout": "IPY_MODEL_646dfc0d94594e6db1f629a267ecf1ce",
       "style": "IPY_MODEL_332e4e8873d54a2281e0de174aa93c26"
      }
     },
     "5c18ee633527409f8c56776a426d2fae": {
      "model_module": "@jupyter-widgets/controls",
      "model_module_version": "2.0.0",
      "model_name": "IntSliderModel",
      "state": {
       "behavior": "drag-tap",
       "description": "min_z",
       "layout": "IPY_MODEL_9a548b0179b4404fb56a672b5da59746",
       "max": 99,
       "style": "IPY_MODEL_8f5f159737004b9daa897c23108e8d23"
      }
     },
     "646dfc0d94594e6db1f629a267ecf1ce": {
      "model_module": "@jupyter-widgets/base",
      "model_module_version": "2.0.0",
      "model_name": "LayoutModel",
      "state": {}
     },
     "651a38ed2af54e778af7e6b960ca6482": {
      "model_module": "@jupyter-widgets/controls",
      "model_module_version": "2.0.0",
      "model_name": "SliderStyleModel",
      "state": {
       "description_width": ""
      }
     },
     "6842bcc31aa84df78fd83b84671851cb": {
      "model_module": "@jupyter-widgets/base",
      "model_module_version": "2.0.0",
      "model_name": "LayoutModel",
      "state": {}
     },
     "6f904cc0d6614f67bc04906b06dd8b9b": {
      "model_module": "@jupyter-widgets/base",
      "model_module_version": "2.0.0",
      "model_name": "LayoutModel",
      "state": {}
     },
     "703f33bd03e0463ead1df730e1c676d3": {
      "model_module": "@jupyter-widgets/base",
      "model_module_version": "2.0.0",
      "model_name": "LayoutModel",
      "state": {}
     },
     "7e55ffda075c4c30b57ded594e00c16e": {
      "model_module": "@jupyter-widgets/controls",
      "model_module_version": "2.0.0",
      "model_name": "LabelModel",
      "state": {
       "layout": "IPY_MODEL_41eb1c1da14d413b8a23a5e038648a7b",
       "style": "IPY_MODEL_f6af285a732f45779019624f8817a13c",
       "value": "crop(..., min_z=0, max_z=99, min_y=0, max_y=234, min_x=0, max_x=388)"
      }
     },
     "84692457ea3447a2ac43d8989174615d": {
      "model_module": "@jupyter-widgets/controls",
      "model_module_version": "2.0.0",
      "model_name": "IntSliderModel",
      "state": {
       "behavior": "drag-tap",
       "description": "min_x",
       "layout": "IPY_MODEL_aa1ef2e42a134d28a338d99f3e8618c2",
       "max": 389,
       "style": "IPY_MODEL_079a0a9818b645f1b2942c9949f0ebe1"
      }
     },
     "8f5f159737004b9daa897c23108e8d23": {
      "model_module": "@jupyter-widgets/controls",
      "model_module_version": "2.0.0",
      "model_name": "SliderStyleModel",
      "state": {
       "description_width": ""
      }
     },
     "94176e3598ec4a3e872ff294235e9545": {
      "model_module": "@jupyter-widgets/base",
      "model_module_version": "2.0.0",
      "model_name": "LayoutModel",
      "state": {}
     },
     "94b3244545d147a5a8dd3ecc0782880a": {
      "model_module": "@jupyter-widgets/output",
      "model_module_version": "1.0.0",
      "model_name": "OutputModel",
      "state": {
       "layout": "IPY_MODEL_04a26bc93d63476597e5ed68d4b8a25f"
      }
     },
     "9a548b0179b4404fb56a672b5da59746": {
      "model_module": "@jupyter-widgets/base",
      "model_module_version": "2.0.0",
      "model_name": "LayoutModel",
      "state": {}
     },
     "a01b252dca93471e82568bd2a1964c25": {
      "model_module": "@jupyter-widgets/controls",
      "model_module_version": "2.0.0",
      "model_name": "SliderStyleModel",
      "state": {
       "description_width": ""
      }
     },
     "a1babbe24a024a559409adb0cace7e7d": {
      "model_module": "@jupyter-widgets/base",
      "model_module_version": "2.0.0",
      "model_name": "LayoutModel",
      "state": {}
     },
     "a2a076d26061416d8c9cabdd8bc16da1": {
      "model_module": "@jupyter-widgets/base",
      "model_module_version": "2.0.0",
      "model_name": "LayoutModel",
      "state": {}
     },
     "a7236225091146fa95110f97d17b6bef": {
      "model_module": "@jupyter-widgets/base",
      "model_module_version": "2.0.0",
      "model_name": "LayoutModel",
      "state": {}
     },
     "aa1ef2e42a134d28a338d99f3e8618c2": {
      "model_module": "@jupyter-widgets/base",
      "model_module_version": "2.0.0",
      "model_name": "LayoutModel",
      "state": {}
     },
     "ab683aecfbc34b51b016535781aece0c": {
      "model_module": "@jupyter-widgets/controls",
      "model_module_version": "2.0.0",
      "model_name": "SliderStyleModel",
      "state": {
       "description_width": ""
      }
     },
     "b025e52c7eab481abc4223c1931ddeb4": {
      "model_module": "@jupyter-widgets/base",
      "model_module_version": "2.0.0",
      "model_name": "LayoutModel",
      "state": {}
     },
     "b457b13956924ac3a3ecd51d917fa8d2": {
      "model_module": "@jupyter-widgets/controls",
      "model_module_version": "2.0.0",
      "model_name": "SliderStyleModel",
      "state": {
       "description_width": ""
      }
     },
     "b46268d77b5b437d9f98fb5289949e76": {
      "model_module": "@jupyter-widgets/controls",
      "model_module_version": "2.0.0",
      "model_name": "IntSliderModel",
      "state": {
       "behavior": "drag-tap",
       "continuous_update": false,
       "layout": "IPY_MODEL_b025e52c7eab481abc4223c1931ddeb4",
       "style": "IPY_MODEL_651a38ed2af54e778af7e6b960ca6482"
      }
     },
     "b7ade68d664743baa4c3e154e94844f5": {
      "model_module": "@jupyter-widgets/base",
      "model_module_version": "2.0.0",
      "model_name": "LayoutModel",
      "state": {}
     },
     "c0d64195bd5a480db0cc907445286a84": {
      "model_module": "@jupyter-widgets/base",
      "model_module_version": "2.0.0",
      "model_name": "LayoutModel",
      "state": {}
     },
     "c4b2f0cd596a41dda93df3e44102f0d3": {
      "model_module": "@jupyter-widgets/controls",
      "model_module_version": "2.0.0",
      "model_name": "IntSliderModel",
      "state": {
       "behavior": "drag-tap",
       "description": "max_y",
       "layout": "IPY_MODEL_703f33bd03e0463ead1df730e1c676d3",
       "max": 234,
       "style": "IPY_MODEL_ab683aecfbc34b51b016535781aece0c",
       "value": 234
      }
     },
     "c98bbfbfc76f4d299aa6bf2fe979e099": {
      "model_module": "@jupyter-widgets/controls",
      "model_module_version": "2.0.0",
      "model_name": "IntSliderModel",
      "state": {
       "behavior": "drag-tap",
       "description": "max_z",
       "layout": "IPY_MODEL_3c0915ace4eb4e96848aea3a0ac191bd",
       "max": 99,
       "style": "IPY_MODEL_cb9372d720d84deba4e64e4ae27aef9f",
       "value": 99
      }
     },
     "cb9372d720d84deba4e64e4ae27aef9f": {
      "model_module": "@jupyter-widgets/controls",
      "model_module_version": "2.0.0",
      "model_name": "SliderStyleModel",
      "state": {
       "description_width": ""
      }
     },
     "cddd9f7205ed49faa084f1dd2b26c447": {
      "model_module": "@jupyter-widgets/controls",
      "model_module_version": "2.0.0",
      "model_name": "IntSliderModel",
      "state": {
       "behavior": "drag-tap",
       "continuous_update": false,
       "layout": "IPY_MODEL_00fe641e6bdf4fbdbbb1c74964e38901",
       "style": "IPY_MODEL_fd74910c10254bce9083dc44a7d48b12"
      }
     },
     "ce2efdc126dd473cb69dc965f1d29be5": {
      "model_module": "@jupyter-widgets/controls",
      "model_module_version": "2.0.0",
      "model_name": "IntSliderModel",
      "state": {
       "behavior": "drag-tap",
       "continuous_update": false,
       "layout": "IPY_MODEL_6842bcc31aa84df78fd83b84671851cb",
       "style": "IPY_MODEL_366f36b8e42941129a10491418f7ff41"
      }
     },
     "d0d9f5a4e9bc498898a1f1f7302749e1": {
      "model_module": "@jupyter-widgets/base",
      "model_module_version": "2.0.0",
      "model_name": "LayoutModel",
      "state": {}
     },
     "e188853396a54478aaf695156417beeb": {
      "model_module": "@jupyter-widgets/controls",
      "model_module_version": "2.0.0",
      "model_name": "IntSliderModel",
      "state": {
       "behavior": "drag-tap",
       "description": "max_x",
       "layout": "IPY_MODEL_b7ade68d664743baa4c3e154e94844f5",
       "max": 388,
       "style": "IPY_MODEL_e8b282926a19430ead287c4b12ff5956",
       "value": 388
      }
     },
     "e2872dc0eb1a4b8bb3a4bf30fa8b7c1e": {
      "model_module": "@jupyter-widgets/controls",
      "model_module_version": "2.0.0",
      "model_name": "VBoxModel",
      "state": {
       "children": [
        "IPY_MODEL_f5026a21b7ce415ea62950a57530f710",
        "IPY_MODEL_7e55ffda075c4c30b57ded594e00c16e",
        "IPY_MODEL_fd93bc03c5714eb1a8bd7f65a027e329",
        "IPY_MODEL_47164375862a47538512bb0ca0a891d5"
       ],
       "layout": "IPY_MODEL_54ebd332dcf0450cbb6676bfcb1cb7b5"
      }
     },
     "e4cfe8b9abc541a39a3aa774e772af06": {
      "model_module": "@jupyter-widgets/controls",
      "model_module_version": "2.0.0",
      "model_name": "SliderStyleModel",
      "state": {
       "description_width": ""
      }
     },
     "e8b282926a19430ead287c4b12ff5956": {
      "model_module": "@jupyter-widgets/controls",
      "model_module_version": "2.0.0",
      "model_name": "SliderStyleModel",
      "state": {
       "description_width": ""
      }
     },
     "e98ce5d4c337492e9049d01f70aa0326": {
      "model_module": "@jupyter-widgets/controls",
      "model_module_version": "2.0.0",
      "model_name": "IntSliderModel",
      "state": {
       "behavior": "drag-tap",
       "continuous_update": false,
       "layout": "IPY_MODEL_94176e3598ec4a3e872ff294235e9545",
       "style": "IPY_MODEL_0cdfbcd9cbcd413c82792e5562f54d55"
      }
     },
     "f5026a21b7ce415ea62950a57530f710": {
      "model_module": "@jupyter-widgets/controls",
      "model_module_version": "2.0.0",
      "model_name": "VBoxModel",
      "state": {
       "_dom_classes": [
        "widget-interact"
       ],
       "children": [
        "IPY_MODEL_5c18ee633527409f8c56776a426d2fae",
        "IPY_MODEL_c98bbfbfc76f4d299aa6bf2fe979e099",
        "IPY_MODEL_44942b98922c40e7a0cf94486b001ced",
        "IPY_MODEL_c4b2f0cd596a41dda93df3e44102f0d3",
        "IPY_MODEL_84692457ea3447a2ac43d8989174615d",
        "IPY_MODEL_e188853396a54478aaf695156417beeb",
        "IPY_MODEL_94b3244545d147a5a8dd3ecc0782880a"
       ],
       "layout": "IPY_MODEL_c0d64195bd5a480db0cc907445286a84"
      }
     },
     "f6af285a732f45779019624f8817a13c": {
      "model_module": "@jupyter-widgets/controls",
      "model_module_version": "2.0.0",
      "model_name": "LabelStyleModel",
      "state": {
       "description_width": "",
       "font_family": "Courier",
       "font_size": null,
       "font_style": null,
       "font_variant": null,
       "font_weight": null,
       "text_color": null,
       "text_decoration": null
      }
     },
     "fa1dcf8e36d14dcb887a020c09611cb5": {
      "model_module": "ipycanvas",
      "model_module_version": "^0.13",
      "model_name": "CanvasModel",
      "state": {
       "_canvas_manager": "IPY_MODEL_3b468039d6294a1593da9ae547e9e1e4",
       "_model_module_version": "^0.13",
       "_view_module_version": "^0.13",
       "height": 235,
       "layout": "IPY_MODEL_a7236225091146fa95110f97d17b6bef",
       "width": 389
      }
     },
     "fd74910c10254bce9083dc44a7d48b12": {
      "model_module": "@jupyter-widgets/controls",
      "model_module_version": "2.0.0",
      "model_name": "SliderStyleModel",
      "state": {
       "description_width": ""
      }
     },
     "fd93bc03c5714eb1a8bd7f65a027e329": {
      "model_module": "@jupyter-widgets/controls",
      "model_module_version": "2.0.0",
      "model_name": "HBoxModel",
      "state": {
       "children": [
        "IPY_MODEL_264839a3709d455aba4378c970357d48"
       ],
       "layout": "IPY_MODEL_a2a076d26061416d8c9cabdd8bc16da1"
      }
     }
    },
    "version_major": 2,
    "version_minor": 0
   }
  }
 },
 "nbformat": 4,
 "nbformat_minor": 5
}
