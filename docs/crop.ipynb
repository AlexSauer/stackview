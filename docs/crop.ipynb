{
 "cells": [
  {
   "cell_type": "markdown",
   "id": "d46e0d10-e6ba-405c-8775-20f8a26e2ea4",
   "metadata": {},
   "source": [
    "# Cropping images\n",
    "The `crop` widget allows cropping a 2D or 3D image."
   ]
  },
  {
   "cell_type": "code",
   "execution_count": 1,
   "id": "6a62000e-ede4-430c-b02c-ab49bb658ed3",
   "metadata": {},
   "outputs": [],
   "source": [
    "import stackview\n",
    "\n",
    "from skimage.io import imread\n",
    "import numpy as np"
   ]
  },
  {
   "cell_type": "code",
   "execution_count": 2,
   "id": "53b1f041-3e9b-45d5-97ea-8e6bf0cbc3cb",
   "metadata": {},
   "outputs": [],
   "source": [
    "image = imread(\"data/CalibZAPWfixed_000154_max.tif\")"
   ]
  },
  {
   "cell_type": "markdown",
   "id": "deec8f67-28d2-4823-9f0e-f98feb8c8f3c",
   "metadata": {},
   "source": [
    "The widget contains 2 or 3 sliders, for 2D and 3D images respectively. It also supports `stackview`'s typical parameters such as `continuous_update`, `zoom_factor`, etc."
   ]
  },
  {
   "cell_type": "code",
   "execution_count": 3,
   "id": "056d87bc-0e82-4b73-abde-ee525b088447",
   "metadata": {},
   "outputs": [
    {
     "data": {
      "application/vnd.jupyter.widget-view+json": {
       "model_id": "f80cd2451761460fb34fdbdc79ab8366",
       "version_major": 2,
       "version_minor": 0
      },
      "text/plain": [
       "_Cropper(children=(IntRangeSlider(value=(0, 235), description='Y', max=235), IntRangeSlider(value=(0, 389), de…"
      ]
     },
     "execution_count": 3,
     "metadata": {},
     "output_type": "execute_result"
    }
   ],
   "source": [
    "image_2d = image[0]\n",
    "\n",
    "crop_widget_2d = stackview.crop(image_2d, continuous_update=True)\n",
    "crop_widget_2d"
   ]
  },
  {
   "cell_type": "code",
   "execution_count": 4,
   "id": "a0f53081-6c7e-4022-9b43-3c4af734aa3c",
   "metadata": {},
   "outputs": [
    {
     "data": {
      "application/vnd.jupyter.widget-view+json": {
       "model_id": "7576759cfdf845b3861d9c3a402f1886",
       "version_major": 2,
       "version_minor": 0
      },
      "text/plain": [
       "_Cropper(children=(IntRangeSlider(value=(0, 100), description='Z'), IntRangeSlider(value=(0, 235), description…"
      ]
     },
     "execution_count": 4,
     "metadata": {},
     "output_type": "execute_result"
    }
   ],
   "source": [
    "crop_widget = stackview.crop(image, \n",
    "                             continuous_update=True, \n",
    "                             zoom_factor=0.75)\n",
    "crop_widget"
   ]
  },
  {
   "cell_type": "markdown",
   "id": "f6e64657-c945-4653-974a-63fc1207afc9",
   "metadata": {},
   "source": [
    "You can also modify the labels of the axes. E.g. in the use-case shown here, we're modifying timelapse dataset."
   ]
  },
  {
   "cell_type": "code",
   "execution_count": 5,
   "id": "8c6547ff-08a9-4d8f-b5b2-cc24ae857d30",
   "metadata": {},
   "outputs": [
    {
     "data": {
      "application/vnd.jupyter.widget-view+json": {
       "model_id": "ca8ea3e4ad474788abd277be5959fef4",
       "version_major": 2,
       "version_minor": 0
      },
      "text/plain": [
       "_Cropper(children=(IntRangeSlider(value=(0, 100), description='Frame'), IntRangeSlider(value=(0, 235), descrip…"
      ]
     },
     "execution_count": 5,
     "metadata": {},
     "output_type": "execute_result"
    }
   ],
   "source": [
    "crop_widget = stackview.crop(image, \n",
    "                             continuous_update=True, \n",
    "                             zoom_factor=0.75,\n",
    "                             axis_names=[\"Frame\", \"Y\", \"X\"])\n",
    "crop_widget"
   ]
  },
  {
   "cell_type": "markdown",
   "id": "4fe1e564-702f-471d-9a0c-1f43ba8ba2d8",
   "metadata": {},
   "source": [
    "## Configuring and reading the cropped region\n",
    "You can change the range sliders programmatically."
   ]
  },
  {
   "cell_type": "code",
   "execution_count": 6,
   "id": "29a8a6d8-3792-4444-af2e-2bf861eec350",
   "metadata": {},
   "outputs": [
    {
     "data": {
      "application/vnd.jupyter.widget-view+json": {
       "model_id": "a81e3bcdac2045619c2152aba429ff17",
       "version_major": 2,
       "version_minor": 0
      },
      "text/plain": [
       "_Cropper(children=(IntRangeSlider(value=(0, 40), description='Z'), IntRangeSlider(value=(40, 80), description=…"
      ]
     },
     "execution_count": 6,
     "metadata": {},
     "output_type": "execute_result"
    }
   ],
   "source": [
    "crop_widget = stackview.crop(image, continuous_update=True, zoom_factor=2)\n",
    "crop_widget.range = (slice(0, 40), slice(40, 80), slice(80, 120))\n",
    "crop_widget"
   ]
  },
  {
   "cell_type": "markdown",
   "id": "ff1895b8-4388-43c0-b937-3dcaa4c459e0",
   "metadata": {},
   "source": [
    "You can retrieve the cropped range like this."
   ]
  },
  {
   "cell_type": "code",
   "execution_count": 7,
   "id": "83437af7-7b8c-4fcf-87fc-33d2b6806a32",
   "metadata": {},
   "outputs": [
    {
     "data": {
      "text/plain": [
       "(slice(0, 40, 1), slice(40, 80, 1), slice(80, 120, 1))"
      ]
     },
     "execution_count": 7,
     "metadata": {},
     "output_type": "execute_result"
    }
   ],
   "source": [
    "r = crop_widget.range\n",
    "r"
   ]
  },
  {
   "cell_type": "markdown",
   "id": "0fcdd5c0-27c2-4e41-bc8e-3e51a6d7f60c",
   "metadata": {},
   "source": [
    "It technically is a tuple of Python `slice`s."
   ]
  },
  {
   "cell_type": "code",
   "execution_count": 8,
   "id": "6d369e37-314b-41d7-95c9-8f01ce6d5065",
   "metadata": {},
   "outputs": [
    {
     "data": {
      "text/plain": [
       "(0, 40)"
      ]
     },
     "execution_count": 8,
     "metadata": {},
     "output_type": "execute_result"
    }
   ],
   "source": [
    "r[0].start, r[0].stop"
   ]
  },
  {
   "cell_type": "markdown",
   "id": "31406f30-034f-40ef-a1f5-59eec6fadd6e",
   "metadata": {},
   "source": [
    "## Cropping images\n",
    "You can use this range to crop the image..."
   ]
  },
  {
   "cell_type": "code",
   "execution_count": 9,
   "id": "3640ee51-b513-4376-88b2-52cb521d1b85",
   "metadata": {},
   "outputs": [
    {
     "data": {
      "text/plain": [
       "(40, 40, 40)"
      ]
     },
     "execution_count": 9,
     "metadata": {},
     "output_type": "execute_result"
    }
   ],
   "source": [
    "r = crop_widget.range\n",
    "image[r].shape"
   ]
  },
  {
   "cell_type": "markdown",
   "id": "a626c3fd-5dff-4be4-a55b-0cdb65ef162b",
   "metadata": {},
   "source": [
    "... or retrieve the cropped image directly."
   ]
  },
  {
   "cell_type": "code",
   "execution_count": 10,
   "id": "cd0ce8fe-81f9-470a-a48c-9292506885ec",
   "metadata": {},
   "outputs": [
    {
     "data": {
      "text/plain": [
       "(40, 40, 40)"
      ]
     },
     "execution_count": 10,
     "metadata": {},
     "output_type": "execute_result"
    }
   ],
   "source": [
    "cropped_image = crop_widget.crop()\n",
    "cropped_image.shape"
   ]
  },
  {
   "cell_type": "markdown",
   "id": "cbc8eca1-5d90-4111-87ea-d8ee78cdbabd",
   "metadata": {},
   "source": [
    "This `cropped_image` object uses `stackview`'s `insight` under the hood and thus, comes with a nice view."
   ]
  },
  {
   "cell_type": "code",
   "execution_count": 11,
   "id": "8d05234d-38b6-4272-a05f-419082b95401",
   "metadata": {},
   "outputs": [
    {
     "data": {
      "text/html": [
       "<table>\n",
       "<tr>\n",
       "<td>\n",
       "<img src=\"data:image/png;base64,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\"></img>\n",
       "</td>\n",
       "<td style=\"text-align: center; vertical-align: top;\">\n",
       "\n",
       "<table>\n",
       "<tr><td>shape</td><td>(40,&nbsp;40,&nbsp;40)</td></tr>\n",
       "<tr><td>dtype</td><td>uint8</td></tr>\n",
       "<tr><td>size</td><td>62.5 kB</td></tr>\n",
       "<tr><td>min</td><td>0</td></tr><tr><td>max</td><td>255</td></tr>\n",
       "</table>\n",
       "<img src=\"data:image/png;base64,iVBORw0KGgoAAAANSUhEUgAAALQAAAB4CAYAAABb59j9AAAAOXRFWHRTb2Z0d2FyZQBNYXRwbG90bGliIHZlcnNpb24zLjYuMiwgaHR0cHM6Ly9tYXRwbG90bGliLm9yZy8o6BhiAAAACXBIWXMAAA9hAAAPYQGoP6dpAAACr0lEQVR4nO3bMW7TYBzG4c8Rq3OAKJY4APdg4EJsqBsXYuAePQBSKh/AkZBYYgbUVDVFbbE/JX39PFOstLaHn/797NrNOI5jgRCbS58ALEnQRBE0UQRNFEETRdBEETRRBE0UQRNF0EQRNFEETZR3tXZ8Op1K3/elbdvSNE2twxBgHMdyPB7Lbrcrm828GVst6L7vS9d1tXZPoMPhUPb7/ax9VAu6bdtSyp+T3G63tQ5DgGEYStd152bmqBb0/TJju90KmhdZYmnqopAogiZKtSXHkt5//nb+/OPrpwueCdfOhCaKoIkiaKIImiiCJoqgiSJoogiaKIImiqCJImiiCJoogiaKoIkiaKIImiiCJoqgiSJoolzlO4XeIeR/mdBEETRRrnLJ8RxLEv7FhCaKoIkiaKIImiiCJoqgiSJoogiaKIImiqCJImiiCJoogiaKoIkiaKIImiiCJsqbfGNlyhss3DOhiSJoogiaKIImiqCJchV3OdylYCkmNFEETZSrWHIszRJmvUxoogiaKIImiqCJImiiCJoogiaKoIkiaKIImiiCJoqgiSJoogiaKIImiqCJEvmA/5QH/tfDhCaKoIkiaKIImigXuSh0kUYtJjRRVnHbbspfiFwmNFFWOaGnTOwcJjRRBE0UQRPFGvoJ1tRvl6BfYBr43OCf+/2lj7cmgl7AcwG+NuDXHo8Hgg5goj8Q9AqsKXBBr1By4IImaslSLehxHEsppQzD8Nd3p18/z5+HYbB95dsfvnw/b9/efHy0PXV78/HR9vRnp9/fH6OUh2bmaMYl9vKEu7u70nVdjV0T6nA4lP1+P2sf1YI+nU6l7/vStm1pmqbGIQgxjmM5Ho9lt9uVzWbeP6+rBQ2X4FkOogiaKIImiqCJImiiCJoogiaKoIkiaKIImii/AbwXPP3hiUUjAAAAAElFTkSuQmCC\"></img>\n",
       "</td>\n",
       "</tr>\n",
       "</table>"
      ],
      "text/plain": [
       "StackViewNDArray([[[ 30,  48,  35, ...,  33,  37,  48],\n",
       "                   [ 18,  24,  33, ...,  50,  41,  43],\n",
       "                   [ 37,  36,  37, ...,  40,  37,  45],\n",
       "                   ...,\n",
       "                   [ 61,  48,  48, ...,  54,  74,  68],\n",
       "                   [ 66,  40,  35, ...,  66,  70,  78],\n",
       "                   [ 26,  18,  31, ...,  98,  79,  43]],\n",
       "\n",
       "                  [[ 28,  10,  18, ...,  25,  32,  39],\n",
       "                   [ 18,  17,  29, ...,  65,  40,  32],\n",
       "                   [ 20,  19,  30, ...,  24,  17,  21],\n",
       "                   ...,\n",
       "                   [ 41,  68,  80, ...,  53,  56,  61],\n",
       "                   [ 20,  50,  91, ...,  47,  61,  65],\n",
       "                   [ 43,  12,  14, ...,  75,  80, 100]],\n",
       "\n",
       "                  [[ 27,  25,  29, ...,  44,  42,  41],\n",
       "                   [ 41,  48,  49, ...,  61,  45,  60],\n",
       "                   [ 49,  38,  20, ...,  56,  55,  48],\n",
       "                   ...,\n",
       "                   [ 42,  37,  50, ...,  40,  42,  43],\n",
       "                   [ 43,  48,  44, ...,  50,  45,  65],\n",
       "                   [ 32,  37,  57, ...,  80,  55,  44]],\n",
       "\n",
       "                  ...,\n",
       "\n",
       "                  [[ 28,  27,  21, ...,  32,  38,  38],\n",
       "                   [ 27,  27,  31, ...,  40,  48,  45],\n",
       "                   [ 24,  24,  29, ...,  37,  37,  39],\n",
       "                   ...,\n",
       "                   [ 19,  21,  12, ...,   8,   0,   5],\n",
       "                   [ 18,  26,  18, ...,   8,   4,  12],\n",
       "                   [ 18,  33,  17, ...,  10,   8,  10]],\n",
       "\n",
       "                  [[ 38,  24,  26, ...,  25,  27,  32],\n",
       "                   [ 33,  29,  39, ...,  37,  40,  42],\n",
       "                   [ 35,  37,  31, ...,  31,  40,  45],\n",
       "                   ...,\n",
       "                   [ 95,  27,  12, ...,  20,  12,  17],\n",
       "                   [ 97,  35,   5, ...,  25,  27,  17],\n",
       "                   [111,  42,  14, ...,  22,  26,  17]],\n",
       "\n",
       "                  [[ 63,  40,  42, ...,  30,  49,  51],\n",
       "                   [ 60,  49,  44, ...,  42,  45,  38],\n",
       "                   [ 41,  39,  59, ...,  37,  31,  42],\n",
       "                   ...,\n",
       "                   [135, 157, 159, ...,  59,  27,  29],\n",
       "                   [ 91, 128, 132, ...,  45,  22,  18],\n",
       "                   [ 77,  63,  79, ...,  52,  27,  26]]], dtype=uint8)"
      ]
     },
     "execution_count": 11,
     "metadata": {},
     "output_type": "execute_result"
    }
   ],
   "source": [
    "cropped_image"
   ]
  },
  {
   "cell_type": "code",
   "execution_count": 12,
   "id": "3c8f94c7-2e41-4b7f-8d03-7230ab9aa3aa",
   "metadata": {},
   "outputs": [
    {
     "data": {
      "application/vnd.jupyter.widget-view+json": {
       "model_id": "1a5f187c8bee4889a6686592eb9e8cb2",
       "version_major": 2,
       "version_minor": 0
      },
      "text/plain": [
       "_Cropper(children=(IntRangeSlider(value=(0, 100), description='Z'), IntRangeSlider(value=(0, 235), description…"
      ]
     },
     "execution_count": 12,
     "metadata": {},
     "output_type": "execute_result"
    }
   ],
   "source": [
    "crop_widget = stackview.crop(image, \n",
    "                             continuous_update=True, \n",
    "                             zoom_factor=0.75)\n",
    "crop_widget"
   ]
  },
  {
   "cell_type": "code",
   "execution_count": 13,
   "id": "af56ed48-560d-4455-bd2c-0e432aaab884",
   "metadata": {},
   "outputs": [
    {
     "data": {
      "text/plain": [
       "(slice(0, 100, 1), slice(0, 235, 1), slice(0, 389, 1))"
      ]
     },
     "execution_count": 13,
     "metadata": {},
     "output_type": "execute_result"
    }
   ],
   "source": [
    "crop_widget.range"
   ]
  },
  {
   "cell_type": "code",
   "execution_count": null,
   "id": "b6a87344-a0fb-4338-be03-2e7d828b6bd6",
   "metadata": {},
   "outputs": [],
   "source": []
  }
 ],
 "metadata": {
  "kernelspec": {
   "display_name": "Python 3 (ipykernel)",
   "language": "python",
   "name": "python3"
  },
  "language_info": {
   "codemirror_mode": {
    "name": "ipython",
    "version": 3
   },
   "file_extension": ".py",
   "mimetype": "text/x-python",
   "name": "python",
   "nbconvert_exporter": "python",
   "pygments_lexer": "ipython3",
   "version": "3.9.15"
  },
  "widgets": {
   "application/vnd.jupyter.widget-state+json": {
    "state": {
     "006b3ec175e840699254367b7fbbee93": {
      "model_module": "@jupyter-widgets/controls",
      "model_module_version": "2.0.0",
      "model_name": "HBoxModel",
      "state": {
       "children": [
        "IPY_MODEL_2ffc1168e834478590edcd20ae4fe68c"
       ],
       "layout": "IPY_MODEL_c4d0c87ba6544d24a63ba7160b56a830"
      }
     },
     "00ad4b91e1734e7690516b7e1e51cb33": {
      "model_module": "@jupyter-widgets/controls",
      "model_module_version": "2.0.0",
      "model_name": "IntSliderModel",
      "state": {
       "behavior": "drag-tap",
       "description": "Slice",
       "layout": "IPY_MODEL_4b35b6f93c744fd99005b6349b11732b",
       "max": 39,
       "style": "IPY_MODEL_0f38a4debe904284a6b4c5c3e8080937",
       "value": 39
      }
     },
     "0593718d103543cc9a0915bb63fa513f": {
      "model_module": "@jupyter-widgets/controls",
      "model_module_version": "2.0.0",
      "model_name": "IntRangeSliderModel",
      "state": {
       "_model_name": "IntRangeSliderModel",
       "_view_name": "IntRangeSliderView",
       "behavior": "drag-tap",
       "description": "X",
       "layout": "IPY_MODEL_b10e9b83324a4068a91b862b9ac5e065",
       "max": 389,
       "style": "IPY_MODEL_be764fd8397f407ea023f0d8df00e106",
       "value": [
        0,
        389
       ]
      }
     },
     "089a6b5d41974870834d6f89e4d52403": {
      "model_module": "@jupyter-widgets/base",
      "model_module_version": "2.0.0",
      "model_name": "LayoutModel",
      "state": {}
     },
     "08ea12c859c24921b3e62edbfe00994a": {
      "model_module": "@jupyter-widgets/base",
      "model_module_version": "2.0.0",
      "model_name": "LayoutModel",
      "state": {}
     },
     "0af52bfb4a704f8aab53fc24a298f038": {
      "model_module": "@jupyter-widgets/base",
      "model_module_version": "2.0.0",
      "model_name": "LayoutModel",
      "state": {}
     },
     "0ce434bb0a8b41418bd272c22c2bae75": {
      "model_module": "@jupyter-widgets/base",
      "model_module_version": "2.0.0",
      "model_name": "LayoutModel",
      "state": {}
     },
     "0f38a4debe904284a6b4c5c3e8080937": {
      "model_module": "@jupyter-widgets/controls",
      "model_module_version": "2.0.0",
      "model_name": "SliderStyleModel",
      "state": {
       "description_width": ""
      }
     },
     "10e57e3a6c064a70812497cd7a8e4c5e": {
      "model_module": "@jupyter-widgets/controls",
      "model_module_version": "2.0.0",
      "model_name": "SliderStyleModel",
      "state": {
       "description_width": ""
      }
     },
     "19b27da6521540a8a402447e00086371": {
      "model_module": "@jupyter-widgets/base",
      "model_module_version": "2.0.0",
      "model_name": "LayoutModel",
      "state": {}
     },
     "1a5f187c8bee4889a6686592eb9e8cb2": {
      "model_module": "@jupyter-widgets/controls",
      "model_module_version": "2.0.0",
      "model_name": "VBoxModel",
      "state": {
       "children": [
        "IPY_MODEL_f8db6d7f6ad6469da8fd714768afa839",
        "IPY_MODEL_4beb7bce3d20406d89ed5e8b2f21c82d",
        "IPY_MODEL_6ce2f153fcd24ce6862dd4d2d58956c8",
        "IPY_MODEL_006b3ec175e840699254367b7fbbee93",
        "IPY_MODEL_2ed7beb5bde04578a726bbe7ffbe3877"
       ],
       "layout": "IPY_MODEL_0af52bfb4a704f8aab53fc24a298f038"
      }
     },
     "1d2e15abaa614bf3beb02a9b216e7c27": {
      "model_module": "@jupyter-widgets/controls",
      "model_module_version": "2.0.0",
      "model_name": "SliderStyleModel",
      "state": {
       "description_width": ""
      }
     },
     "2021ca40122048dca1b1803636688c30": {
      "model_module": "@jupyter-widgets/controls",
      "model_module_version": "2.0.0",
      "model_name": "IntRangeSliderModel",
      "state": {
       "_model_name": "IntRangeSliderModel",
       "_view_name": "IntRangeSliderView",
       "behavior": "drag-tap",
       "description": "Y",
       "layout": "IPY_MODEL_e293177fd8f345e9b923aa3581b457d6",
       "max": 235,
       "style": "IPY_MODEL_b9435f77855c4636adce430c8c1ad16c",
       "value": [
        0,
        235
       ]
      }
     },
     "2131da5ece1a4c74981de43b33b79fc0": {
      "model_module": "@jupyter-widgets/controls",
      "model_module_version": "2.0.0",
      "model_name": "HBoxModel",
      "state": {
       "children": [
        "IPY_MODEL_8d9854c7d05d4598bef4a15265299705"
       ],
       "layout": "IPY_MODEL_4b7ba7aec9b34f2d8dd4af76e356cacf"
      }
     },
     "23819812bb6b4dc7be03f3e2efd61253": {
      "model_module": "@jupyter-widgets/controls",
      "model_module_version": "2.0.0",
      "model_name": "SliderStyleModel",
      "state": {
       "description_width": ""
      }
     },
     "28872488c58540898ea3b3fc241ec35a": {
      "model_module": "ipycanvas",
      "model_module_version": "^0.13",
      "model_name": "CanvasManagerModel",
      "state": {
       "_model_module_version": "^0.13",
       "_view_module": null,
       "_view_module_version": ""
      }
     },
     "295f6049cc944e058531b009f8753414": {
      "model_module": "@jupyter-widgets/base",
      "model_module_version": "2.0.0",
      "model_name": "LayoutModel",
      "state": {}
     },
     "29de7f6ab0734645ab54bad6971c9fc3": {
      "model_module": "@jupyter-widgets/base",
      "model_module_version": "2.0.0",
      "model_name": "LayoutModel",
      "state": {}
     },
     "2eb7160518ac40deb6894fe3709105a4": {
      "model_module": "ipycanvas",
      "model_module_version": "^0.13",
      "model_name": "CanvasModel",
      "state": {
       "_canvas_manager": "IPY_MODEL_28872488c58540898ea3b3fc241ec35a",
       "_model_module_version": "^0.13",
       "_view_module_version": "^0.13",
       "height": 176,
       "layout": "IPY_MODEL_ebf3c63d07384c3ca50140daf0d56097",
       "width": 291
      }
     },
     "2ed7beb5bde04578a726bbe7ffbe3877": {
      "model_module": "@jupyter-widgets/controls",
      "model_module_version": "2.0.0",
      "model_name": "IntSliderModel",
      "state": {
       "behavior": "drag-tap",
       "description": "Slice",
       "layout": "IPY_MODEL_e516ba2ac1f44348a8056fa23f9b87b4",
       "max": 99,
       "style": "IPY_MODEL_3a00bfaab26e468b86881c54b6d6d386",
       "value": 50
      }
     },
     "2ffc1168e834478590edcd20ae4fe68c": {
      "model_module": "@jupyter-widgets/controls",
      "model_module_version": "2.0.0",
      "model_name": "VBoxModel",
      "state": {
       "children": [
        "IPY_MODEL_2eb7160518ac40deb6894fe3709105a4"
       ],
       "layout": "IPY_MODEL_3b5779767b0042e3834c4f2835d3d4a1"
      }
     },
     "35aed69c3e7d48deb8c97fc8412f6c99": {
      "model_module": "@jupyter-widgets/controls",
      "model_module_version": "2.0.0",
      "model_name": "SliderStyleModel",
      "state": {
       "description_width": ""
      }
     },
     "37d5c20b14d145eaa6da87385cdfde47": {
      "model_module": "@jupyter-widgets/controls",
      "model_module_version": "2.0.0",
      "model_name": "VBoxModel",
      "state": {
       "children": [
        "IPY_MODEL_c6131494621043edb74bdecebb55b8d1"
       ],
       "layout": "IPY_MODEL_19b27da6521540a8a402447e00086371"
      }
     },
     "3a00bfaab26e468b86881c54b6d6d386": {
      "model_module": "@jupyter-widgets/controls",
      "model_module_version": "2.0.0",
      "model_name": "SliderStyleModel",
      "state": {
       "description_width": ""
      }
     },
     "3b5779767b0042e3834c4f2835d3d4a1": {
      "model_module": "@jupyter-widgets/base",
      "model_module_version": "2.0.0",
      "model_name": "LayoutModel",
      "state": {}
     },
     "3bc5187df51f4c75bd8e35605ec92511": {
      "model_module": "@jupyter-widgets/controls",
      "model_module_version": "2.0.0",
      "model_name": "IntRangeSliderModel",
      "state": {
       "_model_name": "IntRangeSliderModel",
       "_view_name": "IntRangeSliderView",
       "behavior": "drag-tap",
       "description": "X",
       "layout": "IPY_MODEL_c4d0b1eb29c544a58f7c67fc2acf0d99",
       "max": 389,
       "style": "IPY_MODEL_23819812bb6b4dc7be03f3e2efd61253",
       "value": [
        80,
        120
       ]
      }
     },
     "40a6bafd92e34e158c585669cb8e0923": {
      "model_module": "@jupyter-widgets/controls",
      "model_module_version": "2.0.0",
      "model_name": "SliderStyleModel",
      "state": {
       "description_width": ""
      }
     },
     "422013ac9cbc4ced914ba42828ce8454": {
      "model_module": "@jupyter-widgets/base",
      "model_module_version": "2.0.0",
      "model_name": "LayoutModel",
      "state": {}
     },
     "458475dbd50f47769cf73b4dab566533": {
      "model_module": "@jupyter-widgets/controls",
      "model_module_version": "2.0.0",
      "model_name": "IntSliderModel",
      "state": {
       "behavior": "drag-tap",
       "description": "Slice",
       "layout": "IPY_MODEL_e079523d310d4a7ba672f7b5e292e3ce",
       "max": 99,
       "style": "IPY_MODEL_d335814b7bca4742a332c5018f95f5b4",
       "value": 50
      }
     },
     "491dd3b79f774ae7b2dc7a0c5d325531": {
      "model_module": "@jupyter-widgets/base",
      "model_module_version": "2.0.0",
      "model_name": "LayoutModel",
      "state": {}
     },
     "4b35b6f93c744fd99005b6349b11732b": {
      "model_module": "@jupyter-widgets/base",
      "model_module_version": "2.0.0",
      "model_name": "LayoutModel",
      "state": {}
     },
     "4b7ba7aec9b34f2d8dd4af76e356cacf": {
      "model_module": "@jupyter-widgets/base",
      "model_module_version": "2.0.0",
      "model_name": "LayoutModel",
      "state": {}
     },
     "4beb7bce3d20406d89ed5e8b2f21c82d": {
      "model_module": "@jupyter-widgets/controls",
      "model_module_version": "2.0.0",
      "model_name": "IntRangeSliderModel",
      "state": {
       "_model_name": "IntRangeSliderModel",
       "_view_name": "IntRangeSliderView",
       "behavior": "drag-tap",
       "description": "Y",
       "layout": "IPY_MODEL_29de7f6ab0734645ab54bad6971c9fc3",
       "max": 235,
       "style": "IPY_MODEL_6b003d6cadd34c1dbcd124506ea8ac5a",
       "value": [
        0,
        235
       ]
      }
     },
     "4f4822e312384ad6ab1a901be6e302a6": {
      "model_module": "@jupyter-widgets/controls",
      "model_module_version": "2.0.0",
      "model_name": "SliderStyleModel",
      "state": {
       "description_width": ""
      }
     },
     "57ab3f66c1be42d49c0b98db2fd780df": {
      "model_module": "@jupyter-widgets/controls",
      "model_module_version": "2.0.0",
      "model_name": "IntRangeSliderModel",
      "state": {
       "_model_name": "IntRangeSliderModel",
       "_view_name": "IntRangeSliderView",
       "behavior": "drag-tap",
       "description": "X",
       "layout": "IPY_MODEL_66568997c8b84adc9cf38eedc1244167",
       "max": 389,
       "style": "IPY_MODEL_cb85a0bbc6f1496d972cd301bfc7ef96",
       "value": [
        0,
        389
       ]
      }
     },
     "584697a582a74b82a28ef26ac75f918a": {
      "model_module": "@jupyter-widgets/base",
      "model_module_version": "2.0.0",
      "model_name": "LayoutModel",
      "state": {}
     },
     "5943d798416e46e29a1d5dff605005f0": {
      "model_module": "@jupyter-widgets/controls",
      "model_module_version": "2.0.0",
      "model_name": "VBoxModel",
      "state": {
       "children": [
        "IPY_MODEL_a606c4f49da9413aa4c36f3331980506"
       ],
       "layout": "IPY_MODEL_089a6b5d41974870834d6f89e4d52403"
      }
     },
     "5b3687fc5183463fb635bc10e06c5939": {
      "model_module": "@jupyter-widgets/base",
      "model_module_version": "2.0.0",
      "model_name": "LayoutModel",
      "state": {}
     },
     "5e222394b5e24e4d88b97d7d45eb2a5e": {
      "model_module": "@jupyter-widgets/controls",
      "model_module_version": "2.0.0",
      "model_name": "VBoxModel",
      "state": {
       "children": [
        "IPY_MODEL_fdbd5521f2f84ad0b4620c7e70d44e0e"
       ],
       "layout": "IPY_MODEL_295f6049cc944e058531b009f8753414"
      }
     },
     "626026f55d644a0490f2301b6431b6d5": {
      "model_module": "@jupyter-widgets/controls",
      "model_module_version": "2.0.0",
      "model_name": "SliderStyleModel",
      "state": {
       "description_width": ""
      }
     },
     "66568997c8b84adc9cf38eedc1244167": {
      "model_module": "@jupyter-widgets/base",
      "model_module_version": "2.0.0",
      "model_name": "LayoutModel",
      "state": {}
     },
     "680ae7cf6c7143a19052206c002b7022": {
      "model_module": "@jupyter-widgets/base",
      "model_module_version": "2.0.0",
      "model_name": "LayoutModel",
      "state": {}
     },
     "685a939939984e73b4cd7dcfe846eee5": {
      "model_module": "@jupyter-widgets/controls",
      "model_module_version": "2.0.0",
      "model_name": "IntRangeSliderModel",
      "state": {
       "_model_name": "IntRangeSliderModel",
       "_view_name": "IntRangeSliderView",
       "behavior": "drag-tap",
       "description": "Y",
       "layout": "IPY_MODEL_e3bd06a01b134110818736d125fbd843",
       "max": 235,
       "style": "IPY_MODEL_7b8df3b4b37f4cfda48b2d1e67f99042",
       "value": [
        0,
        235
       ]
      }
     },
     "6b003d6cadd34c1dbcd124506ea8ac5a": {
      "model_module": "@jupyter-widgets/controls",
      "model_module_version": "2.0.0",
      "model_name": "SliderStyleModel",
      "state": {
       "description_width": ""
      }
     },
     "6ce2f153fcd24ce6862dd4d2d58956c8": {
      "model_module": "@jupyter-widgets/controls",
      "model_module_version": "2.0.0",
      "model_name": "IntRangeSliderModel",
      "state": {
       "_model_name": "IntRangeSliderModel",
       "_view_name": "IntRangeSliderView",
       "behavior": "drag-tap",
       "description": "X",
       "layout": "IPY_MODEL_0ce434bb0a8b41418bd272c22c2bae75",
       "max": 389,
       "style": "IPY_MODEL_35aed69c3e7d48deb8c97fc8412f6c99",
       "value": [
        0,
        389
       ]
      }
     },
     "6d2688c4c7624fc6aba224d2705e0af9": {
      "model_module": "@jupyter-widgets/base",
      "model_module_version": "2.0.0",
      "model_name": "LayoutModel",
      "state": {
       "display": "none"
      }
     },
     "6d72675552144124874f5aba932b9517": {
      "model_module": "@jupyter-widgets/controls",
      "model_module_version": "2.0.0",
      "model_name": "IntRangeSliderModel",
      "state": {
       "_model_name": "IntRangeSliderModel",
       "_view_name": "IntRangeSliderView",
       "behavior": "drag-tap",
       "description": "Z",
       "layout": "IPY_MODEL_491dd3b79f774ae7b2dc7a0c5d325531",
       "style": "IPY_MODEL_b3c5502d55ac420ebcde0d1816cc8b7e",
       "value": [
        0,
        40
       ]
      }
     },
     "70e5e738442e44c28aee1601a1214d15": {
      "model_module": "@jupyter-widgets/controls",
      "model_module_version": "2.0.0",
      "model_name": "HBoxModel",
      "state": {
       "children": [
        "IPY_MODEL_5e222394b5e24e4d88b97d7d45eb2a5e"
       ],
       "layout": "IPY_MODEL_df05c57cdab74ecbbea39c55f5d4a02f"
      }
     },
     "7576759cfdf845b3861d9c3a402f1886": {
      "model_module": "@jupyter-widgets/controls",
      "model_module_version": "2.0.0",
      "model_name": "VBoxModel",
      "state": {
       "children": [
        "IPY_MODEL_949d8180950a463b8c584f1a1ecd1ad6",
        "IPY_MODEL_685a939939984e73b4cd7dcfe846eee5",
        "IPY_MODEL_0593718d103543cc9a0915bb63fa513f",
        "IPY_MODEL_2131da5ece1a4c74981de43b33b79fc0",
        "IPY_MODEL_458475dbd50f47769cf73b4dab566533"
       ],
       "layout": "IPY_MODEL_ef6aea34d0ab487b8670cc5bed3ef83a"
      }
     },
     "7a5d1120f2c24bfea3caefe10aaa96f7": {
      "model_module": "@jupyter-widgets/controls",
      "model_module_version": "2.0.0",
      "model_name": "SliderStyleModel",
      "state": {
       "description_width": ""
      }
     },
     "7b8df3b4b37f4cfda48b2d1e67f99042": {
      "model_module": "@jupyter-widgets/controls",
      "model_module_version": "2.0.0",
      "model_name": "SliderStyleModel",
      "state": {
       "description_width": ""
      }
     },
     "816d4785f09a4b9f93e06016dc94f171": {
      "model_module": "@jupyter-widgets/base",
      "model_module_version": "2.0.0",
      "model_name": "LayoutModel",
      "state": {}
     },
     "837a36c2150a4388a3efe8cb0232c2c9": {
      "model_module": "@jupyter-widgets/base",
      "model_module_version": "2.0.0",
      "model_name": "LayoutModel",
      "state": {}
     },
     "89870963ef31453da668975564516c19": {
      "model_module": "@jupyter-widgets/base",
      "model_module_version": "2.0.0",
      "model_name": "LayoutModel",
      "state": {}
     },
     "8d9854c7d05d4598bef4a15265299705": {
      "model_module": "@jupyter-widgets/controls",
      "model_module_version": "2.0.0",
      "model_name": "VBoxModel",
      "state": {
       "children": [
        "IPY_MODEL_b8cad9a06ecb49b7ae804d9c4a107d79"
       ],
       "layout": "IPY_MODEL_422013ac9cbc4ced914ba42828ce8454"
      }
     },
     "949d8180950a463b8c584f1a1ecd1ad6": {
      "model_module": "@jupyter-widgets/controls",
      "model_module_version": "2.0.0",
      "model_name": "IntRangeSliderModel",
      "state": {
       "_model_name": "IntRangeSliderModel",
       "_view_name": "IntRangeSliderView",
       "behavior": "drag-tap",
       "description": "Z",
       "layout": "IPY_MODEL_680ae7cf6c7143a19052206c002b7022",
       "style": "IPY_MODEL_7a5d1120f2c24bfea3caefe10aaa96f7",
       "value": [
        0,
        100
       ]
      }
     },
     "95c9d7658f3341099932b4e2c3929b4e": {
      "model_module": "@jupyter-widgets/base",
      "model_module_version": "2.0.0",
      "model_name": "LayoutModel",
      "state": {}
     },
     "9651e4580c15460b880636e70bb0899e": {
      "model_module": "@jupyter-widgets/base",
      "model_module_version": "2.0.0",
      "model_name": "LayoutModel",
      "state": {}
     },
     "97c1c9edfa374b6088d8484cdc98280d": {
      "model_module": "@jupyter-widgets/base",
      "model_module_version": "2.0.0",
      "model_name": "LayoutModel",
      "state": {}
     },
     "9a1e831bbea8434f941c10064539c939": {
      "model_module": "@jupyter-widgets/base",
      "model_module_version": "2.0.0",
      "model_name": "LayoutModel",
      "state": {}
     },
     "a606c4f49da9413aa4c36f3331980506": {
      "model_module": "ipycanvas",
      "model_module_version": "^0.13",
      "model_name": "CanvasModel",
      "state": {
       "_canvas_manager": "IPY_MODEL_28872488c58540898ea3b3fc241ec35a",
       "_model_module_version": "^0.13",
       "_view_module_version": "^0.13",
       "height": 176,
       "layout": "IPY_MODEL_9651e4580c15460b880636e70bb0899e",
       "width": 291
      }
     },
     "a7676bf28a9a4eaeb6e99fae85f75f7c": {
      "model_module": "@jupyter-widgets/base",
      "model_module_version": "2.0.0",
      "model_name": "LayoutModel",
      "state": {}
     },
     "a81e3bcdac2045619c2152aba429ff17": {
      "model_module": "@jupyter-widgets/controls",
      "model_module_version": "2.0.0",
      "model_name": "VBoxModel",
      "state": {
       "children": [
        "IPY_MODEL_6d72675552144124874f5aba932b9517",
        "IPY_MODEL_e5626c18b77649a9813526b0bffdb7a6",
        "IPY_MODEL_3bc5187df51f4c75bd8e35605ec92511",
        "IPY_MODEL_b465492dd33b42c0a2a2235c2f929e56",
        "IPY_MODEL_00ad4b91e1734e7690516b7e1e51cb33"
       ],
       "layout": "IPY_MODEL_97c1c9edfa374b6088d8484cdc98280d"
      }
     },
     "b10e9b83324a4068a91b862b9ac5e065": {
      "model_module": "@jupyter-widgets/base",
      "model_module_version": "2.0.0",
      "model_name": "LayoutModel",
      "state": {}
     },
     "b3c5502d55ac420ebcde0d1816cc8b7e": {
      "model_module": "@jupyter-widgets/controls",
      "model_module_version": "2.0.0",
      "model_name": "SliderStyleModel",
      "state": {
       "description_width": ""
      }
     },
     "b4590e737c084b4fb6675233abedd20d": {
      "model_module": "@jupyter-widgets/base",
      "model_module_version": "2.0.0",
      "model_name": "LayoutModel",
      "state": {}
     },
     "b465492dd33b42c0a2a2235c2f929e56": {
      "model_module": "@jupyter-widgets/controls",
      "model_module_version": "2.0.0",
      "model_name": "HBoxModel",
      "state": {
       "children": [
        "IPY_MODEL_37d5c20b14d145eaa6da87385cdfde47"
       ],
       "layout": "IPY_MODEL_08ea12c859c24921b3e62edbfe00994a"
      }
     },
     "b8cad9a06ecb49b7ae804d9c4a107d79": {
      "model_module": "ipycanvas",
      "model_module_version": "^0.13",
      "model_name": "CanvasModel",
      "state": {
       "_canvas_manager": "IPY_MODEL_28872488c58540898ea3b3fc241ec35a",
       "_model_module_version": "^0.13",
       "_view_module_version": "^0.13",
       "height": 176,
       "layout": "IPY_MODEL_b90a2e4a19c446a68d69040b8a29ea5d",
       "width": 291
      }
     },
     "b90a2e4a19c446a68d69040b8a29ea5d": {
      "model_module": "@jupyter-widgets/base",
      "model_module_version": "2.0.0",
      "model_name": "LayoutModel",
      "state": {}
     },
     "b9435f77855c4636adce430c8c1ad16c": {
      "model_module": "@jupyter-widgets/controls",
      "model_module_version": "2.0.0",
      "model_name": "SliderStyleModel",
      "state": {
       "description_width": ""
      }
     },
     "be764fd8397f407ea023f0d8df00e106": {
      "model_module": "@jupyter-widgets/controls",
      "model_module_version": "2.0.0",
      "model_name": "SliderStyleModel",
      "state": {
       "description_width": ""
      }
     },
     "c4d0b1eb29c544a58f7c67fc2acf0d99": {
      "model_module": "@jupyter-widgets/base",
      "model_module_version": "2.0.0",
      "model_name": "LayoutModel",
      "state": {}
     },
     "c4d0c87ba6544d24a63ba7160b56a830": {
      "model_module": "@jupyter-widgets/base",
      "model_module_version": "2.0.0",
      "model_name": "LayoutModel",
      "state": {}
     },
     "c6131494621043edb74bdecebb55b8d1": {
      "model_module": "ipycanvas",
      "model_module_version": "^0.13",
      "model_name": "CanvasModel",
      "state": {
       "_canvas_manager": "IPY_MODEL_28872488c58540898ea3b3fc241ec35a",
       "_model_module_version": "^0.13",
       "_view_module_version": "^0.13",
       "height": 80,
       "layout": "IPY_MODEL_a7676bf28a9a4eaeb6e99fae85f75f7c",
       "width": 80
      }
     },
     "ca8ea3e4ad474788abd277be5959fef4": {
      "model_module": "@jupyter-widgets/controls",
      "model_module_version": "2.0.0",
      "model_name": "VBoxModel",
      "state": {
       "children": [
        "IPY_MODEL_cbd631c5baad48a498cb0fd69d46a2a6",
        "IPY_MODEL_e4bd8c72e5a94bcb887c223f9d1fd7af",
        "IPY_MODEL_d0d00fe90b034c358ea5812e7bf68986",
        "IPY_MODEL_d7b3e9b5ddf5445eb58b15db956b293a",
        "IPY_MODEL_e644f3a7fdd54cb0b5069e4abfe48f1d"
       ],
       "layout": "IPY_MODEL_5b3687fc5183463fb635bc10e06c5939"
      }
     },
     "cb85a0bbc6f1496d972cd301bfc7ef96": {
      "model_module": "@jupyter-widgets/controls",
      "model_module_version": "2.0.0",
      "model_name": "SliderStyleModel",
      "state": {
       "description_width": ""
      }
     },
     "cbd631c5baad48a498cb0fd69d46a2a6": {
      "model_module": "@jupyter-widgets/controls",
      "model_module_version": "2.0.0",
      "model_name": "IntRangeSliderModel",
      "state": {
       "_model_name": "IntRangeSliderModel",
       "_view_name": "IntRangeSliderView",
       "behavior": "drag-tap",
       "description": "Frame",
       "layout": "IPY_MODEL_fe3a75481f184778aee611f23569f832",
       "style": "IPY_MODEL_d7b125d838f8499db9bb871064909bc2",
       "value": [
        0,
        100
       ]
      }
     },
     "cdcd48b7bb544edfad0e3023cc6f50b2": {
      "model_module": "@jupyter-widgets/controls",
      "model_module_version": "2.0.0",
      "model_name": "IntSliderModel",
      "state": {
       "behavior": "drag-tap",
       "description": "Slice",
       "layout": "IPY_MODEL_6d2688c4c7624fc6aba224d2705e0af9",
       "max": 234,
       "style": "IPY_MODEL_40a6bafd92e34e158c585669cb8e0923",
       "value": 117
      }
     },
     "d0d00fe90b034c358ea5812e7bf68986": {
      "model_module": "@jupyter-widgets/controls",
      "model_module_version": "2.0.0",
      "model_name": "IntRangeSliderModel",
      "state": {
       "_model_name": "IntRangeSliderModel",
       "_view_name": "IntRangeSliderView",
       "behavior": "drag-tap",
       "description": "X",
       "layout": "IPY_MODEL_837a36c2150a4388a3efe8cb0232c2c9",
       "max": 389,
       "style": "IPY_MODEL_d31c7e5d8f6442eb89c6facf8a753867",
       "value": [
        0,
        389
       ]
      }
     },
     "d31c7e5d8f6442eb89c6facf8a753867": {
      "model_module": "@jupyter-widgets/controls",
      "model_module_version": "2.0.0",
      "model_name": "SliderStyleModel",
      "state": {
       "description_width": ""
      }
     },
     "d335814b7bca4742a332c5018f95f5b4": {
      "model_module": "@jupyter-widgets/controls",
      "model_module_version": "2.0.0",
      "model_name": "SliderStyleModel",
      "state": {
       "description_width": ""
      }
     },
     "d7b125d838f8499db9bb871064909bc2": {
      "model_module": "@jupyter-widgets/controls",
      "model_module_version": "2.0.0",
      "model_name": "SliderStyleModel",
      "state": {
       "description_width": ""
      }
     },
     "d7b3e9b5ddf5445eb58b15db956b293a": {
      "model_module": "@jupyter-widgets/controls",
      "model_module_version": "2.0.0",
      "model_name": "HBoxModel",
      "state": {
       "children": [
        "IPY_MODEL_5943d798416e46e29a1d5dff605005f0"
       ],
       "layout": "IPY_MODEL_95c9d7658f3341099932b4e2c3929b4e"
      }
     },
     "df05c57cdab74ecbbea39c55f5d4a02f": {
      "model_module": "@jupyter-widgets/base",
      "model_module_version": "2.0.0",
      "model_name": "LayoutModel",
      "state": {}
     },
     "e079523d310d4a7ba672f7b5e292e3ce": {
      "model_module": "@jupyter-widgets/base",
      "model_module_version": "2.0.0",
      "model_name": "LayoutModel",
      "state": {}
     },
     "e293177fd8f345e9b923aa3581b457d6": {
      "model_module": "@jupyter-widgets/base",
      "model_module_version": "2.0.0",
      "model_name": "LayoutModel",
      "state": {}
     },
     "e3bd06a01b134110818736d125fbd843": {
      "model_module": "@jupyter-widgets/base",
      "model_module_version": "2.0.0",
      "model_name": "LayoutModel",
      "state": {}
     },
     "e4bd8c72e5a94bcb887c223f9d1fd7af": {
      "model_module": "@jupyter-widgets/controls",
      "model_module_version": "2.0.0",
      "model_name": "IntRangeSliderModel",
      "state": {
       "_model_name": "IntRangeSliderModel",
       "_view_name": "IntRangeSliderView",
       "behavior": "drag-tap",
       "description": "Y",
       "layout": "IPY_MODEL_816d4785f09a4b9f93e06016dc94f171",
       "max": 235,
       "style": "IPY_MODEL_10e57e3a6c064a70812497cd7a8e4c5e",
       "value": [
        0,
        235
       ]
      }
     },
     "e516ba2ac1f44348a8056fa23f9b87b4": {
      "model_module": "@jupyter-widgets/base",
      "model_module_version": "2.0.0",
      "model_name": "LayoutModel",
      "state": {}
     },
     "e5626c18b77649a9813526b0bffdb7a6": {
      "model_module": "@jupyter-widgets/controls",
      "model_module_version": "2.0.0",
      "model_name": "IntRangeSliderModel",
      "state": {
       "_model_name": "IntRangeSliderModel",
       "_view_name": "IntRangeSliderView",
       "behavior": "drag-tap",
       "description": "Y",
       "layout": "IPY_MODEL_f20665ca29dd4fc79efb6fdc3ce4b82e",
       "max": 235,
       "style": "IPY_MODEL_626026f55d644a0490f2301b6431b6d5",
       "value": [
        40,
        80
       ]
      }
     },
     "e644f3a7fdd54cb0b5069e4abfe48f1d": {
      "model_module": "@jupyter-widgets/controls",
      "model_module_version": "2.0.0",
      "model_name": "IntSliderModel",
      "state": {
       "behavior": "drag-tap",
       "description": "Slice",
       "layout": "IPY_MODEL_89870963ef31453da668975564516c19",
       "max": 99,
       "style": "IPY_MODEL_4f4822e312384ad6ab1a901be6e302a6",
       "value": 50
      }
     },
     "ebf3c63d07384c3ca50140daf0d56097": {
      "model_module": "@jupyter-widgets/base",
      "model_module_version": "2.0.0",
      "model_name": "LayoutModel",
      "state": {}
     },
     "ef6aea34d0ab487b8670cc5bed3ef83a": {
      "model_module": "@jupyter-widgets/base",
      "model_module_version": "2.0.0",
      "model_name": "LayoutModel",
      "state": {}
     },
     "f20665ca29dd4fc79efb6fdc3ce4b82e": {
      "model_module": "@jupyter-widgets/base",
      "model_module_version": "2.0.0",
      "model_name": "LayoutModel",
      "state": {}
     },
     "f80cd2451761460fb34fdbdc79ab8366": {
      "model_module": "@jupyter-widgets/controls",
      "model_module_version": "2.0.0",
      "model_name": "VBoxModel",
      "state": {
       "children": [
        "IPY_MODEL_2021ca40122048dca1b1803636688c30",
        "IPY_MODEL_57ab3f66c1be42d49c0b98db2fd780df",
        "IPY_MODEL_70e5e738442e44c28aee1601a1214d15"
       ],
       "layout": "IPY_MODEL_584697a582a74b82a28ef26ac75f918a"
      }
     },
     "f8db6d7f6ad6469da8fd714768afa839": {
      "model_module": "@jupyter-widgets/controls",
      "model_module_version": "2.0.0",
      "model_name": "IntRangeSliderModel",
      "state": {
       "_model_name": "IntRangeSliderModel",
       "_view_name": "IntRangeSliderView",
       "behavior": "drag-tap",
       "description": "Z",
       "layout": "IPY_MODEL_9a1e831bbea8434f941c10064539c939",
       "style": "IPY_MODEL_1d2e15abaa614bf3beb02a9b216e7c27",
       "value": [
        0,
        100
       ]
      }
     },
     "fdbd5521f2f84ad0b4620c7e70d44e0e": {
      "model_module": "ipycanvas",
      "model_module_version": "^0.13",
      "model_name": "CanvasModel",
      "state": {
       "_canvas_manager": "IPY_MODEL_28872488c58540898ea3b3fc241ec35a",
       "_model_module_version": "^0.13",
       "_view_module_version": "^0.13",
       "height": 235,
       "layout": "IPY_MODEL_b4590e737c084b4fb6675233abedd20d",
       "width": 389
      }
     },
     "fe3a75481f184778aee611f23569f832": {
      "model_module": "@jupyter-widgets/base",
      "model_module_version": "2.0.0",
      "model_name": "LayoutModel",
      "state": {}
     }
    },
    "version_major": 2,
    "version_minor": 0
   }
  }
 },
 "nbformat": 4,
 "nbformat_minor": 5
}
