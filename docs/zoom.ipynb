{
 "cells": [
  {
   "cell_type": "markdown",
   "id": "ac2511d6-7689-4480-b482-36dc719ec489",
   "metadata": {},
   "source": [
    "# Zoom"
   ]
  },
  {
   "cell_type": "code",
   "execution_count": 1,
   "id": "12452471-61c6-4d32-828b-e3dc90622fe6",
   "metadata": {},
   "outputs": [],
   "source": [
    "import stackview\n",
    "from skimage.io import imread, imshow"
   ]
  },
  {
   "cell_type": "code",
   "execution_count": 2,
   "id": "dd7bcdad-a20b-4fe2-94c0-b588e644b2f9",
   "metadata": {},
   "outputs": [],
   "source": [
    "image = imread('data/Haase_MRT_tfl3d1.tif')[:,80:120]"
   ]
  },
  {
   "cell_type": "markdown",
   "id": "0a14f513-7bfc-40e9-b472-5ba295aa5ffd",
   "metadata": {},
   "source": [
    "When working with small images, the view may be suboptimal."
   ]
  },
  {
   "cell_type": "code",
   "execution_count": 3,
   "id": "31531f57-4f87-4eea-83cd-f38b8b1404f2",
   "metadata": {},
   "outputs": [
    {
     "data": {
      "application/vnd.jupyter.widget-view+json": {
       "model_id": "c108754f30734dda9b1cb1cf1f2f0284",
       "version_major": 2,
       "version_minor": 0
      },
      "text/plain": [
       "VBox(children=(HBox(children=(VBox(children=(ImageWidget(height=160, width=40),)),)), IntSlider(value=60, cont…"
      ]
     },
     "execution_count": 3,
     "metadata": {},
     "output_type": "execute_result"
    }
   ],
   "source": [
    "stackview.slice(image)"
   ]
  },
  {
   "cell_type": "code",
   "execution_count": null,
   "id": "f64d7620-56c7-41b5-ab9b-b8c520e9fecb",
   "metadata": {},
   "outputs": [],
   "source": []
  },
  {
   "cell_type": "code",
   "execution_count": 4,
   "id": "b0996d45-e1a5-40f6-a085-62018fc087e1",
   "metadata": {},
   "outputs": [
    {
     "data": {
      "application/vnd.jupyter.widget-view+json": {
       "model_id": "913fe9f74629412182619083ab28847d",
       "version_major": 2,
       "version_minor": 0
      },
      "text/plain": [
       "VBox(children=(HBox(children=(VBox(children=(ImageWidget(height=1600, width=400),)),)), IntSlider(value=60, co…"
      ]
     },
     "execution_count": 4,
     "metadata": {},
     "output_type": "execute_result"
    }
   ],
   "source": [
    "stackview.slice(image, zoom_factor=10)"
   ]
  },
  {
   "cell_type": "code",
   "execution_count": 5,
   "id": "21d8e810-54bf-4f9f-af10-bf07c83317b7",
   "metadata": {},
   "outputs": [
    {
     "data": {
      "application/vnd.jupyter.widget-view+json": {
       "model_id": "2f1e959f7d4a40aab60a79d8885b72bd",
       "version_major": 2,
       "version_minor": 0
      },
      "text/plain": [
       "VBox(children=(HBox(children=(VBox(children=(ImageWidget(height=1600, width=400),)),)), IntSlider(value=60, co…"
      ]
     },
     "execution_count": 5,
     "metadata": {},
     "output_type": "execute_result"
    }
   ],
   "source": [
    "stackview.picker(image, zoom_factor=10)"
   ]
  },
  {
   "cell_type": "code",
   "execution_count": 6,
   "id": "4d8610ce-9d8f-4daf-8cc7-13f48892a0d1",
   "metadata": {},
   "outputs": [
    {
     "data": {
      "application/vnd.jupyter.widget-view+json": {
       "model_id": "ed62630cbd294aaeb4f22474189c3e06",
       "version_major": 2,
       "version_minor": 0
      },
      "text/plain": [
       "VBox(children=(HBox(children=(VBox(children=(ImageWidget(height=1600, width=400),)),)), IntSlider(value=60, co…"
      ]
     },
     "execution_count": 6,
     "metadata": {},
     "output_type": "execute_result"
    }
   ],
   "source": [
    "stackview.picker(image, zoom_factor=10, zoom_spline_order=3)"
   ]
  },
  {
   "cell_type": "code",
   "execution_count": 7,
   "id": "971ca2de-af40-4ee5-8aa6-86bb7d7c60eb",
   "metadata": {},
   "outputs": [
    {
     "data": {
      "application/vnd.jupyter.widget-view+json": {
       "model_id": "b8cd42de19d24ca98dd322ec061bb578",
       "version_major": 2,
       "version_minor": 0
      },
      "text/plain": [
       "VBox(children=(HBox(children=(VBox(children=(ImageWidget(height=400, width=1600),)),)), IntSlider(value=60, de…"
      ]
     },
     "execution_count": 7,
     "metadata": {},
     "output_type": "execute_result"
    }
   ],
   "source": [
    "stackview.curtain(image, 256-image, zoom_factor=10, continuous_update=True)"
   ]
  },
  {
   "cell_type": "code",
   "execution_count": null,
   "id": "9c4874b1-a382-427a-8c2d-5273b802a037",
   "metadata": {},
   "outputs": [],
   "source": [
    "from skimage.filters import gaussian, threshold_otsu, sobel\n",
    "from skimage.measure import label\n",
    "\n",
    "def my_custom_code(image, sigma:float = 1, show_labels: bool = True):\n",
    "    sigma = abs(sigma)\n",
    "    blurred_image = gaussian(image, sigma=sigma)\n",
    "    binary_image = blurred_image > threshold_otsu(blurred_image)\n",
    "    edge_image = sobel(binary_image)\n",
    "    \n",
    "    if show_labels:\n",
    "        return label(binary_image)\n",
    "    else:\n",
    "        return edge_image * 255 + image \n",
    "\n",
    "stackview.interact(my_custom_code, image, zoom_factor=10)"
   ]
  },
  {
   "cell_type": "code",
   "execution_count": null,
   "id": "5c8272f9-cec6-4ebb-9570-0d659e4af652",
   "metadata": {},
   "outputs": [],
   "source": []
  }
 ],
 "metadata": {
  "kernelspec": {
   "display_name": "Python 3 (ipykernel)",
   "language": "python",
   "name": "python3"
  },
  "language_info": {
   "codemirror_mode": {
    "name": "ipython",
    "version": 3
   },
   "file_extension": ".py",
   "mimetype": "text/x-python",
   "name": "python",
   "nbconvert_exporter": "python",
   "pygments_lexer": "ipython3",
   "version": "3.9.15"
  },
  "widgets": {
   "application/vnd.jupyter.widget-state+json": {
    "state": {
     "0bdfc810124546c0ab58f633f7c8c72a": {
      "model_module": "@jupyter-widgets/controls",
      "model_module_version": "2.0.0",
      "model_name": "IntSliderModel",
      "state": {
       "behavior": "drag-tap",
       "continuous_update": false,
       "description": "Slice",
       "layout": "IPY_MODEL_477500302bac4e62ad094942d1c00ceb",
       "max": 119,
       "style": "IPY_MODEL_f1072ded716d4113b399c1998b6a0c8a",
       "value": 60
      }
     },
     "0d6c103a17704d388688b35e2a17fff4": {
      "model_module": "@jupyter-widgets/base",
      "model_module_version": "2.0.0",
      "model_name": "LayoutModel",
      "state": {}
     },
     "0ddd14ea19904df8b5649b5066e7b2b1": {
      "model_module": "@jupyter-widgets/controls",
      "model_module_version": "2.0.0",
      "model_name": "HBoxModel",
      "state": {
       "children": [
        "IPY_MODEL_c4a585fd003440b8ac62671b5fb8c6e7"
       ],
       "layout": "IPY_MODEL_0d6c103a17704d388688b35e2a17fff4"
      }
     },
     "0fd022492d104c74b3247bd6d3f02ddd": {
      "model_module": "@jupyter-widgets/controls",
      "model_module_version": "2.0.0",
      "model_name": "LabelModel",
      "state": {
       "layout": "IPY_MODEL_172109086b1a4a65ada29cea6d9ae27f",
       "style": "IPY_MODEL_858a9f4fefe0454994e2e7844fc62a09",
       "value": "[]:"
      }
     },
     "12cbc8a8e1a94a85b1021bdf05b8d63e": {
      "model_module": "@jupyter-widgets/base",
      "model_module_version": "2.0.0",
      "model_name": "LayoutModel",
      "state": {}
     },
     "172109086b1a4a65ada29cea6d9ae27f": {
      "model_module": "@jupyter-widgets/base",
      "model_module_version": "2.0.0",
      "model_name": "LayoutModel",
      "state": {}
     },
     "17db8e1bb7224baea677a41b4d2bb12b": {
      "model_module": "@jupyter-widgets/base",
      "model_module_version": "2.0.0",
      "model_name": "LayoutModel",
      "state": {}
     },
     "1956cbd17a1145beba470e76be90d3de": {
      "model_module": "@jupyter-widgets/base",
      "model_module_version": "2.0.0",
      "model_name": "LayoutModel",
      "state": {}
     },
     "257585f47a4340379a76665c90b5508d": {
      "model_module": "@jupyter-widgets/base",
      "model_module_version": "2.0.0",
      "model_name": "LayoutModel",
      "state": {}
     },
     "2f1e959f7d4a40aab60a79d8885b72bd": {
      "model_module": "@jupyter-widgets/controls",
      "model_module_version": "2.0.0",
      "model_name": "VBoxModel",
      "state": {
       "children": [
        "IPY_MODEL_0ddd14ea19904df8b5649b5066e7b2b1",
        "IPY_MODEL_dee48952367744b8a9bd27f801d0b02a",
        "IPY_MODEL_0fd022492d104c74b3247bd6d3f02ddd"
       ],
       "layout": "IPY_MODEL_4effd12b25f34d158ba83cb93d851e01"
      }
     },
     "307536236e854849887c15515d430b88": {
      "model_module": "@jupyter-widgets/controls",
      "model_module_version": "2.0.0",
      "model_name": "LabelStyleModel",
      "state": {
       "description_width": "",
       "font_family": null,
       "font_size": null,
       "font_style": null,
       "font_variant": null,
       "font_weight": null,
       "text_color": null,
       "text_decoration": null
      }
     },
     "3405901baa9f442c9cfe33a3f3ec3665": {
      "model_module": "@jupyter-widgets/controls",
      "model_module_version": "2.0.0",
      "model_name": "VBoxModel",
      "state": {
       "children": [
        "IPY_MODEL_49f4e8e367354002add65a82cfecad01"
       ],
       "layout": "IPY_MODEL_17db8e1bb7224baea677a41b4d2bb12b"
      }
     },
     "389905871b84446699de3fa4bb4dd2a6": {
      "model_module": "@jupyter-widgets/controls",
      "model_module_version": "2.0.0",
      "model_name": "CheckboxStyleModel",
      "state": {
       "description_width": ""
      }
     },
     "38d9a66203824e8286713098e96d3423": {
      "model_module": "@jupyter-widgets/base",
      "model_module_version": "2.0.0",
      "model_name": "LayoutModel",
      "state": {}
     },
     "3d80999e32b145ddaedce5f12c39976a": {
      "model_module": "@jupyter-widgets/base",
      "model_module_version": "2.0.0",
      "model_name": "LayoutModel",
      "state": {}
     },
     "412329650fbc4c4f904f2a490040a4e8": {
      "model_module": "@jupyter-widgets/output",
      "model_module_version": "1.0.0",
      "model_name": "OutputModel",
      "state": {
       "layout": "IPY_MODEL_cf84a1da98114d379cc02044abfe7e48",
       "msg_id": "4d51ac4f-dce3-4a9d-9360-201af3281fc1"
      }
     },
     "4652b415c0ff4bd48c2c3ae861a5636d": {
      "model_module": "ipycanvas",
      "model_module_version": "^0.13",
      "model_name": "CanvasManagerModel",
      "state": {
       "_model_module_version": "^0.13",
       "_view_module": null,
       "_view_module_version": ""
      }
     },
     "477500302bac4e62ad094942d1c00ceb": {
      "model_module": "@jupyter-widgets/base",
      "model_module_version": "2.0.0",
      "model_name": "LayoutModel",
      "state": {}
     },
     "48f70a0f927b40dda876c66375a13ff8": {
      "model_module": "@jupyter-widgets/controls",
      "model_module_version": "2.0.0",
      "model_name": "IntSliderModel",
      "state": {
       "behavior": "drag-tap",
       "description": "Curtain",
       "layout": "IPY_MODEL_ef0a177df0d94af6827f5fe37c18c66e",
       "max": 160,
       "style": "IPY_MODEL_5c91ee08c1764ce59bea39efed86b086",
       "value": 80
      }
     },
     "49f4e8e367354002add65a82cfecad01": {
      "model_module": "ipycanvas",
      "model_module_version": "^0.13",
      "model_name": "CanvasModel",
      "state": {
       "_canvas_manager": "IPY_MODEL_4652b415c0ff4bd48c2c3ae861a5636d",
       "_model_module_version": "^0.13",
       "_view_module_version": "^0.13",
       "height": 160,
       "layout": "IPY_MODEL_f1f8ba64c8e94a3ca313d7edcf9fe4ef",
       "width": 40
      }
     },
     "4effd12b25f34d158ba83cb93d851e01": {
      "model_module": "@jupyter-widgets/base",
      "model_module_version": "2.0.0",
      "model_name": "LayoutModel",
      "state": {}
     },
     "55c96d5f9fdb41dc9124f2414fa20db1": {
      "model_module": "@jupyter-widgets/base",
      "model_module_version": "2.0.0",
      "model_name": "LayoutModel",
      "state": {}
     },
     "577d2d6e60964b06ae28e5f0e08f270e": {
      "model_module": "@jupyter-widgets/base",
      "model_module_version": "2.0.0",
      "model_name": "LayoutModel",
      "state": {}
     },
     "591f4d1af7c34cbe96098b77b1ff25ba": {
      "model_module": "@jupyter-widgets/base",
      "model_module_version": "2.0.0",
      "model_name": "LayoutModel",
      "state": {}
     },
     "5c91ee08c1764ce59bea39efed86b086": {
      "model_module": "@jupyter-widgets/controls",
      "model_module_version": "2.0.0",
      "model_name": "SliderStyleModel",
      "state": {
       "description_width": ""
      }
     },
     "5dad013e54ec44429b114245ac17fba6": {
      "model_module": "@jupyter-widgets/base",
      "model_module_version": "2.0.0",
      "model_name": "LayoutModel",
      "state": {}
     },
     "5f276878b50348a2a238a23b16a506be": {
      "model_module": "@jupyter-widgets/controls",
      "model_module_version": "2.0.0",
      "model_name": "SliderStyleModel",
      "state": {
       "description_width": ""
      }
     },
     "5f56fb8ee7c14c358ba06cb462118b4a": {
      "model_module": "@jupyter-widgets/controls",
      "model_module_version": "2.0.0",
      "model_name": "IntSliderModel",
      "state": {
       "behavior": "drag-tap",
       "continuous_update": false,
       "description": "Slice",
       "layout": "IPY_MODEL_ad9df3351e8f4466a7065bee7b9d18c9",
       "max": 119,
       "style": "IPY_MODEL_a5e8b8b7c4cc43c58cca458bf1dc4d7c",
       "value": 60
      }
     },
     "603f48392a9047029b7869d847cd30d1": {
      "model_module": "ipyevents",
      "model_module_version": "2.0.1",
      "model_name": "EventModel",
      "state": {
       "_supported_key_events": [
        "keydown",
        "keyup"
       ],
       "_supported_mouse_events": [
        "click",
        "auxclick",
        "dblclick",
        "mouseenter",
        "mouseleave",
        "mousedown",
        "mouseup",
        "mousemove",
        "wheel",
        "contextmenu",
        "dragstart",
        "drag",
        "dragend",
        "dragenter",
        "dragover",
        "dragleave",
        "drop"
       ],
       "_supported_touch_events": [
        "touchstart",
        "touchend",
        "touchmove",
        "touchcancel"
       ],
       "_view_module": "@jupyter-widgets/controls",
       "source": "IPY_MODEL_8cef038abf5444bc880e57a7dc09ca67",
       "throttle_or_debounce": "",
       "watched_events": [
        "mousemove"
       ],
       "xy_coordinate_system": ""
      }
     },
     "72d64a1d2e7844219063aa8b72dccb0e": {
      "model_module": "@jupyter-widgets/base",
      "model_module_version": "2.0.0",
      "model_name": "LayoutModel",
      "state": {}
     },
     "7318bf3d403143ce9a8e00c9cd1be909": {
      "model_module": "@jupyter-widgets/controls",
      "model_module_version": "2.0.0",
      "model_name": "LabelStyleModel",
      "state": {
       "description_width": "",
       "font_family": null,
       "font_size": null,
       "font_style": null,
       "font_variant": null,
       "font_weight": null,
       "text_color": null,
       "text_decoration": null
      }
     },
     "733a63345d174f7ebe0a0749524491c7": {
      "model_module": "@jupyter-widgets/base",
      "model_module_version": "2.0.0",
      "model_name": "LayoutModel",
      "state": {}
     },
     "73a2ff33db8547bc95d8052f480ce123": {
      "model_module": "@jupyter-widgets/base",
      "model_module_version": "2.0.0",
      "model_name": "LayoutModel",
      "state": {}
     },
     "75cc2591dbdc43729e6201e25142e9e5": {
      "model_module": "@jupyter-widgets/base",
      "model_module_version": "2.0.0",
      "model_name": "LayoutModel",
      "state": {}
     },
     "777778fb4904496da8e42718dc4f6f9b": {
      "model_module": "@jupyter-widgets/base",
      "model_module_version": "2.0.0",
      "model_name": "LayoutModel",
      "state": {}
     },
     "7800208c5d7c407fae3051038bd10e59": {
      "model_module": "@jupyter-widgets/base",
      "model_module_version": "2.0.0",
      "model_name": "LayoutModel",
      "state": {}
     },
     "7bf64041f014499597b1ab1ceaaaef4b": {
      "model_module": "@jupyter-widgets/base",
      "model_module_version": "2.0.0",
      "model_name": "LayoutModel",
      "state": {}
     },
     "7e596a70986e4687970eec5d0041bbeb": {
      "model_module": "@jupyter-widgets/base",
      "model_module_version": "2.0.0",
      "model_name": "LayoutModel",
      "state": {}
     },
     "84a5c274e0194e2293123492816d9db9": {
      "model_module": "@jupyter-widgets/controls",
      "model_module_version": "2.0.0",
      "model_name": "IntSliderModel",
      "state": {
       "behavior": "drag-tap",
       "continuous_update": false,
       "description": "Slice",
       "layout": "IPY_MODEL_55c96d5f9fdb41dc9124f2414fa20db1",
       "max": 119,
       "style": "IPY_MODEL_5f276878b50348a2a238a23b16a506be",
       "value": 60
      }
     },
     "858a9f4fefe0454994e2e7844fc62a09": {
      "model_module": "@jupyter-widgets/controls",
      "model_module_version": "2.0.0",
      "model_name": "LabelStyleModel",
      "state": {
       "description_width": "",
       "font_family": null,
       "font_size": null,
       "font_style": null,
       "font_variant": null,
       "font_weight": null,
       "text_color": null,
       "text_decoration": null
      }
     },
     "898ddff2d8f248018ac56d1730ac653c": {
      "model_module": "@jupyter-widgets/controls",
      "model_module_version": "2.0.0",
      "model_name": "IntSliderModel",
      "state": {
       "behavior": "drag-tap",
       "description": "Slice",
       "layout": "IPY_MODEL_73a2ff33db8547bc95d8052f480ce123",
       "max": 119,
       "style": "IPY_MODEL_b87d54abdc4d4041a4e0159d6ef7de92",
       "value": 60
      }
     },
     "89967b7538b9423681707dc587bb6fc4": {
      "model_module": "@jupyter-widgets/controls",
      "model_module_version": "2.0.0",
      "model_name": "CheckboxModel",
      "state": {
       "description": "show_labels",
       "disabled": false,
       "layout": "IPY_MODEL_3d80999e32b145ddaedce5f12c39976a",
       "style": "IPY_MODEL_389905871b84446699de3fa4bb4dd2a6",
       "value": true
      }
     },
     "8cef038abf5444bc880e57a7dc09ca67": {
      "model_module": "ipycanvas",
      "model_module_version": "^0.13",
      "model_name": "CanvasModel",
      "state": {
       "_canvas_manager": "IPY_MODEL_4652b415c0ff4bd48c2c3ae861a5636d",
       "_model_module_version": "^0.13",
       "_view_count": 1,
       "_view_module_version": "^0.13",
       "height": 1600,
       "layout": "IPY_MODEL_a2a4bf61cc514188aea0d0ed4cac67fe",
       "width": 400
      }
     },
     "8f355e4e3b884c9eacf5dafff94ec17b": {
      "model_module": "@jupyter-widgets/base",
      "model_module_version": "2.0.0",
      "model_name": "LayoutModel",
      "state": {}
     },
     "913fe9f74629412182619083ab28847d": {
      "model_module": "@jupyter-widgets/controls",
      "model_module_version": "2.0.0",
      "model_name": "VBoxModel",
      "state": {
       "children": [
        "IPY_MODEL_fba669955f0346cc8182003b5a3d5d1c",
        "IPY_MODEL_0bdfc810124546c0ab58f633f7c8c72a"
       ],
       "layout": "IPY_MODEL_d64e6198111e4d398e0c78ad738b6534"
      }
     },
     "98150260af0b45eeabf313481dbee6a9": {
      "model_module": "@jupyter-widgets/controls",
      "model_module_version": "2.0.0",
      "model_name": "HBoxModel",
      "state": {
       "children": [
        "IPY_MODEL_3405901baa9f442c9cfe33a3f3ec3665"
       ],
       "layout": "IPY_MODEL_ef96896f395c4884908448c17362c69a"
      }
     },
     "9d2a3ab6e8be41aab1d2dba872b5321e": {
      "model_module": "@jupyter-widgets/controls",
      "model_module_version": "2.0.0",
      "model_name": "SliderStyleModel",
      "state": {
       "description_width": ""
      }
     },
     "a2a4bf61cc514188aea0d0ed4cac67fe": {
      "model_module": "@jupyter-widgets/base",
      "model_module_version": "2.0.0",
      "model_name": "LayoutModel",
      "state": {}
     },
     "a4d2193c0156419a9c2b19b34b700dee": {
      "model_module": "@jupyter-widgets/controls",
      "model_module_version": "2.0.0",
      "model_name": "FloatSliderModel",
      "state": {
       "behavior": "drag-tap",
       "continuous_update": false,
       "description": "sigma",
       "layout": "IPY_MODEL_e5cb6fc782bf41a39bbdea4c75db3456",
       "max": 10,
       "style": "IPY_MODEL_e0fb3b86588245a19a0f82e69c18ba97",
       "value": 1
      }
     },
     "a5e8b8b7c4cc43c58cca458bf1dc4d7c": {
      "model_module": "@jupyter-widgets/controls",
      "model_module_version": "2.0.0",
      "model_name": "SliderStyleModel",
      "state": {
       "description_width": ""
      }
     },
     "a7bcc90945d647c388c5d21e6cd7ab97": {
      "model_module": "@jupyter-widgets/controls",
      "model_module_version": "2.0.0",
      "model_name": "VBoxModel",
      "state": {
       "_dom_classes": [
        "widget-interact"
       ],
       "children": [
        "IPY_MODEL_a4d2193c0156419a9c2b19b34b700dee",
        "IPY_MODEL_89967b7538b9423681707dc587bb6fc4",
        "IPY_MODEL_412329650fbc4c4f904f2a490040a4e8"
       ],
       "layout": "IPY_MODEL_7bf64041f014499597b1ab1ceaaaef4b"
      }
     },
     "ad9df3351e8f4466a7065bee7b9d18c9": {
      "model_module": "@jupyter-widgets/base",
      "model_module_version": "2.0.0",
      "model_name": "LayoutModel",
      "state": {}
     },
     "b017090f06dd444aa6c574dc80960d29": {
      "model_module": "ipycanvas",
      "model_module_version": "^0.13",
      "model_name": "CanvasModel",
      "state": {
       "_canvas_manager": "IPY_MODEL_4652b415c0ff4bd48c2c3ae861a5636d",
       "_model_module_version": "^0.13",
       "_view_module_version": "^0.13",
       "height": 1600,
       "layout": "IPY_MODEL_75cc2591dbdc43729e6201e25142e9e5",
       "width": 400
      }
     },
     "b01a8014607a42cf997e780cfec6e286": {
      "model_module": "ipycanvas",
      "model_module_version": "^0.13",
      "model_name": "CanvasModel",
      "state": {
       "_canvas_manager": "IPY_MODEL_4652b415c0ff4bd48c2c3ae861a5636d",
       "_model_module_version": "^0.13",
       "_view_module_version": "^0.13",
       "height": 1600,
       "layout": "IPY_MODEL_577d2d6e60964b06ae28e5f0e08f270e",
       "width": 400
      }
     },
     "b27d0291daf642a8996e09efcc74549c": {
      "model_module": "@jupyter-widgets/controls",
      "model_module_version": "2.0.0",
      "model_name": "LabelModel",
      "state": {
       "layout": "IPY_MODEL_c551f491a7944dac9d435c69757bcae9",
       "style": "IPY_MODEL_7318bf3d403143ce9a8e00c9cd1be909",
       "value": "[]:"
      }
     },
     "b87d54abdc4d4041a4e0159d6ef7de92": {
      "model_module": "@jupyter-widgets/controls",
      "model_module_version": "2.0.0",
      "model_name": "SliderStyleModel",
      "state": {
       "description_width": ""
      }
     },
     "b8cd42de19d24ca98dd322ec061bb578": {
      "model_module": "@jupyter-widgets/controls",
      "model_module_version": "2.0.0",
      "model_name": "VBoxModel",
      "state": {
       "children": [
        "IPY_MODEL_e41cb371ba784b7fa5d94114dc8b5514",
        "IPY_MODEL_898ddff2d8f248018ac56d1730ac653c",
        "IPY_MODEL_48f70a0f927b40dda876c66375a13ff8"
       ],
       "layout": "IPY_MODEL_1956cbd17a1145beba470e76be90d3de"
      }
     },
     "bfafaa43b80c4e98b3bcabe90bb38f6d": {
      "model_module": "@jupyter-widgets/controls",
      "model_module_version": "2.0.0",
      "model_name": "SliderStyleModel",
      "state": {
       "description_width": ""
      }
     },
     "c05dd577eda24105a83b37900cce6e82": {
      "model_module": "@jupyter-widgets/controls",
      "model_module_version": "2.0.0",
      "model_name": "VBoxModel",
      "state": {
       "children": [
        "IPY_MODEL_8cef038abf5444bc880e57a7dc09ca67"
       ],
       "layout": "IPY_MODEL_7800208c5d7c407fae3051038bd10e59"
      }
     },
     "c108754f30734dda9b1cb1cf1f2f0284": {
      "model_module": "@jupyter-widgets/controls",
      "model_module_version": "2.0.0",
      "model_name": "VBoxModel",
      "state": {
       "children": [
        "IPY_MODEL_98150260af0b45eeabf313481dbee6a9",
        "IPY_MODEL_84a5c274e0194e2293123492816d9db9"
       ],
       "layout": "IPY_MODEL_ede3fb102b634dd8b0a839265f31b85d"
      }
     },
     "c4a585fd003440b8ac62671b5fb8c6e7": {
      "model_module": "@jupyter-widgets/controls",
      "model_module_version": "2.0.0",
      "model_name": "VBoxModel",
      "state": {
       "children": [
        "IPY_MODEL_ef9efda7dc044bc39e8f429ff0a969df"
       ],
       "layout": "IPY_MODEL_72d64a1d2e7844219063aa8b72dccb0e"
      }
     },
     "c551f491a7944dac9d435c69757bcae9": {
      "model_module": "@jupyter-widgets/base",
      "model_module_version": "2.0.0",
      "model_name": "LayoutModel",
      "state": {}
     },
     "c9e544e999884a8ca78cf9e9e3c66738": {
      "model_module": "@jupyter-widgets/controls",
      "model_module_version": "2.0.0",
      "model_name": "HBoxModel",
      "state": {
       "children": [
        "IPY_MODEL_c05dd577eda24105a83b37900cce6e82"
       ],
       "layout": "IPY_MODEL_d8c20717faab467b84bb6d4bdc174638"
      }
     },
     "ca734d1960f44ddca617aa5f7068adfd": {
      "model_module": "ipycanvas",
      "model_module_version": "^0.13",
      "model_name": "CanvasModel",
      "state": {
       "_canvas_manager": "IPY_MODEL_4652b415c0ff4bd48c2c3ae861a5636d",
       "_model_module_version": "^0.13",
       "_view_module_version": "^0.13",
       "height": 400,
       "layout": "IPY_MODEL_777778fb4904496da8e42718dc4f6f9b",
       "width": 1600
      }
     },
     "cddf0b394eac49a2a3b23d9b340c4177": {
      "model_module": "@jupyter-widgets/controls",
      "model_module_version": "2.0.0",
      "model_name": "VBoxModel",
      "state": {
       "children": [
        "IPY_MODEL_ca734d1960f44ddca617aa5f7068adfd"
       ],
       "layout": "IPY_MODEL_d6a51864dce543ee88b944b085ecef73"
      }
     },
     "cf84a1da98114d379cc02044abfe7e48": {
      "model_module": "@jupyter-widgets/base",
      "model_module_version": "2.0.0",
      "model_name": "LayoutModel",
      "state": {}
     },
     "d5e20c26719a42e8acf39ab9276a3d10": {
      "model_module": "ipyevents",
      "model_module_version": "2.0.1",
      "model_name": "EventModel",
      "state": {
       "_supported_key_events": [
        "keydown",
        "keyup"
       ],
       "_supported_mouse_events": [
        "click",
        "auxclick",
        "dblclick",
        "mouseenter",
        "mouseleave",
        "mousedown",
        "mouseup",
        "mousemove",
        "wheel",
        "contextmenu",
        "dragstart",
        "drag",
        "dragend",
        "dragenter",
        "dragover",
        "dragleave",
        "drop"
       ],
       "_supported_touch_events": [
        "touchstart",
        "touchend",
        "touchmove",
        "touchcancel"
       ],
       "_view_module": "@jupyter-widgets/controls",
       "source": "IPY_MODEL_ef9efda7dc044bc39e8f429ff0a969df",
       "throttle_or_debounce": "",
       "watched_events": [
        "mousemove"
       ],
       "xy_coordinate_system": ""
      }
     },
     "d64e6198111e4d398e0c78ad738b6534": {
      "model_module": "@jupyter-widgets/base",
      "model_module_version": "2.0.0",
      "model_name": "LayoutModel",
      "state": {}
     },
     "d6a51864dce543ee88b944b085ecef73": {
      "model_module": "@jupyter-widgets/base",
      "model_module_version": "2.0.0",
      "model_name": "LayoutModel",
      "state": {}
     },
     "d8c20717faab467b84bb6d4bdc174638": {
      "model_module": "@jupyter-widgets/base",
      "model_module_version": "2.0.0",
      "model_name": "LayoutModel",
      "state": {}
     },
     "dee48952367744b8a9bd27f801d0b02a": {
      "model_module": "@jupyter-widgets/controls",
      "model_module_version": "2.0.0",
      "model_name": "IntSliderModel",
      "state": {
       "behavior": "drag-tap",
       "continuous_update": false,
       "description": "Slice",
       "layout": "IPY_MODEL_38d9a66203824e8286713098e96d3423",
       "max": 119,
       "style": "IPY_MODEL_bfafaa43b80c4e98b3bcabe90bb38f6d",
       "value": 60
      }
     },
     "e0fb3b86588245a19a0f82e69c18ba97": {
      "model_module": "@jupyter-widgets/controls",
      "model_module_version": "2.0.0",
      "model_name": "SliderStyleModel",
      "state": {
       "description_width": ""
      }
     },
     "e41cb371ba784b7fa5d94114dc8b5514": {
      "model_module": "@jupyter-widgets/controls",
      "model_module_version": "2.0.0",
      "model_name": "HBoxModel",
      "state": {
       "children": [
        "IPY_MODEL_cddf0b394eac49a2a3b23d9b340c4177"
       ],
       "layout": "IPY_MODEL_8f355e4e3b884c9eacf5dafff94ec17b"
      }
     },
     "e5cb6fc782bf41a39bbdea4c75db3456": {
      "model_module": "@jupyter-widgets/base",
      "model_module_version": "2.0.0",
      "model_name": "LayoutModel",
      "state": {}
     },
     "ed62630cbd294aaeb4f22474189c3e06": {
      "model_module": "@jupyter-widgets/controls",
      "model_module_version": "2.0.0",
      "model_name": "VBoxModel",
      "state": {
       "children": [
        "IPY_MODEL_c9e544e999884a8ca78cf9e9e3c66738",
        "IPY_MODEL_fa4460f49a65428a96f5d87113f855bb",
        "IPY_MODEL_b27d0291daf642a8996e09efcc74549c"
       ],
       "layout": "IPY_MODEL_591f4d1af7c34cbe96098b77b1ff25ba"
      }
     },
     "ede3fb102b634dd8b0a839265f31b85d": {
      "model_module": "@jupyter-widgets/base",
      "model_module_version": "2.0.0",
      "model_name": "LayoutModel",
      "state": {}
     },
     "ef0a177df0d94af6827f5fe37c18c66e": {
      "model_module": "@jupyter-widgets/base",
      "model_module_version": "2.0.0",
      "model_name": "LayoutModel",
      "state": {}
     },
     "ef96896f395c4884908448c17362c69a": {
      "model_module": "@jupyter-widgets/base",
      "model_module_version": "2.0.0",
      "model_name": "LayoutModel",
      "state": {}
     },
     "ef9efda7dc044bc39e8f429ff0a969df": {
      "model_module": "ipycanvas",
      "model_module_version": "^0.13",
      "model_name": "CanvasModel",
      "state": {
       "_canvas_manager": "IPY_MODEL_4652b415c0ff4bd48c2c3ae861a5636d",
       "_model_module_version": "^0.13",
       "_view_count": 1,
       "_view_module_version": "^0.13",
       "height": 1600,
       "layout": "IPY_MODEL_733a63345d174f7ebe0a0749524491c7",
       "width": 400
      }
     },
     "f1072ded716d4113b399c1998b6a0c8a": {
      "model_module": "@jupyter-widgets/controls",
      "model_module_version": "2.0.0",
      "model_name": "SliderStyleModel",
      "state": {
       "description_width": ""
      }
     },
     "f1f8ba64c8e94a3ca313d7edcf9fe4ef": {
      "model_module": "@jupyter-widgets/base",
      "model_module_version": "2.0.0",
      "model_name": "LayoutModel",
      "state": {}
     },
     "f8a146f7f5c546d38e7f13b20b9f0fbb": {
      "model_module": "@jupyter-widgets/controls",
      "model_module_version": "2.0.0",
      "model_name": "VBoxModel",
      "state": {
       "children": [
        "IPY_MODEL_b017090f06dd444aa6c574dc80960d29"
       ],
       "layout": "IPY_MODEL_5dad013e54ec44429b114245ac17fba6"
      }
     },
     "fa4460f49a65428a96f5d87113f855bb": {
      "model_module": "@jupyter-widgets/controls",
      "model_module_version": "2.0.0",
      "model_name": "IntSliderModel",
      "state": {
       "behavior": "drag-tap",
       "continuous_update": false,
       "description": "Slice",
       "layout": "IPY_MODEL_7e596a70986e4687970eec5d0041bbeb",
       "max": 119,
       "style": "IPY_MODEL_9d2a3ab6e8be41aab1d2dba872b5321e",
       "value": 60
      }
     },
     "fba669955f0346cc8182003b5a3d5d1c": {
      "model_module": "@jupyter-widgets/controls",
      "model_module_version": "2.0.0",
      "model_name": "HBoxModel",
      "state": {
       "children": [
        "IPY_MODEL_f8a146f7f5c546d38e7f13b20b9f0fbb"
       ],
       "layout": "IPY_MODEL_257585f47a4340379a76665c90b5508d"
      }
     },
     "fdcaff237e654479bb033d2fdcbb6b5f": {
      "model_module": "@jupyter-widgets/controls",
      "model_module_version": "2.0.0",
      "model_name": "LabelModel",
      "state": {
       "layout": "IPY_MODEL_12cbc8a8e1a94a85b1021bdf05b8d63e",
       "style": "IPY_MODEL_307536236e854849887c15515d430b88",
       "value": "my_custom_code(..., sigma=1.0, show_labels=True)"
      }
     }
    },
    "version_major": 2,
    "version_minor": 0
   }
  }
 },
 "nbformat": 4,
 "nbformat_minor": 5
}
