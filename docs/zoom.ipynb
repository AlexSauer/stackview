{
 "cells": [
  {
   "cell_type": "markdown",
   "id": "ac2511d6-7689-4480-b482-36dc719ec489",
   "metadata": {},
   "source": [
    "# Zoom"
   ]
  },
  {
   "cell_type": "code",
   "execution_count": 1,
   "id": "12452471-61c6-4d32-828b-e3dc90622fe6",
   "metadata": {},
   "outputs": [],
   "source": [
    "import stackview\n",
    "from skimage.io import imread, imshow\n",
    "from skimage.filters import gaussian, threshold_otsu, sobel\n",
    "from skimage.measure import label"
   ]
  },
  {
   "cell_type": "code",
   "execution_count": 2,
   "id": "dd7bcdad-a20b-4fe2-94c0-b588e644b2f9",
   "metadata": {},
   "outputs": [],
   "source": [
    "image = imread('data/Haase_MRT_tfl3d1.tif')[:,80:120,:40]"
   ]
  },
  {
   "cell_type": "code",
   "execution_count": 3,
   "id": "edc6b6be-9381-4f84-827a-7a7844740f2a",
   "metadata": {},
   "outputs": [
    {
     "data": {
      "text/html": [
       "<table>\n",
       "<tr>\n",
       "<td>\n",
       "<img src=\"data:image/png;base64,iVBORw0KGgoAAAANSUhEUgAAAoAAAAHgCAYAAAA10dzkAAAAOXRFWHRTb2Z0d2FyZQBNYXRwbG90bGliIHZlcnNpb24zLjYuMiwgaHR0cHM6Ly9tYXRwbG90bGliLm9yZy8o6BhiAAAACXBIWXMAAA9hAAAPYQGoP6dpAABSTUlEQVR4nO3df3DUZbbn8U8EEpKQNISQXxKYjAZGCHoVXAiOigqBXAEdZkdnmJuFXS/qRWFZoLwXrVlzZ5W4/kCmZIdVLiUosrG2HGZUnBhcB7wUgpBrSn4tw4woQRPCj5BfhCSE7/5h0WtDyHM0TRK+/X5VdRXpPvn2yZPu5uR5vt/zRHme5wkAAAAR46ruTgAAAABdiwIQAAAgwlAAAgAARBgKQAAAgAhDAQgAABBhKAABAAAiDAUgAABAhKEABAAAiDAUgAAAABGGAhAAACDCUAACAABEGApAAACACEMBCAAAEGEoAAEAACIMBSAAAECEoQAEAACIMBSAAAAAEYYCEAAAIMJQAAIAAEQYCkAAAIAIQwEIAAAQYSgAAQAAIgwFIAAAQIShAAQAAIgwFIAAAAARhgIQAAAgwlAAAgAARBgKQAAAgAhDAQgAABBhKAABAAAiDAUgAABAhKEABAAAiDAUgAAAABGGAhAAACDCUAACAABEGApAAACACEMBCAAAEGEoAAEAACIMBSAAAECEoQAEAACIMBSAAAAAEYYCEAAAIMJQAAIAAEQYCkAAAIAIQwEIAAAQYSgAAQAAIgwFIAAAQIShAAQAAIgwFIAAAAARhgIQAAAgwlAAAgAARBgKQAAAgAhDAQgAABBhKAABAAAiDAUgAABAhKEABAAAiDC9uzsB2Jw7d05ff/21EhISFBUV1d3pAAC+I8/zVF9fr4yMDF111eWbfzlz5oxaWlo6fZzo6Gj17ds3DBmhJ6IA7EK//e1v9dxzz6myslIjR47U8uXLdeutt5q+9+uvv1ZmZuZlzhAAcLlVVFRo8ODBl+XYZ86cUVZWlqqqqjp9rLS0NB06dIgi0KcoALvIm2++qQULFui3v/2tbrnlFr388svKz8/Xvn37NGTIEOf3JyQkmJ5nwIABzhjP80zH6sqZRmtOlr+az50754yxfKA1NzebcurVq5czpq2tzRkzbdo0Z8wPfvADS0pKTk52xvTp08cZ09TU5Iw5ceKEKafU1FRnTO/e7o+k1tZWZ8zZs2dNOQ0dOtQZU1dX54w5ffq0M2bkyJGmnI4ePeqMsYxBTU2NM6Zfv36mnCyys7OdMZb3eX19ven5LJ8FN954ozPGMlN2/PhxU07XXHNNh4/X1dUpMzPT/Hn+fbS0tKiqqkoVFRVKTEz83sc5n2tLSwsFoE9RAHaRZcuW6YEHHtDf//3fS5KWL1+u999/XytXrlRRUZHz+63FWDiLNssHrLVwC5dw5WQ5jnUsw5VTdHS0M8b6QRwbG+uMsRSAFuHMyVIAWmKsBWBcXFxYjmX5/VqLLUsBZCkAz5w544yx/PxWlp/PMk6WP+Ak2/vOUgBZCkDLWFqfT+qaP64TEhI6VWh29Wc7uh4XgXSBlpYWlZWVKS8vL+T+vLw8bdu2rd3vaW5uVl1dXcgNAAAgHCgAu8Dx48fV1tZ20RJYamrqJc/TKCoqUiAQCN44/w8AAIQLBWAXunDa3/O8Sy4FLFmyRLW1tcFbRUVFV6QIAPABz/M6fYO/cQ5gF0hOTlavXr0umu2rrq6+5InxMTExiomJ6Yr0AABAhGEGsAtER0dr9OjR2rRpU8j9mzZt0vjx47spKwAAEKmYAewiCxcuVEFBgcaMGaPc3Fy98sorOnz4sB5++OGwPo9l2t46tW9pb2K5GtFytamlTYpkuwLU8vNZruoL5xLIxIkTnTGWdkDx8fGm57O0gfn888+dMZbxHjhwoCkny1WilqsjLa1prFc4W45ludrUco6udUY/EAg4YywXhf3oRz9yxlibEVuulLVcxW5prWS9gtvS8spy5fmpU6ecMZYWNz1NZ5dxWQL2PwrALnL//ffrxIkT+vWvf63Kykrl5OTovffeM/UhAwAACCcKwC40d+5czZ07t7vTAAAAEY4CEAAAn2EJGC5cBAIAABBhKAABAAAiDEvAAAD4DEvAcGEGEAAAIMJQAAIAAEQYloB9xtJst76+3nQsS9PWvn37OmMszaKtyw2WRsGWGEvTWkvekpSbm+uMsTSStTRdtjbutfyOLWNgGcukpCRTTpbfcW1trTPG0uR5zJgxppwszbAtjYItTdOtzc7PnTsXlmNZcjpx4oQpp8GDBztjGhoanDGW5s3W991NN93kjLH87i61HeeVjiVguDADCAAAEGEoAAEAACIMS8AAAPgMS8BwYQYQAAAgwlAAAgAARBiWgAEA8BmWgOHCDCAAAECEoQAEAACIMBSAAACg07766iv93d/9nQYOHKi4uDj9zd/8jcrKyoKPe56nwsJCZWRkKDY2VhMmTNDevXtDjtHc3Kx58+YpOTlZ8fHxmj59uo4cORISU1NTo4KCAgUCAQUCARUUFFzU9Pvw4cOaNm2a4uPjlZycrPnz56ulpeWy/exXIs4B9Jm6ujpnjGV3B8m260S4dguxHEeSzpw544yx7IBgOb8lJSXFlNPIkSOdMZbdDYYMGeKMsexsIElxcXHOGMtuEuH83Vl2gbD8fi07N/zlL38x5WR5HSQmJjpjLONkiZHs4+lieQ1Yxluy/e4sYxkfH++MycrKMuVk0b9//7Ad60rT1ecA1tTU6JZbbtEdd9yhP/7xj0pJSdFf//rXkN/Bs88+q2XLlmnNmjUaNmyYnnrqKU2aNEkHDhxQQkKCJGnBggV65513VFxcrIEDB2rRokWaOnWqysrKgp/tM2fO1JEjR1RSUiJJevDBB1VQUKB33nlH0jefbXfffbcGDRqkrVu36sSJE5o1a5Y8z9NLL730vcfEbygAAQBAp/z3//7flZmZqVdffTV43w9+8IPgvz3P0/Lly/XEE09oxowZkqS1a9cqNTVV69ev10MPPaTa2lqtXr1ar7/+uiZOnChJWrdunTIzM/XBBx9o8uTJ2r9/v0pKSrR9+3aNHTtWkrRq1Srl5ubqwIEDGj58uEpLS7Vv3z5VVFQoIyNDkvTCCy9o9uzZevrpp01/1EUCloABAECnvP322xozZox+9rOfKSUlRTfeeKNWrVoVfPzQoUOqqqpSXl5e8L6YmBjdfvvt2rZtmySprKxMra2tITEZGRnKyckJxnz88ccKBALB4k+Sxo0bp0AgEBKTk5MTLP4kafLkyWpubg5Zko50FIAAAPjM+SXgztykb04r+vbtUqcofP7551q5cqWys7P1/vvv6+GHH9b8+fP12muvSZKqqqokXXwKR2pqavCxqqoqRUdHX3TKwYUx7Z2ek5KSEhJz4fMMGDBA0dHRwRhQAAIAgEvIzMwMXmwRCARUVFTUbty5c+d00003aenSpbrxxhv10EMPac6cOVq5cmVI3IXnoHue5zwv/cKY9uK/T0ykowAEAADtqqioUG1tbfC2ZMmSduPS09M1YsSIkPuuu+46HT58WJKUlpYmSRfNwFVXVwdn69LS0tTS0qKampoOY44ePXrR8x87diwk5sLnqampUWtrq+kiskhBAQgAgM+Eawk4MTEx5BYTE9Pu891yyy06cOBAyH1//vOfNXToUEnfXN2dlpamTZs2BR9vaWnRli1bNH78eEnS6NGj1adPn5CYyspK7dmzJxiTm5ur2tpaffLJJ8GYHTt2qLa2NiRmz549qqysDMaUlpYqJiZGo0eP/t5j6jdcBQwAADrlv/yX/6Lx48dr6dKluu+++/TJJ5/olVde0SuvvCLpmyXZBQsWaOnSpcrOzlZ2draWLl2quLg4zZw5U5IUCAT0wAMPaNGiRRo4cKCSkpK0ePFijRo1KnhV8HXXXacpU6Zozpw5evnllyV90wZm6tSpGj58uCQpLy9PI0aMUEFBgZ577jmdPHlSixcv1pw5c7gC+FsoAAEAQKfcfPPN2rBhg5YsWaJf//rXysrK0vLly/XLX/4yGPPYY4+pqalJc+fOVU1NjcaOHavS0tJgD0BJevHFF9W7d2/dd999ampq0l133aU1a9aE9Hd94403NH/+/ODVwtOnT9eKFSuCj/fq1UsbN27U3Llzdcsttyg2NlYzZ87U888/3wUjceWI8tjx+YpQV1enQCDgjLPEWBolS7aG0ZaXj6WhtPVlGK7nszTJ/Q//4T+Ycjp79qwz5vxfph05fvy4MyYzMzNsOVl+v5bmxZaxlGyvO0tj4ujoaGfMiRMnTDmdPy+pIxeej9Se+vp6Z4ylmbJk+71YXuOWRt/WRsmWccrOznbGNDY2OmO+XQz4zfnP8dra2ss2E3X+Ob766qtOPUddXZ2uvvrqy5oruhfnAAIAAEQYCkAAAIAIwzmAAAD4TFfvBYwrDzOAAAAAEYYZQAAAfIYZQLgwAwgAABBhKAABAAAiDEvAAAD4DEvAcKEA9JnY2FhnjKWJrGRrymv5kOjd2/0ya2lpMeVkaUxsaYL8d3/3d84Ya4NjS06Whrv9+vVzxqSkpFhSMjXctTQKbm5udsZYxluyNYJubW01HcvlUvuVXujkyZPOGMtYWhp0Wxo8W5/PMpaW368lRpKpEfC392a9lNraWmfMtddea8rp2LFjzpiRI0c6Y/zceBroCEvAXaSwsFBRUVEhN0t3fQAAgHBjBrALjRw5Uh988EHwa+uWbAAAfBcsAcOFArAL9e7dm1k/AADQ7VgC7kIHDx5URkaGsrKy9POf/1yff/75JWObm5tVV1cXcgMAwOL8DGBnbvA3CsAuMnbsWL322mt6//33tWrVKlVVVWn8+PE6ceJEu/FFRUUKBALBm+UkcwAAAAsKwC6Sn5+vn/70pxo1apQmTpyojRs3SpLWrl3bbvySJUtUW1sbvFVUVHRlugAAwMc4B7CbxMfHa9SoUTp48GC7j8fExJhbWQAA8G1cBAIXZgC7SXNzs/bv36/09PTuTgUA4EOc/4eOMAPYRRYvXqxp06ZpyJAhqq6u1lNPPaW6ujrNmjUrrM9jeeNa39yWxrWWJs+W5wtnc+pHH33UGdOnTx9nzLlz50w5jRo1yhljaYB76tQpZ4ylWbRkawhuabps+d1Zmwlbns9yrOTkZGeMZbwl6fTp086YAQMGOGMsP5vltSvZGhNbns/y/rU2YN+5c6czZsyYMc6YjIwMZ8zx48dNOV1zzTWmOADtowDsIkeOHNEvfvELHT9+XIMGDdK4ceO0fft2DR06tLtTAwAAEYYCsIsUFxd3dwoAgAjBOYBwoQAEAMBnKADhwkUgAAAAEYYZQAAAfIYZQLgwAwgAABBhKAABAAAiDEvAAAD4DEvAcKEABADAZygA4UIB6DOWzv7WN7Zldw7Lbhnh2i1Eku6++25njGWXj8TERGfMD3/4Q1NONTU1zhjL7g6DBw92xjQ3N5tysuwUcfbsWWeMZTeJpKQkU06W14Fl/2vLazwlJcWUU1VVlTOmqanJGdPQ0OCMsbwuJam+vt4ZY/n99u/f3xlTV1dnScn0Ox44cKAzpry83Blz5MgRS0qKi4tzxlje55b3r3Vf9qNHj3b4uGXnGaCrcA4gAABAhGEGEAAAn2EJGC4UgAAA+AwFIFxYAgYAAIgwzAACAOAzzADChRlAAACACEMBCAAAEGFYAgYAwGdYAoYLBaDPWBr3WhvSWhoFWxrSWhq23nHHHaacbr75ZmeMJe8BAwY4Y6zNX48fP+6MGTRokDPG0pTYMt6SrSmvhWWcTpw4YTpWv379nDGWpsuW5sXWcbK8FyyvJ0tMWlqaKSdLI2jL+9wSEx8fb8rJ1eBYkv7t3/7NGXPw4EFnTG5urikny5gfOHDAGZOdne2MsTSLlqTx48d3+LjldxsuFIBwYQkYAAAgwjADCACAzzADCBdmAAEAACIMBSAAAECEYQkYAACfYQkYLhSAAAD4DAUgXFgCBgAAiDAUgAAAABGGJWCfsUzbt7W1mY4VHR3d2XQkSRkZGc6YMWPGmI6VkJDgjLE0W+3d2/3Sr6ioMOXUv39/Z8ypU6ecMZbG06dPnzZkZGvOnJKSYjqWi7VhtqXpsKV58cmTJ50xX3/9tSkny2u8paXFGZOenh62nCws7wNLM+zGxkbT84VrnJKSkpwxx44dM+VkOdaPfvQjZ8yQIUOcMdaG2a7G4tYm/OHAEjBcmAEEAMBnzheAnbl9F4WFhYqKigq5fXv3G8/zVFhYqIyMDMXGxmrChAnau3dvyDGam5s1b948JScnKz4+XtOnT9eRI0dCYmpqalRQUKBAIKBAIKCCgoKL/sA+fPiwpk2bpvj4eCUnJ2v+/PmmP1AiDQUgAADotJEjR6qysjJ42717d/CxZ599VsuWLdOKFSu0c+dOpaWladKkSSErNgsWLNCGDRtUXFysrVu3qqGhQVOnTg1ZtZo5c6bKy8tVUlKikpISlZeXq6CgIPh4W1ub7r77bjU2Nmrr1q0qLi7WW2+9pUWLFnXNIFxBWAIGAMBnumMJuHfv3u3uee15npYvX64nnnhCM2bMkCStXbtWqampWr9+vR566CHV1tZq9erVev311zVx4kRJ0rp165SZmakPPvhAkydP1v79+1VSUqLt27dr7NixkqRVq1YpNzdXBw4c0PDhw1VaWqp9+/apoqIiePrRCy+8oNmzZ+vpp59WYmLi9x0S32EGEAAAtKuuri7k1tzcfMnYgwcPKiMjQ1lZWfr5z3+uzz//XJJ06NAhVVVVKS8vLxgbExOj22+/Xdu2bZMklZWVqbW1NSQmIyNDOTk5wZiPP/5YgUAgWPxJ0rhx4xQIBEJicnJyQs49nzx5spqbm1VWVhaGEfEPCkAAANCuzMzM4Pl2gUBARUVF7caNHTtWr732mt5//32tWrVKVVVVGj9+vE6cOKGqqipJUmpqasj3pKamBh+rqqpSdHS0BgwY0GFMexevpaSkhMRc+DwDBgxQdHR0MAbfYAkYAACfCdcScEVFRciy6aWu+s/Pzw/+e9SoUcrNzdU111yjtWvXaty4cZIuvsrf8zznlf8XxrQX/31iwAwgAAC+FI4rgBMTE0Nu36Xt06hRo3Tw4MHgeYEXzsBVV1cHZ+vS0tLU0tKimpqaDmOOHj160XMdO3YsJObC56mpqVFra+tFM4ORjgIQAACEVXNzs/bv36/09HRlZWUpLS1NmzZtCj7e0tKiLVu2aPz48ZKk0aNHq0+fPiExlZWV2rNnTzAmNzdXtbW1+uSTT4IxO3bsUG1tbUjMnj17VFlZGYwpLS1VTEyMRo8efVl/5isNS8A+c9VV7pq+V69eYXs+S2PTv/3bv3XGWBvSXvjXYXsCgYAzpqmpyRljaSIr2RrSWhrpWn53Z86cMeV0/uTrjlgaWNfW1jpjLI23JduYW8bA8le8tedXXV2dMyYuLs4Zc+7cOWdMRyfPf5tlhsUyTpacBg8ebMrJMp4NDQ3OGMt787rrrjPlZFnOszTDtrwGkpOTTTm5xtzPvegWL16sadOmaciQIaqurtZTTz2luro6zZo1S1FRUVqwYIGWLl2q7OxsZWdna+nSpYqLi9PMmTMlffPaeOCBB7Ro0SINHDhQSUlJWrx4sUaNGhW8Kvi6667TlClTNGfOHL388suSpAcffFBTp07V8OHDJUl5eXkaMWKECgoK9Nxzz+nkyZNavHix5syZwxXAF2AGMAw++ugjTZs2TRkZGYqKitLvf//7kMctDTABAAiXrm4EfeTIEf3iF7/Q8OHDNWPGDEVHR2v79u0aOnSoJOmxxx7TggULNHfuXI0ZM0ZfffWVSktLQ3a1efHFF3Xvvffqvvvu0y233KK4uDi98847IZMWb7zxhkaNGqW8vDzl5eXp+uuv1+uvvx58vFevXtq4caP69u2rW265Rffdd5/uvfdePf/8850cUf9hBjAMGhsbdcMNN+g//sf/qJ/+9KcXPX6+AeaaNWs0bNgwPfXUU5o0aZIOHDhg2tIJAIDvoqv7ABYXF3f4eFRUlAoLC1VYWHjJmL59++qll17SSy+9dMmYpKQkrVu3rsPnGjJkiN59990OY0ABGBb5+fkhV0B9m6UBJgAAQFdiCfgyszTABAAgnLp6CRhXHmYAL7OOGmB++eWXl/y+5ubmkJPGLScqAwAgdc9WcLiyMAPYRb5rA8yioqKQ7uuZmZmXO0UAABAhKAAvM0sDzPYsWbJEtbW1wVtFRcVlzRMA4B8sAcOFAvAyszTAbE9MTMxFHdgBALCgAIQL5wCGQUNDg/7yl78Evz506JDKy8uVlJSkIUOGOBtgAgAAdCUKwDDYtWuX7rjjjuDXCxculCTNmjVLa9as0WOPPaampibNnTtXNTU1Gjt27EUNMMOld2/3r9TSHd96rPMd2jty+vRp0/NZtLW1OWMsu26MHDnSGXPkyBFTTnv27HHGWHbwSE9Pd8ZYf3eWY+3evdsZc+rUKWdMv379LCmFbdcNy+4Vll0wJNuuE//3//5fZ8wNN9zgjDl48KApp/b2Or3QnXfe6Yx5//33nTHWXVwsr7u+ffs6Yyy7nFh2+5GkH/7wh84YyyyW5fmsr3HgSkIBGAYTJkzo8IPG0gATAIBw4SpguHAOIAAAQIRhBhAAAJ9hBhAuFIAAAPgMBSBcKAABAPAZCkC4cA4gAABAhGEGEAAAn2EGEC4UgAAA+AwFIFwoACOQpRmrJKWkpDhjLA2HLc2bGxoawpbTrbfe6ozZvHmzM6a5udmSklpaWpwxlgbHhw4dcsYMGDDAlJPlWH369HHGDBs2zBljaZQsSb169QpLTo2Njc6YEydOmHKqra11xljeL5Ymz9nZ2aacrrnmGmfMVVe5z96Jj483PZ/F7bff7ow5fvy4M8by+x00aJApJwtLEZOUlBS25wOuJBSAAAD4DDOAcKEABADAZygA4cJVwAAAABGGAhAAACDCsAQMAIDPsAQMF2YAAQAAIgwzgAAA+AwzgHChAAQAwGcoAOFCAegzra2tzpiEhATTsfLz850xp06dcsb07u1+mVmb1iYmJjpjdu3a5Yy59tprnTGWn02yNbGOjY0Ny3GszaktcVFRUc4YS+NpS+NiyTaeVVVVzhjLOJ05c8aSkqKjo50xAwcOdMYMHjzYGdO3b19TTqdPn3bGWH53WVlZzphwjpOl2bllDKxN4S3vKUvzcT+jiENHOAcQAAAgwjADCACAz7AEDBcKQAAAfIYCEC4sAQMAAEQYZgABAPAZZgDhwgwgAABAhKEABAAAiDAsAQMA4DMsAcOFAjACWZr7SlJ9fb0zxtLYta2tzRmTmppqyunw4cPOmIyMjLDkZGlgLdnG09KY2dJIt6WlxZSTpUluenq6M8Yy3lddZVtIOHv2rDMmOzvbGVNTU+OMsf7nZYnr06ePM6a6utoZk5aWZsopJibGGWNp+N6vXz9njPWzwKJ///7OmHPnzjljrA2zu5L19WRp0N1VKADhwhIwAABAhGEGEAAAn2EGEC4UgAAA+AwFIFwoAAEA8BkKQLhwDiAAAECEYQYQAACfYQYQLhSAAAD4DAUgXFgCBgAAiDAUgAAAABGGJeAw+Oijj/Tcc8+prKxMlZWV2rBhg+69997g47Nnz9batWtDvmfs2LHavn172HOxTNtbdluQbDs8NDQ0OGNSUlKcMVVVVaacLMeyjIFl142srCxTTr169eqymMrKSlNOiYmJzpjTp087Y+Lj450x1p1ALDvLfPXVV84Yyw4t1p1lTp065Yz561//6oyxjNNNN91kSck0npbdMsK1S084WV8r4WL5LLDs3tGTdviwYgkYLswAhkFjY6NuuOEGrVix4pIxU6ZMUWVlZfD23nvvdWGGAAB0jaKiIkVFRWnBggXB+zzPU2FhoTIyMhQbG6sJEyZo7969Id/X3NysefPmKTk5WfHx8Zo+fbqOHDkSElNTU6OCggIFAgEFAgEVFBRc9Ifc4cOHNW3aNMXHxys5OVnz5883b6MZSZgBDIP8/Hzl5+d3GBMTE2PeCxQAgM44d+6cae/ljr7/+9i5c6deeeUVXX/99SH3P/vss1q2bJnWrFmjYcOG6amnntKkSZN04MABJSQkSJIWLFigd955R8XFxRo4cKAWLVqkqVOnqqysLLhCMnPmTB05ckQlJSWSpAcffFAFBQV65513JH0zq3333Xdr0KBB2rp1q06cOKFZs2bJ8zy99NJL33c4fIkZwC6yefNmpaSkaNiwYZozZ45p83gAAL6P80vAnbl9Vw0NDfrlL3+pVatWacCAASG5LF++XE888YRmzJihnJwcrV27VqdPn9b69eslSbW1tVq9erVeeOEFTZw4UTfeeKPWrVun3bt364MPPpAk7d+/XyUlJfqXf/kX5ebmKjc3V6tWrdK7776rAwcOSJJKS0u1b98+rVu3TjfeeKMmTpyoF154QatWrVJdXV0YRtY/KAC7QH5+vt544w19+OGHeuGFF7Rz507deeedam5uvuT3NDc3q66uLuQGAEBP9cgjj+juu+/WxIkTQ+4/dOiQqqqqlJeXF7wvJiZGt99+u7Zt2yZJKisrU2tra0hMRkaGcnJygjEff/yxAoGAxo4dG4wZN26cAoFASExOTo4yMjKCMZMnT1Zzc7PKysrC/0NfwVgC7gL3339/8N85OTkaM2aMhg4dqo0bN2rGjBntfk9RUZH++Z//uatSBAD4SLguArlw8iEmJkYxMTEXxRcXF+vf/u3ftHPnzoseO3+R34UXZ6WmpurLL78MxkRHR4fMHJ6POf/9VVVV7V4ImJKSEhJz4fMMGDBA0dHR5osNIwUzgN0gPT1dQ4cO1cGDBy8Zs2TJEtXW1gZvFRUVXZghAOBKFq4l4MzMzOAFF4FAQEVFRRc9V0VFhf7zf/7PWrduXYdXn194NbXnec4rrC+MaS/++8SAGcBuceLECVVUVCg9Pf2SMZf6KwsAABfP8zp1Ecj5ArCioiKkrVR7/y+VlZWpurpao0ePDt7X1tamjz76SCtWrAien1dVVRXy/151dXVwti4tLU0tLS2qqakJmQWsrq7W+PHjgzFHjx696PmPHTsWcpwdO3aEPF5TU6PW1lZze6hIwQxgGDQ0NKi8vFzl5eWSvjnfoby8XIcPH1ZDQ4MWL16sjz/+WF988YU2b96sadOmKTk5WT/5yU+6N3EAADqQmJgYcmuvALzrrru0e/fu4P+D5eXlGjNmjH75y1+qvLxcP/zhD5WWlqZNmzYFv6elpUVbtmwJFnejR49Wnz59QmIqKyu1Z8+eYExubq5qa2v1ySefBGN27Nih2trakJg9e/aE9EwtLS1VTExMSIEKZgDDYteuXbrjjjuCXy9cuFCSNGvWLK1cuVK7d+/Wa6+9plOnTik9PV133HGH3nzzzeCl7+EUzkarX3/9tTPmmmuuccb079/fGWP9S9XSBNgyrv369XPGdHSRzreFq/G0ZcbX0txXsjeMdrE0Cj5z5ozpWGfPnnXGJCUlOWNOnjzpjAkEAqacfvCDHzhjPv30U2eM5TVgPR/L0gx7yJAhzpg+ffqYns/PInnJrysbQSckJCgnJyfkvvj4eA0cODB4/4IFC7R06VJlZ2crOztbS5cuVVxcnGbOnCnpm/fsAw88oEWLFmngwIFKSkrS4sWLNWrUqOBFJdddd52mTJmiOXPm6OWXX5b0TRuYqVOnavjw4ZKkvLw8jRgxQgUFBXruued08uRJLV68WHPmzDE1yI8kFIBhMGHChA7fLO+//34XZgMAiHQ9bSeQxx57TE1NTZo7d65qamo0duxYlZaWhvzB/uKLL6p3796677771NTUpLvuuktr1qwJ2SXpjTfe0Pz584NXC0+fPj1kE4ZevXpp48aNmjt3rm655RbFxsZq5syZev7558P68/gBBSAAAAirzZs3h3wdFRWlwsJCFRYWXvJ7+vbtq5deeqnDhs1JSUlat25dh889ZMgQvfvuu98l3YhEAQgAgM/0tBlA9DwUgAAA+AwFIFy4ChgAACDCMAMIAIDPnDt3rlN9ADvzvbgyUAACAOAzLAHDhSVgAACACMMMoM9Ypu0tzX0lKTo62hljabpsOY5127vBgwc7YywNcC2Nma1NZC1/KQ8cONAZY2lwfOHG7Jdiab59+vRpZ0x9fb0zxtpc1dII+sSJE86Yb/cEuxTra9wSZ2kabvn9WpqYS7bm6uFiGUtcmZgBhAsFIAAAPkMBCBcKQAAAfIaLQODCOYAAAAARhhlAAAB8hiVguFAAAgDgMxSAcGEJGAAAIMIwAwgAgM8wAwgXCkAAAHyGAhAuFIA+Y7l0/+jRo6Zj/ehHP3LG9O3b1xljaTablpZmysnSCNnywdXY2OiMCQQCppwyMjKcMWfOnHHGJCUlOWNiY2NNOVkaOFsaHDc3NztjWlpaTDlZGkanp6c7YyyvJ2vTZcvrzvJ8lqbhTU1Nppwsx7I0VweAjlAAAgDgM/QBhAsFIAAAPsMSMFy4ChgAACDCMAMIAIAPMYuHjlAAAgDgMywBw4UCEAAAn+EiELhwDiAAAECEYQYQAACfYQkYLhSAAAD4DAUgXCgAfcay28LXX39tOpZlhwvLThGWXQsqKipMOVnOS4mJiXHGWHaKsOzIIEl//etfnTHDhg1zxpw6dcoZY90xJTk52RnT2trqjImLi3PGJCQkmHKy7IZi2VXk9OnTzpg+ffqYcjp+/LgzxrJrTHx8vDPGuhNI//79TXEA0BkUgAAA+AwzgHChAAQAwGcoAOHCVcAAAAARhhlAAAB8hj6AcKEABADAZ1gChgtLwAAAABGGGUAAAHyGGUC4UAACAOAzFIBwoQD0GUtj5vr6etOxjh49GpYYywdJdna2KSdLM+GsrCxnzGeffeaM6du3rymnAQMGOGP27NnjjLGMQW1trSknS9zAgQOdMYMGDTI9n4WlIbjltWlpdt7W1mbKyXKsuro6Z4ylqbbldSLZ3sOWZueIbFwEAhfOAQyDoqIi3XzzzUpISFBKSoruvfdeHThwICTG8zwVFhYqIyNDsbGxmjBhgvbu3dtNGQMAgEhGARgGW7Zs0SOPPKLt27dr06ZNOnv2rPLy8kK2kHr22We1bNkyrVixQjt37lRaWpomTZpkno0DAMDq/BJwZ27wN5aAw6CkpCTk61dffVUpKSkqKyvTbbfdJs/ztHz5cj3xxBOaMWOGJGnt2rVKTU3V+vXr9dBDD3VH2gAAn+IcQLgwA3gZnD//KikpSZJ06NAhVVVVKS8vLxgTExOj22+/Xdu2bWv3GM3Nzaqrqwu5AQAAhAMFYJh5nqeFCxfqxz/+sXJyciRJVVVVkqTU1NSQ2NTU1OBjFyoqKlIgEAjeMjMzL2/iAADfYAkYLhSAYfboo4/qs88+0//6X//roseioqJCvvY876L7zluyZIlqa2uDt4qKisuSLwDAnyj+0BHOAQyjefPm6e2339ZHH32kwYMHB+9PS0uT9M1MYHp6evD+6urqi2YFz4uJiaHVAwAAuCyYAQwDz/P06KOP6ne/+50+/PDDi/rQZWVlKS0tTZs2bQre19LSoi1btmj8+PFdnS4AwOdYAoYLM4Bh8Mgjj2j9+vX6wx/+oISEhOB5fYFAQLGxsYqKitKCBQu0dOlSZWdnKzs7W0uXLlVcXJxmzpwZ1lwutaT8XWMkXfL8xG+ztLG56aabnDGWJsGSlJCQ4Izp06ePM2b48OHOmEAgYMrpyJEjzphhw4Y5Y44dO+aMsY5TbGysM6Zfv37OGMvFR7172z5GLA2OLf/pWJo8nz171pTTqVOnnDGW15zlfWBtLA6EA1cBw4UCMAxWrlwpSZowYULI/a+++qpmz54tSXrsscfU1NSkuXPnqqamRmPHjlVpaanpPxcAAIBwogAMA8tfSlFRUSosLFRhYeHlTwgAENGYAYQL5wACAOAzXX0O4MqVK3X99dcrMTFRiYmJys3N1R//+MeQfFzboTY3N2vevHlKTk5WfHy8pk+fftEpNjU1NSooKAi2SCsoKLjoVI7Dhw9r2rRpio+PV3JysubPn6+WlpbvNoARgAIQAACf6eoCcPDgwXrmmWe0a9cu7dq1S3feeafuueeeYJFn2Q51wYIF2rBhg4qLi7V161Y1NDRo6tSpIef9zpw5U+Xl5SopKVFJSYnKy8tVUFAQfLytrU133323GhsbtXXrVhUXF+utt97SokWLOjmi/sMSMAAA6JRp06aFfP30009r5cqV2r59u0aMGOHcDrW2tlarV6/W66+/rokTJ0qS1q1bp8zMTH3wwQeaPHmy9u/fr5KSEm3fvl1jx46VJK1atUq5ubk6cOCAhg8frtLSUu3bt08VFRXKyMiQJL3wwguaPXu2nn76aSUmJnbhqPRszAACAOAz586d6/RN0kVbklqu5m9ra1NxcbEaGxuVm5tr2g61rKxMra2tITEZGRnKyckJxnz88ccKBALB4k+Sxo0bp0AgEBKTk5MTLP4kafLkyWpublZZWVknRtR/KAABAPCZcC0BZ2ZmhmxLWlRUdMnn3L17t/r166eYmBg9/PDD2rBhg0aMGGHaDrWqqkrR0dEaMGBAhzEpKSkXPW9KSkpIzIXPM2DAAEVHR5tam0USloABAEC7KioqQpZNO9qhavjw4SovL9epU6f01ltvadasWdqyZUvw8e+yHeqlYtqL/z4xoAD0HUuTXOvJvSdOnHDGWBrgHjx40Bljbdx77bXXOmP27NnjjBk0aJAzprGx0ZRT//79nTGnT592xlgaWFdXV1tSMh3L8vu19Kns1auXKafzS0odsXxAh2sspW+uKHSx5J2UlOSMsbxXJNuYAy7hagNz/qpei+jo6OBn9JgxY7Rz50795je/0T/+4z9K6ng71LS0NLW0tKimpiZkFrC6ujq4Y1ZaWpqOHj160fMeO3Ys5Dg7duwIebympkatra2X3Ho1UrEEDACAz/SEreA8z1Nzc7NpO9TRo0erT58+ITGVlZXas2dPMCY3N1e1tbX65JNPgjE7duxQbW1tSMyePXtUWVkZjCktLVVMTIxGjx7d6Z/JT5gBBAAAnfL4448rPz9fmZmZqq+vV3FxsTZv3qySkhLTdqiBQEAPPPCAFi1apIEDByopKUmLFy/WqFGjglcFX3fddZoyZYrmzJmjl19+WZL04IMPaurUqcHtPfPy8jRixAgVFBToueee08mTJ7V48WLNmTOHK4AvQAEIAIDPdPVOIEePHlVBQYEqKysVCAR0/fXXq6SkRJMmTZJk2w71xRdfVO/evXXfffepqalJd911l9asWRNymskbb7yh+fPnB68Wnj59ulasWBF8vFevXtq4caPmzp2rW265RbGxsZo5c6aef/757z0WfkUBCACAz3R1Abh69eoOH7dsh9q3b1+99NJLeumlly4Zk5SUpHXr1nX4XEOGDNG7777bYQw4BxAAACDiMAMIAIDPdPUMIK48FIAAAPgMBSBcKAABAPAZCkC4cA4gAABAhGEG0GcsO2pYd27o3dv98rDsknDo0CFnzJ///GdTTn/605+cMXFxcc6Yfv36OWMsP78kxcbGOmMsuzvcddddzpj4+HhTTpYdNY4cOeKMiY6OdsaEcyeQlpYW07Fc0tLSTHFffvmlMyYzM9MZc+DAAWfM9OnTTTlZ3sPW1yYiFzOAcOFTBAAAn/E8z/RHV0ffD39jCRgAACDCMAMIAIDPsAQMFwpAAAB8hgIQLiwBAwAARBhmAAEA8BlmAOFCAQgAgM9QAMKFAhAAAJ+hAIQLBaDPhLNBrOUDwNJw2NKLKiYmxpSTpVFwTU2NM+bkyZPOmLa2NlNOltwtY7lnzx5nzK9+9StTTpbnu/rqq50xp0+fdsacOnXKkpIaGhqcMYMHD3bGfP3116bnsxg9erQzpra21hmTmpoaluNIUiAQMMUBQGdQAAIA4DPMAMKFAhAAAJ+hAIQLbWAAAAAiDDOAAAD4DDOAcKEABADAZygA4cISMAAAQIRhBhAAAJ9hBhAuFIAAAPjMuXPnTD1YO/p++BsFoM9Y3rSW5s2S1Nra6oyJi4tzxliaCfft29eUk6URtIWlYXZ8fLzpWGfOnHHGWJpFWxpPf/zxx6acBg0a5IxJSUlxxvTp08cZY3kNSFJiYqIzJjMz0xlz0003OWOOHj1qysky5klJSc6Yfv36OWOYUQHQk3AOYBgUFRXp5ptvVkJCglJSUnTvvffqwIEDITGzZ89WVFRUyG3cuHHdlDEAwM/OLwF35gZ/owAMgy1btuiRRx7R9u3btWnTJp09e1Z5eXlqbGwMiZsyZYoqKyuDt/fee6+bMgYA+BkFIFxYAg6DkpKSkK9fffVVpaSkqKysTLfddlvw/piYGKWlpXV1egCACMNFIHBhBvAyOL/p+4XnDm3evFkpKSkaNmyY5syZo+rq6kseo7m5WXV1dSE3AACAcKAADDPP87Rw4UL9+Mc/Vk5OTvD+/Px8vfHGG/rwww/1wgsvaOfOnbrzzjvV3Nzc7nGKiooUCASCN8vJ8QAASCwBw40l4DB79NFH9dlnn2nr1q0h999///3Bf+fk5GjMmDEaOnSoNm7cqBkzZlx0nCVLlmjhwoXBr+vq6igCAQAmLAHDhQIwjObNm6e3335bH330kQYPHtxhbHp6uoYOHaqDBw+2+3hMTIypdQgAAMB3RQEYBp7nad68edqwYYM2b96srKws5/ecOHFCFRUVSk9P74IMAQCRhlk8dIQCMAweeeQRrV+/Xn/4wx+UkJCgqqoqSVIgEFBsbKwaGhpUWFion/70p0pPT9cXX3yhxx9/XMnJyfrJT37S5fmePXvWFGdpztzU1OSMsTSevtS5kN+H5fksDaWjo6NNz2dplmwZc0sT77KyMlNOU6dOdcZcdZX7FGBL82bXbPd5598XHenowqjzLI23rb+7oUOHOmPq6+udMZbXk2UsJV3UPqo91ibliFwsAcOFAjAMVq5cKUmaMGFCyP2vvvqqZs+erV69emn37t167bXXdOrUKaWnp+uOO+7Qm2++qYSEhG7IGAAARDIKwDBw/aUUGxur999/v4uyAQBEOmYA4UIBCACAz1AAwoU+gAAAABGGGUAAAHyGGUC4UAACAOAzFIBwoQAEAMBnKADhwjmAAAAAEYYZQAAAfIYZQLhQAPqMZQcEy44TktTa2hqWY/XuHb6XWa9evZwxll0ZkpKSnDGWXU4k204g4dq9oqamxpRTuD68MzMznTF1dXWmY1manp84cSIsx4mNjTXldPz4cWeMZccUy2vcchzrsQAXCkC4sAQMAAAQYfhTEwAAn2EGEC7MAAIA4DPnC8DO3L6LoqIi3XzzzUpISFBKSoruvfdeHThw4KKcCgsLlZGRodjYWE2YMEF79+4NiWlubta8efOUnJys+Ph4TZ8+XUeOHAmJqampUUFBgQKBgAKBgAoKCnTq1KmQmMOHD2vatGmKj49XcnKy5s+fbzo9KJJQAAIAgE7ZsmWLHnnkEW3fvl2bNm3S2bNnlZeXp8bGxmDMs88+q2XLlmnFihXauXOn0tLSNGnSJNXX1wdjFixYoA0bNqi4uFhbt25VQ0ODpk6dqra2tmDMzJkzVV5erpKSEpWUlKi8vFwFBQXBx9va2nT33XersbFRW7duVXFxsd566y0tWrSoawbjCsESMAAAPtPVS8AlJSUhX7/66qtKSUlRWVmZbrvtNnmep+XLl+uJJ57QjBkzJElr165Vamqq1q9fr4ceeki1tbVavXq1Xn/9dU2cOFGStG7dOmVmZuqDDz7Q5MmTtX//fpWUlGj79u0aO3asJGnVqlXKzc3VgQMHNHz4cJWWlmrfvn2qqKhQRkaGJOmFF17Q7Nmz9fTTTysxMfF7j4ufMAMIAIDPhGsJuK6uLuTW3Nxsev7a2lpJ/7/jwqFDh1RVVaW8vLxgTExMjG6//XZt27ZNklRWVqbW1taQmIyMDOXk5ARjPv74YwUCgWDxJ0njxo1TIBAIicnJyQkWf5I0efJkNTc3q6ys7DuPpV9RAAIAgHZlZmYGz7ULBAIqKipyfo/neVq4cKF+/OMfKycnR5JUVVUlSUpNTQ2JTU1NDT5WVVWl6OhoDRgwoMOYlJSUi54zJSUlJObC5xkwYICio6ODMWAJGAAA3wnXEnBFRUXIkmlMTIzzex999FF99tln2rp160WPRUVFXfQ8F97XXi7fjmkv/vvERDoKQJ+xXOVkeQNL7b+BLmRpFm1pbGtdVrB8oFkaM59fnuiIdZwsY27J2zLeDQ0Nppwsz9evXz9njKV58dmzZ005tfdX+/fJ6cIrAttz0003mXKy/O4szc4DgYAzxtLkWpLi4+NNcUBHwlUAJiYmfqdz5ubNm6e3335bH330kQYPHhy8Py0tTdI3s3Pp6enB+6urq4OzdWlpaWppaVFNTU3ILGB1dbXGjx8fjDl69OhFz3vs2LGQ4+zYsSPk8ZqaGrW2tl40MxjJWAIGAMBnuroNjOd5evTRR/W73/1OH374obKyskIez8rKUlpamjZt2hS8r6WlRVu2bAkWd6NHj1afPn1CYiorK7Vnz55gTG5urmpra/XJJ58EY3bs2KHa2tqQmD179qiysjIYU1paqpiYGI0ePfo7/Vx+xgwgAADolEceeUTr16/XH/7wByUkJATPtQsEAoqNjVVUVJQWLFigpUuXKjs7W9nZ2Vq6dKni4uI0c+bMYOwDDzygRYsWaeDAgUpKStLixYs1atSo4FXB1113naZMmaI5c+bo5ZdfliQ9+OCDmjp1qoYPHy5JysvL04gRI1RQUKDnnntOJ0+e1OLFizVnzhyuAP4WCkAAAHymq9vArFy5UpI0YcKEkPtfffVVzZ49W5L02GOPqampSXPnzlVNTY3Gjh2r0tLSkP29X3zxRfXu3Vv33XefmpqadNddd2nNmjUh+8C/8cYbmj9/fvBq4enTp2vFihXBx3v16qWNGzdq7ty5uuWWWxQbG6uZM2fq+eef/04/k99RAAIA4DNdXQBaz3MuLCxUYWHhJWP69u2rl156SS+99NIlY5KSkrRu3boOn2vIkCF69913nTlFMs4BBAAAiDDMAAIA4EOdmQGE/1EAAgDgM129BIwrD0vAAAAAEYYZQJ+xNBO2NL+1sjQKtvwlaTmO9ViWxsSWZtHWhryW5syWZsKWZtiWptqSrdF1cnKyM+b48ePOGEsTZElqbGx0xliaJY8cOdIZU11dbcrJ0hKif//+zpiamhpnTN++fS0pmd7DbW1tzhjL+8Da7BxXnnPnzpk+dzr6fvgbBSAAAD7DEjBcWAIGAACIMMwAAgDgM8wAwoUCEAAAn6EAhAsFIAAAPkMBCBfOAQQAAIgwzAACAOAzzADChQIQAACfoQCECwWgz1jetNYGn9bmzC6tra3OGGtz6ri4uM6mI8nWULmurs50LMs49erVyxlj+dms4zRo0CBnzMCBA8PyfNbXiaVh9unTp50xlt9LdHS0KSfLz2dp0G1p8tzU1GTKydKA3NIIuqubPFs+V8L1mQKg83g3hsHKlSt1/fXXKzExUYmJicrNzdUf//jH4OOe56mwsFAZGRmKjY3VhAkTtHfv3m7MGADgZ+dnADtzg79RAIbB4MGD9cwzz2jXrl3atWuX7rzzTt1zzz3BIu/ZZ5/VsmXLtGLFCu3cuVNpaWmaNGmS6uvruzlzAIAfUQDChQIwDKZNm6a//du/1bBhwzRs2DA9/fTT6tevn7Zv3y7P87R8+XI98cQTmjFjhnJycrR27VqdPn1a69ev7+7UAQBABKIADLO2tjYVFxersbFRubm5OnTokKqqqpSXlxeMiYmJ0e23365t27Zd8jjNzc2qq6sLuQEAYHHu3LlO3+BvFIBhsnv3bvXr108xMTF6+OGHtWHDBo0YMUJVVVWSpNTU1JD41NTU4GPtKSoqUiAQCN4yMzMva/4AAP9gCRguFIBhMnz4cJWXl2v79u36h3/4B82aNUv79u0LPh4VFRUS73neRfd925IlS1RbWxu8VVRUXLbcAQBAZKENTJhER0fr2muvlSSNGTNGO3fu1G9+8xv94z/+oySpqqpK6enpwfjq6uqLZgW/LSYmpsvbOAAA/KGzy7gsAfsfM4CXied5am5uVlZWltLS0rRp06bgYy0tLdqyZYvGjx/fjRkCAPyKJWC4MAMYBo8//rjy8/OVmZmp+vp6FRcXa/PmzSopKVFUVJQWLFigpUuXKjs7W9nZ2Vq6dKni4uI0c+bM7k4dAOBDnud1ahaPAtD/KADD4OjRoyooKFBlZaUCgYCuv/56lZSUaNKkSZKkxx57TE1NTZo7d65qamo0duxYlZaWKiEhIey5hHPa3rJbhmWXD8sOF9adGyy7MoRrtxAry64Mlp0iOjon9Lwbb7zRlFN+fr4pzsWyM8fRo0dNx7r66qudMZZdMCy/39jYWFNOZ86cCUvMsWPHnDEZGRmmnGpqapwxycnJzhjLLifW/+Qtp6OwywdwZaEADIPVq1d3+HhUVJQKCwtVWFjYNQkBACIaewHDhQIQAACfoQCEC3P2AAAAEYYZQAAAfIY2MHChAAQAwGdYAoYLS8AAAAARhhlAAAB8hiVguFAAAgDgMywBw4UC0GcszVgtjYslWyPZXr16OWMszaKtLM2SLc9n+eu2T58+ppwsTXItzYSHDx/ujLnttttMOZ08edIZc/bsWWeMpYF1dna2Kae6ujpnzKlTp5wxlibP1te45f3S1NTkjLG8D7788ktTTllZWc4YS+N0y1j279/fkJHttWJpHA+g5+AdCwCAzzADCBcKQAAAfIZzAOFCAQgAgM8wAwgX2sAAAABEGGYAAQDwGZaA4UIBCACAz7AEDBeWgAEAACIMM4AAAPgMM4BwoQD0Gcub1tK0VrKdA2J5PktDaUtDXsnWCNqSt6VRsDWn+vp6Z4ylofKQIUOcMdbzciyNoC2Nri1jcPjwYVNOlt9dcnKyM6a5udkZY32N9+vXzxkTFxfnjLH8fi0NpSVpx44dzphx48Y5Yyy/O0uDcsk+ni6W9124nivSeZ7XqfP4KAD9jyVgAACACMMMIAAAPsMSMFwoAAEA8Jlz586ZTrvo6PvhbywBAwCATvnoo480bdo0ZWRkKCoqSr///e9DHvc8T4WFhcrIyFBsbKwmTJigvXv3hsQ0Nzdr3rx5Sk5OVnx8vKZPn64jR46ExNTU1KigoECBQECBQEAFBQU6depUSMzhw4c1bdo0xcfHKzk5WfPnzzedix5pKAABAPCZ80vAnbl9F42Njbrhhhu0YsWKdh9/9tlntWzZMq1YsUI7d+5UWlqaJk2aFHIR3YIFC7RhwwYVFxdr69atamho0NSpU0MuHpo5c6bKy8tVUlKikpISlZeXq6CgIPh4W1ub7r77bjU2Nmrr1q0qLi7WW2+9pUWLFn3HEfQ/loABAPCZrl4Czs/PV35+fruPeZ6n5cuX64knntCMGTMkSWvXrlVqaqrWr1+vhx56SLW1tVq9erVef/11TZw4UZK0bt06ZWZm6oMPPtDkyZO1f/9+lZSUaPv27Ro7dqwkadWqVcrNzdWBAwc0fPhwlZaWat++faqoqFBGRoYk6YUXXtDs2bP19NNPKzEx8fsOie8wAwgAgM909QxgRw4dOqSqqirl5eUF74uJidHtt9+ubdu2SZLKysrU2toaEpORkaGcnJxgzMcff6xAIBAs/qRvWiIFAoGQmJycnGDxJ0mTJ09Wc3OzysrKwvYz+QEzgAAAoF11dXUhX8fExCgmJuY7HaOqqkqSlJqaGnJ/amqqvvzyy2BMdHS0BgwYcFHM+e+vqqpSSkrKRcdPSUkJibnweQYMGKDo6OhgDL5BAegzZ8+edcbExsaajmU5adYSY2nsav1r07KkYWk2G66G0pLUu7f7bWRpXrxr1y5nzD333GPKKRAIOGOio6OdMZYxiI+PN+Vked21traG5TjWE74tDZwtY2Bt8mxh+fku/E+5Pf3793fGWH5+yfbzWRqL0+S564SrDUxmZmbI/U8++aQKCwu/1zEv/Nz1PM/5WXxhTHvx3ycGFIAAAPhOuM4BrKioCDlv7rvO/klSWlqapG9m59LT04P3V1dXB2fr0tLS1NLSopqampBZwOrqao0fPz4Yc/To0YuOf+zYsZDjXLibTk1NjVpbWy+aGYx0nAMIAADalZiYGHL7PgVgVlaW0tLStGnTpuB9LS0t2rJlS7C4Gz16tPr06RMSU1lZqT179gRjcnNzVVtbq08++SQYs2PHDtXW1obE7NmzR5WVlcGY0tJSxcTEaPTo0d85dz9jBhAAAJ/p6p1AGhoa9Je//CX49aFDh1ReXq6kpCQNGTJECxYs0NKlS5Wdna3s7GwtXbpUcXFxmjlzpqRvTlt54IEHtGjRIg0cOFBJSUlavHixRo0aFbwq+LrrrtOUKVM0Z84cvfzyy5KkBx98UFOnTtXw4cMlSXl5eRoxYoQKCgr03HPP6eTJk1q8eLHmzJnDFcAXoAAEAMBnuroNzK5du3THHXcEv164cKEkadasWVqzZo0ee+wxNTU1ae7cuaqpqdHYsWNVWlqqhISE4Pe8+OKL6t27t+677z41NTXprrvu0po1a0LOHX3jjTc0f/784NXC06dPD+k92KtXL23cuFFz587VLbfcotjYWM2cOVPPP//89xoHP4vy2PDvilBXV2c6sf/bb6ZLCedFIJaLTiwnfl91le1sBEuc5YPL8sEYzpwsF6YMGjTIGfPf/tt/M+XUlReBWC5wkXrmRSDnz03qSLguArG8BiTbeyorK8sZY7kIJC4uzpKS6eezfq5EsvOf47W1tZdtNur8cwwbNqxTF920tbXpz3/+82XNFd2LGUAAAHymq5eAceWhAAQAwGcoAOHCVcAAAAARhhlAAAB8pqsvAsGVhwIwDFauXKmVK1fqiy++kCSNHDlS//W//tfgxtizZ8/W2rVrQ75n7Nix2r59e9hzCecJ8pZ+T5YT2y07ZVhPVracIB+u3UIseUvhu7ihpqbGGfP222+bcrLsGHLhlkvtsWydZD1BPCkpyRljGfMjR444Y86cOWPKybKjxldffeWMGTp0qDOmvr7elJPlvfDtdhuXMmbMGGfM119/bcrp2/uqduZYluNYCw/rRVqRjGVcdIQCMAwGDx6sZ555Rtdee60kae3atbrnnnv06aefauTIkZKkKVOm6NVXXw1+j+UKTAAAvg/OAYQLBWAYTJs2LeTrp59+WitXrtT27duDBWBMTIyp5QQAAMDlxhx6mLW1tam4uFiNjY3Kzc0N3r9582alpKRo2LBhmjNnjqqrq7sxSwCAn52fAezMDf7GDGCY7N69W7m5uTpz5oz69eunDRs2aMSIEZKk/Px8/exnP9PQoUN16NAh/epXv9Kdd96psrKyS55n19zcHNJg13KuEgAAEkvAcKMADJPhw4ervLxcp06d0ltvvaVZs2Zpy5YtGjFihO6///5gXE5OjsaMGaOhQ4dq48aNmjFjRrvHKyoq0j//8z93VfoAACCCsAQcJtHR0br22ms1ZswYFRUV6YYbbtBvfvObdmPT09M1dOhQHTx48JLHW7JkiWpra4O3ioqKy5U6AMBnzp071+kb/I0ZwMvE87xL7pF64sQJVVRUKD09/ZLfHxMTY2rDAgDAhVgChgsFYBg8/vjjys/PV2Zmpurr61VcXKzNmzerpKREDQ0NKiws1E9/+lOlp6friy++0OOPP67k5GT95Cc/6e7UAQBABKIADIOjR4+qoKBAlZWVCgQCuv7661VSUqJJkyapqalJu3fv1muvvaZTp04pPT1dd9xxh958800lJCSEPRfLtL21wbGl6bKlCXBDQ4MzxtqcOj4+PizH6tOnjzPG2py6sbHRGWNpWmuJ+T//5/+YcrI0Gbc0i+7Xr58zZtiwYaacLA2cLc2wLa+5zMxMU07Hjh1zxgwZMsQZY2nyfOrUKUtKpteBpfn4/v37nTHn21S5hLMhuIu1wbP1M8PFrz1ZmQGECwVgGKxevfqSj8XGxur999/vwmwAAJGOAhAuXAQCAAAQYZgBBADAZ5gBhAsFIAAAPkMBCBcKQAAAfKazffzoA+h/nAMIAAAQYZgBBADAZ1gChgsFIAAAPkMBCBcKQJ85fvy4M6Z///6mY1kaITc1NZmO5WJtTn2p7fW+LSoqyhnT1tbmjLE2grbkbmlaa9n6z/qhbGlO/b//9/92xjz66KPOGOvvrrq62hljadBtaaC+d+9eU06WxuKWBseWvLOzs005WcZz3759zhjLa8DS6FuyNUvu27ev6Vgu1te4Xxs4A12FAhAAAJ9hBhAuFIAAAPgMBSBcuAoYAAAgwjADCACAzzADCBcKQAAAfMbzvE41c6YA9D+WgAEAACIMM4AAAPhMZ2fwmAH0PwpAAAB8hgIQLhSAEcjauPfs2bPOGEuzZEuTXEtjZsnW5NniqqvcZz9YGjNLtubUljG3PF9cXJwpJ0uD7n//7/+9M+Zv/uZvnDGZmZmWlMLWpPzzzz93xtTX11tS0tVXX+2MOXnypDPG0lD54MGDppws77vY2FhnjOW1YvnZJGnEiBHOGEveVVVVzpjU1FRTTugYBSBcOAcQAAAgwjADCACAzzADCBcKQAAAfIYCEC4sAQMAAEQYZgABAPCZc+fOdeqiOWYA/Y8CEAAAn2EJGC4sAQMAAEQYZgABAPAZZgDhQgEIAIDPUADChQIwAll2rpBsu3x05c4cki2n1tZWZ8y5c+ecMdZxamlpccZYfj5LjHXnhmHDhjljZs6c6YxpbGx0xpw+fdqUk2WnCMvPZ9mdJD093ZKSaQeaIUOGOGMsu5OkpaWZcrK8ngYPHuyMsfzurDumVFZWOmMseVved9Zxsjhz5owzxrIDT7g+54CehAIQAACfYQYQLhSAAAD4DAUgXCgAAQDwGfoAwoU2MAAAABGGAhAAAJ/xPK/Tt+/jt7/9rbKystS3b1+NHj1a//qv/xrmnwzhQgEIAIDPdEcB+Oabb2rBggV64okn9Omnn+rWW29Vfn6+Dh8+fBl+QnQWBSAAAOi0ZcuW6YEHHtDf//3f67rrrtPy5cuVmZmplStXdndqaAcXgVwhwnlCrvVYljhLX69wPZdk68dlOVY4f7ZwHStcMZKt515DQ4MzxtLjz5qTpS+dpReipXed5WeTbLn37dvXGWP52Sw9ByVbPz3Lz2fJyRJjfb5w9QGsq6sz5WTR0/oAnv/ZuuoCi3A8z4W/j5iYmHbHrKWlRWVlZfqnf/qnkPvz8vK0bdu2TueB8KMAvEJYG7ZaWP9zRNeqqakJ27Gqq6udMbfeemvYng+AXX19vQKBwGU5dnR0tNLS0lRVVdXpY/Xr10+ZmZkh9z355JMqLCy8KPb48eNqa2tTampqyP2pqalhyQXhRwF4hcjIyFBFRYUSEhKCf43W1dUpMzNTFRUVSkxM7OYM7ci7a12peUtXbu7k3bWulLw9z1N9fb0yMjIu23P07dtXhw4dMs3Iunied9Hsp2vG9ML49o6BnoEC8Apx1VVXXXL7p8TExB79oXcp5N21rtS8pSs3d/LuWldC3pdr5u/b+vbtazp1IZySk5PVq1evi2b7qqurL5oVRM/ARSAAAKBToqOjNXr0aG3atCnk/k2bNmn8+PHdlBU6wgwgAADotIULF6qgoEBjxoxRbm6uXnnlFR0+fFgPP/xwd6eGdlAAXsFiYmL05JNPmq5i60nIu2tdqXlLV27u5N21rtS8/eb+++/XiRMn9Otf/1qVlZXKycnRe++9p6FDh3Z3amhHlMeGfwAAABGFcwABAAAiDAUgAABAhKEABAAAiDAUgAAAABGGAvAK9dvf/lZZWVnq27evRo8erX/913/t7pScCgsLFRUVFXJLS0vr7rQu8tFHH2natGnKyMhQVFSUfv/734c87nmeCgsLlZGRodjYWE2YMEF79+7tnmS/xZX37NmzLxr/cePGdU+y31JUVKSbb75ZCQkJSklJ0b333qsDBw6ExPTEMbfk3RPHfOXKlbr++uuDTZNzc3P1xz/+Mfh4TxxryZ13TxxroCejALwCvfnmm1qwYIGeeOIJffrpp7r11luVn5+vw4cPd3dqTiNHjlRlZWXwtnv37u5O6SKNjY264YYbtGLFinYff/bZZ7Vs2TKtWLFCO3fuVFpamiZNmhTW/Zq/D1fekjRlypSQ8X/vvfe6MMP2bdmyRY888oi2b9+uTZs26ezZs8rLy1NjY2MwpieOuSVvqeeN+eDBg/XMM89o165d2rVrl+68807dc889wSKvJ461JW+p54010KN5uOL8u3/377yHH3445L4f/ehH3j/90z91U0Y2Tz75pHfDDTd0dxrfiSRvw4YNwa/PnTvnpaWlec8880zwvjNnzniBQMD7n//zf3ZDhu27MG/P87xZs2Z599xzT7fk811UV1d7krwtW7Z4nnfljPmFeXvelTPmAwYM8P7lX/7lihnr887n7XlXzlgDPQUzgFeYlpYWlZWVKS8vL+T+vLw8bdu2rZuysjt48KAyMjKUlZWln//85/r888+7O6Xv5NChQ6qqqgoZ/5iYGN1+++1XxPhv3rxZKSkpGjZsmObMmaPq6uruTukitbW1kqSkpCRJV86YX5j3eT15zNva2lRcXKzGxkbl5uZeMWN9Yd7n9eSxBnoadgK5whw/flxtbW0Xba6dmpp60SbcPc3YsWP12muvadiwYTp69KieeuopjR8/Xnv37tXAgQO7Oz2T82Pc3vh/+eWX3ZGSWX5+vn72s59p6NChOnTokH71q1/pzjvvVFlZWY/ZQcHzPC1cuFA//vGPlZOTI+nKGPP28pZ67pjv3r1bubm5OnPmjPr166cNGzZoxIgRwSKvp471pfKWeu5YAz0VBeAVKioqKuRrz/Muuq+nyc/PD/571KhRys3N1TXXXKO1a9dq4cKF3ZjZd3cljv/9998f/HdOTo7GjBmjoUOHauPGjZoxY0Y3Zvb/Pfroo/rss8+0devWix7ryWN+qbx76pgPHz5c5eXlOnXqlN566y3NmjVLW7ZsCT7eU8f6UnmPGDGix4410FOxBHyFSU5OVq9evS6a7auurr7or/aeLj4+XqNGjdLBgwe7OxWz81ct+2H809PTNXTo0B4z/vPmzdPbb7+tP/3pTxo8eHDw/p4+5pfKuz09Zcyjo6N17bXXasyYMSoqKtINN9yg3/zmNz1+rC+Vd3t6ylgDPRUF4BUmOjpao0eP1qZNm0Lu37Rpk8aPH99NWX0/zc3N2r9/v9LT07s7FbOsrCylpaWFjH9LS4u2bNlyxY3/iRMnVFFR0e3j73meHn30Uf3ud7/Thx9+qKysrJDHe+qYu/JuT08Z8wt5nqfm5uYeO9aXcj7v9vTUsQZ6jO66+gTfX3FxsdenTx9v9erV3r59+7wFCxZ48fHx3hdffNHdqXVo0aJF3ubNm73PP//c2759uzd16lQvISGhx+VdX1/vffrpp96nn37qSfKWLVvmffrpp96XX37peZ7nPfPMM14gEPB+97vfebt37/Z+8YtfeOnp6V5dXV2Pzbu+vt5btGiRt23bNu/QoUPen/70Jy83N9e7+uqruz3vf/iHf/ACgYC3efNmr7KyMng7ffp0MKYnjrkr75465kuWLPE++ugj79ChQ95nn33mPf74495VV13llZaWep7XM8falXdPHWugJ6MAvEL9j//xP7yhQ4d60dHR3k033RTSeqKnuv/++7309HSvT58+XkZGhjdjxgxv79693Z3WRf70pz95ki66zZo1y/O8b9qSPPnkk15aWpoXExPj3Xbbbd7u3bu7N2mv47xPnz7t5eXleYMGDfL69OnjDRkyxJs1a5Z3+PDh7k673Zwlea+++mowpieOuSvvnjrm/+k//afgZ8egQYO8u+66K1j8eV7PHGvP6zjvnjrWQE8W5Xme13XzjQAAAOhunAMIAAAQYSgAAQAAIgwFIAAAQIShAAQAAIgwFIAAAAARhgIQAAAgwlAAAgAARBgKQAAAgAhDAQgAABBhKAABAAAiDAUgAABAhKEABAAAiDAUgAAAABGGAhAAACDCUAACAABEGApAAACACEMBCAAAEGEoAAEAACIMBSAAAECEoQAEAACIMBSAAAAAEYYCEAAAIMJQAAIAAEQYCkAAAIAIQwEIAAAQYSgAAQAAIgwFIAAAQIShAAQAAIgwFIAAAAARhgIQAAAgwlAAAgAARJj/B7RZZeO8vgQGAAAAAElFTkSuQmCC\"></img>\n",
       "</td>\n",
       "<td style=\"text-align: center; vertical-align: top;\">\n",
       "\n",
       "<table>\n",
       "<tr><td>shape</td><td>(120,&nbsp;40,&nbsp;40)</td></tr>\n",
       "<tr><td>dtype</td><td>uint16</td></tr>\n",
       "<tr><td>size</td><td>375.0 kB</td></tr>\n",
       "<tr><td>min</td><td>0</td></tr><tr><td>max</td><td>65535</td></tr>\n",
       "</table>\n",
       "<img src=\"data:image/png;base64,iVBORw0KGgoAAAANSUhEUgAAALQAAAB4CAYAAABb59j9AAAAOXRFWHRTb2Z0d2FyZQBNYXRwbG90bGliIHZlcnNpb24zLjYuMiwgaHR0cHM6Ly9tYXRwbG90bGliLm9yZy8o6BhiAAAACXBIWXMAAA9hAAAPYQGoP6dpAAACe0lEQVR4nO3cP2rcQBiH4U+LW+0BlhX4ALlHCl/IXUjnC7nIPXIAwxodQAuBNDspgpfgmPyxVsj+8TyVBsFoipdhpEJda60VhNisvQC4JEETRdBEETRRBE0UQRNF0EQRNFEETRRBE0XQRBE0Ua6Wmvh0OtU4jtX3fXVdt9RjCNBaq+PxWLvdrjabeXvsYkGP41jDMCw1PYEOh0Pt9/tZcywWdN/3VfVzkdvtdqnHEGCaphqG4dzMHIsF/XTM2G63guafXOJo6qWQKIImymJHjj+5vr0/Xz/c3ayxBELZoYkiaKIImiiCJoqgiSJoogiaKIImiqCJImiiCJoogiaKoIkiaKIImiiCJoqgiSJoogiaKIImiqCJImiiCJoogiaKoIkiaKIImiiCJoqgiSJoogiaKIImiqCJImiiCJoogiaKoIkiaKIImiiCJoqgiSJoogiaKIImiqCJImiiCJoogiaKoIkiaKIImiiCJoqgiSJoogiaKIImytXaC6iqur69P18/3N2suBLeOzs0UQRNFEETRdBEETRRBE0UQRNF0EQRNFEETRRBE0XQRBE0UQRNFEETRdBEETRRBE0UQRNF0EQRNFEETRRBE0XQRHkTP5p5zo9neC07NFEETZQ3eeR4b54fkRyZ1vMugv5bMGuPL71+Xm+xoFtrVVU1TdNv907fv52vp2kyfjb+8OnLefz188fZ47n+Z/5f773kpfU8NfLUzBxdu8QsL3h8fKxhGJaYmlCHw6H2+/2sORYL+nQ61TiO1fd9dV23xCMI0Vqr4/FYu92uNpt53ykWCxrW4LMdUQRNFEETRdBEETRRBE0UQRNF0EQRNFEETZQfXIX8+5S/pkoAAAAASUVORK5CYII=\"></img>\n",
       "</td>\n",
       "</tr>\n",
       "</table>"
      ],
      "text/plain": [
       "StackViewNDArray([[[   0, 1297,  458, ...,  992, 1221, 1755],\n",
       "                   [   0,  839,  534, ..., 2441, 1679, 1297],\n",
       "                   [   0, 2060, 2060, ...,  839,  610,  687],\n",
       "                   ...,\n",
       "                   [   0,    0,  992, ..., 1221, 1526, 2289],\n",
       "                   [   0,    0, 1297, ..., 1297, 1144, 2213],\n",
       "                   [   0,    0, 1068, ..., 1679, 1831, 1679]],\n",
       "\n",
       "                  [[   0,  916,  763, ...,  763, 1144, 1984],\n",
       "                   [   0, 1221,  992, ..., 1679,  916, 1450],\n",
       "                   [   0,  916,  992, ..., 1144,  992, 1679],\n",
       "                   ...,\n",
       "                   [   0,    0, 2060, ..., 1984, 1831,  687],\n",
       "                   [   0,    0, 1907, ...,  992, 2060,  916],\n",
       "                   [   0,    0, 1755, ..., 1144, 2670, 1068]],\n",
       "\n",
       "                  [[   0,  763,  916, ..., 1450,  839, 1221],\n",
       "                   [   0, 1679,  992, ...,  534,  610,  763],\n",
       "                   [   0,  305, 1602, ...,  839, 3052, 1907],\n",
       "                   ...,\n",
       "                   [   0,    0,  305, ..., 1831, 2213, 2213],\n",
       "                   [   0,    0,  916, ...,  763, 1068, 2289],\n",
       "                   [   0,    0, 1221, ..., 1450,  610, 2823]],\n",
       "\n",
       "                  ...,\n",
       "\n",
       "                  [[   0,  763, 1373, ..., 1526, 2899, 1297],\n",
       "                   [   0,  763,  992, ..., 1297,  763, 1602],\n",
       "                   [   0,  992,  534, ..., 1679,  534, 2289],\n",
       "                   ...,\n",
       "                   [   0,    0, 1221, ...,  839,  534,  687],\n",
       "                   [   0,    0,  305, ...,  916, 1907,  839],\n",
       "                   [   0,    0,  992, ..., 1221, 1144, 1907]],\n",
       "\n",
       "                  [[   0,  458,  763, ..., 2747, 1602,  763],\n",
       "                   [   0,  458, 1068, ...,  763,  763, 1984],\n",
       "                   [   0,  763, 1602, ..., 1297, 1450, 1221],\n",
       "                   ...,\n",
       "                   [   0,    0,  992, ...,  534, 1907, 1144],\n",
       "                   [   0,    0,  839, ..., 1373, 1984, 1373],\n",
       "                   [   0,    0,  839, ..., 1526, 1221, 1373]],\n",
       "\n",
       "                  [[   0,  458, 1297, ...,  992, 2365, 2136],\n",
       "                   [   0,  381, 1068, ...,  687, 1526, 1373],\n",
       "                   [   0,  534, 1068, ..., 1907, 1373,  305],\n",
       "                   ...,\n",
       "                   [   0,    0, 1602, ...,  916,  458,  534],\n",
       "                   [   0,    0, 1602, ..., 1144, 1526,  534],\n",
       "                   [   0,    0,  839, ..., 1068, 1907, 1144]]],\n",
       "                 dtype=uint16)"
      ]
     },
     "execution_count": 3,
     "metadata": {},
     "output_type": "execute_result"
    }
   ],
   "source": [
    "stackview.insight(image)"
   ]
  },
  {
   "cell_type": "markdown",
   "id": "0a14f513-7bfc-40e9-b472-5ba295aa5ffd",
   "metadata": {},
   "source": [
    "When working with small images, the view may be suboptimal."
   ]
  },
  {
   "cell_type": "code",
   "execution_count": 4,
   "id": "31531f57-4f87-4eea-83cd-f38b8b1404f2",
   "metadata": {},
   "outputs": [
    {
     "data": {
      "application/vnd.jupyter.widget-view+json": {
       "model_id": "b688f10543e241da89e3f581bba9f0ee",
       "version_major": 2,
       "version_minor": 0
      },
      "text/plain": [
       "VBox(children=(HBox(children=(VBox(children=(ImageWidget(height=40, width=40),)),)), IntSlider(value=60, conti…"
      ]
     },
     "execution_count": 4,
     "metadata": {},
     "output_type": "execute_result"
    }
   ],
   "source": [
    "stackview.slice(image)"
   ]
  },
  {
   "cell_type": "markdown",
   "id": "878ea5a6-4f35-42da-bd78-2b6b4420442c",
   "metadata": {},
   "source": [
    "Thus, you can provide a `zoom_factor`."
   ]
  },
  {
   "cell_type": "code",
   "execution_count": 5,
   "id": "b0996d45-e1a5-40f6-a085-62018fc087e1",
   "metadata": {},
   "outputs": [
    {
     "data": {
      "application/vnd.jupyter.widget-view+json": {
       "model_id": "7e719a34f194498bb740fd76d68b7fba",
       "version_major": 2,
       "version_minor": 0
      },
      "text/plain": [
       "VBox(children=(HBox(children=(VBox(children=(ImageWidget(height=400, width=400),)),)), IntSlider(value=60, con…"
      ]
     },
     "execution_count": 5,
     "metadata": {},
     "output_type": "execute_result"
    }
   ],
   "source": [
    "stackview.slice(image, zoom_factor=10)"
   ]
  },
  {
   "cell_type": "markdown",
   "id": "16fe74de-38a4-4e58-812d-51cbe6c56c0d",
   "metadata": {},
   "source": [
    "This also works with other tools such as the `picker`."
   ]
  },
  {
   "cell_type": "code",
   "execution_count": 6,
   "id": "21d8e810-54bf-4f9f-af10-bf07c83317b7",
   "metadata": {},
   "outputs": [
    {
     "data": {
      "application/vnd.jupyter.widget-view+json": {
       "model_id": "d45a4760181a4d50859a9fdc9b78913e",
       "version_major": 2,
       "version_minor": 0
      },
      "text/plain": [
       "VBox(children=(HBox(children=(VBox(children=(ImageWidget(height=400, width=400),)),)), IntSlider(value=60, con…"
      ]
     },
     "execution_count": 6,
     "metadata": {},
     "output_type": "execute_result"
    }
   ],
   "source": [
    "stackview.picker(image, zoom_factor=10)"
   ]
  },
  {
   "cell_type": "markdown",
   "id": "6c6de978-81d7-43de-ae30-14aa417edda6",
   "metadata": {},
   "source": [
    "If you don't like the neareast-neighbor interpolation, you can also specify a higher order of the spline-interpolation used under the hood."
   ]
  },
  {
   "cell_type": "code",
   "execution_count": 7,
   "id": "4d8610ce-9d8f-4daf-8cc7-13f48892a0d1",
   "metadata": {},
   "outputs": [
    {
     "data": {
      "application/vnd.jupyter.widget-view+json": {
       "model_id": "d8a127407a3d4080be1990c14e8bf068",
       "version_major": 2,
       "version_minor": 0
      },
      "text/plain": [
       "VBox(children=(HBox(children=(VBox(children=(ImageWidget(height=400, width=400),)),)), IntSlider(value=60, con…"
      ]
     },
     "execution_count": 7,
     "metadata": {},
     "output_type": "execute_result"
    }
   ],
   "source": [
    "stackview.picker(image, zoom_factor=10, zoom_spline_order=3)"
   ]
  },
  {
   "cell_type": "markdown",
   "id": "1b31f251-ce03-4625-9058-8c1fcb781308",
   "metadata": {},
   "source": [
    "Some more zoomed views to check if `stackview` tools work."
   ]
  },
  {
   "cell_type": "code",
   "execution_count": 8,
   "id": "971ca2de-af40-4ee5-8aa6-86bb7d7c60eb",
   "metadata": {},
   "outputs": [
    {
     "data": {
      "application/vnd.jupyter.widget-view+json": {
       "model_id": "f09d8823232e44e198ea4c54c72296b1",
       "version_major": 2,
       "version_minor": 0
      },
      "text/plain": [
       "VBox(children=(HBox(children=(VBox(children=(ImageWidget(height=400, width=400),)),)), IntSlider(value=60, des…"
      ]
     },
     "execution_count": 8,
     "metadata": {},
     "output_type": "execute_result"
    }
   ],
   "source": [
    "stackview.curtain(image, 256-image, zoom_factor=10, continuous_update=True)"
   ]
  },
  {
   "cell_type": "code",
   "execution_count": 9,
   "id": "f4bc53f9-a4a7-4db3-9235-b3cd0b2be8c4",
   "metadata": {},
   "outputs": [
    {
     "data": {
      "application/vnd.jupyter.widget-view+json": {
       "model_id": "60ccf5d8854141a5a8f0b301308c430d",
       "version_major": 2,
       "version_minor": 0
      },
      "text/plain": [
       "VBox(children=(HBox(children=(VBox(children=(ImageWidget(height=512, width=508),)),)), Label(value='[]:')))"
      ]
     },
     "execution_count": 9,
     "metadata": {},
     "output_type": "execute_result"
    }
   ],
   "source": [
    "blobs = imread('data/blobs.tif')\n",
    "\n",
    "stackview.picker(label(blobs > 120), zoom_factor=2)"
   ]
  },
  {
   "cell_type": "code",
   "execution_count": 10,
   "id": "02acd2fa-1262-45bd-bb42-562aeb443a93",
   "metadata": {},
   "outputs": [
    {
     "data": {
      "application/vnd.jupyter.widget-view+json": {
       "model_id": "d1dd5d62e2a74ec6954a6aebab6989b0",
       "version_major": 2,
       "version_minor": 0
      },
      "text/plain": [
       "HBox(children=(HBox(children=(VBox(children=(ImageWidget(height=127, width=128),)),)), HBox(children=(VBox(chi…"
      ]
     },
     "execution_count": 10,
     "metadata": {},
     "output_type": "execute_result"
    }
   ],
   "source": [
    "stackview.side_by_side(blobs, label(blobs > 120), zoom_factor=0.5, continuous_update=True)"
   ]
  },
  {
   "cell_type": "code",
   "execution_count": 11,
   "id": "9c4874b1-a382-427a-8c2d-5273b802a037",
   "metadata": {},
   "outputs": [
    {
     "data": {
      "application/vnd.jupyter.widget-view+json": {
       "model_id": "744b224f85da418c8dcb0daf11a1ad5a",
       "version_major": 2,
       "version_minor": 0
      },
      "text/plain": [
       "interactive(children=(FloatSlider(value=1.0, continuous_update=False, description='sigma', max=10.0, step=1.0)…"
      ]
     },
     "metadata": {},
     "output_type": "display_data"
    },
    {
     "data": {
      "application/vnd.jupyter.widget-view+json": {
       "model_id": "8e7aa96dc6874cdd82754ce0a092f840",
       "version_major": 2,
       "version_minor": 0
      },
      "text/plain": [
       "VBox(children=(HBox(children=(VBox(children=(ImageWidget(height=512, width=508),)),)), Label(value='my_custom_…"
      ]
     },
     "execution_count": 11,
     "metadata": {},
     "output_type": "execute_result"
    }
   ],
   "source": [
    "def my_custom_code(image, sigma:float = 1, show_labels: bool = True):\n",
    "    sigma = abs(sigma)\n",
    "    blurred_image = gaussian(image, sigma=sigma)\n",
    "    binary_image = blurred_image > threshold_otsu(blurred_image)\n",
    "    edge_image = sobel(binary_image)\n",
    "    \n",
    "    if show_labels:\n",
    "        return label(binary_image)\n",
    "    else:\n",
    "        return edge_image * image.max() + image \n",
    "\n",
    "stackview.interact(my_custom_code, blobs, zoom_factor=2)"
   ]
  },
  {
   "cell_type": "code",
   "execution_count": null,
   "id": "5c8272f9-cec6-4ebb-9570-0d659e4af652",
   "metadata": {},
   "outputs": [],
   "source": []
  }
 ],
 "metadata": {
  "kernelspec": {
   "display_name": "Python 3 (ipykernel)",
   "language": "python",
   "name": "python3"
  },
  "language_info": {
   "codemirror_mode": {
    "name": "ipython",
    "version": 3
   },
   "file_extension": ".py",
   "mimetype": "text/x-python",
   "name": "python",
   "nbconvert_exporter": "python",
   "pygments_lexer": "ipython3",
   "version": "3.9.15"
  },
  "widgets": {
   "application/vnd.jupyter.widget-state+json": {
    "state": {
     "06f589a0e01047828c680f2f321ac349": {
      "model_module": "@jupyter-widgets/controls",
      "model_module_version": "2.0.0",
      "model_name": "SliderStyleModel",
      "state": {
       "description_width": ""
      }
     },
     "08dd879de4cc4bada37b4076362e1ca7": {
      "model_module": "@jupyter-widgets/base",
      "model_module_version": "2.0.0",
      "model_name": "LayoutModel",
      "state": {}
     },
     "095ed94a499d4a67ab5d51f8e26ff7ae": {
      "model_module": "@jupyter-widgets/controls",
      "model_module_version": "2.0.0",
      "model_name": "SliderStyleModel",
      "state": {
       "description_width": ""
      }
     },
     "09dc557d622a451ab14d26886861f7c5": {
      "model_module": "@jupyter-widgets/controls",
      "model_module_version": "2.0.0",
      "model_name": "VBoxModel",
      "state": {
       "children": [
        "IPY_MODEL_f03772e182dd4088b6172800d0dcd172"
       ],
       "layout": "IPY_MODEL_a933dd3855054db58dd0695f0feb6df8"
      }
     },
     "0b131756ece848808557478cddf2ec2b": {
      "model_module": "ipycanvas",
      "model_module_version": "^0.13",
      "model_name": "CanvasModel",
      "state": {
       "_canvas_manager": "IPY_MODEL_367acbf2db5c4b1986803b0835a9c8e7",
       "_model_module_version": "^0.13",
       "_view_count": 1,
       "_view_module_version": "^0.13",
       "height": 400,
       "layout": "IPY_MODEL_d91e812781344355b6911661e58c2701",
       "width": 400
      }
     },
     "0be35c492aa142a687056652b46b7bb1": {
      "model_module": "@jupyter-widgets/controls",
      "model_module_version": "2.0.0",
      "model_name": "VBoxModel",
      "state": {
       "children": [
        "IPY_MODEL_3007323c54f246178f8fabeefb5ab5a1"
       ],
       "layout": "IPY_MODEL_3a63cb8d10ff4c8cb46b5c00ff71b490"
      }
     },
     "0c7754bc12a5406988467453057b8c8f": {
      "model_module": "@jupyter-widgets/base",
      "model_module_version": "2.0.0",
      "model_name": "LayoutModel",
      "state": {}
     },
     "0f59fa5cfae24cc9b208b72ba22e4c60": {
      "model_module": "@jupyter-widgets/base",
      "model_module_version": "2.0.0",
      "model_name": "LayoutModel",
      "state": {}
     },
     "0fce2ac1571b411f88be4d2b1322f70d": {
      "model_module": "@jupyter-widgets/base",
      "model_module_version": "2.0.0",
      "model_name": "LayoutModel",
      "state": {}
     },
     "103397bb55794f80b7b05d7e41d347e0": {
      "model_module": "@jupyter-widgets/controls",
      "model_module_version": "2.0.0",
      "model_name": "LabelModel",
      "state": {
       "layout": "IPY_MODEL_3f76da6d4b6e4813bba620dad76d0543",
       "style": "IPY_MODEL_da1053be8b9240ac8bd0898e61d4d3c4",
       "value": "my_custom_code(..., sigma=1.0, show_labels=True)"
      }
     },
     "11d5e5573bb444c59db963f8cc154460": {
      "model_module": "@jupyter-widgets/controls",
      "model_module_version": "2.0.0",
      "model_name": "VBoxModel",
      "state": {
       "children": [
        "IPY_MODEL_f0221b5b91b54a07992d93fd9e0e64df"
       ],
       "layout": "IPY_MODEL_4a178fb33a8a43269c6dc89774b1d354"
      }
     },
     "146d633a8d114be0810b2b7612e69633": {
      "model_module": "@jupyter-widgets/controls",
      "model_module_version": "2.0.0",
      "model_name": "HBoxModel",
      "state": {
       "children": [
        "IPY_MODEL_09dc557d622a451ab14d26886861f7c5"
       ],
       "layout": "IPY_MODEL_cde16ca40a7e401a9f85e3702f4b56c8"
      }
     },
     "15fe152816d84465adb5361d67d2cf92": {
      "model_module": "ipycanvas",
      "model_module_version": "^0.13",
      "model_name": "CanvasModel",
      "state": {
       "_canvas_manager": "IPY_MODEL_367acbf2db5c4b1986803b0835a9c8e7",
       "_model_module_version": "^0.13",
       "_view_module_version": "^0.13",
       "height": 512,
       "layout": "IPY_MODEL_08dd879de4cc4bada37b4076362e1ca7",
       "width": 508
      }
     },
     "16c47819dd634e4e882b01118eaaf6bb": {
      "model_module": "@jupyter-widgets/controls",
      "model_module_version": "2.0.0",
      "model_name": "LabelStyleModel",
      "state": {
       "description_width": "",
       "font_family": null,
       "font_size": null,
       "font_style": null,
       "font_variant": null,
       "font_weight": null,
       "text_color": null,
       "text_decoration": null
      }
     },
     "19c2c78fe6eb46e799ee4cfacb5477c6": {
      "model_module": "@jupyter-widgets/base",
      "model_module_version": "2.0.0",
      "model_name": "LayoutModel",
      "state": {}
     },
     "1a35dd4770864b22a995f35d9c702040": {
      "model_module": "@jupyter-widgets/base",
      "model_module_version": "2.0.0",
      "model_name": "LayoutModel",
      "state": {}
     },
     "1d088ac06e7a499bb94a4812be97a152": {
      "model_module": "@jupyter-widgets/base",
      "model_module_version": "2.0.0",
      "model_name": "LayoutModel",
      "state": {}
     },
     "224e96501c944f9c8119572fe37e7d3f": {
      "model_module": "@jupyter-widgets/base",
      "model_module_version": "2.0.0",
      "model_name": "LayoutModel",
      "state": {}
     },
     "29e21a0197234d738cfbb09712b156af": {
      "model_module": "@jupyter-widgets/base",
      "model_module_version": "2.0.0",
      "model_name": "LayoutModel",
      "state": {}
     },
     "3007323c54f246178f8fabeefb5ab5a1": {
      "model_module": "ipycanvas",
      "model_module_version": "^0.13",
      "model_name": "CanvasModel",
      "state": {
       "_canvas_manager": "IPY_MODEL_367acbf2db5c4b1986803b0835a9c8e7",
       "_model_module_version": "^0.13",
       "_view_module_version": "^0.13",
       "height": 127,
       "layout": "IPY_MODEL_6b8056ea0fd04c6183aab133d753aeab",
       "width": 128
      }
     },
     "319595c5a1a64534b14f8a806d564471": {
      "model_module": "@jupyter-widgets/base",
      "model_module_version": "2.0.0",
      "model_name": "LayoutModel",
      "state": {}
     },
     "3434e2648acc420abe4f782a2d3c5b98": {
      "model_module": "@jupyter-widgets/controls",
      "model_module_version": "2.0.0",
      "model_name": "IntSliderModel",
      "state": {
       "behavior": "drag-tap",
       "continuous_update": false,
       "description": "Slice",
       "layout": "IPY_MODEL_0f59fa5cfae24cc9b208b72ba22e4c60",
       "max": 119,
       "style": "IPY_MODEL_eed911b8a1514995b46370a383ecbe50",
       "value": 60
      }
     },
     "34a167bbc8ef4aca910d0a7ae758a950": {
      "model_module": "@jupyter-widgets/base",
      "model_module_version": "2.0.0",
      "model_name": "LayoutModel",
      "state": {}
     },
     "367acbf2db5c4b1986803b0835a9c8e7": {
      "model_module": "ipycanvas",
      "model_module_version": "^0.13",
      "model_name": "CanvasManagerModel",
      "state": {
       "_model_module_version": "^0.13",
       "_view_module": null,
       "_view_module_version": ""
      }
     },
     "3a63cb8d10ff4c8cb46b5c00ff71b490": {
      "model_module": "@jupyter-widgets/base",
      "model_module_version": "2.0.0",
      "model_name": "LayoutModel",
      "state": {}
     },
     "3b388514c95843cead2d1ed6d22f7628": {
      "model_module": "@jupyter-widgets/controls",
      "model_module_version": "2.0.0",
      "model_name": "HBoxModel",
      "state": {
       "children": [
        "IPY_MODEL_82aaacbba13345239e9b7dc9863ae51a"
       ],
       "layout": "IPY_MODEL_b5c4281974ec4a99bc9a8252e006de68"
      }
     },
     "3dd1eab78d8742d881b8795055686013": {
      "model_module": "@jupyter-widgets/base",
      "model_module_version": "2.0.0",
      "model_name": "LayoutModel",
      "state": {}
     },
     "3f76da6d4b6e4813bba620dad76d0543": {
      "model_module": "@jupyter-widgets/base",
      "model_module_version": "2.0.0",
      "model_name": "LayoutModel",
      "state": {}
     },
     "41f401e26dad441dbe66ee94b483be41": {
      "model_module": "@jupyter-widgets/base",
      "model_module_version": "2.0.0",
      "model_name": "LayoutModel",
      "state": {}
     },
     "42d871b1b3a34434b4c1419f6cd586a4": {
      "model_module": "@jupyter-widgets/base",
      "model_module_version": "2.0.0",
      "model_name": "LayoutModel",
      "state": {}
     },
     "498c01e3ba0349b59734bbd3c3e3b3d6": {
      "model_module": "ipyevents",
      "model_module_version": "2.0.1",
      "model_name": "EventModel",
      "state": {
       "_supported_key_events": [
        "keydown",
        "keyup"
       ],
       "_supported_mouse_events": [
        "click",
        "auxclick",
        "dblclick",
        "mouseenter",
        "mouseleave",
        "mousedown",
        "mouseup",
        "mousemove",
        "wheel",
        "contextmenu",
        "dragstart",
        "drag",
        "dragend",
        "dragenter",
        "dragover",
        "dragleave",
        "drop"
       ],
       "_supported_touch_events": [
        "touchstart",
        "touchend",
        "touchmove",
        "touchcancel"
       ],
       "_view_module": "@jupyter-widgets/controls",
       "source": "IPY_MODEL_eaf36bc14f124033b786e022da08e97b",
       "throttle_or_debounce": "",
       "watched_events": [
        "mousemove"
       ],
       "xy_coordinate_system": ""
      }
     },
     "4a178fb33a8a43269c6dc89774b1d354": {
      "model_module": "@jupyter-widgets/base",
      "model_module_version": "2.0.0",
      "model_name": "LayoutModel",
      "state": {}
     },
     "4c3ccd4cb1f64e78a68a7b7eb66b024d": {
      "model_module": "@jupyter-widgets/base",
      "model_module_version": "2.0.0",
      "model_name": "LayoutModel",
      "state": {}
     },
     "52156da382f4413d937b4ad67f73b987": {
      "model_module": "ipycanvas",
      "model_module_version": "^0.13",
      "model_name": "CanvasModel",
      "state": {
       "_canvas_manager": "IPY_MODEL_367acbf2db5c4b1986803b0835a9c8e7",
       "_model_module_version": "^0.13",
       "_view_module_version": "^0.13",
       "height": 400,
       "layout": "IPY_MODEL_e6763ae14a7447d692a90c73f45e2c5b",
       "width": 400
      }
     },
     "554344ba3b6746a7a731e61c44fd631d": {
      "model_module": "@jupyter-widgets/base",
      "model_module_version": "2.0.0",
      "model_name": "LayoutModel",
      "state": {}
     },
     "59f959127d3b45bd8c63cb828cb6fc48": {
      "model_module": "@jupyter-widgets/base",
      "model_module_version": "2.0.0",
      "model_name": "LayoutModel",
      "state": {}
     },
     "5c62f620ac02475eb9e274d3e91a7b14": {
      "model_module": "@jupyter-widgets/controls",
      "model_module_version": "2.0.0",
      "model_name": "IntSliderModel",
      "state": {
       "behavior": "drag-tap",
       "continuous_update": false,
       "description": "Slice",
       "layout": "IPY_MODEL_a06772ce399e4b989af900a2294387c8",
       "max": 119,
       "style": "IPY_MODEL_c646a8812ce14836a3ea2b7f59c2a858",
       "value": 60
      }
     },
     "5cbacee5c4e84c6d9a2496675a2dd980": {
      "model_module": "@jupyter-widgets/controls",
      "model_module_version": "2.0.0",
      "model_name": "LabelStyleModel",
      "state": {
       "description_width": "",
       "font_family": null,
       "font_size": null,
       "font_style": null,
       "font_variant": null,
       "font_weight": null,
       "text_color": null,
       "text_decoration": null
      }
     },
     "60ccf5d8854141a5a8f0b301308c430d": {
      "model_module": "@jupyter-widgets/controls",
      "model_module_version": "2.0.0",
      "model_name": "VBoxModel",
      "state": {
       "children": [
        "IPY_MODEL_146d633a8d114be0810b2b7612e69633",
        "IPY_MODEL_7bb68317908f4439ace0bce408453a0a"
       ],
       "layout": "IPY_MODEL_f370bb61bbdc4b688a68c376c471984e"
      }
     },
     "648691d5c7664ff1ae62b7db469d0bb4": {
      "model_module": "ipyevents",
      "model_module_version": "2.0.1",
      "model_name": "EventModel",
      "state": {
       "_supported_key_events": [
        "keydown",
        "keyup"
       ],
       "_supported_mouse_events": [
        "click",
        "auxclick",
        "dblclick",
        "mouseenter",
        "mouseleave",
        "mousedown",
        "mouseup",
        "mousemove",
        "wheel",
        "contextmenu",
        "dragstart",
        "drag",
        "dragend",
        "dragenter",
        "dragover",
        "dragleave",
        "drop"
       ],
       "_supported_touch_events": [
        "touchstart",
        "touchend",
        "touchmove",
        "touchcancel"
       ],
       "_view_module": "@jupyter-widgets/controls",
       "source": "IPY_MODEL_f03772e182dd4088b6172800d0dcd172",
       "throttle_or_debounce": "",
       "watched_events": [
        "mousemove"
       ],
       "xy_coordinate_system": ""
      }
     },
     "6b8056ea0fd04c6183aab133d753aeab": {
      "model_module": "@jupyter-widgets/base",
      "model_module_version": "2.0.0",
      "model_name": "LayoutModel",
      "state": {}
     },
     "6c96eee01d134de2ba447335a9e6ed7c": {
      "model_module": "@jupyter-widgets/base",
      "model_module_version": "2.0.0",
      "model_name": "LayoutModel",
      "state": {}
     },
     "7027d391f3364986963d71064a300a36": {
      "model_module": "@jupyter-widgets/controls",
      "model_module_version": "2.0.0",
      "model_name": "HBoxModel",
      "state": {
       "children": [
        "IPY_MODEL_9ea8010db60f422289f92591f95caeee"
       ],
       "layout": "IPY_MODEL_0c7754bc12a5406988467453057b8c8f"
      }
     },
     "715c606d74dc465d9c207f8bebace77b": {
      "model_module": "@jupyter-widgets/base",
      "model_module_version": "2.0.0",
      "model_name": "LayoutModel",
      "state": {}
     },
     "72e2c6ca1b46459a820536e710469027": {
      "model_module": "@jupyter-widgets/base",
      "model_module_version": "2.0.0",
      "model_name": "LayoutModel",
      "state": {}
     },
     "744b224f85da418c8dcb0daf11a1ad5a": {
      "model_module": "@jupyter-widgets/controls",
      "model_module_version": "2.0.0",
      "model_name": "VBoxModel",
      "state": {
       "_dom_classes": [
        "widget-interact"
       ],
       "children": [
        "IPY_MODEL_cb9aa6fe67364f8ca809ee7083b2fe73",
        "IPY_MODEL_bff127e60627450bb34feae5f55a8193",
        "IPY_MODEL_f6ac019f4ecf46e4a2bfd2df47267b0d"
       ],
       "layout": "IPY_MODEL_89943c988371477186561771baa085d3"
      }
     },
     "750d60c7e6b1444591503f172d69d1cd": {
      "model_module": "@jupyter-widgets/controls",
      "model_module_version": "2.0.0",
      "model_name": "VBoxModel",
      "state": {
       "children": [
        "IPY_MODEL_15fe152816d84465adb5361d67d2cf92"
       ],
       "layout": "IPY_MODEL_41f401e26dad441dbe66ee94b483be41"
      }
     },
     "78fe115170794defbf1ec9ee9bd3bc9d": {
      "model_module": "@jupyter-widgets/base",
      "model_module_version": "2.0.0",
      "model_name": "LayoutModel",
      "state": {}
     },
     "79c95d1cbd0c40c29d557542eba84a29": {
      "model_module": "@jupyter-widgets/controls",
      "model_module_version": "2.0.0",
      "model_name": "HBoxModel",
      "state": {
       "children": [
        "IPY_MODEL_e13ed8a686784e4e8f9838f3241b8409"
       ],
       "layout": "IPY_MODEL_42d871b1b3a34434b4c1419f6cd586a4"
      }
     },
     "7bb68317908f4439ace0bce408453a0a": {
      "model_module": "@jupyter-widgets/controls",
      "model_module_version": "2.0.0",
      "model_name": "LabelModel",
      "state": {
       "layout": "IPY_MODEL_78fe115170794defbf1ec9ee9bd3bc9d",
       "style": "IPY_MODEL_8a7287cc6107426995acb12ea6023f8c",
       "value": "[y=8, x=117] = 3"
      }
     },
     "7e719a34f194498bb740fd76d68b7fba": {
      "model_module": "@jupyter-widgets/controls",
      "model_module_version": "2.0.0",
      "model_name": "VBoxModel",
      "state": {
       "children": [
        "IPY_MODEL_79c95d1cbd0c40c29d557542eba84a29",
        "IPY_MODEL_3434e2648acc420abe4f782a2d3c5b98"
       ],
       "layout": "IPY_MODEL_d9d44ae7563a4758a7a812ba7a8201a2"
      }
     },
     "81117c52fbb24598b054db26f56f0875": {
      "model_module": "@jupyter-widgets/base",
      "model_module_version": "2.0.0",
      "model_name": "LayoutModel",
      "state": {}
     },
     "82aaacbba13345239e9b7dc9863ae51a": {
      "model_module": "@jupyter-widgets/controls",
      "model_module_version": "2.0.0",
      "model_name": "VBoxModel",
      "state": {
       "children": [
        "IPY_MODEL_af0b82280c1d4114b16fab42df67bd7e"
       ],
       "layout": "IPY_MODEL_59f959127d3b45bd8c63cb828cb6fc48"
      }
     },
     "836aef3982fa4e37b0f44e46798a1acb": {
      "model_module": "@jupyter-widgets/base",
      "model_module_version": "2.0.0",
      "model_name": "LayoutModel",
      "state": {}
     },
     "83ce190a747d4032b9543b697fa96fa9": {
      "model_module": "ipyevents",
      "model_module_version": "2.0.1",
      "model_name": "EventModel",
      "state": {
       "_supported_key_events": [
        "keydown",
        "keyup"
       ],
       "_supported_mouse_events": [
        "click",
        "auxclick",
        "dblclick",
        "mouseenter",
        "mouseleave",
        "mousedown",
        "mouseup",
        "mousemove",
        "wheel",
        "contextmenu",
        "dragstart",
        "drag",
        "dragend",
        "dragenter",
        "dragover",
        "dragleave",
        "drop"
       ],
       "_supported_touch_events": [
        "touchstart",
        "touchend",
        "touchmove",
        "touchcancel"
       ],
       "_view_module": "@jupyter-widgets/controls",
       "source": "IPY_MODEL_0b131756ece848808557478cddf2ec2b",
       "throttle_or_debounce": "",
       "watched_events": [
        "mousemove"
       ],
       "xy_coordinate_system": ""
      }
     },
     "867bee726ded4427bbefdc89f106e903": {
      "model_module": "@jupyter-widgets/controls",
      "model_module_version": "2.0.0",
      "model_name": "SliderStyleModel",
      "state": {
       "description_width": ""
      }
     },
     "8691c41b007640bba0bd366e0103a17b": {
      "model_module": "@jupyter-widgets/base",
      "model_module_version": "2.0.0",
      "model_name": "LayoutModel",
      "state": {}
     },
     "89943c988371477186561771baa085d3": {
      "model_module": "@jupyter-widgets/base",
      "model_module_version": "2.0.0",
      "model_name": "LayoutModel",
      "state": {}
     },
     "8a7287cc6107426995acb12ea6023f8c": {
      "model_module": "@jupyter-widgets/controls",
      "model_module_version": "2.0.0",
      "model_name": "LabelStyleModel",
      "state": {
       "description_width": "",
       "font_family": null,
       "font_size": null,
       "font_style": null,
       "font_variant": null,
       "font_weight": null,
       "text_color": null,
       "text_decoration": null
      }
     },
     "8e7aa96dc6874cdd82754ce0a092f840": {
      "model_module": "@jupyter-widgets/controls",
      "model_module_version": "2.0.0",
      "model_name": "VBoxModel",
      "state": {
       "children": [
        "IPY_MODEL_cd92110950a24b47a9ee2169f0ed1e53",
        "IPY_MODEL_103397bb55794f80b7b05d7e41d347e0"
       ],
       "layout": "IPY_MODEL_a947086434694c97afb962ae257c525c"
      }
     },
     "8ec7e3c6999649feaad94dc7c9ee0070": {
      "model_module": "@jupyter-widgets/base",
      "model_module_version": "2.0.0",
      "model_name": "LayoutModel",
      "state": {}
     },
     "8f41b4f9956c461cbd52d82c99e7057c": {
      "model_module": "@jupyter-widgets/controls",
      "model_module_version": "2.0.0",
      "model_name": "CheckboxStyleModel",
      "state": {
       "description_width": ""
      }
     },
     "90ece0bc81be41298716823ce4fcb68f": {
      "model_module": "@jupyter-widgets/base",
      "model_module_version": "2.0.0",
      "model_name": "LayoutModel",
      "state": {}
     },
     "9167e556e7764b1691a196895438c077": {
      "model_module": "@jupyter-widgets/controls",
      "model_module_version": "2.0.0",
      "model_name": "IntSliderModel",
      "state": {
       "behavior": "drag-tap",
       "continuous_update": false,
       "description": "Slice",
       "layout": "IPY_MODEL_f83f6b33cd6541afae4356d5a0768912",
       "max": 119,
       "style": "IPY_MODEL_9b5b32d2a3d34e75913bb704b8aae56e",
       "value": 60
      }
     },
     "91bb9742180c4dc6800e83242203d6e2": {
      "model_module": "@jupyter-widgets/base",
      "model_module_version": "2.0.0",
      "model_name": "LayoutModel",
      "state": {}
     },
     "99d3cc7827d1412c9aa9c65bacf4d8fb": {
      "model_module": "@jupyter-widgets/controls",
      "model_module_version": "2.0.0",
      "model_name": "VBoxModel",
      "state": {
       "children": [
        "IPY_MODEL_caf20196bbd84236ad3a7f43d5c5a474"
       ],
       "layout": "IPY_MODEL_6c96eee01d134de2ba447335a9e6ed7c"
      }
     },
     "9b5b32d2a3d34e75913bb704b8aae56e": {
      "model_module": "@jupyter-widgets/controls",
      "model_module_version": "2.0.0",
      "model_name": "SliderStyleModel",
      "state": {
       "description_width": ""
      }
     },
     "9d86ef8654de423dae99d18aeaf1a185": {
      "model_module": "@jupyter-widgets/base",
      "model_module_version": "2.0.0",
      "model_name": "LayoutModel",
      "state": {}
     },
     "9e75a82f34104074b1f1cc00d4ab1df7": {
      "model_module": "@jupyter-widgets/controls",
      "model_module_version": "2.0.0",
      "model_name": "IntSliderModel",
      "state": {
       "behavior": "drag-tap",
       "continuous_update": false,
       "description": "Slice",
       "layout": "IPY_MODEL_81117c52fbb24598b054db26f56f0875",
       "max": 119,
       "style": "IPY_MODEL_06f589a0e01047828c680f2f321ac349",
       "value": 60
      }
     },
     "9ea8010db60f422289f92591f95caeee": {
      "model_module": "@jupyter-widgets/controls",
      "model_module_version": "2.0.0",
      "model_name": "VBoxModel",
      "state": {
       "children": [
        "IPY_MODEL_eaf36bc14f124033b786e022da08e97b"
       ],
       "layout": "IPY_MODEL_91bb9742180c4dc6800e83242203d6e2"
      }
     },
     "a06772ce399e4b989af900a2294387c8": {
      "model_module": "@jupyter-widgets/base",
      "model_module_version": "2.0.0",
      "model_name": "LayoutModel",
      "state": {}
     },
     "a47e02c7070d448e9d7904fd44e2567c": {
      "model_module": "@jupyter-widgets/controls",
      "model_module_version": "2.0.0",
      "model_name": "VBoxModel",
      "state": {
       "children": [
        "IPY_MODEL_f97eb9527a1143378fff65dc3174e2e6"
       ],
       "layout": "IPY_MODEL_4c3ccd4cb1f64e78a68a7b7eb66b024d"
      }
     },
     "a933dd3855054db58dd0695f0feb6df8": {
      "model_module": "@jupyter-widgets/base",
      "model_module_version": "2.0.0",
      "model_name": "LayoutModel",
      "state": {}
     },
     "a947086434694c97afb962ae257c525c": {
      "model_module": "@jupyter-widgets/base",
      "model_module_version": "2.0.0",
      "model_name": "LayoutModel",
      "state": {}
     },
     "a9bc3ebbd39a4502b6ed24205e07fb93": {
      "model_module": "@jupyter-widgets/controls",
      "model_module_version": "2.0.0",
      "model_name": "LabelModel",
      "state": {
       "layout": "IPY_MODEL_f66a84f451eb4f449ebbb411fee42702",
       "style": "IPY_MODEL_16c47819dd634e4e882b01118eaaf6bb",
       "value": "[]:"
      }
     },
     "ab287f483e4c4d2aaccfb08cfe2c4d05": {
      "model_module": "@jupyter-widgets/controls",
      "model_module_version": "2.0.0",
      "model_name": "HBoxModel",
      "state": {
       "children": [
        "IPY_MODEL_99d3cc7827d1412c9aa9c65bacf4d8fb"
       ],
       "layout": "IPY_MODEL_f8a18beeb202454ea2d52ea33358b35c"
      }
     },
     "aba15c83ca484c4aba730dca747b851b": {
      "model_module": "@jupyter-widgets/controls",
      "model_module_version": "2.0.0",
      "model_name": "SliderStyleModel",
      "state": {
       "description_width": ""
      }
     },
     "ad45a540ee1549b5b9e0279b8f675832": {
      "model_module": "@jupyter-widgets/controls",
      "model_module_version": "2.0.0",
      "model_name": "HBoxModel",
      "state": {
       "children": [
        "IPY_MODEL_0be35c492aa142a687056652b46b7bb1"
       ],
       "layout": "IPY_MODEL_34a167bbc8ef4aca910d0a7ae758a950"
      }
     },
     "adab7fa708dd4bd6901509af33868a4f": {
      "model_module": "@jupyter-widgets/base",
      "model_module_version": "2.0.0",
      "model_name": "LayoutModel",
      "state": {}
     },
     "af0b82280c1d4114b16fab42df67bd7e": {
      "model_module": "ipycanvas",
      "model_module_version": "^0.13",
      "model_name": "CanvasModel",
      "state": {
       "_canvas_manager": "IPY_MODEL_367acbf2db5c4b1986803b0835a9c8e7",
       "_model_module_version": "^0.13",
       "_view_module_version": "^0.13",
       "height": 40,
       "layout": "IPY_MODEL_1a35dd4770864b22a995f35d9c702040",
       "width": 40
      }
     },
     "b140c9b160174ce3ae0da8e944d2c648": {
      "model_module": "@jupyter-widgets/controls",
      "model_module_version": "2.0.0",
      "model_name": "HBoxModel",
      "state": {
       "children": [
        "IPY_MODEL_a47e02c7070d448e9d7904fd44e2567c"
       ],
       "layout": "IPY_MODEL_90ece0bc81be41298716823ce4fcb68f"
      }
     },
     "b5c4281974ec4a99bc9a8252e006de68": {
      "model_module": "@jupyter-widgets/base",
      "model_module_version": "2.0.0",
      "model_name": "LayoutModel",
      "state": {}
     },
     "b688f10543e241da89e3f581bba9f0ee": {
      "model_module": "@jupyter-widgets/controls",
      "model_module_version": "2.0.0",
      "model_name": "VBoxModel",
      "state": {
       "children": [
        "IPY_MODEL_3b388514c95843cead2d1ed6d22f7628",
        "IPY_MODEL_5c62f620ac02475eb9e274d3e91a7b14"
       ],
       "layout": "IPY_MODEL_eb22cdcfcf814e588813e5299ba5ae8f"
      }
     },
     "bff127e60627450bb34feae5f55a8193": {
      "model_module": "@jupyter-widgets/controls",
      "model_module_version": "2.0.0",
      "model_name": "CheckboxModel",
      "state": {
       "description": "show_labels",
       "disabled": false,
       "layout": "IPY_MODEL_29e21a0197234d738cfbb09712b156af",
       "style": "IPY_MODEL_8f41b4f9956c461cbd52d82c99e7057c",
       "value": true
      }
     },
     "c4b5c03982bf487ca539a874963e0979": {
      "model_module": "@jupyter-widgets/controls",
      "model_module_version": "2.0.0",
      "model_name": "LabelModel",
      "state": {
       "layout": "IPY_MODEL_319595c5a1a64534b14f8a806d564471",
       "style": "IPY_MODEL_5cbacee5c4e84c6d9a2496675a2dd980",
       "value": "[]:"
      }
     },
     "c57ab911f0a94d64877f9279068533d1": {
      "model_module": "@jupyter-widgets/controls",
      "model_module_version": "2.0.0",
      "model_name": "VBoxModel",
      "state": {
       "children": [
        "IPY_MODEL_0b131756ece848808557478cddf2ec2b"
       ],
       "layout": "IPY_MODEL_836aef3982fa4e37b0f44e46798a1acb"
      }
     },
     "c646a8812ce14836a3ea2b7f59c2a858": {
      "model_module": "@jupyter-widgets/controls",
      "model_module_version": "2.0.0",
      "model_name": "SliderStyleModel",
      "state": {
       "description_width": ""
      }
     },
     "c6a1a4140c864b3caecf490df68854b8": {
      "model_module": "@jupyter-widgets/controls",
      "model_module_version": "2.0.0",
      "model_name": "HBoxModel",
      "state": {
       "children": [
        "IPY_MODEL_11d5e5573bb444c59db963f8cc154460"
       ],
       "layout": "IPY_MODEL_adab7fa708dd4bd6901509af33868a4f"
      }
     },
     "c6d7ef25a0294af094eeb93a77b996a3": {
      "model_module": "@jupyter-widgets/base",
      "model_module_version": "2.0.0",
      "model_name": "LayoutModel",
      "state": {}
     },
     "c8881c0c6b3e4000a26dc8ee55251b70": {
      "model_module": "@jupyter-widgets/base",
      "model_module_version": "2.0.0",
      "model_name": "LayoutModel",
      "state": {}
     },
     "caf20196bbd84236ad3a7f43d5c5a474": {
      "model_module": "ipycanvas",
      "model_module_version": "^0.13",
      "model_name": "CanvasModel",
      "state": {
       "_canvas_manager": "IPY_MODEL_367acbf2db5c4b1986803b0835a9c8e7",
       "_model_module_version": "^0.13",
       "_view_module_version": "^0.13",
       "height": 127,
       "layout": "IPY_MODEL_8691c41b007640bba0bd366e0103a17b",
       "width": 128
      }
     },
     "cb9aa6fe67364f8ca809ee7083b2fe73": {
      "model_module": "@jupyter-widgets/controls",
      "model_module_version": "2.0.0",
      "model_name": "FloatSliderModel",
      "state": {
       "behavior": "drag-tap",
       "continuous_update": false,
       "description": "sigma",
       "layout": "IPY_MODEL_c6d7ef25a0294af094eeb93a77b996a3",
       "max": 10,
       "style": "IPY_MODEL_095ed94a499d4a67ab5d51f8e26ff7ae",
       "value": 1
      }
     },
     "cd92110950a24b47a9ee2169f0ed1e53": {
      "model_module": "@jupyter-widgets/controls",
      "model_module_version": "2.0.0",
      "model_name": "HBoxModel",
      "state": {
       "children": [
        "IPY_MODEL_750d60c7e6b1444591503f172d69d1cd"
       ],
       "layout": "IPY_MODEL_c8881c0c6b3e4000a26dc8ee55251b70"
      }
     },
     "cde16ca40a7e401a9f85e3702f4b56c8": {
      "model_module": "@jupyter-widgets/base",
      "model_module_version": "2.0.0",
      "model_name": "LayoutModel",
      "state": {}
     },
     "d1dd5d62e2a74ec6954a6aebab6989b0": {
      "model_module": "@jupyter-widgets/controls",
      "model_module_version": "2.0.0",
      "model_name": "HBoxModel",
      "state": {
       "children": [
        "IPY_MODEL_ad45a540ee1549b5b9e0279b8f675832",
        "IPY_MODEL_ab287f483e4c4d2aaccfb08cfe2c4d05",
        "IPY_MODEL_b140c9b160174ce3ae0da8e944d2c648"
       ],
       "layout": "IPY_MODEL_1d088ac06e7a499bb94a4812be97a152"
      }
     },
     "d45a4760181a4d50859a9fdc9b78913e": {
      "model_module": "@jupyter-widgets/controls",
      "model_module_version": "2.0.0",
      "model_name": "VBoxModel",
      "state": {
       "children": [
        "IPY_MODEL_e7ea1dd8a6ed4c6198420fc107ca2dfd",
        "IPY_MODEL_9e75a82f34104074b1f1cc00d4ab1df7",
        "IPY_MODEL_c4b5c03982bf487ca539a874963e0979"
       ],
       "layout": "IPY_MODEL_ebf99a1ba3e542de9abadee2d353f38f"
      }
     },
     "d8a127407a3d4080be1990c14e8bf068": {
      "model_module": "@jupyter-widgets/controls",
      "model_module_version": "2.0.0",
      "model_name": "VBoxModel",
      "state": {
       "children": [
        "IPY_MODEL_7027d391f3364986963d71064a300a36",
        "IPY_MODEL_9167e556e7764b1691a196895438c077",
        "IPY_MODEL_a9bc3ebbd39a4502b6ed24205e07fb93"
       ],
       "layout": "IPY_MODEL_19c2c78fe6eb46e799ee4cfacb5477c6"
      }
     },
     "d91e812781344355b6911661e58c2701": {
      "model_module": "@jupyter-widgets/base",
      "model_module_version": "2.0.0",
      "model_name": "LayoutModel",
      "state": {}
     },
     "d9d44ae7563a4758a7a812ba7a8201a2": {
      "model_module": "@jupyter-widgets/base",
      "model_module_version": "2.0.0",
      "model_name": "LayoutModel",
      "state": {}
     },
     "da1053be8b9240ac8bd0898e61d4d3c4": {
      "model_module": "@jupyter-widgets/controls",
      "model_module_version": "2.0.0",
      "model_name": "LabelStyleModel",
      "state": {
       "description_width": "",
       "font_family": null,
       "font_size": null,
       "font_style": null,
       "font_variant": null,
       "font_weight": null,
       "text_color": null,
       "text_decoration": null
      }
     },
     "e13ed8a686784e4e8f9838f3241b8409": {
      "model_module": "@jupyter-widgets/controls",
      "model_module_version": "2.0.0",
      "model_name": "VBoxModel",
      "state": {
       "children": [
        "IPY_MODEL_52156da382f4413d937b4ad67f73b987"
       ],
       "layout": "IPY_MODEL_0fce2ac1571b411f88be4d2b1322f70d"
      }
     },
     "e6763ae14a7447d692a90c73f45e2c5b": {
      "model_module": "@jupyter-widgets/base",
      "model_module_version": "2.0.0",
      "model_name": "LayoutModel",
      "state": {}
     },
     "e7ea1dd8a6ed4c6198420fc107ca2dfd": {
      "model_module": "@jupyter-widgets/controls",
      "model_module_version": "2.0.0",
      "model_name": "HBoxModel",
      "state": {
       "children": [
        "IPY_MODEL_c57ab911f0a94d64877f9279068533d1"
       ],
       "layout": "IPY_MODEL_ffec1f02b3834eab9dfd512562dbb016"
      }
     },
     "eaf36bc14f124033b786e022da08e97b": {
      "model_module": "ipycanvas",
      "model_module_version": "^0.13",
      "model_name": "CanvasModel",
      "state": {
       "_canvas_manager": "IPY_MODEL_367acbf2db5c4b1986803b0835a9c8e7",
       "_model_module_version": "^0.13",
       "_view_count": 1,
       "_view_module_version": "^0.13",
       "height": 400,
       "layout": "IPY_MODEL_554344ba3b6746a7a731e61c44fd631d",
       "width": 400
      }
     },
     "eb22cdcfcf814e588813e5299ba5ae8f": {
      "model_module": "@jupyter-widgets/base",
      "model_module_version": "2.0.0",
      "model_name": "LayoutModel",
      "state": {}
     },
     "ebf99a1ba3e542de9abadee2d353f38f": {
      "model_module": "@jupyter-widgets/base",
      "model_module_version": "2.0.0",
      "model_name": "LayoutModel",
      "state": {}
     },
     "eed911b8a1514995b46370a383ecbe50": {
      "model_module": "@jupyter-widgets/controls",
      "model_module_version": "2.0.0",
      "model_name": "SliderStyleModel",
      "state": {
       "description_width": ""
      }
     },
     "f0221b5b91b54a07992d93fd9e0e64df": {
      "model_module": "ipycanvas",
      "model_module_version": "^0.13",
      "model_name": "CanvasModel",
      "state": {
       "_canvas_manager": "IPY_MODEL_367acbf2db5c4b1986803b0835a9c8e7",
       "_model_module_version": "^0.13",
       "_view_module_version": "^0.13",
       "height": 400,
       "layout": "IPY_MODEL_3dd1eab78d8742d881b8795055686013",
       "width": 400
      }
     },
     "f03772e182dd4088b6172800d0dcd172": {
      "model_module": "ipycanvas",
      "model_module_version": "^0.13",
      "model_name": "CanvasModel",
      "state": {
       "_canvas_manager": "IPY_MODEL_367acbf2db5c4b1986803b0835a9c8e7",
       "_model_module_version": "^0.13",
       "_view_count": 1,
       "_view_module_version": "^0.13",
       "height": 512,
       "layout": "IPY_MODEL_9d86ef8654de423dae99d18aeaf1a185",
       "width": 508
      }
     },
     "f09d8823232e44e198ea4c54c72296b1": {
      "model_module": "@jupyter-widgets/controls",
      "model_module_version": "2.0.0",
      "model_name": "VBoxModel",
      "state": {
       "children": [
        "IPY_MODEL_c6a1a4140c864b3caecf490df68854b8",
        "IPY_MODEL_f4f80cf663b14766a11149eaf6d45894",
        "IPY_MODEL_fce97b1ba2e04ee594c989ac3858ab95"
       ],
       "layout": "IPY_MODEL_8ec7e3c6999649feaad94dc7c9ee0070"
      }
     },
     "f370bb61bbdc4b688a68c376c471984e": {
      "model_module": "@jupyter-widgets/base",
      "model_module_version": "2.0.0",
      "model_name": "LayoutModel",
      "state": {}
     },
     "f4f80cf663b14766a11149eaf6d45894": {
      "model_module": "@jupyter-widgets/controls",
      "model_module_version": "2.0.0",
      "model_name": "IntSliderModel",
      "state": {
       "behavior": "drag-tap",
       "description": "Slice",
       "layout": "IPY_MODEL_715c606d74dc465d9c207f8bebace77b",
       "max": 119,
       "style": "IPY_MODEL_867bee726ded4427bbefdc89f106e903",
       "value": 60
      }
     },
     "f66a84f451eb4f449ebbb411fee42702": {
      "model_module": "@jupyter-widgets/base",
      "model_module_version": "2.0.0",
      "model_name": "LayoutModel",
      "state": {}
     },
     "f6ac019f4ecf46e4a2bfd2df47267b0d": {
      "model_module": "@jupyter-widgets/output",
      "model_module_version": "1.0.0",
      "model_name": "OutputModel",
      "state": {
       "layout": "IPY_MODEL_224e96501c944f9c8119572fe37e7d3f"
      }
     },
     "f83f6b33cd6541afae4356d5a0768912": {
      "model_module": "@jupyter-widgets/base",
      "model_module_version": "2.0.0",
      "model_name": "LayoutModel",
      "state": {}
     },
     "f8a18beeb202454ea2d52ea33358b35c": {
      "model_module": "@jupyter-widgets/base",
      "model_module_version": "2.0.0",
      "model_name": "LayoutModel",
      "state": {}
     },
     "f97eb9527a1143378fff65dc3174e2e6": {
      "model_module": "ipycanvas",
      "model_module_version": "^0.13",
      "model_name": "CanvasModel",
      "state": {
       "_canvas_manager": "IPY_MODEL_367acbf2db5c4b1986803b0835a9c8e7",
       "_model_module_version": "^0.13",
       "_view_module_version": "^0.13",
       "height": 127,
       "layout": "IPY_MODEL_72e2c6ca1b46459a820536e710469027",
       "width": 128
      }
     },
     "fc2a5f59dfde4bedbb1abb8cded595d9": {
      "model_module": "@jupyter-widgets/base",
      "model_module_version": "2.0.0",
      "model_name": "LayoutModel",
      "state": {}
     },
     "fce97b1ba2e04ee594c989ac3858ab95": {
      "model_module": "@jupyter-widgets/controls",
      "model_module_version": "2.0.0",
      "model_name": "IntSliderModel",
      "state": {
       "behavior": "drag-tap",
       "description": "Curtain",
       "layout": "IPY_MODEL_fc2a5f59dfde4bedbb1abb8cded595d9",
       "max": 40,
       "style": "IPY_MODEL_aba15c83ca484c4aba730dca747b851b",
       "value": 20
      }
     },
     "ffec1f02b3834eab9dfd512562dbb016": {
      "model_module": "@jupyter-widgets/base",
      "model_module_version": "2.0.0",
      "model_name": "LayoutModel",
      "state": {}
     }
    },
    "version_major": 2,
    "version_minor": 0
   }
  }
 },
 "nbformat": 4,
 "nbformat_minor": 5
}
