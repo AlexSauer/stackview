{
 "cells": [
  {
   "cell_type": "markdown",
   "id": "dca63629",
   "metadata": {},
   "source": [
    "# stackview\n",
    "Interactive image stack viewing in jupyter notebooks based on \n",
    "[ipycanvas](https://ipycanvas.readthedocs.io/) and \n",
    "[ipywidgets](https://ipywidgets.readthedocs.io/en/latest/)."
   ]
  },
  {
   "cell_type": "markdown",
   "id": "79a8abbc",
   "metadata": {},
   "source": [
    "## Usage\n",
    "You can use `stackview` from within jupyter notebooks as shown below.\n",
    "\n",
    "Starting point is a 3D image dataset provided as numpy array. "
   ]
  },
  {
   "cell_type": "code",
   "execution_count": 1,
   "id": "ca154076",
   "metadata": {},
   "outputs": [],
   "source": [
    "import stackview\n",
    "\n",
    "import numpy as np\n",
    "from skimage.io import imread\n",
    "from skimage.filters import gaussian"
   ]
  },
  {
   "cell_type": "code",
   "execution_count": 2,
   "id": "21067204",
   "metadata": {},
   "outputs": [],
   "source": [
    "image = imread('https://github.com/haesleinhuepf/stackview/blob/main/docs/data/Haase_MRT_tfl3d1.tif?raw=true', plugin='tifffile')"
   ]
  },
  {
   "cell_type": "markdown",
   "id": "42963cad",
   "metadata": {},
   "source": [
    "## Slice\n",
    "You can then view it slice-by-slice:"
   ]
  },
  {
   "cell_type": "code",
   "execution_count": 3,
   "id": "4cf3f9d3",
   "metadata": {
    "tags": []
   },
   "outputs": [
    {
     "data": {
      "application/vnd.jupyter.widget-view+json": {
       "model_id": "4d8e9f5a3d6a4f708e648436765f3a26",
       "version_major": 2,
       "version_minor": 0
      },
      "text/plain": [
       "VBox(children=(HBox(children=(VBox(children=(ImageWidget(height=160, width=160),)),)), IntSlider(value=60, des…"
      ]
     },
     "execution_count": 3,
     "metadata": {},
     "output_type": "execute_result"
    }
   ],
   "source": [
    "stackview.slice(image, continuous_update=True)"
   ]
  },
  {
   "cell_type": "markdown",
   "id": "df4bb7be",
   "metadata": {},
   "source": [
    "## Picker\n",
    "To read the intensity of pixels where the mouse is moving, use the picker."
   ]
  },
  {
   "cell_type": "code",
   "execution_count": 4,
   "id": "64731189",
   "metadata": {},
   "outputs": [
    {
     "data": {
      "application/vnd.jupyter.widget-view+json": {
       "model_id": "ee760612909d4167aeecdcae934374e6",
       "version_major": 2,
       "version_minor": 0
      },
      "text/plain": [
       "VBox(children=(HBox(children=(VBox(children=(ImageWidget(height=160, width=160),)),)), IntSlider(value=60, des…"
      ]
     },
     "execution_count": 4,
     "metadata": {},
     "output_type": "execute_result"
    }
   ],
   "source": [
    "stackview.picker(image, continuous_update=True)"
   ]
  },
  {
   "cell_type": "markdown",
   "id": "2e552f7e",
   "metadata": {},
   "source": [
    "## Orthogonal\n",
    "Orthogonal views are also available:"
   ]
  },
  {
   "cell_type": "code",
   "execution_count": 5,
   "id": "42dd2614",
   "metadata": {},
   "outputs": [
    {
     "data": {
      "application/vnd.jupyter.widget-view+json": {
       "model_id": "7378e4e0bda2417b8f3992356dbb1ee4",
       "version_major": 2,
       "version_minor": 0
      },
      "text/plain": [
       "HBox(children=(VBox(children=(HBox(children=(VBox(children=(ImageWidget(height=160, width=160),)),)), IntSlide…"
      ]
     },
     "execution_count": 5,
     "metadata": {},
     "output_type": "execute_result"
    }
   ],
   "source": [
    "stackview.orthogonal(image, continuous_update=True)"
   ]
  },
  {
   "cell_type": "markdown",
   "id": "634f0860",
   "metadata": {},
   "source": [
    "## Curtain\n",
    "For visualization of an original image in combination with a processed version, a curtain view may be helpful:"
   ]
  },
  {
   "cell_type": "code",
   "execution_count": 6,
   "id": "d4ee961e",
   "metadata": {},
   "outputs": [],
   "source": [
    "modified_image = image.max() - image"
   ]
  },
  {
   "cell_type": "code",
   "execution_count": 7,
   "id": "ab1dc868",
   "metadata": {},
   "outputs": [
    {
     "data": {
      "application/vnd.jupyter.widget-view+json": {
       "model_id": "da7923c587f442f59edfaef60b0a2864",
       "version_major": 2,
       "version_minor": 0
      },
      "text/plain": [
       "VBox(children=(HBox(children=(VBox(children=(ImageWidget(height=160, width=160),)),)), IntSlider(value=60, des…"
      ]
     },
     "execution_count": 7,
     "metadata": {},
     "output_type": "execute_result"
    }
   ],
   "source": [
    "stackview.curtain(image, modified_image, continuous_update=True)"
   ]
  },
  {
   "cell_type": "markdown",
   "id": "dbd725c9-5867-4e47-8b7c-b7006fd2982b",
   "metadata": {},
   "source": [
    "One can also use the curtain to visualize semantic segmentation results as label images."
   ]
  },
  {
   "cell_type": "code",
   "execution_count": 8,
   "id": "e421b46f-f738-4048-9a77-09dc54070715",
   "metadata": {},
   "outputs": [],
   "source": [
    "labels = (image > 5000)*1 + (image > 15000)*1 + (image > 30000)*1"
   ]
  },
  {
   "cell_type": "code",
   "execution_count": 9,
   "id": "24f8a418-b261-4a6e-97de-025046326a13",
   "metadata": {},
   "outputs": [
    {
     "data": {
      "application/vnd.jupyter.widget-view+json": {
       "model_id": "3c3826254cfa40878bf2403f200c74e6",
       "version_major": 2,
       "version_minor": 0
      },
      "text/plain": [
       "VBox(children=(HBox(children=(VBox(children=(ImageWidget(height=160, width=160),)),)), IntSlider(value=60, des…"
      ]
     },
     "execution_count": 9,
     "metadata": {},
     "output_type": "execute_result"
    }
   ],
   "source": [
    "stackview.curtain(image, labels, continuous_update=True)"
   ]
  },
  {
   "cell_type": "markdown",
   "id": "ffda520d-0451-499e-a5e7-08b6a1220d1e",
   "metadata": {},
   "source": [
    "The curtain can also be partially transparent using the alpha value."
   ]
  },
  {
   "cell_type": "code",
   "execution_count": 10,
   "id": "91a89968-9f2c-48bb-abfa-d6e123dcf51d",
   "metadata": {},
   "outputs": [
    {
     "data": {
      "application/vnd.jupyter.widget-view+json": {
       "model_id": "23ee280c9a27482b87ac78fd5c2dbe03",
       "version_major": 2,
       "version_minor": 0
      },
      "text/plain": [
       "VBox(children=(HBox(children=(VBox(children=(ImageWidget(height=160, width=160),)),)), IntSlider(value=60, des…"
      ]
     },
     "execution_count": 10,
     "metadata": {},
     "output_type": "execute_result"
    }
   ],
   "source": [
    "stackview.curtain(image, labels, continuous_update=True, alpha=0.3)"
   ]
  },
  {
   "cell_type": "markdown",
   "id": "187cf539",
   "metadata": {},
   "source": [
    "The curtain also works with 2D data"
   ]
  },
  {
   "cell_type": "code",
   "execution_count": 11,
   "id": "2f21ee1d",
   "metadata": {},
   "outputs": [],
   "source": [
    "slice_image = imread('https://github.com/haesleinhuepf/stackview/blob/main/docs/data/blobs.tif?raw=true', plugin='tifffile')"
   ]
  },
  {
   "cell_type": "code",
   "execution_count": 12,
   "id": "bd7d1317",
   "metadata": {},
   "outputs": [],
   "source": [
    "from skimage.filters import threshold_otsu\n",
    "binary = (slice_image > threshold_otsu(slice_image))"
   ]
  },
  {
   "cell_type": "code",
   "execution_count": 13,
   "id": "6b5dd31a",
   "metadata": {},
   "outputs": [
    {
     "data": {
      "application/vnd.jupyter.widget-view+json": {
       "model_id": "14517c8ca11f476d9bdb8009cca955eb",
       "version_major": 2,
       "version_minor": 0
      },
      "text/plain": [
       "VBox(children=(HBox(children=(VBox(children=(ImageWidget(height=254, width=256),)),)), IntSlider(value=128, de…"
      ]
     },
     "execution_count": 13,
     "metadata": {},
     "output_type": "execute_result"
    }
   ],
   "source": [
    "stackview.curtain(slice_image, binary, continuous_update=True)"
   ]
  },
  {
   "cell_type": "markdown",
   "id": "c15807a9-2de5-45e0-93bd-e0e952da0fce",
   "metadata": {},
   "source": [
    "Also label images are supported. Images are shown as labels in case their pixel type is (unsigned) integer 32-bit or 32-bit."
   ]
  },
  {
   "cell_type": "code",
   "execution_count": 14,
   "id": "f39bacd7-6ca3-4c28-bb4f-25d2251b0c9a",
   "metadata": {},
   "outputs": [],
   "source": [
    "from skimage.measure import label\n",
    "labels = label(binary)"
   ]
  },
  {
   "cell_type": "code",
   "execution_count": 15,
   "id": "1ad031f5-ab80-473c-95c5-12bd08256d56",
   "metadata": {},
   "outputs": [
    {
     "data": {
      "application/vnd.jupyter.widget-view+json": {
       "model_id": "d584eeb9583f47159fe5e947d8fd2e1c",
       "version_major": 2,
       "version_minor": 0
      },
      "text/plain": [
       "VBox(children=(HBox(children=(VBox(children=(ImageWidget(height=254, width=256),)),)), IntSlider(value=128, de…"
      ]
     },
     "execution_count": 15,
     "metadata": {},
     "output_type": "execute_result"
    }
   ],
   "source": [
    "stackview.curtain(slice_image, labels, continuous_update=True)"
   ]
  },
  {
   "cell_type": "markdown",
   "id": "4767b2f9",
   "metadata": {},
   "source": [
    "## Side-by-side\n",
    "A side-by-side view of two stacks is also available. It might be useful for colocalization visualization or showing subsequent time points of a timelapse."
   ]
  },
  {
   "cell_type": "code",
   "execution_count": 16,
   "id": "7bf91429",
   "metadata": {},
   "outputs": [],
   "source": [
    "image_stack = imread('https://github.com/haesleinhuepf/stackview/blob/main/docs/data/CalibZAPWfixed_000154_max.tif?raw=true', plugin='tifffile').swapaxes(1,2)"
   ]
  },
  {
   "cell_type": "code",
   "execution_count": 17,
   "id": "5ad9ebf9",
   "metadata": {},
   "outputs": [
    {
     "data": {
      "application/vnd.jupyter.widget-view+json": {
       "model_id": "01fbf48aa34940e3adcaaea741a10afd",
       "version_major": 2,
       "version_minor": 0
      },
      "text/plain": [
       "VBox(children=(HBox(children=(HBox(children=(VBox(children=(ImageWidget(height=389, width=235),)),)), HBox(chi…"
      ]
     },
     "execution_count": 17,
     "metadata": {},
     "output_type": "execute_result"
    }
   ],
   "source": [
    "stackview.side_by_side(image_stack[1:], image_stack[:-1], continuous_update=True, display_width=300)"
   ]
  },
  {
   "cell_type": "code",
   "execution_count": 18,
   "id": "97a16fec-21a0-4aa6-8dee-660ce345238e",
   "metadata": {},
   "outputs": [],
   "source": [
    "labels_stack = np.asarray([label(image > 100) for image in image_stack])"
   ]
  },
  {
   "cell_type": "code",
   "execution_count": 19,
   "id": "b948942f-b1c1-474f-a8cb-cf3f104b65bf",
   "metadata": {},
   "outputs": [
    {
     "data": {
      "application/vnd.jupyter.widget-view+json": {
       "model_id": "84af62e04b2c42479691072792fdd2ff",
       "version_major": 2,
       "version_minor": 0
      },
      "text/plain": [
       "VBox(children=(HBox(children=(HBox(children=(VBox(children=(ImageWidget(height=389, width=235),)),)), HBox(chi…"
      ]
     },
     "execution_count": 19,
     "metadata": {},
     "output_type": "execute_result"
    }
   ],
   "source": [
    "stackview.side_by_side(image_stack, labels_stack, continuous_update=True, display_width=300)"
   ]
  },
  {
   "cell_type": "markdown",
   "id": "18ea8070",
   "metadata": {},
   "source": [
    "## Interact\n",
    "You can also use `interact` to explore parameters of some supported functions that process images, e.g. from [scikit-image](https://scikit-image.org/):"
   ]
  },
  {
   "cell_type": "code",
   "execution_count": 20,
   "id": "41b75598",
   "metadata": {},
   "outputs": [
    {
     "data": {
      "application/vnd.jupyter.widget-view+json": {
       "model_id": "4f5889b807e44ec5a4047ff611fbd41e",
       "version_major": 2,
       "version_minor": 0
      },
      "text/plain": [
       "interactive(children=(IntSlider(value=0, continuous_update=False, description='footprint'), Output()), _dom_cl…"
      ]
     },
     "metadata": {},
     "output_type": "display_data"
    },
    {
     "data": {
      "application/vnd.jupyter.widget-view+json": {
       "model_id": "0394f0b330c94538b4c1c26d96807bfa",
       "version_major": 2,
       "version_minor": 0
      },
      "text/plain": [
       "VBox(children=(HBox(children=(VBox(children=(ImageWidget(height=256, width=254),)),)), Label(value='maximum(..…"
      ]
     },
     "execution_count": 20,
     "metadata": {},
     "output_type": "execute_result"
    }
   ],
   "source": [
    "from skimage.filters.rank import maximum\n",
    "stackview.interact(maximum, slice_image)"
   ]
  },
  {
   "cell_type": "code",
   "execution_count": 21,
   "id": "ba9bfc67",
   "metadata": {},
   "outputs": [
    {
     "data": {
      "application/vnd.jupyter.widget-view+json": {
       "model_id": "d4bd2d3334f94874973b127f18c3ed23",
       "version_major": 2,
       "version_minor": 0
      },
      "text/plain": [
       "interactive(children=(FloatSlider(value=1.0, continuous_update=False, description='sigma', max=10.0, step=1.0)…"
      ]
     },
     "metadata": {},
     "output_type": "display_data"
    },
    {
     "data": {
      "application/vnd.jupyter.widget-view+json": {
       "model_id": "16a643867c49460c96cc1cd761c7a965",
       "version_major": 2,
       "version_minor": 0
      },
      "text/plain": [
       "VBox(children=(HBox(children=(VBox(children=(ImageWidget(height=256, width=254),)),)), Label(value='gaussian(.…"
      ]
     },
     "execution_count": 21,
     "metadata": {},
     "output_type": "execute_result"
    }
   ],
   "source": [
    "from skimage.filters import gaussian\n",
    "stackview.interact(gaussian, slice_image)"
   ]
  },
  {
   "cell_type": "markdown",
   "id": "47751ce0",
   "metadata": {},
   "source": [
    "This might be interesting for custom functions executing image processing workflows."
   ]
  },
  {
   "cell_type": "code",
   "execution_count": 22,
   "id": "11f6e31e",
   "metadata": {},
   "outputs": [
    {
     "data": {
      "application/vnd.jupyter.widget-view+json": {
       "model_id": "1471f682ae414d47b3db4652918590ce",
       "version_major": 2,
       "version_minor": 0
      },
      "text/plain": [
       "interactive(children=(FloatSlider(value=1.0, continuous_update=False, description='sigma', max=10.0, step=1.0)…"
      ]
     },
     "metadata": {},
     "output_type": "display_data"
    },
    {
     "data": {
      "application/vnd.jupyter.widget-view+json": {
       "model_id": "4195bb3f20984176b1c76b13888cf34a",
       "version_major": 2,
       "version_minor": 0
      },
      "text/plain": [
       "VBox(children=(HBox(children=(VBox(children=(ImageWidget(height=256, width=254),)),)), Label(value='my_custom_…"
      ]
     },
     "execution_count": 22,
     "metadata": {},
     "output_type": "execute_result"
    }
   ],
   "source": [
    "from skimage.filters import gaussian, threshold_otsu, sobel\n",
    "def my_custom_code(image, sigma:float = 1, show_labels: bool = True):\n",
    "    sigma = abs(sigma)\n",
    "    blurred_image = gaussian(image, sigma=sigma)\n",
    "    binary_image = blurred_image > threshold_otsu(blurred_image)\n",
    "    edge_image = sobel(binary_image)\n",
    "    \n",
    "    if show_labels:\n",
    "        return label(binary_image)\n",
    "    else:\n",
    "        return edge_image * 255 + image \n",
    "\n",
    "stackview.interact(my_custom_code, slice_image)"
   ]
  },
  {
   "cell_type": "markdown",
   "id": "51ef6a3f",
   "metadata": {},
   "source": [
    "If you want to configure the range of a slider explicitly, you need to hand over the [ipywidgets slider](https://ipywidgets.readthedocs.io/en/latest/examples/Widget%20List.html#FloatSlider) as default value:"
   ]
  },
  {
   "cell_type": "code",
   "execution_count": 23,
   "id": "8abc8e06",
   "metadata": {
    "tags": []
   },
   "outputs": [
    {
     "data": {
      "application/vnd.jupyter.widget-view+json": {
       "model_id": "cab41d7e4fa44ddbae8e09a59ab246df",
       "version_major": 2,
       "version_minor": 0
      },
      "text/plain": [
       "interactive(children=(FloatSlider(value=15.0, description='sigma'), Output()), _dom_classes=('widget-interact'…"
      ]
     },
     "metadata": {},
     "output_type": "display_data"
    },
    {
     "data": {
      "application/vnd.jupyter.widget-view+json": {
       "model_id": "a1f5e14ba6de412788ccb8b4b53d7e2f",
       "version_major": 2,
       "version_minor": 0
      },
      "text/plain": [
       "VBox(children=(HBox(children=(VBox(children=(ImageWidget(height=256, width=254),)),)), Label(value='gaussian(.…"
      ]
     },
     "execution_count": 23,
     "metadata": {},
     "output_type": "execute_result"
    }
   ],
   "source": [
    "from skimage.filters import gaussian\n",
    "from ipywidgets import FloatSlider\n",
    "stackview.interact(gaussian, slice_image, sigma=FloatSlider(min=0, max=100, value=15))"
   ]
  },
  {
   "cell_type": "markdown",
   "id": "077b7106",
   "metadata": {},
   "source": [
    "## Some more tests with silly images"
   ]
  },
  {
   "cell_type": "code",
   "execution_count": 24,
   "id": "9cd2f2e5",
   "metadata": {
    "tags": []
   },
   "outputs": [
    {
     "data": {
      "application/vnd.jupyter.widget-view+json": {
       "model_id": "7fff7cad7a254f31a4c2217e1a77d53a",
       "version_major": 2,
       "version_minor": 0
      },
      "text/plain": [
       "VBox(children=(HBox(children=(VBox(children=(ImageWidget(height=100, width=100),)),)), Label(value='[]:')))"
      ]
     },
     "execution_count": 24,
     "metadata": {},
     "output_type": "execute_result"
    }
   ],
   "source": [
    "import numpy as np\n",
    "silly_image = np.zeros((100, 100))\n",
    "silly_image[:,50:] = 1\n",
    "silly_image[50:] = silly_image[50:] + 2\n",
    "\n",
    "stackview.picker(silly_image.astype(np.uint32))"
   ]
  },
  {
   "cell_type": "code",
   "execution_count": null,
   "id": "c1c350b5",
   "metadata": {},
   "outputs": [],
   "source": []
  }
 ],
 "metadata": {
  "kernelspec": {
   "display_name": "Python 3 (ipykernel)",
   "language": "python",
   "name": "python3"
  },
  "language_info": {
   "codemirror_mode": {
    "name": "ipython",
    "version": 3
   },
   "file_extension": ".py",
   "mimetype": "text/x-python",
   "name": "python",
   "nbconvert_exporter": "python",
   "pygments_lexer": "ipython3",
   "version": "3.9.15"
  },
  "widgets": {
   "application/vnd.jupyter.widget-state+json": {
    "state": {
     "00093cfc136b49e5b6ec8b2de621e324": {
      "model_module": "ipycanvas",
      "model_module_version": "^0.13",
      "model_name": "CanvasModel",
      "state": {
       "_canvas_manager": "IPY_MODEL_c3d9d98e8fec45a2825d0775e17f8b34",
       "_model_module_version": "^0.13",
       "_view_count": 1,
       "_view_module_version": "^0.13",
       "height": 100,
       "layout": "IPY_MODEL_3189f40f59604cc4b98574e50f982990",
       "width": 100
      }
     },
     "0043e61dd3b04a8f8b68b2ec5f966b49": {
      "model_module": "@jupyter-widgets/output",
      "model_module_version": "1.0.0",
      "model_name": "OutputModel",
      "state": {
       "layout": "IPY_MODEL_5861762be7d84ec9b9e64e2d3224931b"
      }
     },
     "01fbf48aa34940e3adcaaea741a10afd": {
      "model_module": "@jupyter-widgets/controls",
      "model_module_version": "2.0.0",
      "model_name": "VBoxModel",
      "state": {
       "children": [
        "IPY_MODEL_b297ad65ebc74215bd11c12b4d2d2cc7",
        "IPY_MODEL_e10c29ecfb3d41c1b93b0b2212519476"
       ],
       "layout": "IPY_MODEL_de419a9179184facb46af2e21129e4b2"
      }
     },
     "025cdd9e416f46159400137e016c5c59": {
      "model_module": "@jupyter-widgets/controls",
      "model_module_version": "2.0.0",
      "model_name": "SliderStyleModel",
      "state": {
       "description_width": ""
      }
     },
     "0394f0b330c94538b4c1c26d96807bfa": {
      "model_module": "@jupyter-widgets/controls",
      "model_module_version": "2.0.0",
      "model_name": "VBoxModel",
      "state": {
       "children": [
        "IPY_MODEL_1508f7cd23164e5e887d7213b496beab",
        "IPY_MODEL_fe7484d4af2d46e0b34903508ba44ab0"
       ],
       "layout": "IPY_MODEL_73447f3d8f87461e9b8b04ebf0a38282"
      }
     },
     "044cb46ae9e74cf2b1f1da68e2fbeefe": {
      "model_module": "@jupyter-widgets/controls",
      "model_module_version": "2.0.0",
      "model_name": "IntSliderModel",
      "state": {
       "behavior": "drag-tap",
       "continuous_update": false,
       "description": "footprint",
       "layout": "IPY_MODEL_a4bdfe1b75e44a378ccb918e25885960",
       "style": "IPY_MODEL_e680e335e2c54c7f9db71716edab73f6"
      }
     },
     "0500d5df9f18493d95ec6472ee104c7c": {
      "model_module": "@jupyter-widgets/base",
      "model_module_version": "2.0.0",
      "model_name": "LayoutModel",
      "state": {}
     },
     "05cc1ff819d04856954597daa0bf8304": {
      "model_module": "@jupyter-widgets/controls",
      "model_module_version": "2.0.0",
      "model_name": "VBoxModel",
      "state": {
       "children": [
        "IPY_MODEL_1428f92e5c434e17a04987209b5b72b1"
       ],
       "layout": "IPY_MODEL_09eb375babc14b47af49e57d047056d5"
      }
     },
     "0924b8234a274612b6abbbe6f3923d51": {
      "model_module": "@jupyter-widgets/controls",
      "model_module_version": "2.0.0",
      "model_name": "VBoxModel",
      "state": {
       "children": [
        "IPY_MODEL_164f5abf043347eeb093fcffc22c8303"
       ],
       "layout": "IPY_MODEL_e3871f86bff84aadac40918a0d0713e2"
      }
     },
     "09eb375babc14b47af49e57d047056d5": {
      "model_module": "@jupyter-widgets/base",
      "model_module_version": "2.0.0",
      "model_name": "LayoutModel",
      "state": {}
     },
     "0a38908645694f69ad44d711ada6e01a": {
      "model_module": "@jupyter-widgets/controls",
      "model_module_version": "2.0.0",
      "model_name": "IntSliderModel",
      "state": {
       "behavior": "drag-tap",
       "description": "Slice",
       "layout": "IPY_MODEL_49725ea39d8c45d39323fc8ef454ee60",
       "max": 119,
       "style": "IPY_MODEL_9c6337be6b194358954f150f712d4bb7",
       "value": 60
      }
     },
     "0a6541b3b4bc48f6b3171a64c2275d26": {
      "model_module": "@jupyter-widgets/controls",
      "model_module_version": "2.0.0",
      "model_name": "IntSliderModel",
      "state": {
       "behavior": "drag-tap",
       "description": "Z",
       "layout": "IPY_MODEL_bc78525fd440495aba929854956a745a",
       "max": 119,
       "style": "IPY_MODEL_46729a4e0ce2418084b151134d982fcc",
       "value": 60
      }
     },
     "0b1447c5d5b540c3b5ecba3fc1440e92": {
      "model_module": "@jupyter-widgets/controls",
      "model_module_version": "2.0.0",
      "model_name": "IntSliderModel",
      "state": {
       "behavior": "drag-tap",
       "description": "Slice",
       "layout": "IPY_MODEL_b7ae5c9f75734166b65f03ac5d496e13",
       "max": 119,
       "style": "IPY_MODEL_3fdca7d8be514c74aa45b0a326e9080e",
       "value": 60
      }
     },
     "0b8cc01661ff431499da123e089f2702": {
      "model_module": "@jupyter-widgets/controls",
      "model_module_version": "2.0.0",
      "model_name": "IntSliderModel",
      "state": {
       "behavior": "drag-tap",
       "description": "Curtain",
       "layout": "IPY_MODEL_4008af73e49c49eca84833a3475db2f7",
       "max": 160,
       "style": "IPY_MODEL_6c71ea37d1c24fd9bd659d9dc6312d28",
       "value": 80
      }
     },
     "0c11fe48b90946c3a99b6fe0d433c6f7": {
      "model_module": "@jupyter-widgets/base",
      "model_module_version": "2.0.0",
      "model_name": "LayoutModel",
      "state": {}
     },
     "0c74bcca58204e378811254ea48f639a": {
      "model_module": "@jupyter-widgets/base",
      "model_module_version": "2.0.0",
      "model_name": "LayoutModel",
      "state": {}
     },
     "0c8fa479f2f54fffa5e248147134788a": {
      "model_module": "@jupyter-widgets/controls",
      "model_module_version": "2.0.0",
      "model_name": "LabelModel",
      "state": {
       "layout": "IPY_MODEL_fc63275c6f6c4924aad93a0f6aa14476",
       "style": "IPY_MODEL_6fbd1660e00e4231be64a7b75a572e7d",
       "value": "my_custom_code(..., sigma=1.0, show_labels=True)"
      }
     },
     "0e01520ea3af4e86a50409bc99e762ea": {
      "model_module": "@jupyter-widgets/controls",
      "model_module_version": "2.0.0",
      "model_name": "LabelStyleModel",
      "state": {
       "description_width": "",
       "font_family": null,
       "font_size": null,
       "font_style": null,
       "font_variant": null,
       "font_weight": null,
       "text_color": null,
       "text_decoration": null
      }
     },
     "0e29881147a043b184b73ffb1f3873b3": {
      "model_module": "@jupyter-widgets/controls",
      "model_module_version": "2.0.0",
      "model_name": "SliderStyleModel",
      "state": {
       "description_width": ""
      }
     },
     "0e5ec8706be14e9bbaee82d8083d770d": {
      "model_module": "@jupyter-widgets/base",
      "model_module_version": "2.0.0",
      "model_name": "LayoutModel",
      "state": {}
     },
     "0eff0bdefbf8479ca23c8ddf3239f0ea": {
      "model_module": "@jupyter-widgets/base",
      "model_module_version": "2.0.0",
      "model_name": "LayoutModel",
      "state": {}
     },
     "0f723ea678bf4f1fbb62c2fdaa8c8e19": {
      "model_module": "@jupyter-widgets/base",
      "model_module_version": "2.0.0",
      "model_name": "LayoutModel",
      "state": {}
     },
     "103e88947e5145cdb429188319338f1c": {
      "model_module": "ipycanvas",
      "model_module_version": "^0.13",
      "model_name": "CanvasModel",
      "state": {
       "_canvas_manager": "IPY_MODEL_c3d9d98e8fec45a2825d0775e17f8b34",
       "_model_module_version": "^0.13",
       "_view_module_version": "^0.13",
       "height": 389,
       "layout": "IPY_MODEL_978bc79b96174a32bdcc158b858cfbd5",
       "width": 235
      }
     },
     "114088d310904eb8b76ea1c8859e1cf4": {
      "model_module": "@jupyter-widgets/base",
      "model_module_version": "2.0.0",
      "model_name": "LayoutModel",
      "state": {}
     },
     "1208ec418fa244289f9408993a6a1f8f": {
      "model_module": "@jupyter-widgets/base",
      "model_module_version": "2.0.0",
      "model_name": "LayoutModel",
      "state": {}
     },
     "130c9850625a41bb97b0971aed230776": {
      "model_module": "ipycanvas",
      "model_module_version": "^0.13",
      "model_name": "CanvasModel",
      "state": {
       "_canvas_manager": "IPY_MODEL_c3d9d98e8fec45a2825d0775e17f8b34",
       "_model_module_version": "^0.13",
       "_view_module_version": "^0.13",
       "height": 254,
       "layout": "IPY_MODEL_1490e1803aee40bea42fd24fe9d4fef0",
       "width": 256
      }
     },
     "1340f7dcdf034b42b1e08c22e097f868": {
      "model_module": "@jupyter-widgets/controls",
      "model_module_version": "2.0.0",
      "model_name": "VBoxModel",
      "state": {
       "children": [
        "IPY_MODEL_d14ae9a387e04bdc9dd8f7eb86a78dca"
       ],
       "layout": "IPY_MODEL_7af48ba64e65414ea19654e88037d310"
      }
     },
     "13ade12a2f5846269ec01a71dbd56cf9": {
      "model_module": "@jupyter-widgets/base",
      "model_module_version": "2.0.0",
      "model_name": "LayoutModel",
      "state": {}
     },
     "1428f92e5c434e17a04987209b5b72b1": {
      "model_module": "ipycanvas",
      "model_module_version": "^0.13",
      "model_name": "CanvasModel",
      "state": {
       "_canvas_manager": "IPY_MODEL_c3d9d98e8fec45a2825d0775e17f8b34",
       "_model_module_version": "^0.13",
       "_view_module_version": "^0.13",
       "height": 256,
       "layout": "IPY_MODEL_e4138fbed76940a09a411ce07778e06c",
       "width": 254
      }
     },
     "14517c8ca11f476d9bdb8009cca955eb": {
      "model_module": "@jupyter-widgets/controls",
      "model_module_version": "2.0.0",
      "model_name": "VBoxModel",
      "state": {
       "children": [
        "IPY_MODEL_b435bfefab124b878112b11dd0b41bc8",
        "IPY_MODEL_b183345d38d84db8891fb07d94719d3f"
       ],
       "layout": "IPY_MODEL_8b595f649f654d128fba8268f8f97139"
      }
     },
     "1471f682ae414d47b3db4652918590ce": {
      "model_module": "@jupyter-widgets/controls",
      "model_module_version": "2.0.0",
      "model_name": "VBoxModel",
      "state": {
       "_dom_classes": [
        "widget-interact"
       ],
       "children": [
        "IPY_MODEL_361f5acd819d40f2b35b040c02099bb4",
        "IPY_MODEL_cdf89cbdc17b48b4aa27a2b58027734b",
        "IPY_MODEL_0043e61dd3b04a8f8b68b2ec5f966b49"
       ],
       "layout": "IPY_MODEL_a0b6653dd0d84d6286c06799c03c96f6"
      }
     },
     "1490e1803aee40bea42fd24fe9d4fef0": {
      "model_module": "@jupyter-widgets/base",
      "model_module_version": "2.0.0",
      "model_name": "LayoutModel",
      "state": {}
     },
     "1503ec12c8fc4ff788aee721107efae5": {
      "model_module": "@jupyter-widgets/base",
      "model_module_version": "2.0.0",
      "model_name": "LayoutModel",
      "state": {}
     },
     "1508f7cd23164e5e887d7213b496beab": {
      "model_module": "@jupyter-widgets/controls",
      "model_module_version": "2.0.0",
      "model_name": "HBoxModel",
      "state": {
       "children": [
        "IPY_MODEL_1340f7dcdf034b42b1e08c22e097f868"
       ],
       "layout": "IPY_MODEL_0e5ec8706be14e9bbaee82d8083d770d"
      }
     },
     "1633cd16690d45a2bf1425e7ce1ce85c": {
      "model_module": "@jupyter-widgets/controls",
      "model_module_version": "2.0.0",
      "model_name": "IntSliderModel",
      "state": {
       "behavior": "drag-tap",
       "description": "Y",
       "layout": "IPY_MODEL_45a4a8813d1247d9bc20f3083a7dbe33",
       "max": 159,
       "style": "IPY_MODEL_b35246ba68d24ac1ae733cb9010bf5ba",
       "value": 80
      }
     },
     "164f5abf043347eeb093fcffc22c8303": {
      "model_module": "ipycanvas",
      "model_module_version": "^0.13",
      "model_name": "CanvasModel",
      "state": {
       "_canvas_manager": "IPY_MODEL_c3d9d98e8fec45a2825d0775e17f8b34",
       "_model_module_version": "^0.13",
       "_view_module_version": "^0.13",
       "height": 389,
       "layout": "IPY_MODEL_18c41a2db51e459f8c4945de24e64701",
       "width": 235
      }
     },
     "16a643867c49460c96cc1cd761c7a965": {
      "model_module": "@jupyter-widgets/controls",
      "model_module_version": "2.0.0",
      "model_name": "VBoxModel",
      "state": {
       "children": [
        "IPY_MODEL_2fef29e99da34d098e93dff53788a9b8",
        "IPY_MODEL_4e04089732d448b39ea8bf7ff113440e"
       ],
       "layout": "IPY_MODEL_9a494b86135c4bae9bcfdfb2c38190c3"
      }
     },
     "1795fc875294482db64c9de49a02ffbd": {
      "model_module": "@jupyter-widgets/controls",
      "model_module_version": "2.0.0",
      "model_name": "SliderStyleModel",
      "state": {
       "description_width": ""
      }
     },
     "181023488df24173a8d73a7c8551f7b1": {
      "model_module": "@jupyter-widgets/base",
      "model_module_version": "2.0.0",
      "model_name": "LayoutModel",
      "state": {}
     },
     "18c41a2db51e459f8c4945de24e64701": {
      "model_module": "@jupyter-widgets/base",
      "model_module_version": "2.0.0",
      "model_name": "LayoutModel",
      "state": {}
     },
     "19e3cdc64f2e401a8f3a809ce12e42f8": {
      "model_module": "@jupyter-widgets/base",
      "model_module_version": "2.0.0",
      "model_name": "LayoutModel",
      "state": {}
     },
     "1ddba3590bcd4519aaba5fde681040c5": {
      "model_module": "@jupyter-widgets/base",
      "model_module_version": "2.0.0",
      "model_name": "LayoutModel",
      "state": {}
     },
     "2383d96ac6714d43a017b5de7c1a1588": {
      "model_module": "@jupyter-widgets/controls",
      "model_module_version": "2.0.0",
      "model_name": "HBoxModel",
      "state": {
       "children": [
        "IPY_MODEL_67e8a348baf74afba67d23f15ba15a89"
       ],
       "layout": "IPY_MODEL_2973139d0c3f41cf8f92b47a3f91ca01"
      }
     },
     "23ee280c9a27482b87ac78fd5c2dbe03": {
      "model_module": "@jupyter-widgets/controls",
      "model_module_version": "2.0.0",
      "model_name": "VBoxModel",
      "state": {
       "children": [
        "IPY_MODEL_2a6850c3276c4db199df68ffd86ce246",
        "IPY_MODEL_3e64387bf3dc4b95b3b4d07c85f7986c",
        "IPY_MODEL_6479848ac1d3438cbe9dd12dbe46ee45"
       ],
       "layout": "IPY_MODEL_8ce5e12428624cc0b731d67b149f6f63"
      }
     },
     "26c979dfd42444bca5cd29c23886716c": {
      "model_module": "@jupyter-widgets/controls",
      "model_module_version": "2.0.0",
      "model_name": "IntSliderModel",
      "state": {
       "behavior": "drag-tap",
       "description": "X",
       "layout": "IPY_MODEL_552edd9022e447968b4c0464fc2027b1",
       "max": 159,
       "style": "IPY_MODEL_40366dd913ab413f9172c16c50db04c2",
       "value": 80
      }
     },
     "27f0a54336224b9c81f353e6a5a35901": {
      "model_module": "@jupyter-widgets/controls",
      "model_module_version": "2.0.0",
      "model_name": "HBoxModel",
      "state": {
       "children": [
        "IPY_MODEL_eb935b3b8883442aa15eb8ce3c321c17"
       ],
       "layout": "IPY_MODEL_b0cda1f3162c4e00a561eb8f01edad8a"
      }
     },
     "284d99603c33494cbcf01b71eb53e227": {
      "model_module": "@jupyter-widgets/base",
      "model_module_version": "2.0.0",
      "model_name": "LayoutModel",
      "state": {}
     },
     "2973139d0c3f41cf8f92b47a3f91ca01": {
      "model_module": "@jupyter-widgets/base",
      "model_module_version": "2.0.0",
      "model_name": "LayoutModel",
      "state": {}
     },
     "298bc410389b484890248f21fe95f0a6": {
      "model_module": "@jupyter-widgets/controls",
      "model_module_version": "2.0.0",
      "model_name": "VBoxModel",
      "state": {
       "children": [
        "IPY_MODEL_57a4db7519a74e299fe3c940a017b347"
       ],
       "layout": "IPY_MODEL_8b00a8064dda465bb0564a884b17fad1"
      }
     },
     "29943e5fee0d462b9a8ed15eb79238b7": {
      "model_module": "@jupyter-widgets/controls",
      "model_module_version": "2.0.0",
      "model_name": "SliderStyleModel",
      "state": {
       "description_width": ""
      }
     },
     "2a6850c3276c4db199df68ffd86ce246": {
      "model_module": "@jupyter-widgets/controls",
      "model_module_version": "2.0.0",
      "model_name": "HBoxModel",
      "state": {
       "children": [
        "IPY_MODEL_e61157b490da4e45bdf2a5db296e12f3"
       ],
       "layout": "IPY_MODEL_2b5df4cb56344e6e8fb42f138edd3686"
      }
     },
     "2b097badf14d43b7bb1239d12eaf33e8": {
      "model_module": "@jupyter-widgets/controls",
      "model_module_version": "2.0.0",
      "model_name": "VBoxModel",
      "state": {
       "children": [
        "IPY_MODEL_88d8e57e7346460b923673de069915df"
       ],
       "layout": "IPY_MODEL_fa1bff7437fb406b8ca726532ace518d"
      }
     },
     "2b5df4cb56344e6e8fb42f138edd3686": {
      "model_module": "@jupyter-widgets/base",
      "model_module_version": "2.0.0",
      "model_name": "LayoutModel",
      "state": {}
     },
     "2b63c23f38734f1893bce8e5cdd14e79": {
      "model_module": "@jupyter-widgets/controls",
      "model_module_version": "2.0.0",
      "model_name": "SliderStyleModel",
      "state": {
       "description_width": ""
      }
     },
     "2e95d7947726444fbad5ab09f25ad24d": {
      "model_module": "@jupyter-widgets/controls",
      "model_module_version": "2.0.0",
      "model_name": "SliderStyleModel",
      "state": {
       "description_width": ""
      }
     },
     "2f243f24062349ea9b2815606a522c84": {
      "model_module": "ipycanvas",
      "model_module_version": "^0.13",
      "model_name": "CanvasModel",
      "state": {
       "_canvas_manager": "IPY_MODEL_c3d9d98e8fec45a2825d0775e17f8b34",
       "_model_module_version": "^0.13",
       "_view_module_version": "^0.13",
       "height": 256,
       "layout": "IPY_MODEL_4799c2f2711349b3bda9d1b9613e173e",
       "width": 254
      }
     },
     "2fef29e99da34d098e93dff53788a9b8": {
      "model_module": "@jupyter-widgets/controls",
      "model_module_version": "2.0.0",
      "model_name": "HBoxModel",
      "state": {
       "children": [
        "IPY_MODEL_62552b6ff0434b0b84f542bbd2ee2dc2"
       ],
       "layout": "IPY_MODEL_edeea92014de48b7a95343f4c1e09955"
      }
     },
     "30e5800591ee4ccfb53ad18bcf7f3e8e": {
      "model_module": "@jupyter-widgets/controls",
      "model_module_version": "2.0.0",
      "model_name": "FloatSliderModel",
      "state": {
       "behavior": "drag-tap",
       "continuous_update": false,
       "layout": "IPY_MODEL_56cf6b2675bd4007882d42605151ee5a",
       "max": 10,
       "style": "IPY_MODEL_6c29203a97484d2e8df4509ec7436e6f",
       "value": 1
      }
     },
     "3189f40f59604cc4b98574e50f982990": {
      "model_module": "@jupyter-widgets/base",
      "model_module_version": "2.0.0",
      "model_name": "LayoutModel",
      "state": {}
     },
     "31a54ef70be842c9a31c2c7d2c033b36": {
      "model_module": "@jupyter-widgets/controls",
      "model_module_version": "2.0.0",
      "model_name": "HBoxModel",
      "state": {
       "children": [
        "IPY_MODEL_298bc410389b484890248f21fe95f0a6"
       ],
       "layout": "IPY_MODEL_c9210c7defe74b7ab245f627d86347b4"
      }
     },
     "31b114b7f64445f7b6a7a009bf57e6f8": {
      "model_module": "ipycanvas",
      "model_module_version": "^0.13",
      "model_name": "CanvasModel",
      "state": {
       "_canvas_manager": "IPY_MODEL_c3d9d98e8fec45a2825d0775e17f8b34",
       "_model_module_version": "^0.13",
       "_view_module_version": "^0.13",
       "height": 160,
       "layout": "IPY_MODEL_0eff0bdefbf8479ca23c8ddf3239f0ea",
       "width": 160
      }
     },
     "32486595091449f8b67dd802f118b246": {
      "model_module": "@jupyter-widgets/controls",
      "model_module_version": "2.0.0",
      "model_name": "VBoxModel",
      "state": {
       "children": [
        "IPY_MODEL_eb1d05a7d3e14ace96da0316d0f5d714"
       ],
       "layout": "IPY_MODEL_0c74bcca58204e378811254ea48f639a"
      }
     },
     "32c2f002f9264f76a68e5330883d15a4": {
      "model_module": "ipycanvas",
      "model_module_version": "^0.13",
      "model_name": "CanvasModel",
      "state": {
       "_canvas_manager": "IPY_MODEL_c3d9d98e8fec45a2825d0775e17f8b34",
       "_model_module_version": "^0.13",
       "_view_module_version": "^0.13",
       "height": 160,
       "layout": "IPY_MODEL_d2d98eb58eae4bd4a3e3adf385236072",
       "width": 160
      }
     },
     "332fa3570d3547dfb20c23ca8f0c2359": {
      "model_module": "@jupyter-widgets/base",
      "model_module_version": "2.0.0",
      "model_name": "LayoutModel",
      "state": {}
     },
     "34604f588a464126a1d80f79646730cb": {
      "model_module": "@jupyter-widgets/base",
      "model_module_version": "2.0.0",
      "model_name": "LayoutModel",
      "state": {}
     },
     "346d261a098046a59650394759f27600": {
      "model_module": "@jupyter-widgets/base",
      "model_module_version": "2.0.0",
      "model_name": "LayoutModel",
      "state": {}
     },
     "361f5acd819d40f2b35b040c02099bb4": {
      "model_module": "@jupyter-widgets/controls",
      "model_module_version": "2.0.0",
      "model_name": "FloatSliderModel",
      "state": {
       "behavior": "drag-tap",
       "continuous_update": false,
       "description": "sigma",
       "layout": "IPY_MODEL_862fe7c40b2b43c087b757ef6e2ea59b",
       "max": 10,
       "style": "IPY_MODEL_65872763e35946089c61734c88585db9",
       "value": 1
      }
     },
     "363ae02f00bb4be78fcca8e7d3b96e6a": {
      "model_module": "@jupyter-widgets/controls",
      "model_module_version": "2.0.0",
      "model_name": "IntSliderModel",
      "state": {
       "behavior": "drag-tap",
       "description": "Slice",
       "layout": "IPY_MODEL_dd6b8a226f104870bca9adb2852f15f0",
       "max": 119,
       "style": "IPY_MODEL_fea1b1fab9794487af89e7bd80e6c321",
       "value": 60
      }
     },
     "36703aee438a447fbb5e0c59c0c7ef1e": {
      "model_module": "ipycanvas",
      "model_module_version": "^0.13",
      "model_name": "CanvasModel",
      "state": {
       "_canvas_manager": "IPY_MODEL_c3d9d98e8fec45a2825d0775e17f8b34",
       "_model_module_version": "^0.13",
       "_view_module_version": "^0.13",
       "height": 389,
       "layout": "IPY_MODEL_8bd1322b51e44b5a90093ef66d45d1fd",
       "width": 235
      }
     },
     "374131ed0261421fbe5dcabd7f0acf35": {
      "model_module": "@jupyter-widgets/controls",
      "model_module_version": "2.0.0",
      "model_name": "LabelStyleModel",
      "state": {
       "description_width": "",
       "font_family": null,
       "font_size": null,
       "font_style": null,
       "font_variant": null,
       "font_weight": null,
       "text_color": null,
       "text_decoration": null
      }
     },
     "3a97bc6637a045c28bc21c7fe808a7c9": {
      "model_module": "@jupyter-widgets/base",
      "model_module_version": "2.0.0",
      "model_name": "LayoutModel",
      "state": {}
     },
     "3c3826254cfa40878bf2403f200c74e6": {
      "model_module": "@jupyter-widgets/controls",
      "model_module_version": "2.0.0",
      "model_name": "VBoxModel",
      "state": {
       "children": [
        "IPY_MODEL_aa677b28fc114b539361d4628f170a6b",
        "IPY_MODEL_363ae02f00bb4be78fcca8e7d3b96e6a",
        "IPY_MODEL_aa9269c4b7d34523a1d05c913735e61e"
       ],
       "layout": "IPY_MODEL_bd4d57367ddf42fb814003275eee16a8"
      }
     },
     "3cbb8a3272264cb6998b2f2abb6b9a4d": {
      "model_module": "@jupyter-widgets/base",
      "model_module_version": "2.0.0",
      "model_name": "LayoutModel",
      "state": {}
     },
     "3e64387bf3dc4b95b3b4d07c85f7986c": {
      "model_module": "@jupyter-widgets/controls",
      "model_module_version": "2.0.0",
      "model_name": "IntSliderModel",
      "state": {
       "behavior": "drag-tap",
       "description": "Slice",
       "layout": "IPY_MODEL_346d261a098046a59650394759f27600",
       "max": 119,
       "style": "IPY_MODEL_b5d527aad281432c8f323d29090f1f7d",
       "value": 60
      }
     },
     "3ee1bfa1e6f240b99c4cd5bfef399989": {
      "model_module": "@jupyter-widgets/base",
      "model_module_version": "2.0.0",
      "model_name": "LayoutModel",
      "state": {}
     },
     "3fdca7d8be514c74aa45b0a326e9080e": {
      "model_module": "@jupyter-widgets/controls",
      "model_module_version": "2.0.0",
      "model_name": "SliderStyleModel",
      "state": {
       "description_width": ""
      }
     },
     "4008af73e49c49eca84833a3475db2f7": {
      "model_module": "@jupyter-widgets/base",
      "model_module_version": "2.0.0",
      "model_name": "LayoutModel",
      "state": {}
     },
     "40366dd913ab413f9172c16c50db04c2": {
      "model_module": "@jupyter-widgets/controls",
      "model_module_version": "2.0.0",
      "model_name": "SliderStyleModel",
      "state": {
       "description_width": ""
      }
     },
     "4049f7732a6e418d998e5b6126ab6029": {
      "model_module": "@jupyter-widgets/base",
      "model_module_version": "2.0.0",
      "model_name": "LayoutModel",
      "state": {}
     },
     "4195bb3f20984176b1c76b13888cf34a": {
      "model_module": "@jupyter-widgets/controls",
      "model_module_version": "2.0.0",
      "model_name": "VBoxModel",
      "state": {
       "children": [
        "IPY_MODEL_721fdd1839b048658ff00c05d06e658f",
        "IPY_MODEL_0c8fa479f2f54fffa5e248147134788a"
       ],
       "layout": "IPY_MODEL_0c11fe48b90946c3a99b6fe0d433c6f7"
      }
     },
     "43e3ee2e78b34daeb652d1e8c8d872a5": {
      "model_module": "@jupyter-widgets/controls",
      "model_module_version": "2.0.0",
      "model_name": "VBoxModel",
      "state": {
       "children": [
        "IPY_MODEL_103e88947e5145cdb429188319338f1c"
       ],
       "layout": "IPY_MODEL_d4be817dda654195b27f091fff442450"
      }
     },
     "452b77ab08674bfcb8325183618002f7": {
      "model_module": "@jupyter-widgets/controls",
      "model_module_version": "2.0.0",
      "model_name": "HBoxModel",
      "state": {
       "children": [
        "IPY_MODEL_d69f5444b5a14be38e60e12bbb76d877"
       ],
       "layout": "IPY_MODEL_9cb48a6ed46446b6893a2a0eb019b6ac"
      }
     },
     "45a4a8813d1247d9bc20f3083a7dbe33": {
      "model_module": "@jupyter-widgets/base",
      "model_module_version": "2.0.0",
      "model_name": "LayoutModel",
      "state": {}
     },
     "45deff7b99534f77b7b43bc2c5bccc0a": {
      "model_module": "@jupyter-widgets/base",
      "model_module_version": "2.0.0",
      "model_name": "LayoutModel",
      "state": {}
     },
     "46729a4e0ce2418084b151134d982fcc": {
      "model_module": "@jupyter-widgets/controls",
      "model_module_version": "2.0.0",
      "model_name": "SliderStyleModel",
      "state": {
       "description_width": ""
      }
     },
     "4799c2f2711349b3bda9d1b9613e173e": {
      "model_module": "@jupyter-widgets/base",
      "model_module_version": "2.0.0",
      "model_name": "LayoutModel",
      "state": {}
     },
     "49725ea39d8c45d39323fc8ef454ee60": {
      "model_module": "@jupyter-widgets/base",
      "model_module_version": "2.0.0",
      "model_name": "LayoutModel",
      "state": {}
     },
     "4c5c30efa27148d194d477850d01b9ed": {
      "model_module": "@jupyter-widgets/controls",
      "model_module_version": "2.0.0",
      "model_name": "LabelStyleModel",
      "state": {
       "description_width": "",
       "font_family": null,
       "font_size": null,
       "font_style": null,
       "font_variant": null,
       "font_weight": null,
       "text_color": null,
       "text_decoration": null
      }
     },
     "4cefa945744543c283f5564b84447a50": {
      "model_module": "@jupyter-widgets/base",
      "model_module_version": "2.0.0",
      "model_name": "LayoutModel",
      "state": {}
     },
     "4d3f0d60dff6483f98d30c58fe07bf16": {
      "model_module": "@jupyter-widgets/base",
      "model_module_version": "2.0.0",
      "model_name": "LayoutModel",
      "state": {}
     },
     "4d8e9f5a3d6a4f708e648436765f3a26": {
      "model_module": "@jupyter-widgets/controls",
      "model_module_version": "2.0.0",
      "model_name": "VBoxModel",
      "state": {
       "children": [
        "IPY_MODEL_27f0a54336224b9c81f353e6a5a35901",
        "IPY_MODEL_0b1447c5d5b540c3b5ecba3fc1440e92"
       ],
       "layout": "IPY_MODEL_0500d5df9f18493d95ec6472ee104c7c"
      }
     },
     "4e04089732d448b39ea8bf7ff113440e": {
      "model_module": "@jupyter-widgets/controls",
      "model_module_version": "2.0.0",
      "model_name": "LabelModel",
      "state": {
       "layout": "IPY_MODEL_19e3cdc64f2e401a8f3a809ce12e42f8",
       "style": "IPY_MODEL_4c5c30efa27148d194d477850d01b9ed",
       "value": "gaussian(..., sigma=1.0)"
      }
     },
     "4f5889b807e44ec5a4047ff611fbd41e": {
      "model_module": "@jupyter-widgets/controls",
      "model_module_version": "2.0.0",
      "model_name": "VBoxModel",
      "state": {
       "_dom_classes": [
        "widget-interact"
       ],
       "children": [
        "IPY_MODEL_044cb46ae9e74cf2b1f1da68e2fbeefe",
        "IPY_MODEL_55e3db881de74ab98d127810ab984562"
       ],
       "layout": "IPY_MODEL_aa5cd13583834d198acb469a350140d8"
      }
     },
     "54cf8b4bb29a449ebe83e249dff8b161": {
      "model_module": "@jupyter-widgets/controls",
      "model_module_version": "2.0.0",
      "model_name": "HBoxModel",
      "state": {
       "children": [
        "IPY_MODEL_87fac1c9e49b486b924b9c2d7bb6e862"
       ],
       "layout": "IPY_MODEL_284d99603c33494cbcf01b71eb53e227"
      }
     },
     "552edd9022e447968b4c0464fc2027b1": {
      "model_module": "@jupyter-widgets/base",
      "model_module_version": "2.0.0",
      "model_name": "LayoutModel",
      "state": {}
     },
     "5577593decb245e7b327d1c0b000b08f": {
      "model_module": "@jupyter-widgets/controls",
      "model_module_version": "2.0.0",
      "model_name": "VBoxModel",
      "state": {
       "children": [
        "IPY_MODEL_7dce94d5bd704f4a8d6b8925ae3c6854"
       ],
       "layout": "IPY_MODEL_dc3ca44aca5a45bcbe37a450bb79ee54"
      }
     },
     "55e3db881de74ab98d127810ab984562": {
      "model_module": "@jupyter-widgets/output",
      "model_module_version": "1.0.0",
      "model_name": "OutputModel",
      "state": {
       "layout": "IPY_MODEL_6e66d079dd154ca88aa6118120d2de0e"
      }
     },
     "56172a608e744a6db560f0a477e9f37d": {
      "model_module": "@jupyter-widgets/controls",
      "model_module_version": "2.0.0",
      "model_name": "HBoxModel",
      "state": {
       "children": [
        "IPY_MODEL_5577593decb245e7b327d1c0b000b08f"
       ],
       "layout": "IPY_MODEL_bea93f0c72f84911a4e15fae10e27e39"
      }
     },
     "566ebc56a2c843b186a63652e8a44007": {
      "model_module": "@jupyter-widgets/controls",
      "model_module_version": "2.0.0",
      "model_name": "HBoxModel",
      "state": {
       "children": [
        "IPY_MODEL_c615c9f790ec4466800f8e00f6704692"
       ],
       "layout": "IPY_MODEL_66fb38420923488e95d9b328368931e4"
      }
     },
     "56cf6b2675bd4007882d42605151ee5a": {
      "model_module": "@jupyter-widgets/base",
      "model_module_version": "2.0.0",
      "model_name": "LayoutModel",
      "state": {}
     },
     "57a4db7519a74e299fe3c940a017b347": {
      "model_module": "ipycanvas",
      "model_module_version": "^0.13",
      "model_name": "CanvasModel",
      "state": {
       "_canvas_manager": "IPY_MODEL_c3d9d98e8fec45a2825d0775e17f8b34",
       "_model_module_version": "^0.13",
       "_view_module_version": "^0.13",
       "height": 254,
       "layout": "IPY_MODEL_ba1726c33889440eba2faf7f04cf4d88",
       "width": 256
      }
     },
     "5861762be7d84ec9b9e64e2d3224931b": {
      "model_module": "@jupyter-widgets/base",
      "model_module_version": "2.0.0",
      "model_name": "LayoutModel",
      "state": {}
     },
     "5b88a04b3d7843449b279e166f16a031": {
      "model_module": "@jupyter-widgets/base",
      "model_module_version": "2.0.0",
      "model_name": "LayoutModel",
      "state": {}
     },
     "5dea069a561a42dfa9a6b301fcd65b52": {
      "model_module": "@jupyter-widgets/controls",
      "model_module_version": "2.0.0",
      "model_name": "LabelModel",
      "state": {
       "layout": "IPY_MODEL_4d3f0d60dff6483f98d30c58fe07bf16",
       "style": "IPY_MODEL_ad0db6624479487fa9668694f84ebc62",
       "value": "[y=19, x=74] = 1"
      }
     },
     "5f182d436bb74392954824e12c8d2a51": {
      "model_module": "@jupyter-widgets/base",
      "model_module_version": "2.0.0",
      "model_name": "LayoutModel",
      "state": {}
     },
     "5f2b3610cc314150a28798a54ba9c101": {
      "model_module": "@jupyter-widgets/controls",
      "model_module_version": "2.0.0",
      "model_name": "IntSliderModel",
      "state": {
       "behavior": "drag-tap",
       "description": "Slice",
       "layout": "IPY_MODEL_b21b30dbd08a497eb7cf5e9ec9e495dd",
       "max": 119,
       "style": "IPY_MODEL_6e2e558b3e194d2fa2bd095e69eed2ba",
       "value": 60
      }
     },
     "606277142c354eb2a8db5b691897035c": {
      "model_module": "@jupyter-widgets/controls",
      "model_module_version": "2.0.0",
      "model_name": "HBoxModel",
      "state": {
       "children": [
        "IPY_MODEL_8ddb8dc8261d4ac9b6deecd31145cbb8"
       ],
       "layout": "IPY_MODEL_6c8ce5f25e224841918a4410ed562272"
      }
     },
     "61531c24e355447da65ebacfdde68bd4": {
      "model_module": "@jupyter-widgets/base",
      "model_module_version": "2.0.0",
      "model_name": "LayoutModel",
      "state": {}
     },
     "61732cff47644356bedd9e5aa442baa0": {
      "model_module": "@jupyter-widgets/controls",
      "model_module_version": "2.0.0",
      "model_name": "IntSliderModel",
      "state": {
       "behavior": "drag-tap",
       "description": "Slice",
       "layout": "IPY_MODEL_f1879187c641457e85ea8c6874752abc",
       "max": 99,
       "style": "IPY_MODEL_734ee96c483e426694fc2db3326bd6a6",
       "value": 51
      }
     },
     "62552b6ff0434b0b84f542bbd2ee2dc2": {
      "model_module": "@jupyter-widgets/controls",
      "model_module_version": "2.0.0",
      "model_name": "VBoxModel",
      "state": {
       "children": [
        "IPY_MODEL_2f243f24062349ea9b2815606a522c84"
       ],
       "layout": "IPY_MODEL_181023488df24173a8d73a7c8551f7b1"
      }
     },
     "63b3bf4a6cae490885bad7b0bd0ae499": {
      "model_module": "@jupyter-widgets/base",
      "model_module_version": "2.0.0",
      "model_name": "LayoutModel",
      "state": {}
     },
     "6479848ac1d3438cbe9dd12dbe46ee45": {
      "model_module": "@jupyter-widgets/controls",
      "model_module_version": "2.0.0",
      "model_name": "IntSliderModel",
      "state": {
       "behavior": "drag-tap",
       "description": "Curtain",
       "layout": "IPY_MODEL_f2ff3bb311c0458da96c3f999f585e8f",
       "max": 160,
       "style": "IPY_MODEL_0e29881147a043b184b73ffb1f3873b3",
       "value": 80
      }
     },
     "65872763e35946089c61734c88585db9": {
      "model_module": "@jupyter-widgets/controls",
      "model_module_version": "2.0.0",
      "model_name": "SliderStyleModel",
      "state": {
       "description_width": ""
      }
     },
     "66ae44abb3ee4ea78e5dfb52540e8d00": {
      "model_module": "ipycanvas",
      "model_module_version": "^0.13",
      "model_name": "CanvasModel",
      "state": {
       "_canvas_manager": "IPY_MODEL_c3d9d98e8fec45a2825d0775e17f8b34",
       "_model_module_version": "^0.13",
       "_view_module_version": "^0.13",
       "height": 160,
       "layout": "IPY_MODEL_b4e295dd1c0d4154af4a5709f1a9b053",
       "width": 160
      }
     },
     "66d158652b6c498b8910a0f733cf9e5d": {
      "model_module": "@jupyter-widgets/base",
      "model_module_version": "2.0.0",
      "model_name": "LayoutModel",
      "state": {}
     },
     "66fb38420923488e95d9b328368931e4": {
      "model_module": "@jupyter-widgets/base",
      "model_module_version": "2.0.0",
      "model_name": "LayoutModel",
      "state": {}
     },
     "67e8a348baf74afba67d23f15ba15a89": {
      "model_module": "@jupyter-widgets/controls",
      "model_module_version": "2.0.0",
      "model_name": "VBoxModel",
      "state": {
       "children": [
        "IPY_MODEL_6982b57546de404a9c93d2b1d5cfe682"
       ],
       "layout": "IPY_MODEL_6af3c5b18f8d4086977294cd7e35c6b8"
      }
     },
     "6982b57546de404a9c93d2b1d5cfe682": {
      "model_module": "ipycanvas",
      "model_module_version": "^0.13",
      "model_name": "CanvasModel",
      "state": {
       "_canvas_manager": "IPY_MODEL_c3d9d98e8fec45a2825d0775e17f8b34",
       "_model_module_version": "^0.13",
       "_view_module_version": "^0.13",
       "height": 160,
       "layout": "IPY_MODEL_96ffb3af5dca47018f93c371e572d605",
       "width": 160
      }
     },
     "6a1895281fd5466fac179089b147d5d3": {
      "model_module": "@jupyter-widgets/base",
      "model_module_version": "2.0.0",
      "model_name": "LayoutModel",
      "state": {}
     },
     "6af3c5b18f8d4086977294cd7e35c6b8": {
      "model_module": "@jupyter-widgets/base",
      "model_module_version": "2.0.0",
      "model_name": "LayoutModel",
      "state": {}
     },
     "6c29203a97484d2e8df4509ec7436e6f": {
      "model_module": "@jupyter-widgets/controls",
      "model_module_version": "2.0.0",
      "model_name": "SliderStyleModel",
      "state": {
       "description_width": ""
      }
     },
     "6c71ea37d1c24fd9bd659d9dc6312d28": {
      "model_module": "@jupyter-widgets/controls",
      "model_module_version": "2.0.0",
      "model_name": "SliderStyleModel",
      "state": {
       "description_width": ""
      }
     },
     "6c8ce5f25e224841918a4410ed562272": {
      "model_module": "@jupyter-widgets/base",
      "model_module_version": "2.0.0",
      "model_name": "LayoutModel",
      "state": {}
     },
     "6d791a3ffb2a4ea98ee65a3aae6612be": {
      "model_module": "@jupyter-widgets/base",
      "model_module_version": "2.0.0",
      "model_name": "LayoutModel",
      "state": {}
     },
     "6dfda0affa164b2b948f75f813113967": {
      "model_module": "@jupyter-widgets/controls",
      "model_module_version": "2.0.0",
      "model_name": "SliderStyleModel",
      "state": {
       "description_width": ""
      }
     },
     "6e2e558b3e194d2fa2bd095e69eed2ba": {
      "model_module": "@jupyter-widgets/controls",
      "model_module_version": "2.0.0",
      "model_name": "SliderStyleModel",
      "state": {
       "description_width": ""
      }
     },
     "6e66d079dd154ca88aa6118120d2de0e": {
      "model_module": "@jupyter-widgets/base",
      "model_module_version": "2.0.0",
      "model_name": "LayoutModel",
      "state": {}
     },
     "6fbd1660e00e4231be64a7b75a572e7d": {
      "model_module": "@jupyter-widgets/controls",
      "model_module_version": "2.0.0",
      "model_name": "LabelStyleModel",
      "state": {
       "description_width": "",
       "font_family": null,
       "font_size": null,
       "font_style": null,
       "font_variant": null,
       "font_weight": null,
       "text_color": null,
       "text_decoration": null
      }
     },
     "721fdd1839b048658ff00c05d06e658f": {
      "model_module": "@jupyter-widgets/controls",
      "model_module_version": "2.0.0",
      "model_name": "HBoxModel",
      "state": {
       "children": [
        "IPY_MODEL_05cc1ff819d04856954597daa0bf8304"
       ],
       "layout": "IPY_MODEL_66d158652b6c498b8910a0f733cf9e5d"
      }
     },
     "729002faa79f4fc1b955af1af44ee1b4": {
      "model_module": "@jupyter-widgets/base",
      "model_module_version": "2.0.0",
      "model_name": "LayoutModel",
      "state": {}
     },
     "73447f3d8f87461e9b8b04ebf0a38282": {
      "model_module": "@jupyter-widgets/base",
      "model_module_version": "2.0.0",
      "model_name": "LayoutModel",
      "state": {}
     },
     "734ee96c483e426694fc2db3326bd6a6": {
      "model_module": "@jupyter-widgets/controls",
      "model_module_version": "2.0.0",
      "model_name": "SliderStyleModel",
      "state": {
       "description_width": ""
      }
     },
     "7360bb9cb3dd4d0faed803d17aa3f970": {
      "model_module": "@jupyter-widgets/base",
      "model_module_version": "2.0.0",
      "model_name": "LayoutModel",
      "state": {}
     },
     "7378e4e0bda2417b8f3992356dbb1ee4": {
      "model_module": "@jupyter-widgets/controls",
      "model_module_version": "2.0.0",
      "model_name": "HBoxModel",
      "state": {
       "children": [
        "IPY_MODEL_7bdfdc26162d41bfbb349f1f0b07cae3",
        "IPY_MODEL_949177b9abfa4565998486c6d2635314",
        "IPY_MODEL_bdccda9e43b14010adfd1c62e0c0143d"
       ],
       "layout": "IPY_MODEL_1208ec418fa244289f9408993a6a1f8f"
      }
     },
     "769e3c14ec6c457e854b985ea00afada": {
      "model_module": "@jupyter-widgets/base",
      "model_module_version": "2.0.0",
      "model_name": "LayoutModel",
      "state": {}
     },
     "7708fa25cfea4589861798a9bad817e8": {
      "model_module": "@jupyter-widgets/base",
      "model_module_version": "2.0.0",
      "model_name": "LayoutModel",
      "state": {}
     },
     "77c537b251c14550910dbf3048151004": {
      "model_module": "@jupyter-widgets/base",
      "model_module_version": "2.0.0",
      "model_name": "LayoutModel",
      "state": {}
     },
     "784a976c95e74a0193620aca3f100ce4": {
      "model_module": "@jupyter-widgets/base",
      "model_module_version": "2.0.0",
      "model_name": "LayoutModel",
      "state": {}
     },
     "78c4ae57b516422ba2606a55d6c0f0b6": {
      "model_module": "@jupyter-widgets/controls",
      "model_module_version": "2.0.0",
      "model_name": "FloatSliderModel",
      "state": {
       "behavior": "drag-tap",
       "description": "sigma",
       "layout": "IPY_MODEL_d2ba4b6a9aba438991d1391c647080b4",
       "step": 0.1,
       "style": "IPY_MODEL_6dfda0affa164b2b948f75f813113967"
      }
     },
     "799e150679ac479dbb5350d4d7a63a7f": {
      "model_module": "@jupyter-widgets/base",
      "model_module_version": "2.0.0",
      "model_name": "LayoutModel",
      "state": {}
     },
     "7af48ba64e65414ea19654e88037d310": {
      "model_module": "@jupyter-widgets/base",
      "model_module_version": "2.0.0",
      "model_name": "LayoutModel",
      "state": {}
     },
     "7bdfdc26162d41bfbb349f1f0b07cae3": {
      "model_module": "@jupyter-widgets/controls",
      "model_module_version": "2.0.0",
      "model_name": "VBoxModel",
      "state": {
       "children": [
        "IPY_MODEL_2383d96ac6714d43a017b5de7c1a1588",
        "IPY_MODEL_0a6541b3b4bc48f6b3171a64c2275d26"
       ],
       "layout": "IPY_MODEL_45deff7b99534f77b7b43bc2c5bccc0a"
      }
     },
     "7dce94d5bd704f4a8d6b8925ae3c6854": {
      "model_module": "ipycanvas",
      "model_module_version": "^0.13",
      "model_name": "CanvasModel",
      "state": {
       "_canvas_manager": "IPY_MODEL_c3d9d98e8fec45a2825d0775e17f8b34",
       "_model_module_version": "^0.13",
       "_view_module_version": "^0.13",
       "height": 160,
       "layout": "IPY_MODEL_e7cd0e32c5da4b1f8e8ffc7085c3ea96",
       "width": 120
      }
     },
     "7fff7cad7a254f31a4c2217e1a77d53a": {
      "model_module": "@jupyter-widgets/controls",
      "model_module_version": "2.0.0",
      "model_name": "VBoxModel",
      "state": {
       "children": [
        "IPY_MODEL_606277142c354eb2a8db5b691897035c",
        "IPY_MODEL_5dea069a561a42dfa9a6b301fcd65b52"
       ],
       "layout": "IPY_MODEL_3a97bc6637a045c28bc21c7fe808a7c9"
      }
     },
     "84af62e04b2c42479691072792fdd2ff": {
      "model_module": "@jupyter-widgets/controls",
      "model_module_version": "2.0.0",
      "model_name": "VBoxModel",
      "state": {
       "children": [
        "IPY_MODEL_ddcb35fd37524a698d45bba341c0505c",
        "IPY_MODEL_61732cff47644356bedd9e5aa442baa0"
       ],
       "layout": "IPY_MODEL_d4cd6447eec6472fbbab0478ce91d5bc"
      }
     },
     "85da96c4946341058e44b608c95c4001": {
      "model_module": "@jupyter-widgets/controls",
      "model_module_version": "2.0.0",
      "model_name": "HBoxModel",
      "state": {
       "children": [
        "IPY_MODEL_8f64c9bcc5544b0ea61b97528b08dc38"
       ],
       "layout": "IPY_MODEL_5b88a04b3d7843449b279e166f16a031"
      }
     },
     "862fe7c40b2b43c087b757ef6e2ea59b": {
      "model_module": "@jupyter-widgets/base",
      "model_module_version": "2.0.0",
      "model_name": "LayoutModel",
      "state": {}
     },
     "87447ec3e451483b97382986655e7f3d": {
      "model_module": "@jupyter-widgets/controls",
      "model_module_version": "2.0.0",
      "model_name": "HBoxModel",
      "state": {
       "children": [
        "IPY_MODEL_2b097badf14d43b7bb1239d12eaf33e8"
       ],
       "layout": "IPY_MODEL_cbc63af353854611882d2167ae50980c"
      }
     },
     "87fac1c9e49b486b924b9c2d7bb6e862": {
      "model_module": "@jupyter-widgets/controls",
      "model_module_version": "2.0.0",
      "model_name": "VBoxModel",
      "state": {
       "children": [
        "IPY_MODEL_36703aee438a447fbb5e0c59c0c7ef1e"
       ],
       "layout": "IPY_MODEL_61531c24e355447da65ebacfdde68bd4"
      }
     },
     "88d8e57e7346460b923673de069915df": {
      "model_module": "ipycanvas",
      "model_module_version": "^0.13",
      "model_name": "CanvasModel",
      "state": {
       "_canvas_manager": "IPY_MODEL_c3d9d98e8fec45a2825d0775e17f8b34",
       "_model_module_version": "^0.13",
       "_view_module_version": "^0.13",
       "height": 389,
       "layout": "IPY_MODEL_332fa3570d3547dfb20c23ca8f0c2359",
       "width": 235
      }
     },
     "8b00a8064dda465bb0564a884b17fad1": {
      "model_module": "@jupyter-widgets/base",
      "model_module_version": "2.0.0",
      "model_name": "LayoutModel",
      "state": {}
     },
     "8b595f649f654d128fba8268f8f97139": {
      "model_module": "@jupyter-widgets/base",
      "model_module_version": "2.0.0",
      "model_name": "LayoutModel",
      "state": {}
     },
     "8bd1322b51e44b5a90093ef66d45d1fd": {
      "model_module": "@jupyter-widgets/base",
      "model_module_version": "2.0.0",
      "model_name": "LayoutModel",
      "state": {}
     },
     "8ce5e12428624cc0b731d67b149f6f63": {
      "model_module": "@jupyter-widgets/base",
      "model_module_version": "2.0.0",
      "model_name": "LayoutModel",
      "state": {}
     },
     "8ddb8dc8261d4ac9b6deecd31145cbb8": {
      "model_module": "@jupyter-widgets/controls",
      "model_module_version": "2.0.0",
      "model_name": "VBoxModel",
      "state": {
       "children": [
        "IPY_MODEL_00093cfc136b49e5b6ec8b2de621e324"
       ],
       "layout": "IPY_MODEL_b0affb7eb3004e6fbb76ce4d400e4a3c"
      }
     },
     "8e599bc638904dc9bb1f7bea749f2ccf": {
      "model_module": "@jupyter-widgets/base",
      "model_module_version": "2.0.0",
      "model_name": "LayoutModel",
      "state": {}
     },
     "8f64c9bcc5544b0ea61b97528b08dc38": {
      "model_module": "@jupyter-widgets/controls",
      "model_module_version": "2.0.0",
      "model_name": "VBoxModel",
      "state": {
       "children": [
        "IPY_MODEL_e358734b11694441ab1e52573f85f260"
       ],
       "layout": "IPY_MODEL_6a1895281fd5466fac179089b147d5d3"
      }
     },
     "90f794be72954dffa1b4971534c49ae9": {
      "model_module": "@jupyter-widgets/controls",
      "model_module_version": "2.0.0",
      "model_name": "HBoxModel",
      "state": {
       "children": [
        "IPY_MODEL_43e3ee2e78b34daeb652d1e8c8d872a5"
       ],
       "layout": "IPY_MODEL_7360bb9cb3dd4d0faed803d17aa3f970"
      }
     },
     "90ff1b40f5834416a4d8888f2c8dd44f": {
      "model_module": "@jupyter-widgets/base",
      "model_module_version": "2.0.0",
      "model_name": "LayoutModel",
      "state": {}
     },
     "93ff3c79d1ed49adb7a1b198e8b485e3": {
      "model_module": "ipycanvas",
      "model_module_version": "^0.13",
      "model_name": "CanvasModel",
      "state": {
       "_canvas_manager": "IPY_MODEL_c3d9d98e8fec45a2825d0775e17f8b34",
       "_model_module_version": "^0.13",
       "_view_module_version": "^0.13",
       "height": 160,
       "layout": "IPY_MODEL_db4b0bb5f9454d2cbfd83b88ca76e4ab",
       "width": 160
      }
     },
     "949177b9abfa4565998486c6d2635314": {
      "model_module": "@jupyter-widgets/controls",
      "model_module_version": "2.0.0",
      "model_name": "VBoxModel",
      "state": {
       "children": [
        "IPY_MODEL_56172a608e744a6db560f0a477e9f37d",
        "IPY_MODEL_1633cd16690d45a2bf1425e7ce1ce85c"
       ],
       "layout": "IPY_MODEL_b7f00fa17b2b4f199d5da3c0febef713"
      }
     },
     "96c0deeb92814667a99de7f843d47308": {
      "model_module": "@jupyter-widgets/base",
      "model_module_version": "2.0.0",
      "model_name": "LayoutModel",
      "state": {}
     },
     "96ffb3af5dca47018f93c371e572d605": {
      "model_module": "@jupyter-widgets/base",
      "model_module_version": "2.0.0",
      "model_name": "LayoutModel",
      "state": {}
     },
     "978bc79b96174a32bdcc158b858cfbd5": {
      "model_module": "@jupyter-widgets/base",
      "model_module_version": "2.0.0",
      "model_name": "LayoutModel",
      "state": {}
     },
     "9984963f8ed347669f6b7302e88259b4": {
      "model_module": "@jupyter-widgets/base",
      "model_module_version": "2.0.0",
      "model_name": "LayoutModel",
      "state": {}
     },
     "9a494b86135c4bae9bcfdfb2c38190c3": {
      "model_module": "@jupyter-widgets/base",
      "model_module_version": "2.0.0",
      "model_name": "LayoutModel",
      "state": {}
     },
     "9baa45a600ed4dfda92d21d6b62153cf": {
      "model_module": "@jupyter-widgets/base",
      "model_module_version": "2.0.0",
      "model_name": "LayoutModel",
      "state": {}
     },
     "9c6337be6b194358954f150f712d4bb7": {
      "model_module": "@jupyter-widgets/controls",
      "model_module_version": "2.0.0",
      "model_name": "SliderStyleModel",
      "state": {
       "description_width": ""
      }
     },
     "9cb48a6ed46446b6893a2a0eb019b6ac": {
      "model_module": "@jupyter-widgets/base",
      "model_module_version": "2.0.0",
      "model_name": "LayoutModel",
      "state": {}
     },
     "9cda2465c18449a19ccde1dbfd1ad9be": {
      "model_module": "@jupyter-widgets/base",
      "model_module_version": "2.0.0",
      "model_name": "LayoutModel",
      "state": {}
     },
     "9e29b7014a3b4aaeb051659e938ca76d": {
      "model_module": "@jupyter-widgets/base",
      "model_module_version": "2.0.0",
      "model_name": "LayoutModel",
      "state": {}
     },
     "a0b6653dd0d84d6286c06799c03c96f6": {
      "model_module": "@jupyter-widgets/base",
      "model_module_version": "2.0.0",
      "model_name": "LayoutModel",
      "state": {}
     },
     "a0e2f40a13234bd8981dbefc551f6dca": {
      "model_module": "@jupyter-widgets/controls",
      "model_module_version": "2.0.0",
      "model_name": "CheckboxStyleModel",
      "state": {
       "description_width": ""
      }
     },
     "a199f609c856473abb35dbe1d7a15d79": {
      "model_module": "@jupyter-widgets/base",
      "model_module_version": "2.0.0",
      "model_name": "LayoutModel",
      "state": {}
     },
     "a1f5e14ba6de412788ccb8b4b53d7e2f": {
      "model_module": "@jupyter-widgets/controls",
      "model_module_version": "2.0.0",
      "model_name": "VBoxModel",
      "state": {
       "children": [
        "IPY_MODEL_452b77ab08674bfcb8325183618002f7",
        "IPY_MODEL_ed40a64754124f1380ab219369a0330c"
       ],
       "layout": "IPY_MODEL_d00f7575f4474e31a59e23df2c807806"
      }
     },
     "a4bdfe1b75e44a378ccb918e25885960": {
      "model_module": "@jupyter-widgets/base",
      "model_module_version": "2.0.0",
      "model_name": "LayoutModel",
      "state": {}
     },
     "a5e1368b29de49069d22f1c2094889e5": {
      "model_module": "ipycanvas",
      "model_module_version": "^0.13",
      "model_name": "CanvasModel",
      "state": {
       "_canvas_manager": "IPY_MODEL_c3d9d98e8fec45a2825d0775e17f8b34",
       "_model_module_version": "^0.13",
       "_view_module_version": "^0.13",
       "height": 389,
       "layout": "IPY_MODEL_34604f588a464126a1d80f79646730cb",
       "width": 235
      }
     },
     "a77fa456b92740319352e291df4c0c9d": {
      "model_module": "@jupyter-widgets/base",
      "model_module_version": "2.0.0",
      "model_name": "LayoutModel",
      "state": {}
     },
     "a942f4b83ff94a66bcc68a67bf6b950e": {
      "model_module": "@jupyter-widgets/controls",
      "model_module_version": "2.0.0",
      "model_name": "VBoxModel",
      "state": {
       "children": [
        "IPY_MODEL_93ff3c79d1ed49adb7a1b198e8b485e3"
       ],
       "layout": "IPY_MODEL_ec76a88fa7484257b62d32b470bbf1c2"
      }
     },
     "aa5cd13583834d198acb469a350140d8": {
      "model_module": "@jupyter-widgets/base",
      "model_module_version": "2.0.0",
      "model_name": "LayoutModel",
      "state": {}
     },
     "aa677b28fc114b539361d4628f170a6b": {
      "model_module": "@jupyter-widgets/controls",
      "model_module_version": "2.0.0",
      "model_name": "HBoxModel",
      "state": {
       "children": [
        "IPY_MODEL_a942f4b83ff94a66bcc68a67bf6b950e"
       ],
       "layout": "IPY_MODEL_6d791a3ffb2a4ea98ee65a3aae6612be"
      }
     },
     "aa9269c4b7d34523a1d05c913735e61e": {
      "model_module": "@jupyter-widgets/controls",
      "model_module_version": "2.0.0",
      "model_name": "IntSliderModel",
      "state": {
       "behavior": "drag-tap",
       "description": "Curtain",
       "layout": "IPY_MODEL_f1b333ee3dfd4df690c0bc94cfd18c4b",
       "max": 160,
       "style": "IPY_MODEL_2b63c23f38734f1893bce8e5cdd14e79",
       "value": 80
      }
     },
     "acec85b6845d4a71a8151bcb95a5796b": {
      "model_module": "@jupyter-widgets/base",
      "model_module_version": "2.0.0",
      "model_name": "LayoutModel",
      "state": {}
     },
     "ad0db6624479487fa9668694f84ebc62": {
      "model_module": "@jupyter-widgets/controls",
      "model_module_version": "2.0.0",
      "model_name": "LabelStyleModel",
      "state": {
       "description_width": "",
       "font_family": null,
       "font_size": null,
       "font_style": null,
       "font_variant": null,
       "font_weight": null,
       "text_color": null,
       "text_decoration": null
      }
     },
     "b0affb7eb3004e6fbb76ce4d400e4a3c": {
      "model_module": "@jupyter-widgets/base",
      "model_module_version": "2.0.0",
      "model_name": "LayoutModel",
      "state": {}
     },
     "b0cda1f3162c4e00a561eb8f01edad8a": {
      "model_module": "@jupyter-widgets/base",
      "model_module_version": "2.0.0",
      "model_name": "LayoutModel",
      "state": {}
     },
     "b183345d38d84db8891fb07d94719d3f": {
      "model_module": "@jupyter-widgets/controls",
      "model_module_version": "2.0.0",
      "model_name": "IntSliderModel",
      "state": {
       "behavior": "drag-tap",
       "description": "Curtain",
       "layout": "IPY_MODEL_114088d310904eb8b76ea1c8859e1cf4",
       "max": 256,
       "style": "IPY_MODEL_1795fc875294482db64c9de49a02ffbd",
       "value": 128
      }
     },
     "b21b30dbd08a497eb7cf5e9ec9e495dd": {
      "model_module": "@jupyter-widgets/base",
      "model_module_version": "2.0.0",
      "model_name": "LayoutModel",
      "state": {}
     },
     "b297ad65ebc74215bd11c12b4d2d2cc7": {
      "model_module": "@jupyter-widgets/controls",
      "model_module_version": "2.0.0",
      "model_name": "HBoxModel",
      "state": {
       "children": [
        "IPY_MODEL_90f794be72954dffa1b4971534c49ae9",
        "IPY_MODEL_cf964b454bb844b9a82acc9ce41157e4",
        "IPY_MODEL_f97eb6f3501845e0a5171ddad5ae1e6d"
       ],
       "layout": "IPY_MODEL_769e3c14ec6c457e854b985ea00afada"
      }
     },
     "b35246ba68d24ac1ae733cb9010bf5ba": {
      "model_module": "@jupyter-widgets/controls",
      "model_module_version": "2.0.0",
      "model_name": "SliderStyleModel",
      "state": {
       "description_width": ""
      }
     },
     "b39a57eb3ffe46c3ab898f6190e3ce78": {
      "model_module": "@jupyter-widgets/base",
      "model_module_version": "2.0.0",
      "model_name": "LayoutModel",
      "state": {}
     },
     "b435bfefab124b878112b11dd0b41bc8": {
      "model_module": "@jupyter-widgets/controls",
      "model_module_version": "2.0.0",
      "model_name": "HBoxModel",
      "state": {
       "children": [
        "IPY_MODEL_f04bce2787364b0c9d1d1af039509942"
       ],
       "layout": "IPY_MODEL_9baa45a600ed4dfda92d21d6b62153cf"
      }
     },
     "b4b38155a37b402e87485bc72c7683d2": {
      "model_module": "@jupyter-widgets/base",
      "model_module_version": "2.0.0",
      "model_name": "LayoutModel",
      "state": {}
     },
     "b4e295dd1c0d4154af4a5709f1a9b053": {
      "model_module": "@jupyter-widgets/base",
      "model_module_version": "2.0.0",
      "model_name": "LayoutModel",
      "state": {}
     },
     "b5d527aad281432c8f323d29090f1f7d": {
      "model_module": "@jupyter-widgets/controls",
      "model_module_version": "2.0.0",
      "model_name": "SliderStyleModel",
      "state": {
       "description_width": ""
      }
     },
     "b6045e20b04a4d5bb826c62cfd2e9d34": {
      "model_module": "ipycanvas",
      "model_module_version": "^0.13",
      "model_name": "CanvasModel",
      "state": {
       "_canvas_manager": "IPY_MODEL_c3d9d98e8fec45a2825d0775e17f8b34",
       "_model_module_version": "^0.13",
       "_view_module_version": "^0.13",
       "height": 256,
       "layout": "IPY_MODEL_d7bed68a67ab47b1ba96acff7e4de9c8",
       "width": 254
      }
     },
     "b7ae5c9f75734166b65f03ac5d496e13": {
      "model_module": "@jupyter-widgets/base",
      "model_module_version": "2.0.0",
      "model_name": "LayoutModel",
      "state": {}
     },
     "b7f00fa17b2b4f199d5da3c0febef713": {
      "model_module": "@jupyter-widgets/base",
      "model_module_version": "2.0.0",
      "model_name": "LayoutModel",
      "state": {}
     },
     "b868c475d7764fabb0ba75f6555f6084": {
      "model_module": "ipyevents",
      "model_module_version": "2.0.1",
      "model_name": "EventModel",
      "state": {
       "_supported_key_events": [
        "keydown",
        "keyup"
       ],
       "_supported_mouse_events": [
        "click",
        "auxclick",
        "dblclick",
        "mouseenter",
        "mouseleave",
        "mousedown",
        "mouseup",
        "mousemove",
        "wheel",
        "contextmenu",
        "dragstart",
        "drag",
        "dragend",
        "dragenter",
        "dragover",
        "dragleave",
        "drop"
       ],
       "_supported_touch_events": [
        "touchstart",
        "touchend",
        "touchmove",
        "touchcancel"
       ],
       "_view_module": "@jupyter-widgets/controls",
       "source": "IPY_MODEL_eb1d05a7d3e14ace96da0316d0f5d714",
       "throttle_or_debounce": "",
       "watched_events": [
        "mousemove"
       ],
       "xy_coordinate_system": ""
      }
     },
     "b9932d7eb3774880b6ffdac39e0fe816": {
      "model_module": "@jupyter-widgets/base",
      "model_module_version": "2.0.0",
      "model_name": "LayoutModel",
      "state": {}
     },
     "ba1726c33889440eba2faf7f04cf4d88": {
      "model_module": "@jupyter-widgets/base",
      "model_module_version": "2.0.0",
      "model_name": "LayoutModel",
      "state": {}
     },
     "bc66d87d262e4584851a4d3b1c295619": {
      "model_module": "@jupyter-widgets/controls",
      "model_module_version": "2.0.0",
      "model_name": "IntSliderModel",
      "state": {
       "behavior": "drag-tap",
       "description": "Curtain",
       "layout": "IPY_MODEL_96c0deeb92814667a99de7f843d47308",
       "max": 256,
       "style": "IPY_MODEL_025cdd9e416f46159400137e016c5c59",
       "value": 128
      }
     },
     "bc78525fd440495aba929854956a745a": {
      "model_module": "@jupyter-widgets/base",
      "model_module_version": "2.0.0",
      "model_name": "LayoutModel",
      "state": {}
     },
     "bd4d57367ddf42fb814003275eee16a8": {
      "model_module": "@jupyter-widgets/base",
      "model_module_version": "2.0.0",
      "model_name": "LayoutModel",
      "state": {}
     },
     "bdccda9e43b14010adfd1c62e0c0143d": {
      "model_module": "@jupyter-widgets/controls",
      "model_module_version": "2.0.0",
      "model_name": "VBoxModel",
      "state": {
       "children": [
        "IPY_MODEL_85da96c4946341058e44b608c95c4001",
        "IPY_MODEL_26c979dfd42444bca5cd29c23886716c"
       ],
       "layout": "IPY_MODEL_9e29b7014a3b4aaeb051659e938ca76d"
      }
     },
     "bea93f0c72f84911a4e15fae10e27e39": {
      "model_module": "@jupyter-widgets/base",
      "model_module_version": "2.0.0",
      "model_name": "LayoutModel",
      "state": {}
     },
     "c32f69c050b147b4ab13ad450eb41a17": {
      "model_module": "ipycanvas",
      "model_module_version": "^0.13",
      "model_name": "CanvasModel",
      "state": {
       "_canvas_manager": "IPY_MODEL_c3d9d98e8fec45a2825d0775e17f8b34",
       "_model_module_version": "^0.13",
       "_view_module_version": "^0.13",
       "height": 389,
       "layout": "IPY_MODEL_b39a57eb3ffe46c3ab898f6190e3ce78",
       "width": 235
      }
     },
     "c37a1d7f3ee5415b9c7429235f7b0ba3": {
      "model_module": "@jupyter-widgets/controls",
      "model_module_version": "2.0.0",
      "model_name": "LabelStyleModel",
      "state": {
       "description_width": "",
       "font_family": null,
       "font_size": null,
       "font_style": null,
       "font_variant": null,
       "font_weight": null,
       "text_color": null,
       "text_decoration": null
      }
     },
     "c3d9d98e8fec45a2825d0775e17f8b34": {
      "model_module": "ipycanvas",
      "model_module_version": "^0.13",
      "model_name": "CanvasManagerModel",
      "state": {
       "_model_module_version": "^0.13",
       "_view_module": null,
       "_view_module_version": ""
      }
     },
     "c615c9f790ec4466800f8e00f6704692": {
      "model_module": "@jupyter-widgets/controls",
      "model_module_version": "2.0.0",
      "model_name": "VBoxModel",
      "state": {
       "children": [
        "IPY_MODEL_32c2f002f9264f76a68e5330883d15a4"
       ],
       "layout": "IPY_MODEL_e51e8c3039d04a34ad62adb2f6a0714e"
      }
     },
     "c9210c7defe74b7ab245f627d86347b4": {
      "model_module": "@jupyter-widgets/base",
      "model_module_version": "2.0.0",
      "model_name": "LayoutModel",
      "state": {}
     },
     "cab41d7e4fa44ddbae8e09a59ab246df": {
      "model_module": "@jupyter-widgets/controls",
      "model_module_version": "2.0.0",
      "model_name": "VBoxModel",
      "state": {
       "_dom_classes": [
        "widget-interact"
       ],
       "children": [
        "IPY_MODEL_78c4ae57b516422ba2606a55d6c0f0b6",
        "IPY_MODEL_db3615c2fc6545f9a01274623715eddc"
       ],
       "layout": "IPY_MODEL_e3701cae6b6e4e988853dd5d1847092f"
      }
     },
     "cbc63af353854611882d2167ae50980c": {
      "model_module": "@jupyter-widgets/base",
      "model_module_version": "2.0.0",
      "model_name": "LayoutModel",
      "state": {}
     },
     "cdebf59618e644eaaee8dac1614d531d": {
      "model_module": "ipyevents",
      "model_module_version": "2.0.1",
      "model_name": "EventModel",
      "state": {
       "_supported_key_events": [
        "keydown",
        "keyup"
       ],
       "_supported_mouse_events": [
        "click",
        "auxclick",
        "dblclick",
        "mouseenter",
        "mouseleave",
        "mousedown",
        "mouseup",
        "mousemove",
        "wheel",
        "contextmenu",
        "dragstart",
        "drag",
        "dragend",
        "dragenter",
        "dragover",
        "dragleave",
        "drop"
       ],
       "_supported_touch_events": [
        "touchstart",
        "touchend",
        "touchmove",
        "touchcancel"
       ],
       "_view_module": "@jupyter-widgets/controls",
       "source": "IPY_MODEL_00093cfc136b49e5b6ec8b2de621e324",
       "throttle_or_debounce": "",
       "watched_events": [
        "mousemove"
       ],
       "xy_coordinate_system": ""
      }
     },
     "cdf89cbdc17b48b4aa27a2b58027734b": {
      "model_module": "@jupyter-widgets/controls",
      "model_module_version": "2.0.0",
      "model_name": "CheckboxModel",
      "state": {
       "description": "show_labels",
       "disabled": false,
       "layout": "IPY_MODEL_faf43e94ba1b42198f0bde358155654f",
       "style": "IPY_MODEL_a0e2f40a13234bd8981dbefc551f6dca",
       "value": true
      }
     },
     "cf964b454bb844b9a82acc9ce41157e4": {
      "model_module": "@jupyter-widgets/controls",
      "model_module_version": "2.0.0",
      "model_name": "HBoxModel",
      "state": {
       "children": [
        "IPY_MODEL_f1631ef3e9b14edfa5c45e7c1262a03b"
       ],
       "layout": "IPY_MODEL_4cefa945744543c283f5564b84447a50"
      }
     },
     "d00f7575f4474e31a59e23df2c807806": {
      "model_module": "@jupyter-widgets/base",
      "model_module_version": "2.0.0",
      "model_name": "LayoutModel",
      "state": {}
     },
     "d14ae9a387e04bdc9dd8f7eb86a78dca": {
      "model_module": "ipycanvas",
      "model_module_version": "^0.13",
      "model_name": "CanvasModel",
      "state": {
       "_canvas_manager": "IPY_MODEL_c3d9d98e8fec45a2825d0775e17f8b34",
       "_model_module_version": "^0.13",
       "_view_module_version": "^0.13",
       "height": 256,
       "layout": "IPY_MODEL_5f182d436bb74392954824e12c8d2a51",
       "width": 254
      }
     },
     "d2ba4b6a9aba438991d1391c647080b4": {
      "model_module": "@jupyter-widgets/base",
      "model_module_version": "2.0.0",
      "model_name": "LayoutModel",
      "state": {}
     },
     "d2d98eb58eae4bd4a3e3adf385236072": {
      "model_module": "@jupyter-widgets/base",
      "model_module_version": "2.0.0",
      "model_name": "LayoutModel",
      "state": {}
     },
     "d4bd2d3334f94874973b127f18c3ed23": {
      "model_module": "@jupyter-widgets/controls",
      "model_module_version": "2.0.0",
      "model_name": "VBoxModel",
      "state": {
       "_dom_classes": [
        "widget-interact"
       ],
       "children": [
        "IPY_MODEL_dabc7f85c6e64725b82db3dca68998bd",
        "IPY_MODEL_f84afcbfc630492c8ca9eb8f33d47726"
       ],
       "layout": "IPY_MODEL_13ade12a2f5846269ec01a71dbd56cf9"
      }
     },
     "d4be817dda654195b27f091fff442450": {
      "model_module": "@jupyter-widgets/base",
      "model_module_version": "2.0.0",
      "model_name": "LayoutModel",
      "state": {}
     },
     "d4cd6447eec6472fbbab0478ce91d5bc": {
      "model_module": "@jupyter-widgets/base",
      "model_module_version": "2.0.0",
      "model_name": "LayoutModel",
      "state": {}
     },
     "d584eeb9583f47159fe5e947d8fd2e1c": {
      "model_module": "@jupyter-widgets/controls",
      "model_module_version": "2.0.0",
      "model_name": "VBoxModel",
      "state": {
       "children": [
        "IPY_MODEL_31a54ef70be842c9a31c2c7d2c033b36",
        "IPY_MODEL_bc66d87d262e4584851a4d3b1c295619"
       ],
       "layout": "IPY_MODEL_3cbb8a3272264cb6998b2f2abb6b9a4d"
      }
     },
     "d69f5444b5a14be38e60e12bbb76d877": {
      "model_module": "@jupyter-widgets/controls",
      "model_module_version": "2.0.0",
      "model_name": "VBoxModel",
      "state": {
       "children": [
        "IPY_MODEL_b6045e20b04a4d5bb826c62cfd2e9d34"
       ],
       "layout": "IPY_MODEL_784a976c95e74a0193620aca3f100ce4"
      }
     },
     "d7bed68a67ab47b1ba96acff7e4de9c8": {
      "model_module": "@jupyter-widgets/base",
      "model_module_version": "2.0.0",
      "model_name": "LayoutModel",
      "state": {}
     },
     "da7923c587f442f59edfaef60b0a2864": {
      "model_module": "@jupyter-widgets/controls",
      "model_module_version": "2.0.0",
      "model_name": "VBoxModel",
      "state": {
       "children": [
        "IPY_MODEL_566ebc56a2c843b186a63652e8a44007",
        "IPY_MODEL_5f2b3610cc314150a28798a54ba9c101",
        "IPY_MODEL_0b8cc01661ff431499da123e089f2702"
       ],
       "layout": "IPY_MODEL_a199f609c856473abb35dbe1d7a15d79"
      }
     },
     "dabc7f85c6e64725b82db3dca68998bd": {
      "model_module": "@jupyter-widgets/controls",
      "model_module_version": "2.0.0",
      "model_name": "FloatSliderModel",
      "state": {
       "behavior": "drag-tap",
       "continuous_update": false,
       "description": "sigma",
       "layout": "IPY_MODEL_799e150679ac479dbb5350d4d7a63a7f",
       "max": 10,
       "style": "IPY_MODEL_2e95d7947726444fbad5ab09f25ad24d",
       "value": 1
      }
     },
     "db3615c2fc6545f9a01274623715eddc": {
      "model_module": "@jupyter-widgets/output",
      "model_module_version": "1.0.0",
      "model_name": "OutputModel",
      "state": {
       "layout": "IPY_MODEL_b9932d7eb3774880b6ffdac39e0fe816"
      }
     },
     "db4b0bb5f9454d2cbfd83b88ca76e4ab": {
      "model_module": "@jupyter-widgets/base",
      "model_module_version": "2.0.0",
      "model_name": "LayoutModel",
      "state": {}
     },
     "dc3ca44aca5a45bcbe37a450bb79ee54": {
      "model_module": "@jupyter-widgets/base",
      "model_module_version": "2.0.0",
      "model_name": "LayoutModel",
      "state": {}
     },
     "dd6b8a226f104870bca9adb2852f15f0": {
      "model_module": "@jupyter-widgets/base",
      "model_module_version": "2.0.0",
      "model_name": "LayoutModel",
      "state": {}
     },
     "ddcb35fd37524a698d45bba341c0505c": {
      "model_module": "@jupyter-widgets/controls",
      "model_module_version": "2.0.0",
      "model_name": "HBoxModel",
      "state": {
       "children": [
        "IPY_MODEL_e851a4d365ca4d8cbe3fdba063d773c5",
        "IPY_MODEL_54cf8b4bb29a449ebe83e249dff8b161",
        "IPY_MODEL_87447ec3e451483b97382986655e7f3d"
       ],
       "layout": "IPY_MODEL_8e599bc638904dc9bb1f7bea749f2ccf"
      }
     },
     "de419a9179184facb46af2e21129e4b2": {
      "model_module": "@jupyter-widgets/base",
      "model_module_version": "2.0.0",
      "model_name": "LayoutModel",
      "state": {}
     },
     "dfa714d2983b4125a2cf8993a8505ef1": {
      "model_module": "@jupyter-widgets/controls",
      "model_module_version": "2.0.0",
      "model_name": "VBoxModel",
      "state": {
       "children": [
        "IPY_MODEL_a5e1368b29de49069d22f1c2094889e5"
       ],
       "layout": "IPY_MODEL_1ddba3590bcd4519aaba5fde681040c5"
      }
     },
     "e10c29ecfb3d41c1b93b0b2212519476": {
      "model_module": "@jupyter-widgets/controls",
      "model_module_version": "2.0.0",
      "model_name": "IntSliderModel",
      "state": {
       "behavior": "drag-tap",
       "description": "Slice",
       "layout": "IPY_MODEL_0f723ea678bf4f1fbb62c2fdaa8c8e19",
       "max": 98,
       "style": "IPY_MODEL_29943e5fee0d462b9a8ed15eb79238b7",
       "value": 47
      }
     },
     "e2893bc3e6cc4a15a3a48a37c31a525a": {
      "model_module": "@jupyter-widgets/controls",
      "model_module_version": "2.0.0",
      "model_name": "HBoxModel",
      "state": {
       "children": [
        "IPY_MODEL_32486595091449f8b67dd802f118b246"
       ],
       "layout": "IPY_MODEL_729002faa79f4fc1b955af1af44ee1b4"
      }
     },
     "e358734b11694441ab1e52573f85f260": {
      "model_module": "ipycanvas",
      "model_module_version": "^0.13",
      "model_name": "CanvasModel",
      "state": {
       "_canvas_manager": "IPY_MODEL_c3d9d98e8fec45a2825d0775e17f8b34",
       "_model_module_version": "^0.13",
       "_view_module_version": "^0.13",
       "height": 160,
       "layout": "IPY_MODEL_acec85b6845d4a71a8151bcb95a5796b",
       "width": 120
      }
     },
     "e3701cae6b6e4e988853dd5d1847092f": {
      "model_module": "@jupyter-widgets/base",
      "model_module_version": "2.0.0",
      "model_name": "LayoutModel",
      "state": {}
     },
     "e3871f86bff84aadac40918a0d0713e2": {
      "model_module": "@jupyter-widgets/base",
      "model_module_version": "2.0.0",
      "model_name": "LayoutModel",
      "state": {}
     },
     "e4138fbed76940a09a411ce07778e06c": {
      "model_module": "@jupyter-widgets/base",
      "model_module_version": "2.0.0",
      "model_name": "LayoutModel",
      "state": {}
     },
     "e51e8c3039d04a34ad62adb2f6a0714e": {
      "model_module": "@jupyter-widgets/base",
      "model_module_version": "2.0.0",
      "model_name": "LayoutModel",
      "state": {}
     },
     "e61157b490da4e45bdf2a5db296e12f3": {
      "model_module": "@jupyter-widgets/controls",
      "model_module_version": "2.0.0",
      "model_name": "VBoxModel",
      "state": {
       "children": [
        "IPY_MODEL_66ae44abb3ee4ea78e5dfb52540e8d00"
       ],
       "layout": "IPY_MODEL_9984963f8ed347669f6b7302e88259b4"
      }
     },
     "e680e335e2c54c7f9db71716edab73f6": {
      "model_module": "@jupyter-widgets/controls",
      "model_module_version": "2.0.0",
      "model_name": "SliderStyleModel",
      "state": {
       "description_width": ""
      }
     },
     "e7cd0e32c5da4b1f8e8ffc7085c3ea96": {
      "model_module": "@jupyter-widgets/base",
      "model_module_version": "2.0.0",
      "model_name": "LayoutModel",
      "state": {}
     },
     "e851a4d365ca4d8cbe3fdba063d773c5": {
      "model_module": "@jupyter-widgets/controls",
      "model_module_version": "2.0.0",
      "model_name": "HBoxModel",
      "state": {
       "children": [
        "IPY_MODEL_dfa714d2983b4125a2cf8993a8505ef1"
       ],
       "layout": "IPY_MODEL_1503ec12c8fc4ff788aee721107efae5"
      }
     },
     "eb1d05a7d3e14ace96da0316d0f5d714": {
      "model_module": "ipycanvas",
      "model_module_version": "^0.13",
      "model_name": "CanvasModel",
      "state": {
       "_canvas_manager": "IPY_MODEL_c3d9d98e8fec45a2825d0775e17f8b34",
       "_model_module_version": "^0.13",
       "_view_count": 1,
       "_view_module_version": "^0.13",
       "height": 160,
       "layout": "IPY_MODEL_63b3bf4a6cae490885bad7b0bd0ae499",
       "width": 160
      }
     },
     "eb3603e9a6fc41b4bfa0e0a9c3e1c575": {
      "model_module": "@jupyter-widgets/base",
      "model_module_version": "2.0.0",
      "model_name": "LayoutModel",
      "state": {}
     },
     "eb935b3b8883442aa15eb8ce3c321c17": {
      "model_module": "@jupyter-widgets/controls",
      "model_module_version": "2.0.0",
      "model_name": "VBoxModel",
      "state": {
       "children": [
        "IPY_MODEL_31b114b7f64445f7b6a7a009bf57e6f8"
       ],
       "layout": "IPY_MODEL_7708fa25cfea4589861798a9bad817e8"
      }
     },
     "ec76a88fa7484257b62d32b470bbf1c2": {
      "model_module": "@jupyter-widgets/base",
      "model_module_version": "2.0.0",
      "model_name": "LayoutModel",
      "state": {}
     },
     "ed40a64754124f1380ab219369a0330c": {
      "model_module": "@jupyter-widgets/controls",
      "model_module_version": "2.0.0",
      "model_name": "LabelModel",
      "state": {
       "layout": "IPY_MODEL_3ee1bfa1e6f240b99c4cd5bfef399989",
       "style": "IPY_MODEL_c37a1d7f3ee5415b9c7429235f7b0ba3",
       "value": "gaussian(..., sigma=0.0)"
      }
     },
     "edeea92014de48b7a95343f4c1e09955": {
      "model_module": "@jupyter-widgets/base",
      "model_module_version": "2.0.0",
      "model_name": "LayoutModel",
      "state": {}
     },
     "ee760612909d4167aeecdcae934374e6": {
      "model_module": "@jupyter-widgets/controls",
      "model_module_version": "2.0.0",
      "model_name": "VBoxModel",
      "state": {
       "children": [
        "IPY_MODEL_e2893bc3e6cc4a15a3a48a37c31a525a",
        "IPY_MODEL_0a38908645694f69ad44d711ada6e01a",
        "IPY_MODEL_ee7880c8ad324e4492cf29d0fd8f24f9"
       ],
       "layout": "IPY_MODEL_eb3603e9a6fc41b4bfa0e0a9c3e1c575"
      }
     },
     "ee7880c8ad324e4492cf29d0fd8f24f9": {
      "model_module": "@jupyter-widgets/controls",
      "model_module_version": "2.0.0",
      "model_name": "LabelModel",
      "state": {
       "layout": "IPY_MODEL_4049f7732a6e418d998e5b6126ab6029",
       "style": "IPY_MODEL_374131ed0261421fbe5dcabd7f0acf35",
       "value": "[]:"
      }
     },
     "f04bce2787364b0c9d1d1af039509942": {
      "model_module": "@jupyter-widgets/controls",
      "model_module_version": "2.0.0",
      "model_name": "VBoxModel",
      "state": {
       "children": [
        "IPY_MODEL_130c9850625a41bb97b0971aed230776"
       ],
       "layout": "IPY_MODEL_b4b38155a37b402e87485bc72c7683d2"
      }
     },
     "f1631ef3e9b14edfa5c45e7c1262a03b": {
      "model_module": "@jupyter-widgets/controls",
      "model_module_version": "2.0.0",
      "model_name": "VBoxModel",
      "state": {
       "children": [
        "IPY_MODEL_c32f69c050b147b4ab13ad450eb41a17"
       ],
       "layout": "IPY_MODEL_9cda2465c18449a19ccde1dbfd1ad9be"
      }
     },
     "f1879187c641457e85ea8c6874752abc": {
      "model_module": "@jupyter-widgets/base",
      "model_module_version": "2.0.0",
      "model_name": "LayoutModel",
      "state": {}
     },
     "f1b333ee3dfd4df690c0bc94cfd18c4b": {
      "model_module": "@jupyter-widgets/base",
      "model_module_version": "2.0.0",
      "model_name": "LayoutModel",
      "state": {}
     },
     "f2ff3bb311c0458da96c3f999f585e8f": {
      "model_module": "@jupyter-widgets/base",
      "model_module_version": "2.0.0",
      "model_name": "LayoutModel",
      "state": {}
     },
     "f84afcbfc630492c8ca9eb8f33d47726": {
      "model_module": "@jupyter-widgets/output",
      "model_module_version": "1.0.0",
      "model_name": "OutputModel",
      "state": {
       "layout": "IPY_MODEL_90ff1b40f5834416a4d8888f2c8dd44f"
      }
     },
     "f97eb6f3501845e0a5171ddad5ae1e6d": {
      "model_module": "@jupyter-widgets/controls",
      "model_module_version": "2.0.0",
      "model_name": "HBoxModel",
      "state": {
       "children": [
        "IPY_MODEL_0924b8234a274612b6abbbe6f3923d51"
       ],
       "layout": "IPY_MODEL_77c537b251c14550910dbf3048151004"
      }
     },
     "fa1bff7437fb406b8ca726532ace518d": {
      "model_module": "@jupyter-widgets/base",
      "model_module_version": "2.0.0",
      "model_name": "LayoutModel",
      "state": {}
     },
     "faf43e94ba1b42198f0bde358155654f": {
      "model_module": "@jupyter-widgets/base",
      "model_module_version": "2.0.0",
      "model_name": "LayoutModel",
      "state": {}
     },
     "fc63275c6f6c4924aad93a0f6aa14476": {
      "model_module": "@jupyter-widgets/base",
      "model_module_version": "2.0.0",
      "model_name": "LayoutModel",
      "state": {}
     },
     "fe7484d4af2d46e0b34903508ba44ab0": {
      "model_module": "@jupyter-widgets/controls",
      "model_module_version": "2.0.0",
      "model_name": "LabelModel",
      "state": {
       "layout": "IPY_MODEL_a77fa456b92740319352e291df4c0c9d",
       "style": "IPY_MODEL_0e01520ea3af4e86a50409bc99e762ea",
       "value": "maximum(..., footprint=disk(0))"
      }
     },
     "fea1b1fab9794487af89e7bd80e6c321": {
      "model_module": "@jupyter-widgets/controls",
      "model_module_version": "2.0.0",
      "model_name": "SliderStyleModel",
      "state": {
       "description_width": ""
      }
     }
    },
    "version_major": 2,
    "version_minor": 0
   }
  }
 },
 "nbformat": 4,
 "nbformat_minor": 5
}
