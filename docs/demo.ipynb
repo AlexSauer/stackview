{
 "cells": [
  {
   "cell_type": "markdown",
   "id": "dca63629",
   "metadata": {},
   "source": [
    "# stackview\n",
    "Interactive image stack viewing in jupyter notebooks based on \n",
    "[ipycanvas](https://ipycanvas.readthedocs.io/) and \n",
    "[ipywidgets](https://ipywidgets.readthedocs.io/en/latest/)."
   ]
  },
  {
   "cell_type": "markdown",
   "id": "79a8abbc",
   "metadata": {},
   "source": [
    "## Usage\n",
    "You can use `stackview` from within jupyter notebooks as shown below.\n",
    "\n",
    "Starting point is a 3D image dataset provided as numpy array. "
   ]
  },
  {
   "cell_type": "code",
   "execution_count": 1,
   "id": "ca154076",
   "metadata": {},
   "outputs": [],
   "source": [
    "import stackview\n",
    "\n",
    "import numpy as np\n",
    "from skimage.io import imread\n",
    "from skimage.filters import gaussian"
   ]
  },
  {
   "cell_type": "code",
   "execution_count": 2,
   "id": "21067204",
   "metadata": {},
   "outputs": [],
   "source": [
    "image = imread('https://github.com/haesleinhuepf/stackview/blob/main/docs/data/Haase_MRT_tfl3d1.tif?raw=true', plugin='tifffile')"
   ]
  },
  {
   "cell_type": "markdown",
   "id": "42963cad",
   "metadata": {},
   "source": [
    "## Slice\n",
    "You can then view it slice-by-slice:"
   ]
  },
  {
   "cell_type": "code",
   "execution_count": 3,
   "id": "4cf3f9d3",
   "metadata": {
    "tags": []
   },
   "outputs": [
    {
     "data": {
      "application/vnd.jupyter.widget-view+json": {
       "model_id": "e476f71a70c0481197a20e67a31d6d25",
       "version_major": 2,
       "version_minor": 0
      },
      "text/plain": [
       "VBox(children=(HBox(children=(VBox(children=(ImageWidget(height=160, width=160),)),)), IntSlider(value=60, des…"
      ]
     },
     "metadata": {},
     "output_type": "display_data"
    }
   ],
   "source": [
    "stackview.slice(image, continuous_update=True)"
   ]
  },
  {
   "cell_type": "markdown",
   "id": "df4bb7be",
   "metadata": {},
   "source": [
    "## Picker\n",
    "To read the intensity of pixels where the mouse is moving, use the picker."
   ]
  },
  {
   "cell_type": "code",
   "execution_count": 4,
   "id": "64731189",
   "metadata": {},
   "outputs": [
    {
     "data": {
      "application/vnd.jupyter.widget-view+json": {
       "model_id": "13214adba5c84f9eb569537349cf6595",
       "version_major": 2,
       "version_minor": 0
      },
      "text/plain": [
       "VBox(children=(HBox(children=(VBox(children=(ImageWidget(height=160, width=160),)),)), IntSlider(value=60, des…"
      ]
     },
     "metadata": {},
     "output_type": "display_data"
    }
   ],
   "source": [
    "stackview.picker(image, continuous_update=True)"
   ]
  },
  {
   "cell_type": "markdown",
   "id": "2e552f7e",
   "metadata": {},
   "source": [
    "## Orthogonal\n",
    "Orthogonal views are also available:"
   ]
  },
  {
   "cell_type": "code",
   "execution_count": 5,
   "id": "42dd2614",
   "metadata": {},
   "outputs": [
    {
     "data": {
      "application/vnd.jupyter.widget-view+json": {
       "model_id": "2bfdfd638f6746b1a5a700d971246374",
       "version_major": 2,
       "version_minor": 0
      },
      "text/plain": [
       "HBox(children=(VBox(children=(HBox(children=(VBox(children=(ImageWidget(height=160, width=160),)),)), IntSlide…"
      ]
     },
     "metadata": {},
     "output_type": "display_data"
    }
   ],
   "source": [
    "stackview.orthogonal(image, continuous_update=True)"
   ]
  },
  {
   "cell_type": "markdown",
   "id": "634f0860",
   "metadata": {},
   "source": [
    "## Curtain\n",
    "For visualization of an original image in combination with a processed version, a curtain view may be helpful:"
   ]
  },
  {
   "cell_type": "code",
   "execution_count": 6,
   "id": "d4ee961e",
   "metadata": {},
   "outputs": [],
   "source": [
    "modified_image = image.max() - image"
   ]
  },
  {
   "cell_type": "code",
   "execution_count": 7,
   "id": "ab1dc868",
   "metadata": {},
   "outputs": [
    {
     "data": {
      "application/vnd.jupyter.widget-view+json": {
       "model_id": "a4b1911b4fda46fa80f6c98d5b7670b0",
       "version_major": 2,
       "version_minor": 0
      },
      "text/plain": [
       "VBox(children=(HBox(children=(VBox(children=(ImageWidget(height=160, width=160),)),)), IntSlider(value=60, des…"
      ]
     },
     "metadata": {},
     "output_type": "display_data"
    }
   ],
   "source": [
    "stackview.curtain(image, modified_image, continuous_update=True)"
   ]
  },
  {
   "cell_type": "markdown",
   "id": "dbd725c9-5867-4e47-8b7c-b7006fd2982b",
   "metadata": {},
   "source": [
    "One can also use the curtain to visualize semantic segmentation results as label images."
   ]
  },
  {
   "cell_type": "code",
   "execution_count": 8,
   "id": "24f8a418-b261-4a6e-97de-025046326a13",
   "metadata": {},
   "outputs": [
    {
     "data": {
      "application/vnd.jupyter.widget-view+json": {
       "model_id": "47b1b728b1be47019331cdb6e4cb95f6",
       "version_major": 2,
       "version_minor": 0
      },
      "text/plain": [
       "VBox(children=(HBox(children=(VBox(children=(ImageWidget(height=160, width=160),)),)), IntSlider(value=60, des…"
      ]
     },
     "metadata": {},
     "output_type": "display_data"
    }
   ],
   "source": [
    "stackview.curtain(image, (image > 5000)*1 + (image > 15000)*1 + (image > 30000)*1, continuous_update=True)"
   ]
  },
  {
   "cell_type": "markdown",
   "id": "187cf539",
   "metadata": {},
   "source": [
    "The curtain also works with 2D data"
   ]
  },
  {
   "cell_type": "code",
   "execution_count": 9,
   "id": "2f21ee1d",
   "metadata": {},
   "outputs": [],
   "source": [
    "slice_image = imread('https://github.com/haesleinhuepf/stackview/blob/main/docs/data/blobs.tif?raw=true', plugin='tifffile')"
   ]
  },
  {
   "cell_type": "code",
   "execution_count": 10,
   "id": "bd7d1317",
   "metadata": {},
   "outputs": [],
   "source": [
    "from skimage.filters import threshold_otsu\n",
    "binary = (slice_image > threshold_otsu(slice_image))"
   ]
  },
  {
   "cell_type": "code",
   "execution_count": 11,
   "id": "6b5dd31a",
   "metadata": {},
   "outputs": [
    {
     "data": {
      "application/vnd.jupyter.widget-view+json": {
       "model_id": "0b962712cfba44cba14933b639c598c4",
       "version_major": 2,
       "version_minor": 0
      },
      "text/plain": [
       "VBox(children=(HBox(children=(VBox(children=(ImageWidget(height=254, width=256),)),)), IntSlider(value=128, de…"
      ]
     },
     "metadata": {},
     "output_type": "display_data"
    }
   ],
   "source": [
    "stackview.curtain(slice_image, binary, continuous_update=True)"
   ]
  },
  {
   "cell_type": "markdown",
   "id": "c15807a9-2de5-45e0-93bd-e0e952da0fce",
   "metadata": {},
   "source": [
    "Also label images are supported. Images are shown as labels in case their pixel type is (unsigned) integer 32-bit or 32-bit."
   ]
  },
  {
   "cell_type": "code",
   "execution_count": 12,
   "id": "f39bacd7-6ca3-4c28-bb4f-25d2251b0c9a",
   "metadata": {},
   "outputs": [],
   "source": [
    "from skimage.measure import label\n",
    "labels = label(binary)"
   ]
  },
  {
   "cell_type": "code",
   "execution_count": 13,
   "id": "e5672421-c98c-4603-95fb-2eb6aacc4ddd",
   "metadata": {},
   "outputs": [
    {
     "data": {
      "text/plain": [
       "dtype('int32')"
      ]
     },
     "execution_count": 13,
     "metadata": {},
     "output_type": "execute_result"
    }
   ],
   "source": [
    "labels.dtype"
   ]
  },
  {
   "cell_type": "code",
   "execution_count": 14,
   "id": "1ad031f5-ab80-473c-95c5-12bd08256d56",
   "metadata": {},
   "outputs": [
    {
     "data": {
      "application/vnd.jupyter.widget-view+json": {
       "model_id": "e1df780b4b24425f94c2181860ddb225",
       "version_major": 2,
       "version_minor": 0
      },
      "text/plain": [
       "VBox(children=(HBox(children=(VBox(children=(ImageWidget(height=254, width=256),)),)), IntSlider(value=128, de…"
      ]
     },
     "metadata": {},
     "output_type": "display_data"
    }
   ],
   "source": [
    "stackview.curtain(slice_image, labels, continuous_update=True)"
   ]
  },
  {
   "cell_type": "markdown",
   "id": "4767b2f9",
   "metadata": {},
   "source": [
    "## Side-by-side\n",
    "A side-by-side view of two stacks is also available. It might be useful for colocalization visualization or showing subsequent time points of a timelapse."
   ]
  },
  {
   "cell_type": "code",
   "execution_count": 15,
   "id": "7bf91429",
   "metadata": {},
   "outputs": [],
   "source": [
    "image_stack = imread('https://github.com/haesleinhuepf/stackview/blob/main/docs/data/CalibZAPWfixed_000154_max.tif?raw=true', plugin='tifffile').swapaxes(1,2)"
   ]
  },
  {
   "cell_type": "code",
   "execution_count": 16,
   "id": "5ad9ebf9",
   "metadata": {},
   "outputs": [
    {
     "data": {
      "application/vnd.jupyter.widget-view+json": {
       "model_id": "73c853f2766149c7a037bc0ecc027880",
       "version_major": 2,
       "version_minor": 0
      },
      "text/plain": [
       "VBox(children=(HBox(children=(HBox(children=(VBox(children=(ImageWidget(height=389, width=235),)),)), HBox(chi…"
      ]
     },
     "metadata": {},
     "output_type": "display_data"
    }
   ],
   "source": [
    "stackview.side_by_side(image_stack[1:], image_stack[:-1], continuous_update=True, display_width=300)"
   ]
  },
  {
   "cell_type": "code",
   "execution_count": 17,
   "id": "97a16fec-21a0-4aa6-8dee-660ce345238e",
   "metadata": {},
   "outputs": [],
   "source": [
    "labels_stack = np.asarray([label(image > 100) for image in image_stack])"
   ]
  },
  {
   "cell_type": "code",
   "execution_count": 18,
   "id": "b948942f-b1c1-474f-a8cb-cf3f104b65bf",
   "metadata": {},
   "outputs": [
    {
     "data": {
      "application/vnd.jupyter.widget-view+json": {
       "model_id": "4ced4bf5939948f68c64f9aa7edce844",
       "version_major": 2,
       "version_minor": 0
      },
      "text/plain": [
       "VBox(children=(HBox(children=(HBox(children=(VBox(children=(ImageWidget(height=389, width=235),)),)), HBox(chi…"
      ]
     },
     "metadata": {},
     "output_type": "display_data"
    }
   ],
   "source": [
    "stackview.side_by_side(image_stack, labels_stack, continuous_update=True, display_width=300)"
   ]
  },
  {
   "cell_type": "markdown",
   "id": "18ea8070",
   "metadata": {},
   "source": [
    "## Interact\n",
    "You can also use `interact` to explore parameters of some supported functions that process images, e.g. from [scikit-image](https://scikit-image.org/):"
   ]
  },
  {
   "cell_type": "code",
   "execution_count": 19,
   "id": "41b75598",
   "metadata": {},
   "outputs": [
    {
     "data": {
      "application/vnd.jupyter.widget-view+json": {
       "model_id": "2d8ec4eee53440f5a5a3296c35f1ab4a",
       "version_major": 2,
       "version_minor": 0
      },
      "text/plain": [
       "interactive(children=(IntSlider(value=0, description='footprint', max=20), Output()), _dom_classes=('widget-in…"
      ]
     },
     "metadata": {},
     "output_type": "display_data"
    },
    {
     "data": {
      "application/vnd.jupyter.widget-view+json": {
       "model_id": "702ff091cbe2455a888e5f4c51df3d57",
       "version_major": 2,
       "version_minor": 0
      },
      "text/plain": [
       "VBox(children=(HBox(children=(VBox(children=(ImageWidget(height=254, width=256),)),)), Label(value='maximum(..…"
      ]
     },
     "metadata": {},
     "output_type": "display_data"
    }
   ],
   "source": [
    "from skimage.filters.rank import maximum\n",
    "stackview.interact(maximum, slice_image)"
   ]
  },
  {
   "cell_type": "code",
   "execution_count": 20,
   "id": "ba9bfc67",
   "metadata": {},
   "outputs": [
    {
     "data": {
      "application/vnd.jupyter.widget-view+json": {
       "model_id": "29048306e6304fca961c1d447165616e",
       "version_major": 2,
       "version_minor": 0
      },
      "text/plain": [
       "interactive(children=(FloatSlider(value=1.0, continuous_update=False, description='sigma', max=20.0, min=-20.0…"
      ]
     },
     "metadata": {},
     "output_type": "display_data"
    },
    {
     "data": {
      "application/vnd.jupyter.widget-view+json": {
       "model_id": "54bc775f0f4640bfa61a7f6771a5beed",
       "version_major": 2,
       "version_minor": 0
      },
      "text/plain": [
       "VBox(children=(HBox(children=(VBox(children=(ImageWidget(height=254, width=256),)),)), Label(value='gaussian(.…"
      ]
     },
     "metadata": {},
     "output_type": "display_data"
    }
   ],
   "source": [
    "from skimage.filters import gaussian\n",
    "stackview.interact(gaussian, slice_image)"
   ]
  },
  {
   "cell_type": "markdown",
   "id": "47751ce0",
   "metadata": {},
   "source": [
    "This might be interesting for custom functions executing image processing workflows."
   ]
  },
  {
   "cell_type": "code",
   "execution_count": 21,
   "id": "11f6e31e",
   "metadata": {},
   "outputs": [
    {
     "data": {
      "application/vnd.jupyter.widget-view+json": {
       "model_id": "1e81c0a2ba65499880d86621a2b6d583",
       "version_major": 2,
       "version_minor": 0
      },
      "text/plain": [
       "interactive(children=(FloatSlider(value=1.0, continuous_update=False, description='sigma', max=20.0, min=-20.0…"
      ]
     },
     "metadata": {},
     "output_type": "display_data"
    },
    {
     "data": {
      "application/vnd.jupyter.widget-view+json": {
       "model_id": "4ea5af6c0caf4cad89795ddb3c214b6e",
       "version_major": 2,
       "version_minor": 0
      },
      "text/plain": [
       "VBox(children=(HBox(children=(VBox(children=(ImageWidget(height=254, width=256),)),)), Label(value='my_custom_…"
      ]
     },
     "metadata": {},
     "output_type": "display_data"
    }
   ],
   "source": [
    "from skimage.filters import gaussian, threshold_otsu, sobel\n",
    "def my_custom_code(image, sigma:float = 1, show_labels: bool = True):\n",
    "    sigma = abs(sigma)\n",
    "    blurred_image = gaussian(image, sigma=sigma)\n",
    "    binary_image = blurred_image > threshold_otsu(blurred_image)\n",
    "    edge_image = sobel(binary_image)\n",
    "    \n",
    "    if show_labels:\n",
    "        return label(binary_image)\n",
    "    else:\n",
    "        return edge_image * 255 + image \n",
    "\n",
    "stackview.interact(my_custom_code, slice_image)"
   ]
  },
  {
   "cell_type": "markdown",
   "id": "51ef6a3f",
   "metadata": {},
   "source": [
    "If you want to configure the range of a slider explicitly, you need to hand over the [ipywidgets slider](https://ipywidgets.readthedocs.io/en/latest/examples/Widget%20List.html#FloatSlider) as default value:"
   ]
  },
  {
   "cell_type": "code",
   "execution_count": 22,
   "id": "8abc8e06",
   "metadata": {
    "tags": []
   },
   "outputs": [
    {
     "data": {
      "application/vnd.jupyter.widget-view+json": {
       "model_id": "3666421824b24cc3a462317653bf55b9",
       "version_major": 2,
       "version_minor": 0
      },
      "text/plain": [
       "interactive(children=(FloatSlider(value=15.0, description='sigma'), Output()), _dom_classes=('widget-interact'…"
      ]
     },
     "metadata": {},
     "output_type": "display_data"
    },
    {
     "data": {
      "application/vnd.jupyter.widget-view+json": {
       "model_id": "01212769f7a640f5a37689e7f2c6dec9",
       "version_major": 2,
       "version_minor": 0
      },
      "text/plain": [
       "VBox(children=(HBox(children=(VBox(children=(ImageWidget(height=254, width=256),)),)), Label(value='gaussian(.…"
      ]
     },
     "metadata": {},
     "output_type": "display_data"
    }
   ],
   "source": [
    "from skimage.filters import gaussian\n",
    "from ipywidgets import FloatSlider\n",
    "stackview.interact(gaussian, slice_image, sigma=FloatSlider(min=0, max=100, value=15))"
   ]
  },
  {
   "cell_type": "markdown",
   "id": "077b7106",
   "metadata": {},
   "source": [
    "## Some more tests with silly images"
   ]
  },
  {
   "cell_type": "code",
   "execution_count": 23,
   "id": "9cd2f2e5",
   "metadata": {
    "tags": []
   },
   "outputs": [
    {
     "data": {
      "application/vnd.jupyter.widget-view+json": {
       "model_id": "32b145ec6a5e47b88c49ff8d57c62f7e",
       "version_major": 2,
       "version_minor": 0
      },
      "text/plain": [
       "VBox(children=(HBox(children=(VBox(children=(ImageWidget(height=100, width=100),)),)), Label(value='[]:')))"
      ]
     },
     "metadata": {},
     "output_type": "display_data"
    }
   ],
   "source": [
    "import numpy as np\n",
    "silly_image = np.zeros((100, 100))\n",
    "silly_image[:,50:] = 1\n",
    "silly_image[50:] = silly_image[50:] + 2\n",
    "\n",
    "stackview.picker(silly_image.astype(np.uint32))"
   ]
  },
  {
   "cell_type": "code",
   "execution_count": null,
   "id": "c1c350b5",
   "metadata": {},
   "outputs": [],
   "source": []
  }
 ],
 "metadata": {
  "kernelspec": {
   "display_name": "Python 3 (ipykernel)",
   "language": "python",
   "name": "python3"
  },
  "language_info": {
   "codemirror_mode": {
    "name": "ipython",
    "version": 3
   },
   "file_extension": ".py",
   "mimetype": "text/x-python",
   "name": "python",
   "nbconvert_exporter": "python",
   "pygments_lexer": "ipython3",
   "version": "3.9.13"
  }
 },
 "nbformat": 4,
 "nbformat_minor": 5
}
