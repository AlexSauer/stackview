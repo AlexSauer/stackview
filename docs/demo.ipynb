{
 "cells": [
  {
   "cell_type": "markdown",
   "id": "dca63629",
   "metadata": {},
   "source": [
    "# stackview\n",
    "Interactive image stack viewing in jupyter notebooks based on \n",
    "[ipycanvas](https://ipycanvas.readthedocs.io/) and \n",
    "[ipywidgets](https://ipywidgets.readthedocs.io/en/latest/)."
   ]
  },
  {
   "cell_type": "markdown",
   "id": "79a8abbc",
   "metadata": {},
   "source": [
    "## Usage\n",
    "You can use `stackview` from within jupyter notebooks as shown below.\n",
    "\n",
    "Starting point is a 3D image dataset provided as numpy array. "
   ]
  },
  {
   "cell_type": "code",
   "execution_count": 1,
   "id": "774acd58-1c4a-4673-bd81-50d9ff53f55b",
   "metadata": {},
   "outputs": [
    {
     "data": {
      "text/plain": [
       "'0.7.0'"
      ]
     },
     "execution_count": 1,
     "metadata": {},
     "output_type": "execute_result"
    }
   ],
   "source": [
    "import stackview\n",
    "stackview.__version__"
   ]
  },
  {
   "cell_type": "code",
   "execution_count": 2,
   "id": "49a9caad-0ce0-4a91-ad44-2cd06c3ad111",
   "metadata": {},
   "outputs": [],
   "source": [
    "import numpy as np\n",
    "from skimage.io import imread\n",
    "from skimage.filters import gaussian"
   ]
  },
  {
   "cell_type": "code",
   "execution_count": null,
   "id": "21067204",
   "metadata": {},
   "outputs": [],
   "source": [
    "image = imread('https://github.com/haesleinhuepf/stackview/blob/main/docs/data/Haase_MRT_tfl3d1.tif?raw=true', plugin='tifffile')"
   ]
  },
  {
   "cell_type": "markdown",
   "id": "42963cad",
   "metadata": {},
   "source": [
    "## Slice\n",
    "You can then view it slice-by-slice:"
   ]
  },
  {
   "cell_type": "code",
   "execution_count": null,
   "id": "4cf3f9d3",
   "metadata": {
    "tags": []
   },
   "outputs": [],
   "source": [
    "stackview.slice(image, continuous_update=True)"
   ]
  },
  {
   "cell_type": "markdown",
   "id": "39843d28-d31e-46a7-bc33-5cf3d8cabd6e",
   "metadata": {},
   "source": [
    "# Insight\n",
    "You can also get a static view using a maximum-intensity projection with additional information."
   ]
  },
  {
   "cell_type": "code",
   "execution_count": null,
   "id": "be919845-f8fc-4dd6-8b0b-6e729c9d0fc2",
   "metadata": {},
   "outputs": [],
   "source": [
    "stackview.insight(image)"
   ]
  },
  {
   "cell_type": "markdown",
   "id": "d592fd3b-7883-4c0a-81cb-d203b80e00b1",
   "metadata": {},
   "source": [
    "# Annotate\n",
    "To draw label images, use `annotate`."
   ]
  },
  {
   "cell_type": "code",
   "execution_count": null,
   "id": "5c731a2b-c875-497c-a5c0-4e76e1f3e706",
   "metadata": {},
   "outputs": [],
   "source": [
    "import numpy as np\n",
    "labels = np.zeros(image.shape).astype(np.uint32)\n",
    "\n",
    "stackview.annotate(image, labels)"
   ]
  },
  {
   "cell_type": "markdown",
   "id": "df4bb7be",
   "metadata": {},
   "source": [
    "## Picker\n",
    "To read the intensity of pixels where the mouse is moving, use the picker."
   ]
  },
  {
   "cell_type": "code",
   "execution_count": null,
   "id": "64731189",
   "metadata": {},
   "outputs": [],
   "source": [
    "stackview.picker(image, continuous_update=True)"
   ]
  },
  {
   "cell_type": "markdown",
   "id": "2e552f7e",
   "metadata": {},
   "source": [
    "## Orthogonal\n",
    "Orthogonal views are also available:"
   ]
  },
  {
   "cell_type": "code",
   "execution_count": null,
   "id": "42dd2614",
   "metadata": {},
   "outputs": [],
   "source": [
    "stackview.orthogonal(image, continuous_update=True)"
   ]
  },
  {
   "cell_type": "markdown",
   "id": "634f0860",
   "metadata": {},
   "source": [
    "## Curtain\n",
    "For visualization of an original image in combination with a processed version, a curtain view may be helpful:"
   ]
  },
  {
   "cell_type": "code",
   "execution_count": null,
   "id": "d4ee961e",
   "metadata": {},
   "outputs": [],
   "source": [
    "modified_image = image.max() - image"
   ]
  },
  {
   "cell_type": "code",
   "execution_count": null,
   "id": "ab1dc868",
   "metadata": {},
   "outputs": [],
   "source": [
    "stackview.curtain(image, modified_image, continuous_update=True)"
   ]
  },
  {
   "cell_type": "markdown",
   "id": "dbd725c9-5867-4e47-8b7c-b7006fd2982b",
   "metadata": {},
   "source": [
    "One can also use the curtain to visualize semantic segmentation results as label images."
   ]
  },
  {
   "cell_type": "code",
   "execution_count": null,
   "id": "e421b46f-f738-4048-9a77-09dc54070715",
   "metadata": {},
   "outputs": [],
   "source": [
    "labels = (image > 5000)*1 + (image > 15000)*1 + (image > 30000)*1"
   ]
  },
  {
   "cell_type": "code",
   "execution_count": null,
   "id": "24f8a418-b261-4a6e-97de-025046326a13",
   "metadata": {},
   "outputs": [],
   "source": [
    "stackview.curtain(image, labels, continuous_update=True)"
   ]
  },
  {
   "cell_type": "markdown",
   "id": "ffda520d-0451-499e-a5e7-08b6a1220d1e",
   "metadata": {},
   "source": [
    "The curtain can also be partially transparent using the alpha value."
   ]
  },
  {
   "cell_type": "code",
   "execution_count": null,
   "id": "91a89968-9f2c-48bb-abfa-d6e123dcf51d",
   "metadata": {},
   "outputs": [],
   "source": [
    "stackview.curtain(image, labels, continuous_update=True, alpha=0.3)"
   ]
  },
  {
   "cell_type": "markdown",
   "id": "187cf539",
   "metadata": {},
   "source": [
    "The curtain also works with 2D data"
   ]
  },
  {
   "cell_type": "code",
   "execution_count": null,
   "id": "2f21ee1d",
   "metadata": {},
   "outputs": [],
   "source": [
    "slice_image = imread('https://github.com/haesleinhuepf/stackview/blob/main/docs/data/blobs.tif?raw=true', plugin='tifffile')"
   ]
  },
  {
   "cell_type": "code",
   "execution_count": null,
   "id": "bd7d1317",
   "metadata": {},
   "outputs": [],
   "source": [
    "from skimage.filters import threshold_otsu\n",
    "binary = (slice_image > threshold_otsu(slice_image))"
   ]
  },
  {
   "cell_type": "code",
   "execution_count": null,
   "id": "652721ec-6dfd-4518-9554-a3335ef27c6a",
   "metadata": {},
   "outputs": [],
   "source": [
    "binary.shape, slice_image.shape"
   ]
  },
  {
   "cell_type": "code",
   "execution_count": null,
   "id": "6b5dd31a",
   "metadata": {},
   "outputs": [],
   "source": [
    "stackview.curtain(slice_image, binary, continuous_update=True)"
   ]
  },
  {
   "cell_type": "markdown",
   "id": "c15807a9-2de5-45e0-93bd-e0e952da0fce",
   "metadata": {},
   "source": [
    "Also label images are supported. Images are shown as labels in case their pixel type is (unsigned) integer 32-bit or 32-bit."
   ]
  },
  {
   "cell_type": "code",
   "execution_count": null,
   "id": "f39bacd7-6ca3-4c28-bb4f-25d2251b0c9a",
   "metadata": {},
   "outputs": [],
   "source": [
    "from skimage.measure import label\n",
    "labels = label(binary)"
   ]
  },
  {
   "cell_type": "code",
   "execution_count": null,
   "id": "1ad031f5-ab80-473c-95c5-12bd08256d56",
   "metadata": {},
   "outputs": [],
   "source": [
    "stackview.curtain(slice_image, labels, continuous_update=True)"
   ]
  },
  {
   "cell_type": "markdown",
   "id": "4767b2f9",
   "metadata": {},
   "source": [
    "## Side-by-side\n",
    "A side-by-side view of two stacks is also available. It might be useful for colocalization visualization or showing subsequent time points of a timelapse."
   ]
  },
  {
   "cell_type": "code",
   "execution_count": null,
   "id": "7bf91429",
   "metadata": {},
   "outputs": [],
   "source": [
    "image_stack = imread('https://github.com/haesleinhuepf/stackview/blob/main/docs/data/CalibZAPWfixed_000154_max.tif?raw=true', plugin='tifffile').swapaxes(1,2)"
   ]
  },
  {
   "cell_type": "code",
   "execution_count": null,
   "id": "5ad9ebf9",
   "metadata": {},
   "outputs": [],
   "source": [
    "stackview.side_by_side(image_stack[1:], image_stack[:-1], continuous_update=True, display_width=300)"
   ]
  },
  {
   "cell_type": "code",
   "execution_count": null,
   "id": "97a16fec-21a0-4aa6-8dee-660ce345238e",
   "metadata": {},
   "outputs": [],
   "source": [
    "labels_stack = np.asarray([label(image > 100) for image in image_stack])"
   ]
  },
  {
   "cell_type": "code",
   "execution_count": null,
   "id": "b948942f-b1c1-474f-a8cb-cf3f104b65bf",
   "metadata": {},
   "outputs": [],
   "source": [
    "stackview.side_by_side(image_stack, labels_stack, continuous_update=True, display_width=300)"
   ]
  },
  {
   "cell_type": "markdown",
   "id": "3267a413-90df-461f-ac3d-531bd4f1d6e3",
   "metadata": {},
   "source": [
    "## Switch\n",
    "If there are many images you would like to inspect, you can pass them as dictionary or list to `switch()`."
   ]
  },
  {
   "cell_type": "code",
   "execution_count": null,
   "id": "6a3c528a-164a-47f8-8f89-bb06961d035c",
   "metadata": {},
   "outputs": [],
   "source": [
    "stackview.switch({\n",
    "    \"image\":slice_image,\n",
    "    \"binary\":binary,\n",
    "    \"labels\":labels\n",
    "})"
   ]
  },
  {
   "cell_type": "code",
   "execution_count": null,
   "id": "c2300e4a-37cf-4c71-a59d-8b1e03bb6104",
   "metadata": {},
   "outputs": [],
   "source": [
    "stackview.switch([image_stack[1:], image_stack[:-1]])"
   ]
  },
  {
   "cell_type": "code",
   "execution_count": null,
   "id": "5eefda44-4c39-435f-aef7-1cc173c7d5ff",
   "metadata": {},
   "outputs": [],
   "source": [
    "stackview.switch([\n",
    "    slice_image,\n",
    "    binary,\n",
    "    labels\n",
    "])"
   ]
  },
  {
   "cell_type": "code",
   "execution_count": null,
   "id": "d44f586a-7a0d-44e9-aa15-60d3238a0c8d",
   "metadata": {},
   "outputs": [],
   "source": [
    "hela_cells = imread(\"data/hela-cells.tif\")\n",
    "hela_cells.shape"
   ]
  },
  {
   "cell_type": "code",
   "execution_count": null,
   "id": "238118b8-7f3e-4580-87cb-cad4728f87c6",
   "metadata": {},
   "outputs": [],
   "source": [
    "stackview.switch(\n",
    "    {\"lysosomes\":   hela_cells[:,:,0],\n",
    "     \"mitochondria\":hela_cells[:,:,1],\n",
    "     \"nuclei\":      hela_cells[:,:,2]\n",
    "    },\n",
    "    colormap=[\"pure_magenta\", \"pure_green\", \"pure_blue\"],\n",
    "    toggleable=True\n",
    ")"
   ]
  },
  {
   "cell_type": "markdown",
   "id": "a7a83822-8dd7-44dd-a289-7232e823995f",
   "metadata": {},
   "source": [
    "## Crop\n",
    "The `crop` widget allows to crop the image in Z,Y and X."
   ]
  },
  {
   "cell_type": "code",
   "execution_count": null,
   "id": "078a817f-aded-4ca9-b754-e4e7e32407b3",
   "metadata": {},
   "outputs": [],
   "source": [
    "crop_widget = stackview.crop(image_stack)\n",
    "crop_widget"
   ]
  },
  {
   "cell_type": "markdown",
   "id": "f652e17b-d628-4623-8bbd-bb392c82454a",
   "metadata": {},
   "source": [
    "You can retrieve the range the user entered like this:"
   ]
  },
  {
   "cell_type": "code",
   "execution_count": null,
   "id": "088cfe7b-b09e-4bfa-a6ad-58aee2cb4697",
   "metadata": {},
   "outputs": [],
   "source": [
    "crop_widget.range"
   ]
  },
  {
   "cell_type": "markdown",
   "id": "b1fd55fd-7866-4603-9f97-908100f097fb",
   "metadata": {},
   "source": [
    "You can also get the cropped image directly."
   ]
  },
  {
   "cell_type": "code",
   "execution_count": null,
   "id": "5184f33f-f153-46f3-b799-e4e4945c02f0",
   "metadata": {},
   "outputs": [],
   "source": [
    "crop_widget.crop()"
   ]
  },
  {
   "cell_type": "markdown",
   "id": "18ea8070",
   "metadata": {},
   "source": [
    "## Interact\n",
    "You can also use `interact` to explore parameters of some supported functions that process images, e.g. from [scikit-image](https://scikit-image.org/):"
   ]
  },
  {
   "cell_type": "code",
   "execution_count": null,
   "id": "41b75598",
   "metadata": {},
   "outputs": [],
   "source": [
    "from skimage.filters.rank import maximum\n",
    "stackview.interact(maximum, slice_image)"
   ]
  },
  {
   "cell_type": "code",
   "execution_count": null,
   "id": "ba9bfc67",
   "metadata": {},
   "outputs": [],
   "source": [
    "from skimage.filters import gaussian\n",
    "stackview.interact(gaussian, slice_image)"
   ]
  },
  {
   "cell_type": "markdown",
   "id": "47751ce0",
   "metadata": {},
   "source": [
    "This might be interesting for custom functions executing image processing workflows."
   ]
  },
  {
   "cell_type": "code",
   "execution_count": null,
   "id": "11f6e31e",
   "metadata": {},
   "outputs": [],
   "source": [
    "from skimage.filters import gaussian, threshold_otsu, sobel\n",
    "def my_custom_code(image, sigma:float = 1, show_labels: bool = True):\n",
    "    sigma = abs(sigma)\n",
    "    blurred_image = gaussian(image, sigma=sigma)\n",
    "    binary_image = blurred_image > threshold_otsu(blurred_image)\n",
    "    edge_image = sobel(binary_image)\n",
    "    \n",
    "    if show_labels:\n",
    "        return label(binary_image)\n",
    "    else:\n",
    "        return edge_image * 255 + image \n",
    "\n",
    "stackview.interact(my_custom_code, slice_image, continuous_update=True)"
   ]
  },
  {
   "cell_type": "markdown",
   "id": "51ef6a3f",
   "metadata": {},
   "source": [
    "If you want to configure the range of a slider explicitly, you need to hand over the [ipywidgets slider](https://ipywidgets.readthedocs.io/en/latest/examples/Widget%20List.html#FloatSlider) as default value:"
   ]
  },
  {
   "cell_type": "code",
   "execution_count": null,
   "id": "8abc8e06",
   "metadata": {
    "tags": []
   },
   "outputs": [],
   "source": [
    "from skimage.filters import gaussian\n",
    "from ipywidgets import FloatSlider\n",
    "stackview.interact(gaussian, slice_image, sigma=FloatSlider(min=0, max=100, value=15), continuous_update=True)"
   ]
  },
  {
   "cell_type": "markdown",
   "id": "a4e4c0b2-04e1-48bf-a1a9-70480fbece99",
   "metadata": {},
   "source": [
    "## Assist\n",
    "The `stackview.assist()` function can guide you through all imported (and supported) image processing functions."
   ]
  },
  {
   "cell_type": "code",
   "execution_count": null,
   "id": "f2cfc7b6-c868-4e40-8e60-2f9cbde70b50",
   "metadata": {},
   "outputs": [],
   "source": [
    "stackview.assist(context=globals(), continuous_update=True)"
   ]
  },
  {
   "cell_type": "markdown",
   "id": "077b7106",
   "metadata": {},
   "source": [
    "## Some more tests with silly images"
   ]
  },
  {
   "cell_type": "code",
   "execution_count": null,
   "id": "9cd2f2e5",
   "metadata": {
    "tags": []
   },
   "outputs": [],
   "source": [
    "import numpy as np\n",
    "silly_image = np.zeros((100, 100))\n",
    "silly_image[:,50:] = 1\n",
    "silly_image[50:] = silly_image[50:] + 2\n",
    "\n",
    "stackview.picker(silly_image.astype(np.uint32))"
   ]
  },
  {
   "cell_type": "code",
   "execution_count": null,
   "id": "c1c350b5",
   "metadata": {},
   "outputs": [],
   "source": [
    "silly_image = np.zeros((3, 3))\n",
    "silly_image[:,1:] = 1\n",
    "silly_image[1:] = silly_image[1:] + 2\n",
    "\n",
    "stackview.picker(silly_image.astype(np.uint32), zoom_factor=20)"
   ]
  },
  {
   "cell_type": "code",
   "execution_count": null,
   "id": "d8a7a29d-0fe9-445b-99f7-41974cf61ea9",
   "metadata": {},
   "outputs": [],
   "source": []
  }
 ],
 "metadata": {
  "kernelspec": {
   "display_name": "Python 3 (ipykernel)",
   "language": "python",
   "name": "python3"
  },
  "language_info": {
   "codemirror_mode": {
    "name": "ipython",
    "version": 3
   },
   "file_extension": ".py",
   "mimetype": "text/x-python",
   "name": "python",
   "nbconvert_exporter": "python",
   "pygments_lexer": "ipython3",
   "version": "3.9.16"
  },
  "widgets": {
   "application/vnd.jupyter.widget-state+json": {
    "state": {
     "0138b962875d4be2b334914dd8a9690e": {
      "model_module": "@jupyter-widgets/controls",
      "model_module_version": "2.0.0",
      "model_name": "SliderStyleModel",
      "state": {
       "description_width": ""
      }
     },
     "01399127e0b347abade2b5751f2a746b": {
      "model_module": "@jupyter-widgets/controls",
      "model_module_version": "2.0.0",
      "model_name": "SliderStyleModel",
      "state": {
       "description_width": ""
      }
     },
     "0151bea6e09b418a93f13b3b2d45f6ce": {
      "model_module": "@jupyter-widgets/base",
      "model_module_version": "2.0.0",
      "model_name": "LayoutModel",
      "state": {}
     },
     "021b668233bb49e6a495520b12aa617e": {
      "model_module": "@jupyter-widgets/controls",
      "model_module_version": "2.0.0",
      "model_name": "IntSliderModel",
      "state": {
       "behavior": "drag-tap",
       "continuous_update": false,
       "description": "Slice",
       "layout": "IPY_MODEL_87732cde34314e088a7fae37f2e2a8b6",
       "max": 99,
       "style": "IPY_MODEL_21899c5742ce4296871e2cef47d15927"
      }
     },
     "0393162e5b0b453eb4b6e1d120612fca": {
      "model_module": "@jupyter-widgets/base",
      "model_module_version": "2.0.0",
      "model_name": "LayoutModel",
      "state": {}
     },
     "03e9cb759771408992b112809a2fcfb2": {
      "model_module": "@jupyter-widgets/controls",
      "model_module_version": "2.0.0",
      "model_name": "DropdownModel",
      "state": {
       "_options_labels": [
        "stackview.nop",
        "np.genfromtxt",
        "np.mask_indices",
        "np.place",
        "gaussian",
        "threshold_otsu",
        "label",
        "maximum",
        "sobel",
        "my_custom_code"
       ],
       "description": "Operation",
       "index": 0,
       "layout": "IPY_MODEL_30db5ac86abc45c4b7bf7f5fbd39f3d1",
       "style": "IPY_MODEL_6ae4bf671bb041ca970f8c6fe8edba6b"
      }
     },
     "04eb6500fcb74efa94758eed892f3ff1": {
      "model_module": "@jupyter-widgets/base",
      "model_module_version": "2.0.0",
      "model_name": "LayoutModel",
      "state": {}
     },
     "050a6c63eb1041debe2fadb947654dd2": {
      "model_module": "@jupyter-widgets/controls",
      "model_module_version": "2.0.0",
      "model_name": "VBoxModel",
      "state": {
       "children": [
        "IPY_MODEL_f6912d749f6a44b2afffb58523ed59d6"
       ],
       "layout": "IPY_MODEL_1719278e465c45b8a8d5c434bcaa50e8"
      }
     },
     "0574b7be76ce43efbe667b404b8c0236": {
      "model_module": "@jupyter-widgets/controls",
      "model_module_version": "2.0.0",
      "model_name": "FloatSliderModel",
      "state": {
       "behavior": "drag-tap",
       "description": "sigma",
       "layout": "IPY_MODEL_54d7d1bc34594aaebfc08eb7b1144119",
       "max": 25,
       "style": "IPY_MODEL_a0872a4acb1f4ea38b124b0e74f7b74b",
       "value": 1
      }
     },
     "060fec9bbd664e688a84499bce2b039b": {
      "model_module": "ipycanvas",
      "model_module_version": "^0.13",
      "model_name": "CanvasModel",
      "state": {
       "_canvas_manager": "IPY_MODEL_e404249722934e43b115a8d31ac3cd3b",
       "_model_module_version": "^0.13",
       "_view_module_version": "^0.13",
       "height": 160,
       "layout": "IPY_MODEL_1a4efdb982c240fb85250308c9f21abc",
       "width": 160
      }
     },
     "061f6440a87d45349ee7a613ca0cb231": {
      "model_module": "@jupyter-widgets/base",
      "model_module_version": "2.0.0",
      "model_name": "LayoutModel",
      "state": {}
     },
     "080c5100b42b4b79bd676855c3074d54": {
      "model_module": "@jupyter-widgets/base",
      "model_module_version": "2.0.0",
      "model_name": "LayoutModel",
      "state": {}
     },
     "08154f52a7cf4d228b90f0aed602c1f4": {
      "model_module": "@jupyter-widgets/controls",
      "model_module_version": "2.0.0",
      "model_name": "HTMLModel",
      "state": {
       "layout": "IPY_MODEL_f0b0978c8f154ec5b833227b941cc5ef",
       "style": "IPY_MODEL_4d208020bc0446c4bd9225c5bb62f160"
      }
     },
     "082c8c05bfcf4757bd0f4cdedc772d68": {
      "model_module": "@jupyter-widgets/output",
      "model_module_version": "1.0.0",
      "model_name": "OutputModel",
      "state": {
       "layout": "IPY_MODEL_b3c979421f9a4eaca5584fc6d42ecd87"
      }
     },
     "0837e001749b44cd91acc721fc4ffba4": {
      "model_module": "@jupyter-widgets/controls",
      "model_module_version": "2.0.0",
      "model_name": "VBoxModel",
      "state": {
       "children": [
        "IPY_MODEL_3543abb9dcde44ec84dc41cc4d2f5fe7"
       ],
       "layout": "IPY_MODEL_f3a4f14fb54e43d8be445c45c50e76ab"
      }
     },
     "089ef063f6834164a42c63ab18627636": {
      "model_module": "@jupyter-widgets/controls",
      "model_module_version": "2.0.0",
      "model_name": "DescriptionStyleModel",
      "state": {
       "description_width": ""
      }
     },
     "08e0d4c9bb444b1fae15191f7d577059": {
      "model_module": "@jupyter-widgets/controls",
      "model_module_version": "2.0.0",
      "model_name": "VBoxModel",
      "state": {
       "children": [
        "IPY_MODEL_7da39b7f609b45dbb772380a575241f7",
        "IPY_MODEL_c1390f6f0aa0424abb8969b5c9b014c9"
       ],
       "layout": "IPY_MODEL_8111692b32744da98f67efba00227e5e"
      }
     },
     "0a2b83485b904f2ebcac110fef0f8e97": {
      "model_module": "@jupyter-widgets/base",
      "model_module_version": "2.0.0",
      "model_name": "LayoutModel",
      "state": {
       "max_width": "30px",
       "min_width": "10px"
      }
     },
     "0a36d1bbb030476f8a2f64ff87cc3859": {
      "model_module": "@jupyter-widgets/base",
      "model_module_version": "2.0.0",
      "model_name": "LayoutModel",
      "state": {}
     },
     "0a4d8feac9e149d0acb2ce8632569c04": {
      "model_module": "@jupyter-widgets/base",
      "model_module_version": "2.0.0",
      "model_name": "LayoutModel",
      "state": {}
     },
     "0b3b22e382144a7dba5398ae96413cf5": {
      "model_module": "@jupyter-widgets/controls",
      "model_module_version": "2.0.0",
      "model_name": "SliderStyleModel",
      "state": {
       "description_width": ""
      }
     },
     "0c0d1c394df64a53baaed9ccdfe9ac0b": {
      "model_module": "@jupyter-widgets/base",
      "model_module_version": "2.0.0",
      "model_name": "LayoutModel",
      "state": {}
     },
     "0c47b6810c6b48fe8061ecc538f8c909": {
      "model_module": "@jupyter-widgets/controls",
      "model_module_version": "2.0.0",
      "model_name": "SliderStyleModel",
      "state": {
       "description_width": ""
      }
     },
     "0d7be37a315045d1a41c8da9e6ba352c": {
      "model_module": "@jupyter-widgets/base",
      "model_module_version": "2.0.0",
      "model_name": "LayoutModel",
      "state": {}
     },
     "0e8f02f5eaff42b9a06ef751e68c7430": {
      "model_module": "ipycanvas",
      "model_module_version": "^0.13",
      "model_name": "CanvasModel",
      "state": {
       "_canvas_manager": "IPY_MODEL_e404249722934e43b115a8d31ac3cd3b",
       "_model_module_version": "^0.13",
       "_view_module_version": "^0.13",
       "height": 254,
       "layout": "IPY_MODEL_c5ae5c024f78437ebd23ed28fb6a6c9c",
       "width": 256
      }
     },
     "0f72a629a6954ab79ead2c519ecf6ae5": {
      "model_module": "@jupyter-widgets/base",
      "model_module_version": "2.0.0",
      "model_name": "LayoutModel",
      "state": {}
     },
     "0fa86ce24422427bbc5ab2e0482ba335": {
      "model_module": "@jupyter-widgets/controls",
      "model_module_version": "2.0.0",
      "model_name": "SliderStyleModel",
      "state": {
       "description_width": ""
      }
     },
     "0fcadf658ba84dec9b99350b68faa9d5": {
      "model_module": "@jupyter-widgets/controls",
      "model_module_version": "2.0.0",
      "model_name": "IntSliderModel",
      "state": {
       "behavior": "drag-tap",
       "description": "Slice",
       "layout": "IPY_MODEL_b07770c17aaf475e94ae01d87a5a9d0e",
       "max": 119,
       "style": "IPY_MODEL_3f277348037f4d229f0ec4ba575ba695",
       "value": 60
      }
     },
     "0fdf0277883741c7bde9864869d487e8": {
      "model_module": "@jupyter-widgets/controls",
      "model_module_version": "2.0.0",
      "model_name": "LabelStyleModel",
      "state": {
       "description_width": "",
       "font_family": "Courier",
       "font_size": null,
       "font_style": null,
       "font_variant": null,
       "font_weight": null,
       "text_color": null,
       "text_decoration": null
      }
     },
     "0fea30fb341c4a479957454405591878": {
      "model_module": "@jupyter-widgets/controls",
      "model_module_version": "2.0.0",
      "model_name": "LabelStyleModel",
      "state": {
       "description_width": "",
       "font_family": "Courier",
       "font_size": null,
       "font_style": null,
       "font_variant": null,
       "font_weight": null,
       "text_color": null,
       "text_decoration": null
      }
     },
     "107368164b1041f09350618a8546d7a2": {
      "model_module": "@jupyter-widgets/base",
      "model_module_version": "2.0.0",
      "model_name": "LayoutModel",
      "state": {}
     },
     "11313ffb171b4f4dabb9f13dfc7e6762": {
      "model_module": "@jupyter-widgets/base",
      "model_module_version": "2.0.0",
      "model_name": "LayoutModel",
      "state": {}
     },
     "12995ae3095f4c14ac60ad1b16f47f7d": {
      "model_module": "@jupyter-widgets/controls",
      "model_module_version": "2.0.0",
      "model_name": "VBoxModel",
      "state": {
       "children": [
        "IPY_MODEL_24b9db21b1b141afa4f88880d55b1355"
       ],
       "layout": "IPY_MODEL_e1dde2319642459b8a6fe06420ce340f"
      }
     },
     "133c05167b8a493aa4443189010a7678": {
      "model_module": "@jupyter-widgets/controls",
      "model_module_version": "2.0.0",
      "model_name": "IntSliderModel",
      "state": {
       "behavior": "drag-tap",
       "description": "Curtain",
       "layout": "IPY_MODEL_80f1639f1e224677ab1fe437ddc22240",
       "max": 160,
       "style": "IPY_MODEL_352d78d89cf94248b45955cdbb2a7837",
       "value": 80
      }
     },
     "134ee0851ee7423eb1cbf80a87796979": {
      "model_module": "@jupyter-widgets/output",
      "model_module_version": "1.0.0",
      "model_name": "OutputModel",
      "state": {
       "layout": "IPY_MODEL_56d2ac2034974a2e8c209e05a974d50a"
      }
     },
     "13c7c89ff28a48b2bb62dbffd0ce518f": {
      "model_module": "@jupyter-widgets/base",
      "model_module_version": "2.0.0",
      "model_name": "LayoutModel",
      "state": {}
     },
     "147e21265a5f44259a9355711a8596f4": {
      "model_module": "ipycanvas",
      "model_module_version": "^0.13",
      "model_name": "CanvasModel",
      "state": {
       "_canvas_manager": "IPY_MODEL_e404249722934e43b115a8d31ac3cd3b",
       "_model_module_version": "^0.13",
       "_view_module_version": "^0.13",
       "height": 254,
       "layout": "IPY_MODEL_ebc6a15c158b424cb7cdf0d598898c29",
       "width": 256
      }
     },
     "1499518ce6264ed7baf8ea98689b2315": {
      "model_module": "@jupyter-widgets/base",
      "model_module_version": "2.0.0",
      "model_name": "LayoutModel",
      "state": {}
     },
     "1546789a8a95458784a3bee16b5a4228": {
      "model_module": "@jupyter-widgets/base",
      "model_module_version": "2.0.0",
      "model_name": "LayoutModel",
      "state": {}
     },
     "1583a484160e4d849ed30878da002533": {
      "model_module": "@jupyter-widgets/base",
      "model_module_version": "2.0.0",
      "model_name": "LayoutModel",
      "state": {}
     },
     "1649420d99b44bf894dc176acfcb8bbb": {
      "model_module": "@jupyter-widgets/controls",
      "model_module_version": "2.0.0",
      "model_name": "IntSliderModel",
      "state": {
       "behavior": "drag-tap",
       "description": "Slice",
       "layout": "IPY_MODEL_7c5b67708df8400487673694200a4892",
       "max": 10,
       "style": "IPY_MODEL_eaf24fcffa954e7bbd8e429583fb24d9",
       "value": 5
      }
     },
     "16555b87b22d40fca14edbb5c8be0681": {
      "model_module": "@jupyter-widgets/controls",
      "model_module_version": "2.0.0",
      "model_name": "LabelModel",
      "state": {
       "layout": "IPY_MODEL_33df39e6aaf7457094342ebb70308da6",
       "style": "IPY_MODEL_bf66e409519d443da6fbbfcf4c71fda0",
       "value": "[]:"
      }
     },
     "16b33b5a0e5342b5949fd05f08e7950d": {
      "model_module": "@jupyter-widgets/base",
      "model_module_version": "2.0.0",
      "model_name": "LayoutModel",
      "state": {}
     },
     "16b3aecc481b4870b3f01b2b5ce291af": {
      "model_module": "@jupyter-widgets/base",
      "model_module_version": "2.0.0",
      "model_name": "LayoutModel",
      "state": {}
     },
     "16b49d9a4f9a4280b199d9cb21b25d76": {
      "model_module": "@jupyter-widgets/base",
      "model_module_version": "2.0.0",
      "model_name": "LayoutModel",
      "state": {
       "display": "none"
      }
     },
     "1719278e465c45b8a8d5c434bcaa50e8": {
      "model_module": "@jupyter-widgets/base",
      "model_module_version": "2.0.0",
      "model_name": "LayoutModel",
      "state": {}
     },
     "179f678441d34b55a639ccf143585648": {
      "model_module": "@jupyter-widgets/base",
      "model_module_version": "2.0.0",
      "model_name": "LayoutModel",
      "state": {}
     },
     "18cdcee211c64ebea2e21398540ec5b1": {
      "model_module": "@jupyter-widgets/controls",
      "model_module_version": "2.0.0",
      "model_name": "IntSliderModel",
      "state": {
       "behavior": "drag-tap",
       "description": "Curtain",
       "layout": "IPY_MODEL_e32382f1af1745dc9bdc8fc22c34f111",
       "max": 160,
       "style": "IPY_MODEL_f7675713e91842b0a1b98248eeded4af",
       "value": 80
      }
     },
     "18f621c7d7ea402ba582df9bbeeea45a": {
      "model_module": "@jupyter-widgets/base",
      "model_module_version": "2.0.0",
      "model_name": "LayoutModel",
      "state": {
       "display": "none"
      }
     },
     "1a4efdb982c240fb85250308c9f21abc": {
      "model_module": "@jupyter-widgets/base",
      "model_module_version": "2.0.0",
      "model_name": "LayoutModel",
      "state": {}
     },
     "1b018153b0704f9a8597715f04e2c0b9": {
      "model_module": "@jupyter-widgets/controls",
      "model_module_version": "2.0.0",
      "model_name": "LabelStyleModel",
      "state": {
       "description_width": "",
       "font_family": "Courier",
       "font_size": null,
       "font_style": null,
       "font_variant": null,
       "font_weight": null,
       "text_color": null,
       "text_decoration": null
      }
     },
     "1b23a2a7ccb84dcd974a5c8b0cf708ee": {
      "model_module": "@jupyter-widgets/base",
      "model_module_version": "2.0.0",
      "model_name": "LayoutModel",
      "state": {}
     },
     "1c50a17dd33641b5a8934a236b3ff509": {
      "model_module": "@jupyter-widgets/base",
      "model_module_version": "2.0.0",
      "model_name": "LayoutModel",
      "state": {}
     },
     "1c861cd3a439478c94e4ef01466a5d14": {
      "model_module": "@jupyter-widgets/controls",
      "model_module_version": "2.0.0",
      "model_name": "VBoxModel",
      "state": {
       "children": [
        "IPY_MODEL_4d80b5e722b24c03b9732a7b3e678f6d"
       ],
       "layout": "IPY_MODEL_ea23a6169c82488386d5b06fe7a3aebe"
      }
     },
     "1da6e4fc9a7546f68964e390121602eb": {
      "model_module": "@jupyter-widgets/base",
      "model_module_version": "2.0.0",
      "model_name": "LayoutModel",
      "state": {}
     },
     "1ea75160e27f46eca9617d8a8d422147": {
      "model_module": "@jupyter-widgets/controls",
      "model_module_version": "2.0.0",
      "model_name": "LabelModel",
      "state": {
       "layout": "IPY_MODEL_b79ecdf92a654337a49aded298d4725d",
       "style": "IPY_MODEL_81d3798d817f49d6b503ca607799c96b",
       "value": "label( label_image=no_image)"
      }
     },
     "1ec0343c2e874293bc241faa5d2c8fee": {
      "model_module": "@jupyter-widgets/controls",
      "model_module_version": "2.0.0",
      "model_name": "DropdownModel",
      "state": {
       "_options_labels": [
        "no_image",
        "image",
        "labels",
        "modified_image",
        "slice_image",
        "binary",
        "image_stack",
        "labels_stack"
       ],
       "description": "label_image",
       "index": 0,
       "layout": "IPY_MODEL_9057b510fb2e4bb2ae088cf8323e9576",
       "style": "IPY_MODEL_84352da58a1c4af78e7a80c0e6a7a974"
      }
     },
     "1ed0acc1f85242fe9985fab0e078268b": {
      "model_module": "@jupyter-widgets/controls",
      "model_module_version": "2.0.0",
      "model_name": "HBoxModel",
      "state": {
       "children": [
        "IPY_MODEL_4908afbdf54e40d1b0e080d3ecc0d2f4"
       ],
       "layout": "IPY_MODEL_a8c71e5919ef4886b4756d17beb4198b"
      }
     },
     "1fc27d33060c4e82ab2518f7114f66ef": {
      "model_module": "@jupyter-widgets/controls",
      "model_module_version": "2.0.0",
      "model_name": "LabelModel",
      "state": {
       "layout": "IPY_MODEL_e84ee3e68f3f40d19dc9e6a0c1e36134",
       "style": "IPY_MODEL_c0a82d86318748df9d8d329de462825f",
       "value": "[]:"
      }
     },
     "20cfb91642c14e8e987fb1e65faffe59": {
      "model_module": "@jupyter-widgets/controls",
      "model_module_version": "2.0.0",
      "model_name": "HBoxModel",
      "state": {
       "children": [
        "IPY_MODEL_34f7839f855a4af195d353089eb918d8"
       ],
       "layout": "IPY_MODEL_d1f9e935923f4c9bb85af85e0aecc47a"
      }
     },
     "2163450d46a347198c1984a535a5f1e3": {
      "model_module": "@jupyter-widgets/controls",
      "model_module_version": "2.0.0",
      "model_name": "VBoxModel",
      "state": {
       "children": [
        "IPY_MODEL_5afaba7670264066b92f96e447b99ccb",
        "IPY_MODEL_846388538a184c8593705ddac7048297",
        "IPY_MODEL_37ea2c1cfca24954ac1ac0dd6cf39c2a",
        "IPY_MODEL_6c9a046b3f4044c1954d17c755d8fba1"
       ],
       "layout": "IPY_MODEL_b8be6228d52e42f88e5a80198e34e7ed"
      }
     },
     "21899c5742ce4296871e2cef47d15927": {
      "model_module": "@jupyter-widgets/controls",
      "model_module_version": "2.0.0",
      "model_name": "SliderStyleModel",
      "state": {
       "description_width": ""
      }
     },
     "24b9db21b1b141afa4f88880d55b1355": {
      "model_module": "ipycanvas",
      "model_module_version": "^0.13",
      "model_name": "CanvasModel",
      "state": {
       "_canvas_manager": "IPY_MODEL_e404249722934e43b115a8d31ac3cd3b",
       "_model_module_version": "^0.13",
       "_view_module_version": "^0.13",
       "height": 254,
       "layout": "IPY_MODEL_1c50a17dd33641b5a8934a236b3ff509",
       "width": 256
      }
     },
     "24d668c2436c480fa9ddff58dfdc20e6": {
      "model_module": "@jupyter-widgets/base",
      "model_module_version": "2.0.0",
      "model_name": "LayoutModel",
      "state": {}
     },
     "252ec0e4a72449a1a242d5bab935c407": {
      "model_module": "@jupyter-widgets/base",
      "model_module_version": "2.0.0",
      "model_name": "LayoutModel",
      "state": {}
     },
     "25c2cd8113044beea2e88a36838709d6": {
      "model_module": "ipycanvas",
      "model_module_version": "^0.13",
      "model_name": "CanvasModel",
      "state": {
       "_canvas_manager": "IPY_MODEL_e404249722934e43b115a8d31ac3cd3b",
       "_model_module_version": "^0.13",
       "_view_module_version": "^0.13",
       "height": 254,
       "layout": "IPY_MODEL_31f4ef65965a486bb08dfd1ac122966b",
       "width": 256
      }
     },
     "268cf8aad3e14ae899d2421a2686d87f": {
      "model_module": "@jupyter-widgets/output",
      "model_module_version": "1.0.0",
      "model_name": "OutputModel",
      "state": {
       "layout": "IPY_MODEL_877155b3b904412285c298874fda4d7a"
      }
     },
     "2749cb6509a04bf49992836c699a22a8": {
      "model_module": "@jupyter-widgets/base",
      "model_module_version": "2.0.0",
      "model_name": "LayoutModel",
      "state": {}
     },
     "27ec489977e14ee9bd79462593ab314d": {
      "model_module": "@jupyter-widgets/controls",
      "model_module_version": "2.0.0",
      "model_name": "DescriptionStyleModel",
      "state": {
       "description_width": ""
      }
     },
     "29890aa5034c4125a084bc04c4b376b0": {
      "model_module": "@jupyter-widgets/controls",
      "model_module_version": "2.0.0",
      "model_name": "IntSliderModel",
      "state": {
       "behavior": "drag-tap",
       "continuous_update": false,
       "description": "footprint",
       "layout": "IPY_MODEL_7dbf7126eaff4f48bc4775cd50dcf8d9",
       "style": "IPY_MODEL_969deffc8c774cb7b47adc5ef44b5001"
      }
     },
     "2a39fdc064714acabbe504a1e947201c": {
      "model_module": "@jupyter-widgets/base",
      "model_module_version": "2.0.0",
      "model_name": "LayoutModel",
      "state": {}
     },
     "2a534ccdb9d648028da438b782e13b49": {
      "model_module": "@jupyter-widgets/controls",
      "model_module_version": "2.0.0",
      "model_name": "ButtonStyleModel",
      "state": {
       "font_family": null,
       "font_size": null,
       "font_style": null,
       "font_variant": null,
       "font_weight": null,
       "text_color": null,
       "text_decoration": null
      }
     },
     "2aef549c12064ababee4b90925295d36": {
      "model_module": "@jupyter-widgets/controls",
      "model_module_version": "2.0.0",
      "model_name": "HBoxModel",
      "state": {
       "children": [
        "IPY_MODEL_050a6c63eb1041debe2fadb947654dd2"
       ],
       "layout": "IPY_MODEL_ddcf7f86b45a4e69907fc0800c029174"
      }
     },
     "2af0584f21124ddc8e233bdd15d86b4c": {
      "model_module": "@jupyter-widgets/controls",
      "model_module_version": "2.0.0",
      "model_name": "VBoxModel",
      "state": {
       "_dom_classes": [
        "widget-interact"
       ],
       "children": [
        "IPY_MODEL_e211a7610d0d4ba3842eb49c6463a7f5",
        "IPY_MODEL_134ee0851ee7423eb1cbf80a87796979"
       ],
       "layout": "IPY_MODEL_1da6e4fc9a7546f68964e390121602eb"
      }
     },
     "2baa20182fbc487296434268835b0dab": {
      "model_module": "ipycanvas",
      "model_module_version": "^0.13",
      "model_name": "CanvasModel",
      "state": {
       "_canvas_manager": "IPY_MODEL_e404249722934e43b115a8d31ac3cd3b",
       "_model_module_version": "^0.13",
       "_view_module_version": "^0.13",
       "height": 11,
       "layout": "IPY_MODEL_fbb833114fde49579e21fe242f201f6a",
       "width": 11
      }
     },
     "2bdbc5efb2914665a5ce769f031396fc": {
      "model_module": "@jupyter-widgets/controls",
      "model_module_version": "2.0.0",
      "model_name": "IntSliderModel",
      "state": {
       "behavior": "drag-tap",
       "description": "Y",
       "layout": "IPY_MODEL_d9e01ca6675446a99ecbbbe2af29ba5d",
       "max": 159,
       "style": "IPY_MODEL_eb48dfd6dedf4468a6286ec70236cccd",
       "value": 80
      }
     },
     "2bef9760cac34be5a1e6ff5c9845b6b9": {
      "model_module": "@jupyter-widgets/base",
      "model_module_version": "2.0.0",
      "model_name": "LayoutModel",
      "state": {}
     },
     "2e0eaf66760344369941958942f37460": {
      "model_module": "@jupyter-widgets/controls",
      "model_module_version": "2.0.0",
      "model_name": "ButtonStyleModel",
      "state": {
       "font_family": null,
       "font_size": null,
       "font_style": null,
       "font_variant": null,
       "font_weight": null,
       "text_color": null,
       "text_decoration": null
      }
     },
     "2e0f62ccef7e48ecaa0c326710bfe7f9": {
      "model_module": "ipycanvas",
      "model_module_version": "^0.13",
      "model_name": "CanvasModel",
      "state": {
       "_canvas_manager": "IPY_MODEL_e404249722934e43b115a8d31ac3cd3b",
       "_model_module_version": "^0.13",
       "_view_module_version": "^0.13",
       "height": 254,
       "layout": "IPY_MODEL_dc1b9c17f92a4c54b293af0697757955",
       "width": 256
      }
     },
     "2e243bf31a534d0b8703b79141872a2d": {
      "model_module": "@jupyter-widgets/controls",
      "model_module_version": "2.0.0",
      "model_name": "DropdownModel",
      "state": {
       "_options_labels": [
        "no_image",
        "image",
        "labels",
        "modified_image",
        "slice_image",
        "binary",
        "image_stack",
        "labels_stack"
       ],
       "description": "image",
       "index": 0,
       "layout": "IPY_MODEL_902387110cdd413cb39ddc57deb9be73",
       "style": "IPY_MODEL_b7c80e2110274bc686e5e7952983d5d2"
      }
     },
     "2edf265139474f16b50919592c0bd474": {
      "model_module": "@jupyter-widgets/base",
      "model_module_version": "2.0.0",
      "model_name": "LayoutModel",
      "state": {}
     },
     "2ef9b16ca6df451aa93790afa754ffd4": {
      "model_module": "@jupyter-widgets/base",
      "model_module_version": "2.0.0",
      "model_name": "LayoutModel",
      "state": {}
     },
     "2f08515b9ca84ff984b4f88baebe7062": {
      "model_module": "@jupyter-widgets/base",
      "model_module_version": "2.0.0",
      "model_name": "LayoutModel",
      "state": {
       "max_width": "30px",
       "min_width": "10px"
      }
     },
     "2f5bbce89b0f4739871c8910dbcd3953": {
      "model_module": "@jupyter-widgets/controls",
      "model_module_version": "2.0.0",
      "model_name": "LabelStyleModel",
      "state": {
       "description_width": "",
       "font_family": "Courier",
       "font_size": null,
       "font_style": null,
       "font_variant": null,
       "font_weight": null,
       "text_color": null,
       "text_decoration": null
      }
     },
     "30c1e4affad042729801ab4e2214e4ac": {
      "model_module": "@jupyter-widgets/base",
      "model_module_version": "2.0.0",
      "model_name": "LayoutModel",
      "state": {}
     },
     "30c66a2810064a5d91a2462676c2acd7": {
      "model_module": "@jupyter-widgets/controls",
      "model_module_version": "2.0.0",
      "model_name": "IntRangeSliderModel",
      "state": {
       "_model_name": "IntRangeSliderModel",
       "_view_name": "IntRangeSliderView",
       "behavior": "drag-tap",
       "continuous_update": false,
       "description": "Y",
       "layout": "IPY_MODEL_0a4d8feac9e149d0acb2ce8632569c04",
       "max": 389,
       "style": "IPY_MODEL_4a84d199a919409a92dd052cf0f3d6db",
       "value": [
        0,
        389
       ]
      }
     },
     "30db5ac86abc45c4b7bf7f5fbd39f3d1": {
      "model_module": "@jupyter-widgets/base",
      "model_module_version": "2.0.0",
      "model_name": "LayoutModel",
      "state": {}
     },
     "30dd49bbd6e145e7a31debff697a3ca9": {
      "model_module": "@jupyter-widgets/base",
      "model_module_version": "2.0.0",
      "model_name": "LayoutModel",
      "state": {}
     },
     "3108c34e4e04469ca3f0caa691e5cae7": {
      "model_module": "@jupyter-widgets/output",
      "model_module_version": "1.0.0",
      "model_name": "OutputModel",
      "state": {
       "layout": "IPY_MODEL_d6948b3c5ab044f1be7e3e709a85cbf9"
      }
     },
     "31152d2a726d4e6d9a96801d6eaa77c2": {
      "model_module": "@jupyter-widgets/controls",
      "model_module_version": "2.0.0",
      "model_name": "VBoxModel",
      "state": {
       "children": [
        "IPY_MODEL_2baa20182fbc487296434268835b0dab"
       ],
       "layout": "IPY_MODEL_94835f403ede4856a1ce04e43581b191"
      }
     },
     "311a00d3683b4831a9ffa3cff9cd623d": {
      "model_module": "@jupyter-widgets/controls",
      "model_module_version": "2.0.0",
      "model_name": "IntSliderModel",
      "state": {
       "behavior": "drag-tap",
       "description": "Curtain",
       "layout": "IPY_MODEL_6d17a2b1af76465388149ca1a768fe8f",
       "max": 256,
       "style": "IPY_MODEL_0c47b6810c6b48fe8061ecc538f8c909",
       "value": 128
      }
     },
     "31f4ef65965a486bb08dfd1ac122966b": {
      "model_module": "@jupyter-widgets/base",
      "model_module_version": "2.0.0",
      "model_name": "LayoutModel",
      "state": {}
     },
     "322f1033636941ffac8051da4d08e946": {
      "model_module": "@jupyter-widgets/base",
      "model_module_version": "2.0.0",
      "model_name": "LayoutModel",
      "state": {}
     },
     "32a930d51261442ca2c47e12ae21f0b7": {
      "model_module": "@jupyter-widgets/controls",
      "model_module_version": "2.0.0",
      "model_name": "VBoxModel",
      "state": {
       "children": [
        "IPY_MODEL_d13e2d79b0324e758f9c3536aa9f8dd2"
       ],
       "layout": "IPY_MODEL_11313ffb171b4f4dabb9f13dfc7e6762"
      }
     },
     "32f1dbbb423f4b45a1485d4b9e982030": {
      "model_module": "@jupyter-widgets/controls",
      "model_module_version": "2.0.0",
      "model_name": "VBoxModel",
      "state": {
       "children": [
        "IPY_MODEL_2af0584f21124ddc8e233bdd15d86b4c",
        "IPY_MODEL_fcf0dcb58d134c29b45425ade33b67e0",
        "IPY_MODEL_d48457f2d9634c9ab07a2d97bcc715e1",
        "IPY_MODEL_f42853cc1ade48e994f7b21406e0c8ca"
       ],
       "layout": "IPY_MODEL_9c9669dcd06844bf8014f70d430bf70b"
      }
     },
     "330d63a20030441db6d7ee3eb911212d": {
      "model_module": "@jupyter-widgets/controls",
      "model_module_version": "2.0.0",
      "model_name": "LabelModel",
      "state": {
       "layout": "IPY_MODEL_375a31473f094c179d4d56beb3baf027",
       "style": "IPY_MODEL_80585790ce9b4ffa8cc65fd8592001d2",
       "value": "1"
      }
     },
     "337089f7592041a8b9c4a9738f88441c": {
      "model_module": "@jupyter-widgets/controls",
      "model_module_version": "2.0.0",
      "model_name": "SliderStyleModel",
      "state": {
       "description_width": ""
      }
     },
     "33c381c5d19a4ee487099deecb5d0c64": {
      "model_module": "@jupyter-widgets/controls",
      "model_module_version": "2.0.0",
      "model_name": "DropdownModel",
      "state": {
       "_options_labels": [
        "no_image",
        "image",
        "labels",
        "modified_image",
        "slice_image",
        "binary",
        "image_stack",
        "labels_stack"
       ],
       "description": "mask",
       "index": 0,
       "layout": "IPY_MODEL_8a0e5d2330834c25b0956c5b0c260742",
       "style": "IPY_MODEL_ef089bffc8df48d0911e0d43185450e9"
      }
     },
     "33df39e6aaf7457094342ebb70308da6": {
      "model_module": "@jupyter-widgets/base",
      "model_module_version": "2.0.0",
      "model_name": "LayoutModel",
      "state": {}
     },
     "3452c8ddaf804567bb57881f3dcf0a93": {
      "model_module": "@jupyter-widgets/controls",
      "model_module_version": "2.0.0",
      "model_name": "LabelStyleModel",
      "state": {
       "description_width": "",
       "font_family": "Courier",
       "font_size": null,
       "font_style": null,
       "font_variant": null,
       "font_weight": null,
       "text_color": null,
       "text_decoration": null
      }
     },
     "349089880f1943ff9734ac8e8aae886e": {
      "model_module": "@jupyter-widgets/controls",
      "model_module_version": "2.0.0",
      "model_name": "VBoxModel",
      "state": {
       "children": [
        "IPY_MODEL_c2de66c2fedb42fd96167a245d3856f6",
        "IPY_MODEL_4156d630ea984f32a132086d22709bac"
       ],
       "layout": "IPY_MODEL_f7f3415349644561b710e44a2f8e937d"
      }
     },
     "34b4a09ee6c447019abd602cd7665762": {
      "model_module": "@jupyter-widgets/output",
      "model_module_version": "1.0.0",
      "model_name": "OutputModel",
      "state": {
       "layout": "IPY_MODEL_c0311886d18a46268549bfacdc06a158"
      }
     },
     "34f7839f855a4af195d353089eb918d8": {
      "model_module": "@jupyter-widgets/controls",
      "model_module_version": "2.0.0",
      "model_name": "VBoxModel",
      "state": {
       "children": [
        "IPY_MODEL_65a73790493d4524b39d3ce58304c1bb"
       ],
       "layout": "IPY_MODEL_f1d366b16f304b85b306c2abbc31b710"
      }
     },
     "352d78d89cf94248b45955cdbb2a7837": {
      "model_module": "@jupyter-widgets/controls",
      "model_module_version": "2.0.0",
      "model_name": "SliderStyleModel",
      "state": {
       "description_width": ""
      }
     },
     "3543abb9dcde44ec84dc41cc4d2f5fe7": {
      "model_module": "ipycanvas",
      "model_module_version": "^0.13",
      "model_name": "CanvasModel",
      "state": {
       "_canvas_manager": "IPY_MODEL_e404249722934e43b115a8d31ac3cd3b",
       "_model_module_version": "^0.13",
       "_view_module_version": "^0.13",
       "height": 389,
       "layout": "IPY_MODEL_0393162e5b0b453eb4b6e1d120612fca",
       "width": 235
      }
     },
     "354c3c617b8347148b0fa838ac3ca99d": {
      "model_module": "@jupyter-widgets/controls",
      "model_module_version": "2.0.0",
      "model_name": "LabelModel",
      "state": {
       "layout": "IPY_MODEL_a2aa06dde79b4603a29b4d487b58b847",
       "style": "IPY_MODEL_e12cfd323357446b92227904e48a67d6",
       "value": "Draw radius:"
      }
     },
     "3594c295aedc471589f778401f0f93ac": {
      "model_module": "@jupyter-widgets/base",
      "model_module_version": "2.0.0",
      "model_name": "LayoutModel",
      "state": {}
     },
     "36f44300f97c45bdb1acbba601e0d60c": {
      "model_module": "@jupyter-widgets/controls",
      "model_module_version": "2.0.0",
      "model_name": "IntSliderModel",
      "state": {
       "behavior": "drag-tap",
       "continuous_update": false,
       "description": "Slice",
       "layout": "IPY_MODEL_51b845e9a18140f1a2ee0d6891d1f3aa",
       "max": 119,
       "style": "IPY_MODEL_b3ef279613ad4ba4aeb46aca4c22131f",
       "value": 60
      }
     },
     "37117ffcbbcc440c81f7297a9017067a": {
      "model_module": "@jupyter-widgets/controls",
      "model_module_version": "2.0.0",
      "model_name": "VBoxModel",
      "state": {
       "children": [
        "IPY_MODEL_93b9bc274aab4adbbcf9db4b101a81e9",
        "IPY_MODEL_2bdbc5efb2914665a5ce769f031396fc"
       ],
       "layout": "IPY_MODEL_4fa1dcf16b2f4af7aebe2e66396a272f"
      }
     },
     "3721de6bb0244733bb506bcbb82b8ff8": {
      "model_module": "ipyevents",
      "model_module_version": "2.0.1",
      "model_name": "EventModel",
      "state": {
       "_supported_key_events": [
        "keydown",
        "keyup"
       ],
       "_supported_mouse_events": [
        "click",
        "auxclick",
        "dblclick",
        "mouseenter",
        "mouseleave",
        "mousedown",
        "mouseup",
        "mousemove",
        "wheel",
        "contextmenu",
        "dragstart",
        "drag",
        "dragend",
        "dragenter",
        "dragover",
        "dragleave",
        "drop"
       ],
       "_supported_touch_events": [
        "touchstart",
        "touchend",
        "touchmove",
        "touchcancel"
       ],
       "_view_module": "@jupyter-widgets/controls",
       "source": "IPY_MODEL_bbad8d3db6e54b49afbb832e830e3920",
       "throttle_or_debounce": "",
       "watched_events": [
        "mousemove"
       ],
       "xy_coordinate_system": ""
      }
     },
     "375a31473f094c179d4d56beb3baf027": {
      "model_module": "@jupyter-widgets/base",
      "model_module_version": "2.0.0",
      "model_name": "LayoutModel",
      "state": {}
     },
     "3784193dae444312bb090baf8f7d1b2b": {
      "model_module": "@jupyter-widgets/base",
      "model_module_version": "2.0.0",
      "model_name": "LayoutModel",
      "state": {}
     },
     "37ea2c1cfca24954ac1ac0dd6cf39c2a": {
      "model_module": "@jupyter-widgets/controls",
      "model_module_version": "2.0.0",
      "model_name": "HBoxModel",
      "state": {
       "children": [
        "IPY_MODEL_9e9c77c644f8418eb03ff6229d4cd24c"
       ],
       "layout": "IPY_MODEL_e3132435a18946e59decc6da3f1e0f37"
      }
     },
     "37ec7f6648ad453a9f4049b5c5fffdf9": {
      "model_module": "@jupyter-widgets/base",
      "model_module_version": "2.0.0",
      "model_name": "LayoutModel",
      "state": {}
     },
     "384499449113443cbf652b72ecb0015a": {
      "model_module": "ipycanvas",
      "model_module_version": "^0.13",
      "model_name": "CanvasModel",
      "state": {
       "_canvas_manager": "IPY_MODEL_e404249722934e43b115a8d31ac3cd3b",
       "_model_module_version": "^0.13",
       "_view_module_version": "^0.13",
       "height": 160,
       "layout": "IPY_MODEL_690c087446034b88848c7633187ea736",
       "width": 160
      }
     },
     "38498deada744f1a83e99107bfd4634d": {
      "model_module": "@jupyter-widgets/controls",
      "model_module_version": "2.0.0",
      "model_name": "SliderStyleModel",
      "state": {
       "description_width": ""
      }
     },
     "3987dcd27229444d95ab65d5c415b4b9": {
      "model_module": "@jupyter-widgets/base",
      "model_module_version": "2.0.0",
      "model_name": "LayoutModel",
      "state": {}
     },
     "39c8a82495dc4bbfa17250c93844e247": {
      "model_module": "@jupyter-widgets/controls",
      "model_module_version": "2.0.0",
      "model_name": "LabelModel",
      "state": {
       "layout": "IPY_MODEL_73552b1168bb40d9bbd0b039d15ab83a",
       "style": "IPY_MODEL_67168f2e3216438ebe39ce459ce4c3f4",
       "value": "maximum( image=no_image, footprint=disk(0), mask=no_image)"
      }
     },
     "3a0089489b6f4632ac7f6e6ddc7c1a14": {
      "model_module": "@jupyter-widgets/controls",
      "model_module_version": "2.0.0",
      "model_name": "SliderStyleModel",
      "state": {
       "description_width": ""
      }
     },
     "3ac8ce8e1d0240bb8d49d85c87df6b1b": {
      "model_module": "@jupyter-widgets/controls",
      "model_module_version": "2.0.0",
      "model_name": "SliderStyleModel",
      "state": {
       "description_width": ""
      }
     },
     "3b7bc0c7f7bc40a3b4760012be89a6b0": {
      "model_module": "@jupyter-widgets/controls",
      "model_module_version": "2.0.0",
      "model_name": "HBoxModel",
      "state": {
       "children": [
        "IPY_MODEL_32a930d51261442ca2c47e12ae21f0b7"
       ],
       "layout": "IPY_MODEL_a614a37744be4060b68d6617251f825d"
      }
     },
     "3c4201146a1a49c7a9a110c4ee21a678": {
      "model_module": "@jupyter-widgets/controls",
      "model_module_version": "2.0.0",
      "model_name": "LabelStyleModel",
      "state": {
       "description_width": "",
       "font_family": "Courier",
       "font_size": null,
       "font_style": null,
       "font_variant": null,
       "font_weight": null,
       "text_color": null,
       "text_decoration": null
      }
     },
     "3d45df6020c64e13b69107d0199961b7": {
      "model_module": "@jupyter-widgets/base",
      "model_module_version": "2.0.0",
      "model_name": "LayoutModel",
      "state": {
       "display": "none"
      }
     },
     "3d8dfbc16e494f4ca760ed64d12b180b": {
      "model_module": "@jupyter-widgets/base",
      "model_module_version": "2.0.0",
      "model_name": "LayoutModel",
      "state": {}
     },
     "3de2ac8ead654c2390f56fc5c7bc4788": {
      "model_module": "@jupyter-widgets/base",
      "model_module_version": "2.0.0",
      "model_name": "LayoutModel",
      "state": {
       "display": "none"
      }
     },
     "3e1cdfed3f684201ad4304db848b1d54": {
      "model_module": "ipycanvas",
      "model_module_version": "^0.13",
      "model_name": "CanvasModel",
      "state": {
       "_canvas_manager": "IPY_MODEL_e404249722934e43b115a8d31ac3cd3b",
       "_model_module_version": "^0.13",
       "_view_module_version": "^0.13",
       "height": 235,
       "layout": "IPY_MODEL_2edf265139474f16b50919592c0bd474",
       "width": 389
      }
     },
     "3eeef0e9910a4680bbcc9f08b72b1e02": {
      "model_module": "@jupyter-widgets/controls",
      "model_module_version": "2.0.0",
      "model_name": "IntSliderModel",
      "state": {
       "behavior": "drag-tap",
       "description": "Slice",
       "layout": "IPY_MODEL_3d45df6020c64e13b69107d0199961b7",
       "max": 253,
       "style": "IPY_MODEL_d3378759f0d04d08baddb7f9c7f5c175",
       "value": 127
      }
     },
     "3f277348037f4d229f0ec4ba575ba695": {
      "model_module": "@jupyter-widgets/controls",
      "model_module_version": "2.0.0",
      "model_name": "SliderStyleModel",
      "state": {
       "description_width": ""
      }
     },
     "3f4247823eb8483fa38137344e753b92": {
      "model_module": "@jupyter-widgets/base",
      "model_module_version": "2.0.0",
      "model_name": "LayoutModel",
      "state": {}
     },
     "4072840d3d934bd7a18b8577d589205e": {
      "model_module": "@jupyter-widgets/base",
      "model_module_version": "2.0.0",
      "model_name": "LayoutModel",
      "state": {}
     },
     "4088adef71874e018c951931d0adf1d4": {
      "model_module": "@jupyter-widgets/base",
      "model_module_version": "2.0.0",
      "model_name": "LayoutModel",
      "state": {}
     },
     "4156d630ea984f32a132086d22709bac": {
      "model_module": "@jupyter-widgets/controls",
      "model_module_version": "2.0.0",
      "model_name": "IntSliderModel",
      "state": {
       "behavior": "drag-tap",
       "description": "X",
       "layout": "IPY_MODEL_baf51a51f78b47609260994a4ec4b58a",
       "max": 159,
       "style": "IPY_MODEL_5596088935e44ef68d15ab04993e6197",
       "value": 80
      }
     },
     "421de3dd41214236a9e7fb13481f47f2": {
      "model_module": "@jupyter-widgets/base",
      "model_module_version": "2.0.0",
      "model_name": "LayoutModel",
      "state": {}
     },
     "45b87f04b5ec4603ad9dbc2c40f0bc76": {
      "model_module": "@jupyter-widgets/base",
      "model_module_version": "2.0.0",
      "model_name": "LayoutModel",
      "state": {}
     },
     "45fbdd444b974fedbc5dab72fe899c51": {
      "model_module": "@jupyter-widgets/base",
      "model_module_version": "2.0.0",
      "model_name": "LayoutModel",
      "state": {}
     },
     "472d1b99b53c4c6793dae0f212b73771": {
      "model_module": "@jupyter-widgets/base",
      "model_module_version": "2.0.0",
      "model_name": "LayoutModel",
      "state": {}
     },
     "4845d0bb284248689d35589e98ca4dd6": {
      "model_module": "@jupyter-widgets/controls",
      "model_module_version": "2.0.0",
      "model_name": "LabelModel",
      "state": {
       "layout": "IPY_MODEL_c964f0b593994c378241994157f05e07",
       "style": "IPY_MODEL_5e9f155f07334d5e83819e3ace072c16",
       "value": "threshold_otsu( image=no_image)"
      }
     },
     "4870e750c9ca430297341a1945608836": {
      "model_module": "@jupyter-widgets/base",
      "model_module_version": "2.0.0",
      "model_name": "LayoutModel",
      "state": {}
     },
     "48921bd461534079a3dae4d31a9345eb": {
      "model_module": "@jupyter-widgets/controls",
      "model_module_version": "2.0.0",
      "model_name": "LabelModel",
      "state": {
       "layout": "IPY_MODEL_0f72a629a6954ab79ead2c519ecf6ae5",
       "style": "IPY_MODEL_da60f0addf56484f9d49424ec8ad14de",
       "value": "Eraser radius:"
      }
     },
     "48b9a0fb712a489297de2195f610c20f": {
      "model_module": "@jupyter-widgets/controls",
      "model_module_version": "2.0.0",
      "model_name": "LabelModel",
      "state": {
       "layout": "IPY_MODEL_1546789a8a95458784a3bee16b5a4228",
       "style": "IPY_MODEL_8f5e6cd9740f43da87440dbec5001566",
       "value": "my_custom_code( image=no_image, sigma=1.0, show_labels=True)"
      }
     },
     "4908afbdf54e40d1b0e080d3ecc0d2f4": {
      "model_module": "@jupyter-widgets/controls",
      "model_module_version": "2.0.0",
      "model_name": "VBoxModel",
      "state": {
       "children": [
        "IPY_MODEL_384499449113443cbf652b72ecb0015a"
       ],
       "layout": "IPY_MODEL_dfc57de54b19454f8015ef09e1068b09"
      }
     },
     "4924219151b0487ca7ce98a0a5ecdae1": {
      "model_module": "@jupyter-widgets/controls",
      "model_module_version": "2.0.0",
      "model_name": "VBoxModel",
      "state": {
       "children": [
        "IPY_MODEL_147e21265a5f44259a9355711a8596f4"
       ],
       "layout": "IPY_MODEL_e7f8ff66b6594f36a5ebaa0e8273bd86"
      }
     },
     "49f544c3c8684a5ca355be4c61d4f863": {
      "model_module": "@jupyter-widgets/base",
      "model_module_version": "2.0.0",
      "model_name": "LayoutModel",
      "state": {}
     },
     "4a6a517418ab4594a60ed07c452b12fd": {
      "model_module": "@jupyter-widgets/base",
      "model_module_version": "2.0.0",
      "model_name": "LayoutModel",
      "state": {}
     },
     "4a84d199a919409a92dd052cf0f3d6db": {
      "model_module": "@jupyter-widgets/controls",
      "model_module_version": "2.0.0",
      "model_name": "SliderStyleModel",
      "state": {
       "description_width": ""
      }
     },
     "4a8ff43127574a508b48ea1c9dbc28c9": {
      "model_module": "@jupyter-widgets/controls",
      "model_module_version": "2.0.0",
      "model_name": "VBoxModel",
      "state": {
       "children": [
        "IPY_MODEL_cd5c120f04a246c597800e2498f96fbc",
        "IPY_MODEL_d4cf23214ea44a28a9eff16280624379",
        "IPY_MODEL_1fc27d33060c4e82ab2518f7114f66ef"
       ],
       "layout": "IPY_MODEL_8e9279cd34ef48b88b47a276103c28a3"
      }
     },
     "4afd998ec9b843c3b438a7607a6da0b2": {
      "model_module": "@jupyter-widgets/controls",
      "model_module_version": "2.0.0",
      "model_name": "LabelModel",
      "state": {
       "layout": "IPY_MODEL_cbf67a7d7b654c8aa51ea8e435489e88",
       "style": "IPY_MODEL_76673af953874a0c8962b9ebc14f8b74",
       "value": "gaussian( image=no_image, sigma=1.0)"
      }
     },
     "4b92795ad99b45828d61a9853d02339a": {
      "model_module": "@jupyter-widgets/base",
      "model_module_version": "2.0.0",
      "model_name": "LayoutModel",
      "state": {}
     },
     "4bea8151258e44d6834afa5ccc8e9bfa": {
      "model_module": "@jupyter-widgets/controls",
      "model_module_version": "2.0.0",
      "model_name": "LabelModel",
      "state": {
       "layout": "IPY_MODEL_30c1e4affad042729801ab4e2214e4ac",
       "style": "IPY_MODEL_a98dbfd9dc6e41a1836dfdbc51e93c78",
       "value": "stackview.nop( image=no_image)"
      }
     },
     "4d208020bc0446c4bd9225c5bb62f160": {
      "model_module": "@jupyter-widgets/controls",
      "model_module_version": "2.0.0",
      "model_name": "HTMLStyleModel",
      "state": {
       "description_width": "",
       "font_size": null,
       "text_color": null
      }
     },
     "4d80b5e722b24c03b9732a7b3e678f6d": {
      "model_module": "ipycanvas",
      "model_module_version": "^0.13",
      "model_name": "CanvasModel",
      "state": {
       "_canvas_manager": "IPY_MODEL_e404249722934e43b115a8d31ac3cd3b",
       "_model_module_version": "^0.13",
       "_view_module_version": "^0.13",
       "height": 389,
       "layout": "IPY_MODEL_6e4dad27ed4d42bebfa399f38760a55f",
       "width": 235
      }
     },
     "4daea764eafd4fea8faeab89c2a78f67": {
      "model_module": "@jupyter-widgets/base",
      "model_module_version": "2.0.0",
      "model_name": "LayoutModel",
      "state": {}
     },
     "4e9f472718cc47d492150f501d6de5b4": {
      "model_module": "@jupyter-widgets/controls",
      "model_module_version": "2.0.0",
      "model_name": "VBoxModel",
      "state": {
       "children": [
        "IPY_MODEL_8b509e4b16f74770bccaadfa32814199",
        "IPY_MODEL_690929ddfdbf40b0b62c44e1f10704c4"
       ],
       "layout": "IPY_MODEL_45b87f04b5ec4603ad9dbc2c40f0bc76"
      }
     },
     "4eaf34f2ed7e478197831b2fa49c22c1": {
      "model_module": "@jupyter-widgets/controls",
      "model_module_version": "2.0.0",
      "model_name": "HBoxModel",
      "state": {
       "children": [
        "IPY_MODEL_e9e0a8d49e614883aaa3ea976295a27f",
        "IPY_MODEL_b86e3a2540954736b25234ff4f3f44f7"
       ],
       "layout": "IPY_MODEL_77810d73f2ae4c3aac1d5220b791e4f9"
      }
     },
     "4edb88a079304678a4e44297049c9bd0": {
      "model_module": "@jupyter-widgets/controls",
      "model_module_version": "2.0.0",
      "model_name": "SliderStyleModel",
      "state": {
       "description_width": ""
      }
     },
     "4fa1dcf16b2f4af7aebe2e66396a272f": {
      "model_module": "@jupyter-widgets/base",
      "model_module_version": "2.0.0",
      "model_name": "LayoutModel",
      "state": {}
     },
     "4ff58f60a94c41f582fb2ca68ee6dd18": {
      "model_module": "@jupyter-widgets/controls",
      "model_module_version": "2.0.0",
      "model_name": "VBoxModel",
      "state": {
       "children": [
        "IPY_MODEL_504c1aff64564c20a59444f28fa93198",
        "IPY_MODEL_4845d0bb284248689d35589e98ca4dd6"
       ],
       "layout": "IPY_MODEL_891fe739174c43a3bcd58b691f57ad7c"
      }
     },
     "503b670086e9436d9ad553ee64cb6028": {
      "model_module": "@jupyter-widgets/controls",
      "model_module_version": "2.0.0",
      "model_name": "VBoxModel",
      "state": {
       "children": [
        "IPY_MODEL_5c265bf526e848a3bb34427f1c622002"
       ],
       "layout": "IPY_MODEL_8f3246343a834927909f82f7798b9e91"
      }
     },
     "504c1aff64564c20a59444f28fa93198": {
      "model_module": "@jupyter-widgets/controls",
      "model_module_version": "2.0.0",
      "model_name": "VBoxModel",
      "state": {
       "_dom_classes": [
        "widget-interact"
       ],
       "children": [
        "IPY_MODEL_cad31ad183f94e9081702e4567a3bddf",
        "IPY_MODEL_c16e4c05454f4494a7f86fdfc279d1dc"
       ],
       "layout": "IPY_MODEL_c6b8c8f145f444d49dcf0b6d20ecbf60"
      }
     },
     "50b95939dc4c4653bb26afbbbfafaeb3": {
      "model_module": "@jupyter-widgets/controls",
      "model_module_version": "2.0.0",
      "model_name": "VBoxModel",
      "state": {
       "children": [
        "IPY_MODEL_daf7c2dfbca841bc890fa65eaa55bc78",
        "IPY_MODEL_e84a6e503c2545b0bca12ea1554167f4"
       ],
       "layout": "IPY_MODEL_1499518ce6264ed7baf8ea98689b2315"
      }
     },
     "51b845e9a18140f1a2ee0d6891d1f3aa": {
      "model_module": "@jupyter-widgets/base",
      "model_module_version": "2.0.0",
      "model_name": "LayoutModel",
      "state": {}
     },
     "5224cc89c1b748dd8db797d12335bf1f": {
      "model_module": "@jupyter-widgets/controls",
      "model_module_version": "2.0.0",
      "model_name": "VBoxModel",
      "state": {
       "children": [
        "IPY_MODEL_e256f8b1013a4c81a0bd1670348189d1",
        "IPY_MODEL_3eeef0e9910a4680bbcc9f08b72b1e02",
        "IPY_MODEL_311a00d3683b4831a9ffa3cff9cd623d"
       ],
       "layout": "IPY_MODEL_3f4247823eb8483fa38137344e753b92"
      }
     },
     "523335ec61724289b4484bda92f7fde1": {
      "model_module": "@jupyter-widgets/base",
      "model_module_version": "2.0.0",
      "model_name": "LayoutModel",
      "state": {}
     },
     "529a60a8c9f8452eb7dd9f1871cc7cfc": {
      "model_module": "ipycanvas",
      "model_module_version": "^0.13",
      "model_name": "CanvasModel",
      "state": {
       "_canvas_manager": "IPY_MODEL_e404249722934e43b115a8d31ac3cd3b",
       "_model_module_version": "^0.13",
       "_view_module_version": "^0.13",
       "height": 254,
       "layout": "IPY_MODEL_9cfa785a83ec46e58a947b50d793820e",
       "width": 256
      }
     },
     "52f91692bff84098bc64808e4d70f9f3": {
      "model_module": "ipycanvas",
      "model_module_version": "^0.13",
      "model_name": "CanvasModel",
      "state": {
       "_canvas_manager": "IPY_MODEL_e404249722934e43b115a8d31ac3cd3b",
       "_model_module_version": "^0.13",
       "_view_module_version": "^0.13",
       "height": 235,
       "layout": "IPY_MODEL_88c271d87aa4479cab7af3e85f572c8f",
       "width": 389
      }
     },
     "5371650439e34fa3bbe638a9c8a9a462": {
      "model_module": "@jupyter-widgets/controls",
      "model_module_version": "2.0.0",
      "model_name": "DescriptionStyleModel",
      "state": {
       "description_width": ""
      }
     },
     "538320761d4143f1a777f7eca70ab5ba": {
      "model_module": "@jupyter-widgets/base",
      "model_module_version": "2.0.0",
      "model_name": "LayoutModel",
      "state": {}
     },
     "53cbf1059ca8419cb3be80d84b87a7a1": {
      "model_module": "@jupyter-widgets/controls",
      "model_module_version": "2.0.0",
      "model_name": "HBoxModel",
      "state": {
       "children": [
        "IPY_MODEL_d2fcc18f0b4843bab65111e67c4c8e76"
       ],
       "layout": "IPY_MODEL_5da051ed9672451582bc1a32e200b728"
      }
     },
     "53e820d3922a46ceaf03394237678778": {
      "model_module": "@jupyter-widgets/base",
      "model_module_version": "2.0.0",
      "model_name": "LayoutModel",
      "state": {}
     },
     "54d7d1bc34594aaebfc08eb7b1144119": {
      "model_module": "@jupyter-widgets/base",
      "model_module_version": "2.0.0",
      "model_name": "LayoutModel",
      "state": {}
     },
     "55786b713e804893a5b5e8aafb930ef8": {
      "model_module": "@jupyter-widgets/controls",
      "model_module_version": "2.0.0",
      "model_name": "VBoxModel",
      "state": {
       "_dom_classes": [
        "widget-interact"
       ],
       "children": [
        "IPY_MODEL_d66735958f194256835f58aa5fe71b8b",
        "IPY_MODEL_0574b7be76ce43efbe667b404b8c0236",
        "IPY_MODEL_d0da35a80614473ab811fb50cb6481cc"
       ],
       "layout": "IPY_MODEL_4072840d3d934bd7a18b8577d589205e"
      }
     },
     "5596088935e44ef68d15ab04993e6197": {
      "model_module": "@jupyter-widgets/controls",
      "model_module_version": "2.0.0",
      "model_name": "SliderStyleModel",
      "state": {
       "description_width": ""
      }
     },
     "561784dff1df4f34acaf905b3fb780c2": {
      "model_module": "ipyevents",
      "model_module_version": "2.0.1",
      "model_name": "EventModel",
      "state": {
       "_supported_key_events": [
        "keydown",
        "keyup"
       ],
       "_supported_mouse_events": [
        "click",
        "auxclick",
        "dblclick",
        "mouseenter",
        "mouseleave",
        "mousedown",
        "mouseup",
        "mousemove",
        "wheel",
        "contextmenu",
        "dragstart",
        "drag",
        "dragend",
        "dragenter",
        "dragover",
        "dragleave",
        "drop"
       ],
       "_supported_touch_events": [
        "touchstart",
        "touchend",
        "touchmove",
        "touchcancel"
       ],
       "_view_module": "@jupyter-widgets/controls",
       "source": "IPY_MODEL_65a73790493d4524b39d3ce58304c1bb",
       "throttle_or_debounce": "",
       "watched_events": [
        "mousemove"
       ],
       "xy_coordinate_system": ""
      }
     },
     "56d2ac2034974a2e8c209e05a974d50a": {
      "model_module": "@jupyter-widgets/base",
      "model_module_version": "2.0.0",
      "model_name": "LayoutModel",
      "state": {}
     },
     "57e42c28d3ca435ab7628f09b7a3de20": {
      "model_module": "@jupyter-widgets/base",
      "model_module_version": "2.0.0",
      "model_name": "LayoutModel",
      "state": {}
     },
     "57ee355a4ade44af9baece02cf1d977b": {
      "model_module": "@jupyter-widgets/controls",
      "model_module_version": "2.0.0",
      "model_name": "VBoxModel",
      "state": {
       "children": [
        "IPY_MODEL_d3246e83e166428eb82fd7b829c986a6"
       ],
       "layout": "IPY_MODEL_c93098f50aa8476aa0077225d8a735b8"
      }
     },
     "59c4f65ef8fc4e0fa091bf4921315588": {
      "model_module": "@jupyter-widgets/controls",
      "model_module_version": "2.0.0",
      "model_name": "LabelStyleModel",
      "state": {
       "description_width": "",
       "font_family": null,
       "font_size": null,
       "font_style": null,
       "font_variant": null,
       "font_weight": null,
       "text_color": null,
       "text_decoration": null
      }
     },
     "59e60d322e0b4f82b3efdd96aeb63956": {
      "model_module": "@jupyter-widgets/controls",
      "model_module_version": "2.0.0",
      "model_name": "LabelStyleModel",
      "state": {
       "description_width": "",
       "font_family": "Courier",
       "font_size": null,
       "font_style": null,
       "font_variant": null,
       "font_weight": null,
       "text_color": null,
       "text_decoration": null
      }
     },
     "59fd08cb477f4af4aac36db7f4765742": {
      "model_module": "@jupyter-widgets/controls",
      "model_module_version": "2.0.0",
      "model_name": "VBoxModel",
      "state": {
       "_dom_classes": [
        "widget-interact"
       ],
       "children": [
        "IPY_MODEL_1ec0343c2e874293bc241faa5d2c8fee",
        "IPY_MODEL_5dfb31120cd74082b3f949e189f469c8"
       ],
       "layout": "IPY_MODEL_9adaf109226e44a1b6151cae1c0ccf23"
      }
     },
     "5a1c5ca48b614e6187c0328d029c521c": {
      "model_module": "@jupyter-widgets/controls",
      "model_module_version": "2.0.0",
      "model_name": "LabelModel",
      "state": {
       "layout": "IPY_MODEL_a184cafc46494074ab649c1870edd5d9",
       "style": "IPY_MODEL_2f5bbce89b0f4739871c8910dbcd3953",
       "value": "np.genfromtxt( usemask=no_image)"
      }
     },
     "5afaba7670264066b92f96e447b99ccb": {
      "model_module": "@jupyter-widgets/controls",
      "model_module_version": "2.0.0",
      "model_name": "VBoxModel",
      "state": {
       "_dom_classes": [
        "widget-interact"
       ],
       "children": [
        "IPY_MODEL_29890aa5034c4125a084bc04c4b376b0",
        "IPY_MODEL_e12cdb6966fc44f58aa502d84ba449a6"
       ],
       "layout": "IPY_MODEL_7b551702906d463ea4d3bd395c2f7d6b"
      }
     },
     "5b29d07783844c65a764165a71930aa9": {
      "model_module": "@jupyter-widgets/base",
      "model_module_version": "2.0.0",
      "model_name": "LayoutModel",
      "state": {}
     },
     "5c265bf526e848a3bb34427f1c622002": {
      "model_module": "ipycanvas",
      "model_module_version": "^0.13",
      "model_name": "CanvasModel",
      "state": {
       "_canvas_manager": "IPY_MODEL_e404249722934e43b115a8d31ac3cd3b",
       "_model_module_version": "^0.13",
       "_view_count": 1,
       "_view_module_version": "^0.13",
       "height": 100,
       "layout": "IPY_MODEL_a9d15f56748940db834810a90c8669c2",
       "width": 100
      }
     },
     "5d0951e282904293928d1a538d3d65e4": {
      "model_module": "@jupyter-widgets/base",
      "model_module_version": "2.0.0",
      "model_name": "LayoutModel",
      "state": {}
     },
     "5da051ed9672451582bc1a32e200b728": {
      "model_module": "@jupyter-widgets/base",
      "model_module_version": "2.0.0",
      "model_name": "LayoutModel",
      "state": {}
     },
     "5dfb31120cd74082b3f949e189f469c8": {
      "model_module": "@jupyter-widgets/output",
      "model_module_version": "1.0.0",
      "model_name": "OutputModel",
      "state": {
       "layout": "IPY_MODEL_7e91e0ea38974a47bf18e4740a3db8ff"
      }
     },
     "5e6035a483b3466ca682db104862dfa2": {
      "model_module": "@jupyter-widgets/controls",
      "model_module_version": "2.0.0",
      "model_name": "FloatSliderModel",
      "state": {
       "behavior": "drag-tap",
       "description": "sigma",
       "layout": "IPY_MODEL_9cd7010c13374cd6bf7573dffe69006c",
       "step": 0.1,
       "style": "IPY_MODEL_4edb88a079304678a4e44297049c9bd0",
       "value": 15
      }
     },
     "5e9f155f07334d5e83819e3ace072c16": {
      "model_module": "@jupyter-widgets/controls",
      "model_module_version": "2.0.0",
      "model_name": "LabelStyleModel",
      "state": {
       "description_width": "",
       "font_family": "Courier",
       "font_size": null,
       "font_style": null,
       "font_variant": null,
       "font_weight": null,
       "text_color": null,
       "text_decoration": null
      }
     },
     "5ed0005cea2045d28c8596b7cb6250f2": {
      "model_module": "@jupyter-widgets/controls",
      "model_module_version": "2.0.0",
      "model_name": "HBoxModel",
      "state": {
       "children": [
        "IPY_MODEL_1c861cd3a439478c94e4ef01466a5d14"
       ],
       "layout": "IPY_MODEL_6b4ebc78739a43198efd83e1afecb349"
      }
     },
     "5fd7407a84274dfab1be1c71b9e5a0d7": {
      "model_module": "@jupyter-widgets/base",
      "model_module_version": "2.0.0",
      "model_name": "LayoutModel",
      "state": {}
     },
     "609725038b0e4b69921898eee7aadec0": {
      "model_module": "@jupyter-widgets/base",
      "model_module_version": "2.0.0",
      "model_name": "LayoutModel",
      "state": {}
     },
     "6188ede4bbd844df8a87be4460482106": {
      "model_module": "@jupyter-widgets/base",
      "model_module_version": "2.0.0",
      "model_name": "LayoutModel",
      "state": {}
     },
     "6254199a9f2a4193abaab0bcc9a819bb": {
      "model_module": "@jupyter-widgets/base",
      "model_module_version": "2.0.0",
      "model_name": "LayoutModel",
      "state": {}
     },
     "62c4afc273774674b3163ed9b3047a38": {
      "model_module": "@jupyter-widgets/controls",
      "model_module_version": "2.0.0",
      "model_name": "IntRangeSliderModel",
      "state": {
       "_model_name": "IntRangeSliderModel",
       "_view_name": "IntRangeSliderView",
       "behavior": "drag-tap",
       "continuous_update": false,
       "description": "Z",
       "layout": "IPY_MODEL_66d1134810124ee4b8766d42abd35786",
       "style": "IPY_MODEL_ffbead4eb5a943ba9c8a88f85f5f1aad",
       "value": [
        0,
        100
       ]
      }
     },
     "63157846eac04220add2f6c02ee3c401": {
      "model_module": "@jupyter-widgets/controls",
      "model_module_version": "2.0.0",
      "model_name": "ButtonStyleModel",
      "state": {
       "font_family": null,
       "font_size": null,
       "font_style": null,
       "font_variant": null,
       "font_weight": null,
       "text_color": null,
       "text_decoration": null
      }
     },
     "63606c8fccf14866a280a0e57b5840f1": {
      "model_module": "@jupyter-widgets/base",
      "model_module_version": "2.0.0",
      "model_name": "LayoutModel",
      "state": {
       "display": "none"
      }
     },
     "638c13faeafb43ce830d783c7fbf8423": {
      "model_module": "@jupyter-widgets/controls",
      "model_module_version": "2.0.0",
      "model_name": "IntSliderModel",
      "state": {
       "behavior": "drag-tap",
       "description": "Curtain",
       "layout": "IPY_MODEL_24d668c2436c480fa9ddff58dfdc20e6",
       "max": 256,
       "style": "IPY_MODEL_0138b962875d4be2b334914dd8a9690e",
       "value": 128
      }
     },
     "650b4b3929fb4521b240b405fc44da4e": {
      "model_module": "@jupyter-widgets/base",
      "model_module_version": "2.0.0",
      "model_name": "LayoutModel",
      "state": {}
     },
     "650c23955099401382ac13a25373c299": {
      "model_module": "@jupyter-widgets/controls",
      "model_module_version": "2.0.0",
      "model_name": "ButtonStyleModel",
      "state": {
       "font_family": null,
       "font_size": null,
       "font_style": null,
       "font_variant": null,
       "font_weight": null,
       "text_color": null,
       "text_decoration": null
      }
     },
     "657a75bdafcd42318953692fdf9a800b": {
      "model_module": "@jupyter-widgets/controls",
      "model_module_version": "2.0.0",
      "model_name": "HBoxModel",
      "state": {
       "children": [
        "IPY_MODEL_503b670086e9436d9ad553ee64cb6028"
       ],
       "layout": "IPY_MODEL_f74fbab2107d4069a095f14be73871a0"
      }
     },
     "65a5467dd0e649a59a5efb85931a950e": {
      "model_module": "@jupyter-widgets/base",
      "model_module_version": "2.0.0",
      "model_name": "LayoutModel",
      "state": {}
     },
     "65a73790493d4524b39d3ce58304c1bb": {
      "model_module": "ipycanvas",
      "model_module_version": "^0.13",
      "model_name": "CanvasModel",
      "state": {
       "_canvas_manager": "IPY_MODEL_e404249722934e43b115a8d31ac3cd3b",
       "_model_module_version": "^0.13",
       "_view_count": 1,
       "_view_module_version": "^0.13",
       "height": 60,
       "layout": "IPY_MODEL_d8bd676178484be4b427674be4341048",
       "width": 60
      }
     },
     "66d1134810124ee4b8766d42abd35786": {
      "model_module": "@jupyter-widgets/base",
      "model_module_version": "2.0.0",
      "model_name": "LayoutModel",
      "state": {}
     },
     "67168f2e3216438ebe39ce459ce4c3f4": {
      "model_module": "@jupyter-widgets/controls",
      "model_module_version": "2.0.0",
      "model_name": "LabelStyleModel",
      "state": {
       "description_width": "",
       "font_family": "Courier",
       "font_size": null,
       "font_style": null,
       "font_variant": null,
       "font_weight": null,
       "text_color": null,
       "text_decoration": null
      }
     },
     "674e92ac9e704d5d8df4d1c7c7af11b7": {
      "model_module": "@jupyter-widgets/controls",
      "model_module_version": "2.0.0",
      "model_name": "DescriptionStyleModel",
      "state": {
       "description_width": ""
      }
     },
     "681462f6a35a471e8d1a3e0c4aae7b0b": {
      "model_module": "@jupyter-widgets/controls",
      "model_module_version": "2.0.0",
      "model_name": "SliderStyleModel",
      "state": {
       "description_width": ""
      }
     },
     "690929ddfdbf40b0b62c44e1f10704c4": {
      "model_module": "@jupyter-widgets/controls",
      "model_module_version": "2.0.0",
      "model_name": "IntSliderModel",
      "state": {
       "behavior": "drag-tap",
       "description": "Z",
       "layout": "IPY_MODEL_934386c7158949518087780c7ffb8f51",
       "max": 119,
       "style": "IPY_MODEL_df955632d3514bed914a789b2270da7d",
       "value": 60
      }
     },
     "690c087446034b88848c7633187ea736": {
      "model_module": "@jupyter-widgets/base",
      "model_module_version": "2.0.0",
      "model_name": "LayoutModel",
      "state": {}
     },
     "69dc6fcca42a43e3baee168d8d4227bf": {
      "model_module": "@jupyter-widgets/base",
      "model_module_version": "2.0.0",
      "model_name": "LayoutModel",
      "state": {}
     },
     "6ae4bf671bb041ca970f8c6fe8edba6b": {
      "model_module": "@jupyter-widgets/controls",
      "model_module_version": "2.0.0",
      "model_name": "DescriptionStyleModel",
      "state": {
       "description_width": ""
      }
     },
     "6b4ebc78739a43198efd83e1afecb349": {
      "model_module": "@jupyter-widgets/base",
      "model_module_version": "2.0.0",
      "model_name": "LayoutModel",
      "state": {}
     },
     "6ba14e7393284b199ff2a48af9bc3ed1": {
      "model_module": "@jupyter-widgets/controls",
      "model_module_version": "2.0.0",
      "model_name": "SliderStyleModel",
      "state": {
       "description_width": ""
      }
     },
     "6c02101c851b496a8ce6f36aceed74d3": {
      "model_module": "@jupyter-widgets/output",
      "model_module_version": "1.0.0",
      "model_name": "OutputModel",
      "state": {
       "layout": "IPY_MODEL_1583a484160e4d849ed30878da002533"
      }
     },
     "6c5186decad14c8192982c2b4fadd87f": {
      "model_module": "@jupyter-widgets/base",
      "model_module_version": "2.0.0",
      "model_name": "LayoutModel",
      "state": {
       "display": "none"
      }
     },
     "6c9a046b3f4044c1954d17c755d8fba1": {
      "model_module": "@jupyter-widgets/controls",
      "model_module_version": "2.0.0",
      "model_name": "IntSliderModel",
      "state": {
       "behavior": "drag-tap",
       "continuous_update": false,
       "description": "Slice",
       "layout": "IPY_MODEL_18f621c7d7ea402ba582df9bbeeea45a",
       "max": 253,
       "style": "IPY_MODEL_c6c1bb12012a4a46a52bf374c14419c1",
       "value": 127
      }
     },
     "6d17a2b1af76465388149ca1a768fe8f": {
      "model_module": "@jupyter-widgets/base",
      "model_module_version": "2.0.0",
      "model_name": "LayoutModel",
      "state": {}
     },
     "6d6c1131a39a44eda8e51b59fc339a1f": {
      "model_module": "@jupyter-widgets/base",
      "model_module_version": "2.0.0",
      "model_name": "LayoutModel",
      "state": {}
     },
     "6e043ffe6c604454bbd2789b34f921d4": {
      "model_module": "@jupyter-widgets/base",
      "model_module_version": "2.0.0",
      "model_name": "LayoutModel",
      "state": {}
     },
     "6e4dad27ed4d42bebfa399f38760a55f": {
      "model_module": "@jupyter-widgets/base",
      "model_module_version": "2.0.0",
      "model_name": "LayoutModel",
      "state": {}
     },
     "717e3d70e04341bd97abe4477871e6a1": {
      "model_module": "@jupyter-widgets/controls",
      "model_module_version": "2.0.0",
      "model_name": "IntRangeSliderModel",
      "state": {
       "_model_name": "IntRangeSliderModel",
       "_view_name": "IntRangeSliderView",
       "behavior": "drag-tap",
       "continuous_update": false,
       "description": "X",
       "layout": "IPY_MODEL_efb4f1429fa44e90b56502d91da8e8b8",
       "max": 235,
       "style": "IPY_MODEL_8498cfc12e7d49babdb9ea8b8cf7ae27",
       "value": [
        0,
        235
       ]
      }
     },
     "731c3571d367446fa89041c58ea203f6": {
      "model_module": "@jupyter-widgets/controls",
      "model_module_version": "2.0.0",
      "model_name": "HBoxModel",
      "state": {
       "children": [
        "IPY_MODEL_d54f11ea45974f828d32919a4b4f3a5d"
       ],
       "layout": "IPY_MODEL_db7c0cdf5b0043aba9a64f0f990a53ee"
      }
     },
     "73552b1168bb40d9bbd0b039d15ab83a": {
      "model_module": "@jupyter-widgets/base",
      "model_module_version": "2.0.0",
      "model_name": "LayoutModel",
      "state": {}
     },
     "76673af953874a0c8962b9ebc14f8b74": {
      "model_module": "@jupyter-widgets/controls",
      "model_module_version": "2.0.0",
      "model_name": "LabelStyleModel",
      "state": {
       "description_width": "",
       "font_family": "Courier",
       "font_size": null,
       "font_style": null,
       "font_variant": null,
       "font_weight": null,
       "text_color": null,
       "text_decoration": null
      }
     },
     "77810d73f2ae4c3aac1d5220b791e4f9": {
      "model_module": "@jupyter-widgets/base",
      "model_module_version": "2.0.0",
      "model_name": "LayoutModel",
      "state": {}
     },
     "77820cd2bb494d4cba167b3286a7d5d7": {
      "model_module": "@jupyter-widgets/base",
      "model_module_version": "2.0.0",
      "model_name": "LayoutModel",
      "state": {}
     },
     "77f78a21031547b39ef02783d597d305": {
      "model_module": "@jupyter-widgets/base",
      "model_module_version": "2.0.0",
      "model_name": "LayoutModel",
      "state": {}
     },
     "78a4847d3f0f444b991a41f588191763": {
      "model_module": "@jupyter-widgets/base",
      "model_module_version": "2.0.0",
      "model_name": "LayoutModel",
      "state": {}
     },
     "792da147d77f4cbe94c0ecebbf87171c": {
      "model_module": "@jupyter-widgets/controls",
      "model_module_version": "2.0.0",
      "model_name": "DropdownModel",
      "state": {
       "_options_labels": [
        "no_image",
        "image",
        "labels",
        "modified_image",
        "slice_image",
        "binary",
        "image_stack",
        "labels_stack"
       ],
       "description": "mask_func",
       "index": 0,
       "layout": "IPY_MODEL_061f6440a87d45349ee7a613ca0cb231",
       "style": "IPY_MODEL_089ef063f6834164a42c63ab18627636"
      }
     },
     "79b84876c0bb4d3ea4f9e07636892a42": {
      "model_module": "@jupyter-widgets/controls",
      "model_module_version": "2.0.0",
      "model_name": "VBoxModel",
      "state": {
       "children": [
        "IPY_MODEL_55786b713e804893a5b5e8aafb930ef8",
        "IPY_MODEL_4afd998ec9b843c3b438a7607a6da0b2"
       ],
       "layout": "IPY_MODEL_c5a13688fdd8409abeed4a42b7866dfd"
      }
     },
     "7b382eef4b4744aaa37915cb318b2a3d": {
      "model_module": "@jupyter-widgets/controls",
      "model_module_version": "2.0.0",
      "model_name": "IntSliderModel",
      "state": {
       "behavior": "drag-tap",
       "description": "Slice",
       "layout": "IPY_MODEL_6c5186decad14c8192982c2b4fadd87f",
       "max": 253,
       "style": "IPY_MODEL_01399127e0b347abade2b5751f2a746b",
       "value": 127
      }
     },
     "7b551702906d463ea4d3bd395c2f7d6b": {
      "model_module": "@jupyter-widgets/base",
      "model_module_version": "2.0.0",
      "model_name": "LayoutModel",
      "state": {}
     },
     "7c5b67708df8400487673694200a4892": {
      "model_module": "@jupyter-widgets/base",
      "model_module_version": "2.0.0",
      "model_name": "LayoutModel",
      "state": {
       "display": "none"
      }
     },
     "7da39b7f609b45dbb772380a575241f7": {
      "model_module": "@jupyter-widgets/controls",
      "model_module_version": "2.0.0",
      "model_name": "HBoxModel",
      "state": {
       "children": [
        "IPY_MODEL_ac1159bfdbb84b43a2c9340eaf9124d3",
        "IPY_MODEL_53cbf1059ca8419cb3be80d84b87a7a1",
        "IPY_MODEL_fa3fff47fbd64dcaa44e32cc4a71835c"
       ],
       "layout": "IPY_MODEL_b0a65b87133d4b24a0ca3245bc3c4866"
      }
     },
     "7dbf7126eaff4f48bc4775cd50dcf8d9": {
      "model_module": "@jupyter-widgets/base",
      "model_module_version": "2.0.0",
      "model_name": "LayoutModel",
      "state": {}
     },
     "7e02eadb9fa445c680a137b64e77f39f": {
      "model_module": "@jupyter-widgets/base",
      "model_module_version": "2.0.0",
      "model_name": "LayoutModel",
      "state": {}
     },
     "7e60c847bf124d558bc13b305b12a540": {
      "model_module": "@jupyter-widgets/controls",
      "model_module_version": "2.0.0",
      "model_name": "ButtonModel",
      "state": {
       "description": "-",
       "layout": "IPY_MODEL_854757ad5f3748c6aa7e49e302740c06",
       "style": "IPY_MODEL_63157846eac04220add2f6c02ee3c401",
       "tooltip": null
      }
     },
     "7e91e0ea38974a47bf18e4740a3db8ff": {
      "model_module": "@jupyter-widgets/base",
      "model_module_version": "2.0.0",
      "model_name": "LayoutModel",
      "state": {}
     },
     "8039151c7ff640f3989afa4197781a1a": {
      "model_module": "@jupyter-widgets/controls",
      "model_module_version": "2.0.0",
      "model_name": "IntSliderModel",
      "state": {
       "behavior": "drag-tap",
       "description": "Slice",
       "layout": "IPY_MODEL_16b49d9a4f9a4280b199d9cb21b25d76",
       "max": 253,
       "style": "IPY_MODEL_6ba14e7393284b199ff2a48af9bc3ed1",
       "value": 127
      }
     },
     "80585790ce9b4ffa8cc65fd8592001d2": {
      "model_module": "@jupyter-widgets/controls",
      "model_module_version": "2.0.0",
      "model_name": "LabelStyleModel",
      "state": {
       "description_width": "",
       "font_family": null,
       "font_size": null,
       "font_style": null,
       "font_variant": null,
       "font_weight": null,
       "text_color": null,
       "text_decoration": null
      }
     },
     "807237f4934f49cab906bfc067a89eee": {
      "model_module": "@jupyter-widgets/base",
      "model_module_version": "2.0.0",
      "model_name": "LayoutModel",
      "state": {}
     },
     "80f1639f1e224677ab1fe437ddc22240": {
      "model_module": "@jupyter-widgets/base",
      "model_module_version": "2.0.0",
      "model_name": "LayoutModel",
      "state": {}
     },
     "8103bc6af45f49d6a638943d3461f090": {
      "model_module": "ipycanvas",
      "model_module_version": "^0.13",
      "model_name": "CanvasModel",
      "state": {
       "_canvas_manager": "IPY_MODEL_e404249722934e43b115a8d31ac3cd3b",
       "_model_module_version": "^0.13",
       "_view_count": 1,
       "_view_module_version": "^0.13",
       "height": 160,
       "layout": "IPY_MODEL_e4e08cbdc15c4a31b3bef053c70ce137",
       "width": 160
      }
     },
     "8111692b32744da98f67efba00227e5e": {
      "model_module": "@jupyter-widgets/base",
      "model_module_version": "2.0.0",
      "model_name": "LayoutModel",
      "state": {}
     },
     "81423ed3087b49cda5549a9fadab171a": {
      "model_module": "@jupyter-widgets/base",
      "model_module_version": "2.0.0",
      "model_name": "LayoutModel",
      "state": {}
     },
     "818a4e2736c9422aa69ea44ce76429ff": {
      "model_module": "@jupyter-widgets/controls",
      "model_module_version": "2.0.0",
      "model_name": "IntSliderModel",
      "state": {
       "behavior": "drag-tap",
       "continuous_update": false,
       "description": "Slice",
       "layout": "IPY_MODEL_e4cda3cd8ef1446caa4151ff0dc738de",
       "max": 2,
       "style": "IPY_MODEL_38498deada744f1a83e99107bfd4634d",
       "value": 1
      }
     },
     "819763a35bf04fe08d0d5105f384a5ce": {
      "model_module": "@jupyter-widgets/controls",
      "model_module_version": "2.0.0",
      "model_name": "VBoxModel",
      "state": {
       "_dom_classes": [
        "widget-interact"
       ],
       "children": [
        "IPY_MODEL_f661e5f571a1412b81c93a71199938c9",
        "IPY_MODEL_6c02101c851b496a8ce6f36aceed74d3"
       ],
       "layout": "IPY_MODEL_523335ec61724289b4484bda92f7fde1"
      }
     },
     "81d3798d817f49d6b503ca607799c96b": {
      "model_module": "@jupyter-widgets/controls",
      "model_module_version": "2.0.0",
      "model_name": "LabelStyleModel",
      "state": {
       "description_width": "",
       "font_family": "Courier",
       "font_size": null,
       "font_style": null,
       "font_variant": null,
       "font_weight": null,
       "text_color": null,
       "text_decoration": null
      }
     },
     "82613169155a423e9f57b19119e8953e": {
      "model_module": "@jupyter-widgets/controls",
      "model_module_version": "2.0.0",
      "model_name": "SliderStyleModel",
      "state": {
       "description_width": ""
      }
     },
     "82976207681c4da08a3c2f32a6e96024": {
      "model_module": "@jupyter-widgets/base",
      "model_module_version": "2.0.0",
      "model_name": "LayoutModel",
      "state": {}
     },
     "8367bc12518f41ccb5214da47186403b": {
      "model_module": "@jupyter-widgets/base",
      "model_module_version": "2.0.0",
      "model_name": "LayoutModel",
      "state": {}
     },
     "838d0239ac1240babc21a31bf80dd90e": {
      "model_module": "@jupyter-widgets/controls",
      "model_module_version": "2.0.0",
      "model_name": "SliderStyleModel",
      "state": {
       "description_width": ""
      }
     },
     "83d71eed324043fd8c288d400e445cf0": {
      "model_module": "@jupyter-widgets/controls",
      "model_module_version": "2.0.0",
      "model_name": "SliderStyleModel",
      "state": {
       "description_width": ""
      }
     },
     "84352da58a1c4af78e7a80c0e6a7a974": {
      "model_module": "@jupyter-widgets/controls",
      "model_module_version": "2.0.0",
      "model_name": "DescriptionStyleModel",
      "state": {
       "description_width": ""
      }
     },
     "846388538a184c8593705ddac7048297": {
      "model_module": "@jupyter-widgets/controls",
      "model_module_version": "2.0.0",
      "model_name": "LabelModel",
      "state": {
       "layout": "IPY_MODEL_30dd49bbd6e145e7a31debff697a3ca9",
       "style": "IPY_MODEL_3452c8ddaf804567bb57881f3dcf0a93",
       "value": "maximum(..., footprint=disk(0))"
      }
     },
     "84743ddb8fc24ac5b4f750c89a7b0afa": {
      "model_module": "ipycanvas",
      "model_module_version": "^0.13",
      "model_name": "CanvasModel",
      "state": {
       "_canvas_manager": "IPY_MODEL_e404249722934e43b115a8d31ac3cd3b",
       "_model_module_version": "^0.13",
       "_view_module_version": "^0.13",
       "height": 120,
       "layout": "IPY_MODEL_322f1033636941ffac8051da4d08e946",
       "width": 160
      }
     },
     "8498cfc12e7d49babdb9ea8b8cf7ae27": {
      "model_module": "@jupyter-widgets/controls",
      "model_module_version": "2.0.0",
      "model_name": "SliderStyleModel",
      "state": {
       "description_width": ""
      }
     },
     "854757ad5f3748c6aa7e49e302740c06": {
      "model_module": "@jupyter-widgets/base",
      "model_module_version": "2.0.0",
      "model_name": "LayoutModel",
      "state": {
       "max_width": "30px",
       "min_width": "10px"
      }
     },
     "86bbcd07d91e4e009cd65bebeb82dda3": {
      "model_module": "@jupyter-widgets/controls",
      "model_module_version": "2.0.0",
      "model_name": "ButtonModel",
      "state": {
       "description": "+",
       "layout": "IPY_MODEL_0a2b83485b904f2ebcac110fef0f8e97",
       "style": "IPY_MODEL_f87d0f68049446b48a0a5598871ca9ff",
       "tooltip": null
      }
     },
     "877155b3b904412285c298874fda4d7a": {
      "model_module": "@jupyter-widgets/base",
      "model_module_version": "2.0.0",
      "model_name": "LayoutModel",
      "state": {}
     },
     "87732cde34314e088a7fae37f2e2a8b6": {
      "model_module": "@jupyter-widgets/base",
      "model_module_version": "2.0.0",
      "model_name": "LayoutModel",
      "state": {}
     },
     "878041716e3a4e53b3ca5d269788f222": {
      "model_module": "@jupyter-widgets/base",
      "model_module_version": "2.0.0",
      "model_name": "LayoutModel",
      "state": {}
     },
     "87f938ee4e684e188368c02bb8cd88a5": {
      "model_module": "@jupyter-widgets/controls",
      "model_module_version": "2.0.0",
      "model_name": "DescriptionStyleModel",
      "state": {
       "description_width": ""
      }
     },
     "88c271d87aa4479cab7af3e85f572c8f": {
      "model_module": "@jupyter-widgets/base",
      "model_module_version": "2.0.0",
      "model_name": "LayoutModel",
      "state": {}
     },
     "8914462ef61e49dcb0bffff6778af7fd": {
      "model_module": "@jupyter-widgets/controls",
      "model_module_version": "2.0.0",
      "model_name": "VBoxModel",
      "state": {
       "_dom_classes": [
        "widget-interact"
       ],
       "children": [
        "IPY_MODEL_5e6035a483b3466ca682db104862dfa2",
        "IPY_MODEL_082c8c05bfcf4757bd0f4cdedc772d68"
       ],
       "layout": "IPY_MODEL_e5bbd912c10c451198f1c564d60364b3"
      }
     },
     "891fe739174c43a3bcd58b691f57ad7c": {
      "model_module": "@jupyter-widgets/base",
      "model_module_version": "2.0.0",
      "model_name": "LayoutModel",
      "state": {
       "display": "none"
      }
     },
     "897bab662e3e4570bc3a1cac663151c9": {
      "model_module": "@jupyter-widgets/controls",
      "model_module_version": "2.0.0",
      "model_name": "SliderStyleModel",
      "state": {
       "description_width": ""
      }
     },
     "8a0e5d2330834c25b0956c5b0c260742": {
      "model_module": "@jupyter-widgets/base",
      "model_module_version": "2.0.0",
      "model_name": "LayoutModel",
      "state": {}
     },
     "8a87071e1d094c5eacc07033a687a6d3": {
      "model_module": "@jupyter-widgets/controls",
      "model_module_version": "2.0.0",
      "model_name": "HBoxModel",
      "state": {
       "children": [
        "IPY_MODEL_0837e001749b44cd91acc721fc4ffba4"
       ],
       "layout": "IPY_MODEL_4088adef71874e018c951931d0adf1d4"
      }
     },
     "8aa079b6b7444b459c1193af2f186bbf": {
      "model_module": "@jupyter-widgets/controls",
      "model_module_version": "2.0.0",
      "model_name": "VBoxModel",
      "state": {
       "_dom_classes": [
        "widget-interact"
       ],
       "children": [
        "IPY_MODEL_b7161742a61d4ba2bdf4db3e463d5203",
        "IPY_MODEL_b7b84ef86672467f9fa426a3f0dbf8ae"
       ],
       "layout": "IPY_MODEL_ca367d09951946c3899f9ee2ee7c809d"
      }
     },
     "8b509e4b16f74770bccaadfa32814199": {
      "model_module": "@jupyter-widgets/controls",
      "model_module_version": "2.0.0",
      "model_name": "HBoxModel",
      "state": {
       "children": [
        "IPY_MODEL_e58cf02d739d46fdaa640e78d7140bd1"
       ],
       "layout": "IPY_MODEL_107368164b1041f09350618a8546d7a2"
      }
     },
     "8ca1b4c2a9954b11a6a4324c4fcd9ba1": {
      "model_module": "ipyevents",
      "model_module_version": "2.0.1",
      "model_name": "EventModel",
      "state": {
       "_supported_key_events": [
        "keydown",
        "keyup"
       ],
       "_supported_mouse_events": [
        "click",
        "auxclick",
        "dblclick",
        "mouseenter",
        "mouseleave",
        "mousedown",
        "mouseup",
        "mousemove",
        "wheel",
        "contextmenu",
        "dragstart",
        "drag",
        "dragend",
        "dragenter",
        "dragover",
        "dragleave",
        "drop"
       ],
       "_supported_touch_events": [
        "touchstart",
        "touchend",
        "touchmove",
        "touchcancel"
       ],
       "_view_module": "@jupyter-widgets/controls",
       "source": "IPY_MODEL_5c265bf526e848a3bb34427f1c622002",
       "throttle_or_debounce": "",
       "watched_events": [
        "mousemove"
       ],
       "xy_coordinate_system": ""
      }
     },
     "8d00022ea6ee42e398c86290809f0f07": {
      "model_module": "@jupyter-widgets/controls",
      "model_module_version": "2.0.0",
      "model_name": "VBoxModel",
      "state": {
       "children": [
        "IPY_MODEL_9cbca09468af4920b21a504ae17bc8f1",
        "IPY_MODEL_8039151c7ff640f3989afa4197781a1a",
        "IPY_MODEL_638c13faeafb43ce830d783c7fbf8423"
       ],
       "layout": "IPY_MODEL_90797dddf9a8409e930229f7933058f3"
      }
     },
     "8d0642ad8b6f407a89cd4295206c11bd": {
      "model_module": "@jupyter-widgets/base",
      "model_module_version": "2.0.0",
      "model_name": "LayoutModel",
      "state": {}
     },
     "8e66ce99e83949cea4d47c93ab3ac60f": {
      "model_module": "@jupyter-widgets/base",
      "model_module_version": "2.0.0",
      "model_name": "LayoutModel",
      "state": {}
     },
     "8e9279cd34ef48b88b47a276103c28a3": {
      "model_module": "@jupyter-widgets/base",
      "model_module_version": "2.0.0",
      "model_name": "LayoutModel",
      "state": {}
     },
     "8f3246343a834927909f82f7798b9e91": {
      "model_module": "@jupyter-widgets/base",
      "model_module_version": "2.0.0",
      "model_name": "LayoutModel",
      "state": {}
     },
     "8f4062d6d63843369414729b1335b3c7": {
      "model_module": "@jupyter-widgets/base",
      "model_module_version": "2.0.0",
      "model_name": "LayoutModel",
      "state": {}
     },
     "8f5e6cd9740f43da87440dbec5001566": {
      "model_module": "@jupyter-widgets/controls",
      "model_module_version": "2.0.0",
      "model_name": "LabelStyleModel",
      "state": {
       "description_width": "",
       "font_family": "Courier",
       "font_size": null,
       "font_style": null,
       "font_variant": null,
       "font_weight": null,
       "text_color": null,
       "text_decoration": null
      }
     },
     "8f6545469262489f8d35c2e5b8c52e67": {
      "model_module": "@jupyter-widgets/controls",
      "model_module_version": "2.0.0",
      "model_name": "FloatSliderModel",
      "state": {
       "behavior": "drag-tap",
       "layout": "IPY_MODEL_77f78a21031547b39ef02783d597d305",
       "max": 25,
       "style": "IPY_MODEL_c22ac184f90e4b9eb6d19ade2f50f946",
       "value": 1
      }
     },
     "8faadbc8fc99445aa60d8f0d3ac745cd": {
      "model_module": "@jupyter-widgets/base",
      "model_module_version": "2.0.0",
      "model_name": "LayoutModel",
      "state": {}
     },
     "902387110cdd413cb39ddc57deb9be73": {
      "model_module": "@jupyter-widgets/base",
      "model_module_version": "2.0.0",
      "model_name": "LayoutModel",
      "state": {}
     },
     "9057b510fb2e4bb2ae088cf8323e9576": {
      "model_module": "@jupyter-widgets/base",
      "model_module_version": "2.0.0",
      "model_name": "LayoutModel",
      "state": {}
     },
     "90797dddf9a8409e930229f7933058f3": {
      "model_module": "@jupyter-widgets/base",
      "model_module_version": "2.0.0",
      "model_name": "LayoutModel",
      "state": {}
     },
     "914534ded1b04835809e5c7ff2b14083": {
      "model_module": "@jupyter-widgets/controls",
      "model_module_version": "2.0.0",
      "model_name": "HBoxModel",
      "state": {
       "children": [
        "IPY_MODEL_7e60c847bf124d558bc13b305b12a540",
        "IPY_MODEL_330d63a20030441db6d7ee3eb911212d",
        "IPY_MODEL_c24f181fbc964fb89a9bb91f643c845d"
       ],
       "layout": "IPY_MODEL_e7a6fe1291d541e9a0a677d33023554c"
      }
     },
     "91e485c0da6047c2975f1fc552334610": {
      "model_module": "@jupyter-widgets/base",
      "model_module_version": "2.0.0",
      "model_name": "LayoutModel",
      "state": {}
     },
     "920e9f8dd7b746d6b1e2df409a7334d0": {
      "model_module": "@jupyter-widgets/base",
      "model_module_version": "2.0.0",
      "model_name": "LayoutModel",
      "state": {}
     },
     "927119b12dfc4bdfa9bf37caf4bd28b7": {
      "model_module": "@jupyter-widgets/controls",
      "model_module_version": "2.0.0",
      "model_name": "VBoxModel",
      "state": {
       "children": [
        "IPY_MODEL_d6b6521cb3c14250a42cf4e44d91337b"
       ],
       "layout": "IPY_MODEL_4870e750c9ca430297341a1945608836"
      }
     },
     "92960ea0cd884c11915b3289fa8a7a7d": {
      "model_module": "@jupyter-widgets/controls",
      "model_module_version": "2.0.0",
      "model_name": "VBoxModel",
      "state": {
       "_dom_classes": [
        "widget-interact"
       ],
       "children": [
        "IPY_MODEL_792da147d77f4cbe94c0ecebbf87171c",
        "IPY_MODEL_94b64d9a4431434ebf12392727e570d9"
       ],
       "layout": "IPY_MODEL_2bef9760cac34be5a1e6ff5c9845b6b9"
      }
     },
     "92da5f73dbc743aa9b5d2ef41f6202eb": {
      "model_module": "@jupyter-widgets/controls",
      "model_module_version": "2.0.0",
      "model_name": "ButtonModel",
      "state": {
       "description": "-",
       "layout": "IPY_MODEL_2f08515b9ca84ff984b4f88baebe7062",
       "style": "IPY_MODEL_2a534ccdb9d648028da438b782e13b49",
       "tooltip": null
      }
     },
     "9314c186585341039330b0e179750426": {
      "model_module": "@jupyter-widgets/controls",
      "model_module_version": "2.0.0",
      "model_name": "VBoxModel",
      "state": {
       "children": [
        "IPY_MODEL_feb1706fe44b4ea6accf706d85ea9ff5",
        "IPY_MODEL_48b9a0fb712a489297de2195f610c20f"
       ],
       "layout": "IPY_MODEL_b1a677ffbb374673bd74f87413496695"
      }
     },
     "934386c7158949518087780c7ffb8f51": {
      "model_module": "@jupyter-widgets/base",
      "model_module_version": "2.0.0",
      "model_name": "LayoutModel",
      "state": {}
     },
     "9359bd4d353944e186ac03a1e1fde39b": {
      "model_module": "@jupyter-widgets/base",
      "model_module_version": "2.0.0",
      "model_name": "LayoutModel",
      "state": {}
     },
     "93b9bc274aab4adbbcf9db4b101a81e9": {
      "model_module": "@jupyter-widgets/controls",
      "model_module_version": "2.0.0",
      "model_name": "HBoxModel",
      "state": {
       "children": [
        "IPY_MODEL_927119b12dfc4bdfa9bf37caf4bd28b7"
       ],
       "layout": "IPY_MODEL_69dc6fcca42a43e3baee168d8d4227bf"
      }
     },
     "93bf3da420a3407686bfa564cb975553": {
      "model_module": "@jupyter-widgets/controls",
      "model_module_version": "2.0.0",
      "model_name": "VBoxModel",
      "state": {
       "children": [
        "IPY_MODEL_060fec9bbd664e688a84499bce2b039b"
       ],
       "layout": "IPY_MODEL_421de3dd41214236a9e7fb13481f47f2"
      }
     },
     "94835f403ede4856a1ce04e43581b191": {
      "model_module": "@jupyter-widgets/base",
      "model_module_version": "2.0.0",
      "model_name": "LayoutModel",
      "state": {}
     },
     "94924ef08e994a81b4b7c68dc18c3afd": {
      "model_module": "@jupyter-widgets/controls",
      "model_module_version": "2.0.0",
      "model_name": "VBoxModel",
      "state": {
       "children": [
        "IPY_MODEL_84743ddb8fc24ac5b4f750c89a7b0afa"
       ],
       "layout": "IPY_MODEL_0c0d1c394df64a53baaed9ccdfe9ac0b"
      }
     },
     "94b36daa7c34420b86b524ea79d357c2": {
      "model_module": "@jupyter-widgets/controls",
      "model_module_version": "2.0.0",
      "model_name": "ButtonStyleModel",
      "state": {
       "font_family": null,
       "font_size": null,
       "font_style": null,
       "font_variant": null,
       "font_weight": null,
       "text_color": null,
       "text_decoration": null
      }
     },
     "94b64d9a4431434ebf12392727e570d9": {
      "model_module": "@jupyter-widgets/output",
      "model_module_version": "1.0.0",
      "model_name": "OutputModel",
      "state": {
       "layout": "IPY_MODEL_6d6c1131a39a44eda8e51b59fc339a1f"
      }
     },
     "95dde1cbccf442be934869eca96d439e": {
      "model_module": "@jupyter-widgets/controls",
      "model_module_version": "2.0.0",
      "model_name": "SliderStyleModel",
      "state": {
       "description_width": ""
      }
     },
     "96296fa9c61141ef8fd26c850110c3c8": {
      "model_module": "@jupyter-widgets/controls",
      "model_module_version": "2.0.0",
      "model_name": "FloatSliderModel",
      "state": {
       "behavior": "drag-tap",
       "description": "sigma",
       "layout": "IPY_MODEL_53e820d3922a46ceaf03394237678778",
       "max": 25,
       "style": "IPY_MODEL_681462f6a35a471e8d1a3e0c4aae7b0b",
       "value": 1
      }
     },
     "969deffc8c774cb7b47adc5ef44b5001": {
      "model_module": "@jupyter-widgets/controls",
      "model_module_version": "2.0.0",
      "model_name": "SliderStyleModel",
      "state": {
       "description_width": ""
      }
     },
     "975060df133b4b789b36d6a33ed1d7b2": {
      "model_module": "@jupyter-widgets/base",
      "model_module_version": "2.0.0",
      "model_name": "LayoutModel",
      "state": {}
     },
     "9770f53cee514be09bb2875f569f714c": {
      "model_module": "@jupyter-widgets/controls",
      "model_module_version": "2.0.0",
      "model_name": "HBoxModel",
      "state": {
       "children": [
        "IPY_MODEL_31152d2a726d4e6d9a96801d6eaa77c2"
       ],
       "layout": "IPY_MODEL_db5aa4aff0d94caaa48920ba6af1581d"
      }
     },
     "994f232598144f69b005e550c83868b2": {
      "model_module": "@jupyter-widgets/base",
      "model_module_version": "2.0.0",
      "model_name": "LayoutModel",
      "state": {}
     },
     "9a02ded372194a8ea0b9aec8f68a8494": {
      "model_module": "@jupyter-widgets/controls",
      "model_module_version": "2.0.0",
      "model_name": "LabelModel",
      "state": {
       "layout": "IPY_MODEL_c040e45372834b1bb0ddf4ea1b548d09",
       "style": "IPY_MODEL_59c4f65ef8fc4e0fa091bf4921315588",
       "value": "2"
      }
     },
     "9a81ed5130cf44408eba42378d1f4545": {
      "model_module": "@jupyter-widgets/controls",
      "model_module_version": "2.0.0",
      "model_name": "VBoxModel",
      "state": {
       "_dom_classes": [
        "widget-interact"
       ],
       "children": [
        "IPY_MODEL_c08ade949d1c43cda137c5ff87a48a4d",
        "IPY_MODEL_b6fba7806c834346a501f7c4bdbf7b54",
        "IPY_MODEL_33c381c5d19a4ee487099deecb5d0c64",
        "IPY_MODEL_3108c34e4e04469ca3f0caa691e5cae7"
       ],
       "layout": "IPY_MODEL_8d0642ad8b6f407a89cd4295206c11bd"
      }
     },
     "9adaf109226e44a1b6151cae1c0ccf23": {
      "model_module": "@jupyter-widgets/base",
      "model_module_version": "2.0.0",
      "model_name": "LayoutModel",
      "state": {}
     },
     "9b41ac8237a94cfc819edc2a7501f396": {
      "model_module": "@jupyter-widgets/controls",
      "model_module_version": "2.0.0",
      "model_name": "LabelModel",
      "state": {
       "layout": "IPY_MODEL_3784193dae444312bb090baf8f7d1b2b",
       "style": "IPY_MODEL_9e0c661834e04f49911b4e8a3aac0598",
       "value": "[]:"
      }
     },
     "9c2e26a087b64126a71ed327b7043b8c": {
      "model_module": "@jupyter-widgets/base",
      "model_module_version": "2.0.0",
      "model_name": "LayoutModel",
      "state": {}
     },
     "9c9669dcd06844bf8014f70d430bf70b": {
      "model_module": "@jupyter-widgets/base",
      "model_module_version": "2.0.0",
      "model_name": "LayoutModel",
      "state": {}
     },
     "9ca3c30a3a0f46d4841f9cd5c90c56d2": {
      "model_module": "@jupyter-widgets/controls",
      "model_module_version": "2.0.0",
      "model_name": "DropdownModel",
      "state": {
       "_options_labels": [
        "no_image",
        "image",
        "labels",
        "modified_image",
        "slice_image",
        "binary",
        "image_stack",
        "labels_stack"
       ],
       "description": "mask",
       "index": 0,
       "layout": "IPY_MODEL_a25b530defd6417e9dac2567f16a4c35",
       "style": "IPY_MODEL_27ec489977e14ee9bd79462593ab314d"
      }
     },
     "9cbca09468af4920b21a504ae17bc8f1": {
      "model_module": "@jupyter-widgets/controls",
      "model_module_version": "2.0.0",
      "model_name": "HBoxModel",
      "state": {
       "children": [
        "IPY_MODEL_b209b7f20d5b4483bc7c6d14639e2eb5"
       ],
       "layout": "IPY_MODEL_37ec7f6648ad453a9f4049b5c5fffdf9"
      }
     },
     "9cd7010c13374cd6bf7573dffe69006c": {
      "model_module": "@jupyter-widgets/base",
      "model_module_version": "2.0.0",
      "model_name": "LayoutModel",
      "state": {}
     },
     "9cfa785a83ec46e58a947b50d793820e": {
      "model_module": "@jupyter-widgets/base",
      "model_module_version": "2.0.0",
      "model_name": "LayoutModel",
      "state": {}
     },
     "9d4941f38e3f44a79db51c50feb4fcd7": {
      "model_module": "ipyevents",
      "model_module_version": "2.0.1",
      "model_name": "EventModel",
      "state": {
       "_supported_key_events": [
        "keydown",
        "keyup"
       ],
       "_supported_mouse_events": [
        "click",
        "auxclick",
        "dblclick",
        "mouseenter",
        "mouseleave",
        "mousedown",
        "mouseup",
        "mousemove",
        "wheel",
        "contextmenu",
        "dragstart",
        "drag",
        "dragend",
        "dragenter",
        "dragover",
        "dragleave",
        "drop"
       ],
       "_supported_touch_events": [
        "touchstart",
        "touchend",
        "touchmove",
        "touchcancel"
       ],
       "_view_module": "@jupyter-widgets/controls",
       "source": "IPY_MODEL_8103bc6af45f49d6a638943d3461f090",
       "throttle_or_debounce": "",
       "watched_events": [
        "mousemove"
       ],
       "xy_coordinate_system": ""
      }
     },
     "9e0c661834e04f49911b4e8a3aac0598": {
      "model_module": "@jupyter-widgets/controls",
      "model_module_version": "2.0.0",
      "model_name": "LabelStyleModel",
      "state": {
       "description_width": "",
       "font_family": null,
       "font_size": null,
       "font_style": null,
       "font_variant": null,
       "font_weight": null,
       "text_color": null,
       "text_decoration": null
      }
     },
     "9e3dc13659ce4fd9aa79629c2dbc78fc": {
      "model_module": "@jupyter-widgets/base",
      "model_module_version": "2.0.0",
      "model_name": "LayoutModel",
      "state": {}
     },
     "9e50bd5f95ba42d993914867658a1ac8": {
      "model_module": "@jupyter-widgets/controls",
      "model_module_version": "2.0.0",
      "model_name": "LabelModel",
      "state": {
       "layout": "IPY_MODEL_2749cb6509a04bf49992836c699a22a8",
       "style": "IPY_MODEL_1b018153b0704f9a8597715f04e2c0b9",
       "value": "gaussian(..., sigma=15.0)"
      }
     },
     "9e9c77c644f8418eb03ff6229d4cd24c": {
      "model_module": "@jupyter-widgets/controls",
      "model_module_version": "2.0.0",
      "model_name": "VBoxModel",
      "state": {
       "children": [
        "IPY_MODEL_2e0f62ccef7e48ecaa0c326710bfe7f9"
       ],
       "layout": "IPY_MODEL_aa0319bb90b8457da1ca017adc2cd6a4"
      }
     },
     "9f922dc6db4648fd8ed1be956615a44e": {
      "model_module": "@jupyter-widgets/controls",
      "model_module_version": "2.0.0",
      "model_name": "FloatSliderModel",
      "state": {
       "behavior": "drag-tap",
       "description": "sigma",
       "layout": "IPY_MODEL_a4c94d9064964677acf73fad6e3d4abd",
       "max": 25,
       "style": "IPY_MODEL_0b3b22e382144a7dba5398ae96413cf5",
       "value": 1
      }
     },
     "a0872a4acb1f4ea38b124b0e74f7b74b": {
      "model_module": "@jupyter-widgets/controls",
      "model_module_version": "2.0.0",
      "model_name": "SliderStyleModel",
      "state": {
       "description_width": ""
      }
     },
     "a0d76693a8254e06b2f5106ab9ca3e0d": {
      "model_module": "@jupyter-widgets/base",
      "model_module_version": "2.0.0",
      "model_name": "LayoutModel",
      "state": {}
     },
     "a114e68b9813449a886ae7b14c1c3f93": {
      "model_module": "@jupyter-widgets/controls",
      "model_module_version": "2.0.0",
      "model_name": "ButtonModel",
      "state": {
       "description": "+",
       "layout": "IPY_MODEL_2f08515b9ca84ff984b4f88baebe7062",
       "style": "IPY_MODEL_2e0eaf66760344369941958942f37460",
       "tooltip": null
      }
     },
     "a1181424048b4c2b84617d8780412751": {
      "model_module": "@jupyter-widgets/controls",
      "model_module_version": "2.0.0",
      "model_name": "VBoxModel",
      "state": {
       "children": [
        "IPY_MODEL_e0c456ec468a41668b94af933bbbe172"
       ],
       "layout": "IPY_MODEL_3594c295aedc471589f778401f0f93ac"
      }
     },
     "a184cafc46494074ab649c1870edd5d9": {
      "model_module": "@jupyter-widgets/base",
      "model_module_version": "2.0.0",
      "model_name": "LayoutModel",
      "state": {}
     },
     "a20a05c7644e48fb976bdc171c8b38ae": {
      "model_module": "@jupyter-widgets/base",
      "model_module_version": "2.0.0",
      "model_name": "LayoutModel",
      "state": {}
     },
     "a25b530defd6417e9dac2567f16a4c35": {
      "model_module": "@jupyter-widgets/base",
      "model_module_version": "2.0.0",
      "model_name": "LayoutModel",
      "state": {}
     },
     "a2a7c56b5f1246239d4d34e7e0f4a2bb": {
      "model_module": "@jupyter-widgets/base",
      "model_module_version": "2.0.0",
      "model_name": "LayoutModel",
      "state": {}
     },
     "a2aa06dde79b4603a29b4d487b58b847": {
      "model_module": "@jupyter-widgets/base",
      "model_module_version": "2.0.0",
      "model_name": "LayoutModel",
      "state": {}
     },
     "a2d40b263b294b118cd48a62a946ca27": {
      "model_module": "@jupyter-widgets/controls",
      "model_module_version": "2.0.0",
      "model_name": "VBoxModel",
      "state": {
       "children": [
        "IPY_MODEL_92960ea0cd884c11915b3289fa8a7a7d",
        "IPY_MODEL_e6b52d3a8df64f75bf3ca64964ddeefa"
       ],
       "layout": "IPY_MODEL_f57d453ee64a42b2b51017dd5475204e"
      }
     },
     "a2e81da738784d73b3ca9ae48bca52e8": {
      "model_module": "@jupyter-widgets/base",
      "model_module_version": "2.0.0",
      "model_name": "LayoutModel",
      "state": {}
     },
     "a359f7ff75eb43a9bc14011094242745": {
      "model_module": "@jupyter-widgets/controls",
      "model_module_version": "2.0.0",
      "model_name": "CheckboxModel",
      "state": {
       "description": "show_labels",
       "disabled": false,
       "layout": "IPY_MODEL_f019c47293384a728744edd4d774be34",
       "style": "IPY_MODEL_b461ebe0e1ce4cd18fdd693650e70346",
       "value": true
      }
     },
     "a36077b18e074f7eb09e4bcf79eabebe": {
      "model_module": "@jupyter-widgets/controls",
      "model_module_version": "2.0.0",
      "model_name": "DropdownModel",
      "state": {
       "_options_labels": [
        "no_image",
        "image",
        "labels",
        "modified_image",
        "slice_image",
        "binary",
        "image_stack",
        "labels_stack"
       ],
       "description": "image",
       "index": 0,
       "layout": "IPY_MODEL_fee2d571de8a4caa9f7aa7840ec40b75",
       "style": "IPY_MODEL_674e92ac9e704d5d8df4d1c7c7af11b7"
      }
     },
     "a4c94d9064964677acf73fad6e3d4abd": {
      "model_module": "@jupyter-widgets/base",
      "model_module_version": "2.0.0",
      "model_name": "LayoutModel",
      "state": {}
     },
     "a57647231a384da2b1294213e1fb567e": {
      "model_module": "@jupyter-widgets/controls",
      "model_module_version": "2.0.0",
      "model_name": "LabelStyleModel",
      "state": {
       "description_width": "",
       "font_family": "Courier",
       "font_size": null,
       "font_style": null,
       "font_variant": null,
       "font_weight": null,
       "text_color": null,
       "text_decoration": null
      }
     },
     "a614a37744be4060b68d6617251f825d": {
      "model_module": "@jupyter-widgets/base",
      "model_module_version": "2.0.0",
      "model_name": "LayoutModel",
      "state": {}
     },
     "a774788db6414ff282a8c146509a9d96": {
      "model_module": "@jupyter-widgets/base",
      "model_module_version": "2.0.0",
      "model_name": "LayoutModel",
      "state": {}
     },
     "a8c71e5919ef4886b4756d17beb4198b": {
      "model_module": "@jupyter-widgets/base",
      "model_module_version": "2.0.0",
      "model_name": "LayoutModel",
      "state": {}
     },
     "a954c4213f8645f2be99e78b01dd39d6": {
      "model_module": "@jupyter-widgets/base",
      "model_module_version": "2.0.0",
      "model_name": "LayoutModel",
      "state": {}
     },
     "a98dbfd9dc6e41a1836dfdbc51e93c78": {
      "model_module": "@jupyter-widgets/controls",
      "model_module_version": "2.0.0",
      "model_name": "LabelStyleModel",
      "state": {
       "description_width": "",
       "font_family": "Courier",
       "font_size": null,
       "font_style": null,
       "font_variant": null,
       "font_weight": null,
       "text_color": null,
       "text_decoration": null
      }
     },
     "a9a84a8eb68c49f4a111037df6e9af48": {
      "model_module": "ipycanvas",
      "model_module_version": "^0.13",
      "model_name": "CanvasModel",
      "state": {
       "_canvas_manager": "IPY_MODEL_e404249722934e43b115a8d31ac3cd3b",
       "_model_module_version": "^0.13",
       "_view_module_version": "^0.13",
       "height": 235,
       "layout": "IPY_MODEL_fb9dea18be00462589fba056ca7274ab",
       "width": 389
      }
     },
     "a9d15f56748940db834810a90c8669c2": {
      "model_module": "@jupyter-widgets/base",
      "model_module_version": "2.0.0",
      "model_name": "LayoutModel",
      "state": {}
     },
     "aa0319bb90b8457da1ca017adc2cd6a4": {
      "model_module": "@jupyter-widgets/base",
      "model_module_version": "2.0.0",
      "model_name": "LayoutModel",
      "state": {}
     },
     "aa1d0a1d721743e69279c18c3089e021": {
      "model_module": "@jupyter-widgets/controls",
      "model_module_version": "2.0.0",
      "model_name": "VBoxModel",
      "state": {
       "children": [
        "IPY_MODEL_20cfb91642c14e8e987fb1e65faffe59",
        "IPY_MODEL_818a4e2736c9422aa69ea44ce76429ff",
        "IPY_MODEL_9b41ac8237a94cfc819edc2a7501f396"
       ],
       "layout": "IPY_MODEL_3987dcd27229444d95ab65d5c415b4b9"
      }
     },
     "aa44d723508a471cb9d7d080badc84ac": {
      "model_module": "@jupyter-widgets/controls",
      "model_module_version": "2.0.0",
      "model_name": "VBoxModel",
      "state": {
       "children": [
        "IPY_MODEL_0e8f02f5eaff42b9a06ef751e68c7430"
       ],
       "layout": "IPY_MODEL_b211c8cadfbe4c049a454029c74cd7ff"
      }
     },
     "ab1631b16d63421dbbcf134b3ed1e889": {
      "model_module": "@jupyter-widgets/base",
      "model_module_version": "2.0.0",
      "model_name": "LayoutModel",
      "state": {}
     },
     "ab436802e93c49b1b8adc64927bde587": {
      "model_module": "@jupyter-widgets/controls",
      "model_module_version": "2.0.0",
      "model_name": "VBoxModel",
      "state": {
       "children": [
        "IPY_MODEL_657a75bdafcd42318953692fdf9a800b",
        "IPY_MODEL_ac3e1abdeb8745ceafce416757a048da",
        "IPY_MODEL_16555b87b22d40fca14edbb5c8be0681"
       ],
       "layout": "IPY_MODEL_78a4847d3f0f444b991a41f588191763"
      }
     },
     "ac1159bfdbb84b43a2c9340eaf9124d3": {
      "model_module": "@jupyter-widgets/controls",
      "model_module_version": "2.0.0",
      "model_name": "HBoxModel",
      "state": {
       "children": [
        "IPY_MODEL_b99d85f3e00f4595a43badc8c1038786"
       ],
       "layout": "IPY_MODEL_0a36d1bbb030476f8a2f64ff87cc3859"
      }
     },
     "ac3e1abdeb8745ceafce416757a048da": {
      "model_module": "@jupyter-widgets/controls",
      "model_module_version": "2.0.0",
      "model_name": "IntSliderModel",
      "state": {
       "behavior": "drag-tap",
       "continuous_update": false,
       "description": "Slice",
       "layout": "IPY_MODEL_ea2b23b005344c569571d6c4e2752a7f",
       "max": 99,
       "style": "IPY_MODEL_897bab662e3e4570bc3a1cac663151c9",
       "value": 50
      }
     },
     "ad26fbe115514c29933dea5196371d28": {
      "model_module": "@jupyter-widgets/controls",
      "model_module_version": "2.0.0",
      "model_name": "IntSliderModel",
      "state": {
       "behavior": "drag-tap",
       "description": "Slice",
       "layout": "IPY_MODEL_7e02eadb9fa445c680a137b64e77f39f",
       "max": 119,
       "style": "IPY_MODEL_3a0089489b6f4632ac7f6e6ddc7c1a14",
       "value": 60
      }
     },
     "ae2a8f2cd6ba46c8a561c8aac33f8deb": {
      "model_module": "@jupyter-widgets/base",
      "model_module_version": "2.0.0",
      "model_name": "LayoutModel",
      "state": {}
     },
     "ae552f473cf449d3958da5245aa33222": {
      "model_module": "@jupyter-widgets/controls",
      "model_module_version": "2.0.0",
      "model_name": "HBoxModel",
      "state": {
       "children": [
        "IPY_MODEL_a1181424048b4c2b84617d8780412751"
       ],
       "layout": "IPY_MODEL_45fbdd444b974fedbc5dab72fe899c51"
      }
     },
     "afe6dfbba1594c5c96f4609650967c0c": {
      "model_module": "@jupyter-widgets/base",
      "model_module_version": "2.0.0",
      "model_name": "LayoutModel",
      "state": {
       "display": "none"
      }
     },
     "b0436adcea174b799d020a7e45bad391": {
      "model_module": "@jupyter-widgets/controls",
      "model_module_version": "2.0.0",
      "model_name": "VBoxModel",
      "state": {
       "children": [
        "IPY_MODEL_3b7bc0c7f7bc40a3b4760012be89a6b0",
        "IPY_MODEL_ad26fbe115514c29933dea5196371d28"
       ],
       "layout": "IPY_MODEL_5fd7407a84274dfab1be1c71b9e5a0d7"
      }
     },
     "b07770c17aaf475e94ae01d87a5a9d0e": {
      "model_module": "@jupyter-widgets/base",
      "model_module_version": "2.0.0",
      "model_name": "LayoutModel",
      "state": {}
     },
     "b0a65b87133d4b24a0ca3245bc3c4866": {
      "model_module": "@jupyter-widgets/base",
      "model_module_version": "2.0.0",
      "model_name": "LayoutModel",
      "state": {}
     },
     "b1a677ffbb374673bd74f87413496695": {
      "model_module": "@jupyter-widgets/base",
      "model_module_version": "2.0.0",
      "model_name": "LayoutModel",
      "state": {
       "display": "none"
      }
     },
     "b1ed1057dd924b65ad0b6dcd8fb9a99b": {
      "model_module": "@jupyter-widgets/base",
      "model_module_version": "2.0.0",
      "model_name": "LayoutModel",
      "state": {}
     },
     "b209b7f20d5b4483bc7c6d14639e2eb5": {
      "model_module": "@jupyter-widgets/controls",
      "model_module_version": "2.0.0",
      "model_name": "VBoxModel",
      "state": {
       "children": [
        "IPY_MODEL_529a60a8c9f8452eb7dd9f1871cc7cfc"
       ],
       "layout": "IPY_MODEL_ab1631b16d63421dbbcf134b3ed1e889"
      }
     },
     "b211c8cadfbe4c049a454029c74cd7ff": {
      "model_module": "@jupyter-widgets/base",
      "model_module_version": "2.0.0",
      "model_name": "LayoutModel",
      "state": {}
     },
     "b302933054e84d569ad8b0550672d39b": {
      "model_module": "@jupyter-widgets/controls",
      "model_module_version": "2.0.0",
      "model_name": "HBoxModel",
      "state": {
       "children": [
        "IPY_MODEL_4e9f472718cc47d492150f501d6de5b4",
        "IPY_MODEL_37117ffcbbcc440c81f7297a9017067a",
        "IPY_MODEL_349089880f1943ff9734ac8e8aae886e"
       ],
       "layout": "IPY_MODEL_cfe091daf7be475089533e83b00941c8"
      }
     },
     "b35a69effbe648e496a52c0659f85b83": {
      "model_module": "@jupyter-widgets/base",
      "model_module_version": "2.0.0",
      "model_name": "LayoutModel",
      "state": {}
     },
     "b3c979421f9a4eaca5584fc6d42ecd87": {
      "model_module": "@jupyter-widgets/base",
      "model_module_version": "2.0.0",
      "model_name": "LayoutModel",
      "state": {}
     },
     "b3d0691cfe1a480b84643ed4dbf965c8": {
      "model_module": "@jupyter-widgets/controls",
      "model_module_version": "2.0.0",
      "model_name": "IntSliderModel",
      "state": {
       "behavior": "drag-tap",
       "description": "Slice",
       "layout": "IPY_MODEL_81423ed3087b49cda5549a9fadab171a",
       "max": 119,
       "style": "IPY_MODEL_0fa86ce24422427bbc5ab2e0482ba335",
       "value": 60
      }
     },
     "b3ef279613ad4ba4aeb46aca4c22131f": {
      "model_module": "@jupyter-widgets/controls",
      "model_module_version": "2.0.0",
      "model_name": "SliderStyleModel",
      "state": {
       "description_width": ""
      }
     },
     "b461ebe0e1ce4cd18fdd693650e70346": {
      "model_module": "@jupyter-widgets/controls",
      "model_module_version": "2.0.0",
      "model_name": "CheckboxStyleModel",
      "state": {
       "description_width": ""
      }
     },
     "b5717a077c914cdb9ebaf269d42e2f14": {
      "model_module": "@jupyter-widgets/base",
      "model_module_version": "2.0.0",
      "model_name": "LayoutModel",
      "state": {
       "display": "none"
      }
     },
     "b694d9f5224f493198a0e68da865ac4c": {
      "model_module": "@jupyter-widgets/base",
      "model_module_version": "2.0.0",
      "model_name": "LayoutModel",
      "state": {}
     },
     "b6fba7806c834346a501f7c4bdbf7b54": {
      "model_module": "@jupyter-widgets/controls",
      "model_module_version": "2.0.0",
      "model_name": "IntSliderModel",
      "state": {
       "behavior": "drag-tap",
       "description": "footprint",
       "layout": "IPY_MODEL_82976207681c4da08a3c2f32a6e96024",
       "style": "IPY_MODEL_cdfc7a8240224332a69d9fee04d0c6b7"
      }
     },
     "b7161742a61d4ba2bdf4db3e463d5203": {
      "model_module": "@jupyter-widgets/controls",
      "model_module_version": "2.0.0",
      "model_name": "DropdownModel",
      "state": {
       "_options_labels": [
        "no_image",
        "image",
        "labels",
        "modified_image",
        "slice_image",
        "binary",
        "image_stack",
        "labels_stack"
       ],
       "description": "mask",
       "index": 0,
       "layout": "IPY_MODEL_6e043ffe6c604454bbd2789b34f921d4",
       "style": "IPY_MODEL_c8d18487a5ec4082b7ee50f1880f6df0"
      }
     },
     "b79ecdf92a654337a49aded298d4725d": {
      "model_module": "@jupyter-widgets/base",
      "model_module_version": "2.0.0",
      "model_name": "LayoutModel",
      "state": {}
     },
     "b7b84ef86672467f9fa426a3f0dbf8ae": {
      "model_module": "@jupyter-widgets/output",
      "model_module_version": "1.0.0",
      "model_name": "OutputModel",
      "state": {
       "layout": "IPY_MODEL_f154c0ebf8d04006b0df1fe7109ad46b"
      }
     },
     "b7c80e2110274bc686e5e7952983d5d2": {
      "model_module": "@jupyter-widgets/controls",
      "model_module_version": "2.0.0",
      "model_name": "DescriptionStyleModel",
      "state": {
       "description_width": ""
      }
     },
     "b7d8b5adbe46490c83c4bf2795e191c4": {
      "model_module": "@jupyter-widgets/controls",
      "model_module_version": "2.0.0",
      "model_name": "ButtonModel",
      "state": {
       "description": "-",
       "layout": "IPY_MODEL_0a2b83485b904f2ebcac110fef0f8e97",
       "style": "IPY_MODEL_650c23955099401382ac13a25373c299",
       "tooltip": null
      }
     },
     "b86e3a2540954736b25234ff4f3f44f7": {
      "model_module": "@jupyter-widgets/controls",
      "model_module_version": "2.0.0",
      "model_name": "VBoxModel",
      "state": {
       "children": [
        "IPY_MODEL_fdd7bfae63d343229d907547c91692f2",
        "IPY_MODEL_914534ded1b04835809e5c7ff2b14083",
        "IPY_MODEL_354c3c617b8347148b0fa838ac3ca99d",
        "IPY_MODEL_f05e6a6cd4924ab49438604a550a77a4",
        "IPY_MODEL_48921bd461534079a3dae4d31a9345eb",
        "IPY_MODEL_bf7747fadda54bc996bf67e2af6bfd5b"
       ],
       "layout": "IPY_MODEL_8faadbc8fc99445aa60d8f0d3ac745cd"
      }
     },
     "b8ad112f047a4c18bfa248ad2d6d3cfc": {
      "model_module": "@jupyter-widgets/base",
      "model_module_version": "2.0.0",
      "model_name": "LayoutModel",
      "state": {
       "display": "none"
      }
     },
     "b8be6228d52e42f88e5a80198e34e7ed": {
      "model_module": "@jupyter-widgets/base",
      "model_module_version": "2.0.0",
      "model_name": "LayoutModel",
      "state": {}
     },
     "b99d85f3e00f4595a43badc8c1038786": {
      "model_module": "@jupyter-widgets/controls",
      "model_module_version": "2.0.0",
      "model_name": "VBoxModel",
      "state": {
       "children": [
        "IPY_MODEL_a9a84a8eb68c49f4a111037df6e9af48"
       ],
       "layout": "IPY_MODEL_2a39fdc064714acabbe504a1e947201c"
      }
     },
     "baf51a51f78b47609260994a4ec4b58a": {
      "model_module": "@jupyter-widgets/base",
      "model_module_version": "2.0.0",
      "model_name": "LayoutModel",
      "state": {}
     },
     "bbad8d3db6e54b49afbb832e830e3920": {
      "model_module": "ipycanvas",
      "model_module_version": "^0.13",
      "model_name": "CanvasModel",
      "state": {
       "_canvas_manager": "IPY_MODEL_e404249722934e43b115a8d31ac3cd3b",
       "_model_module_version": "^0.13",
       "_view_count": 1,
       "_view_module_version": "^0.13",
       "height": 160,
       "layout": "IPY_MODEL_807237f4934f49cab906bfc067a89eee",
       "width": 160
      }
     },
     "bc82fa57c1b04217aa2ee0aac9e6216c": {
      "model_module": "@jupyter-widgets/base",
      "model_module_version": "2.0.0",
      "model_name": "LayoutModel",
      "state": {}
     },
     "bcef0422ec2146d0ad9525bd0f872ef8": {
      "model_module": "@jupyter-widgets/base",
      "model_module_version": "2.0.0",
      "model_name": "LayoutModel",
      "state": {}
     },
     "bcf353466a164b4e8e8bbf75afcefb65": {
      "model_module": "@jupyter-widgets/base",
      "model_module_version": "2.0.0",
      "model_name": "LayoutModel",
      "state": {}
     },
     "bcfbce00547349ea9489cea0abbae1d3": {
      "model_module": "@jupyter-widgets/base",
      "model_module_version": "2.0.0",
      "model_name": "LayoutModel",
      "state": {}
     },
     "bd65b1f66efd48d28f2a85533717d4f0": {
      "model_module": "@jupyter-widgets/controls",
      "model_module_version": "2.0.0",
      "model_name": "HBoxModel",
      "state": {
       "children": [
        "IPY_MODEL_4924219151b0487ca7ce98a0a5ecdae1"
       ],
       "layout": "IPY_MODEL_a2a7c56b5f1246239d4d34e7e0f4a2bb"
      }
     },
     "bde066b4c84b446ba9c5264b6549ca19": {
      "model_module": "@jupyter-widgets/controls",
      "model_module_version": "2.0.0",
      "model_name": "DropdownModel",
      "state": {
       "_options_labels": [
        "no_image",
        "image",
        "labels",
        "modified_image",
        "slice_image",
        "binary",
        "image_stack",
        "labels_stack"
       ],
       "description": "image",
       "index": 0,
       "layout": "IPY_MODEL_b1ed1057dd924b65ad0b6dcd8fb9a99b",
       "style": "IPY_MODEL_ce8654a0d71447498c36c1cd1485ddc3"
      }
     },
     "bde56a2abddb4ccc9bbdb35d5bb5fed5": {
      "model_module": "@jupyter-widgets/controls",
      "model_module_version": "2.0.0",
      "model_name": "TextModel",
      "state": {
       "description": "Search",
       "layout": "IPY_MODEL_a954c4213f8645f2be99e78b01dd39d6",
       "placeholder": "Type here to search",
       "style": "IPY_MODEL_cc43621adf474c36b5800920eaed4afa"
      }
     },
     "be33959e947140ac8f4872160b5796e0": {
      "model_module": "@jupyter-widgets/controls",
      "model_module_version": "2.0.0",
      "model_name": "IntSliderModel",
      "state": {
       "behavior": "drag-tap",
       "description": "Slice",
       "layout": "IPY_MODEL_b8ad112f047a4c18bfa248ad2d6d3cfc",
       "max": 253,
       "style": "IPY_MODEL_337089f7592041a8b9c4a9738f88441c",
       "value": 127
      }
     },
     "be7b006ae7a2450090ab17e244479886": {
      "model_module": "@jupyter-widgets/controls",
      "model_module_version": "2.0.0",
      "model_name": "VBoxModel",
      "state": {
       "_dom_classes": [
        "widget-interact"
       ],
       "children": [
        "IPY_MODEL_a36077b18e074f7eb09e4bcf79eabebe",
        "IPY_MODEL_9ca3c30a3a0f46d4841f9cd5c90c56d2",
        "IPY_MODEL_34b4a09ee6c447019abd602cd7665762"
       ],
       "layout": "IPY_MODEL_49f544c3c8684a5ca355be4c61d4f863"
      }
     },
     "bf66e409519d443da6fbbfcf4c71fda0": {
      "model_module": "@jupyter-widgets/controls",
      "model_module_version": "2.0.0",
      "model_name": "LabelStyleModel",
      "state": {
       "description_width": "",
       "font_family": null,
       "font_size": null,
       "font_style": null,
       "font_variant": null,
       "font_weight": null,
       "text_color": null,
       "text_decoration": null
      }
     },
     "bf7747fadda54bc996bf67e2af6bfd5b": {
      "model_module": "@jupyter-widgets/controls",
      "model_module_version": "2.0.0",
      "model_name": "HBoxModel",
      "state": {
       "children": [
        "IPY_MODEL_b7d8b5adbe46490c83c4bf2795e191c4",
        "IPY_MODEL_f124b2d3d1fe4278b59f4f438f3caf54",
        "IPY_MODEL_86bbcd07d91e4e009cd65bebeb82dda3"
       ],
       "layout": "IPY_MODEL_16b33b5a0e5342b5949fd05f08e7950d"
      }
     },
     "c0311886d18a46268549bfacdc06a158": {
      "model_module": "@jupyter-widgets/base",
      "model_module_version": "2.0.0",
      "model_name": "LayoutModel",
      "state": {}
     },
     "c040e45372834b1bb0ddf4ea1b548d09": {
      "model_module": "@jupyter-widgets/base",
      "model_module_version": "2.0.0",
      "model_name": "LayoutModel",
      "state": {}
     },
     "c0558cce04b040feb86e2eccffbcfd3f": {
      "model_module": "@jupyter-widgets/controls",
      "model_module_version": "2.0.0",
      "model_name": "VBoxModel",
      "state": {
       "children": [
        "IPY_MODEL_2aef549c12064ababee4b90925295d36",
        "IPY_MODEL_e96be2e8a0ec4e3fbf4b2ec77a478055",
        "IPY_MODEL_133c05167b8a493aa4443189010a7678"
       ],
       "layout": "IPY_MODEL_8e66ce99e83949cea4d47c93ab3ac60f"
      }
     },
     "c08ade949d1c43cda137c5ff87a48a4d": {
      "model_module": "@jupyter-widgets/controls",
      "model_module_version": "2.0.0",
      "model_name": "DropdownModel",
      "state": {
       "_options_labels": [
        "no_image",
        "image",
        "labels",
        "modified_image",
        "slice_image",
        "binary",
        "image_stack",
        "labels_stack"
       ],
       "description": "image",
       "index": 0,
       "layout": "IPY_MODEL_f46c2817c64f4965bdf352b6e0369933",
       "style": "IPY_MODEL_87f938ee4e684e188368c02bb8cd88a5"
      }
     },
     "c0a82d86318748df9d8d329de462825f": {
      "model_module": "@jupyter-widgets/controls",
      "model_module_version": "2.0.0",
      "model_name": "LabelStyleModel",
      "state": {
       "description_width": "",
       "font_family": null,
       "font_size": null,
       "font_style": null,
       "font_variant": null,
       "font_weight": null,
       "text_color": null,
       "text_decoration": null
      }
     },
     "c1390f6f0aa0424abb8969b5c9b014c9": {
      "model_module": "@jupyter-widgets/controls",
      "model_module_version": "2.0.0",
      "model_name": "IntSliderModel",
      "state": {
       "behavior": "drag-tap",
       "description": "Slice",
       "layout": "IPY_MODEL_4daea764eafd4fea8faeab89c2a78f67",
       "max": 98,
       "style": "IPY_MODEL_de65b108646c47f79572eef206d7227c",
       "value": 49
      }
     },
     "c16e4c05454f4494a7f86fdfc279d1dc": {
      "model_module": "@jupyter-widgets/output",
      "model_module_version": "1.0.0",
      "model_name": "OutputModel",
      "state": {
       "layout": "IPY_MODEL_d947a848769d4eb9a23ace4b2b1163b3"
      }
     },
     "c22ac184f90e4b9eb6d19ade2f50f946": {
      "model_module": "@jupyter-widgets/controls",
      "model_module_version": "2.0.0",
      "model_name": "SliderStyleModel",
      "state": {
       "description_width": ""
      }
     },
     "c24f181fbc964fb89a9bb91f643c845d": {
      "model_module": "@jupyter-widgets/controls",
      "model_module_version": "2.0.0",
      "model_name": "ButtonModel",
      "state": {
       "description": "+",
       "layout": "IPY_MODEL_854757ad5f3748c6aa7e49e302740c06",
       "style": "IPY_MODEL_94b36daa7c34420b86b524ea79d357c2",
       "tooltip": null
      }
     },
     "c2de66c2fedb42fd96167a245d3856f6": {
      "model_module": "@jupyter-widgets/controls",
      "model_module_version": "2.0.0",
      "model_name": "HBoxModel",
      "state": {
       "children": [
        "IPY_MODEL_94924ef08e994a81b4b7c68dc18c3afd"
       ],
       "layout": "IPY_MODEL_0d7be37a315045d1a41c8da9e6ba352c"
      }
     },
     "c5a13688fdd8409abeed4a42b7866dfd": {
      "model_module": "@jupyter-widgets/base",
      "model_module_version": "2.0.0",
      "model_name": "LayoutModel",
      "state": {
       "display": "none"
      }
     },
     "c5ae5c024f78437ebd23ed28fb6a6c9c": {
      "model_module": "@jupyter-widgets/base",
      "model_module_version": "2.0.0",
      "model_name": "LayoutModel",
      "state": {}
     },
     "c6b8c8f145f444d49dcf0b6d20ecbf60": {
      "model_module": "@jupyter-widgets/base",
      "model_module_version": "2.0.0",
      "model_name": "LayoutModel",
      "state": {}
     },
     "c6c1bb12012a4a46a52bf374c14419c1": {
      "model_module": "@jupyter-widgets/controls",
      "model_module_version": "2.0.0",
      "model_name": "SliderStyleModel",
      "state": {
       "description_width": ""
      }
     },
     "c8d18487a5ec4082b7ee50f1880f6df0": {
      "model_module": "@jupyter-widgets/controls",
      "model_module_version": "2.0.0",
      "model_name": "DescriptionStyleModel",
      "state": {
       "description_width": ""
      }
     },
     "c92807df24a44d1e85997b0537776fbb": {
      "model_module": "@jupyter-widgets/controls",
      "model_module_version": "2.0.0",
      "model_name": "HBoxModel",
      "state": {
       "children": [
        "IPY_MODEL_93bf3da420a3407686bfa564cb975553"
       ],
       "layout": "IPY_MODEL_d5b44f3cf91b496e8877cd780e0c9b1f"
      }
     },
     "c93098f50aa8476aa0077225d8a735b8": {
      "model_module": "@jupyter-widgets/base",
      "model_module_version": "2.0.0",
      "model_name": "LayoutModel",
      "state": {}
     },
     "c964f0b593994c378241994157f05e07": {
      "model_module": "@jupyter-widgets/base",
      "model_module_version": "2.0.0",
      "model_name": "LayoutModel",
      "state": {}
     },
     "ca367d09951946c3899f9ee2ee7c809d": {
      "model_module": "@jupyter-widgets/base",
      "model_module_version": "2.0.0",
      "model_name": "LayoutModel",
      "state": {}
     },
     "ca49ad33f9404a5c9748707fa847bb2b": {
      "model_module": "@jupyter-widgets/base",
      "model_module_version": "2.0.0",
      "model_name": "LayoutModel",
      "state": {}
     },
     "cad31ad183f94e9081702e4567a3bddf": {
      "model_module": "@jupyter-widgets/controls",
      "model_module_version": "2.0.0",
      "model_name": "DropdownModel",
      "state": {
       "_options_labels": [
        "no_image",
        "image",
        "labels",
        "modified_image",
        "slice_image",
        "binary",
        "image_stack",
        "labels_stack"
       ],
       "description": "image",
       "index": 0,
       "layout": "IPY_MODEL_6188ede4bbd844df8a87be4460482106",
       "style": "IPY_MODEL_d166263c8b1b4c45b2f0c74dae6a525c"
      }
     },
     "cafa417770224e83bbba411f1ad1845f": {
      "model_module": "@jupyter-widgets/base",
      "model_module_version": "2.0.0",
      "model_name": "LayoutModel",
      "state": {}
     },
     "cbf67a7d7b654c8aa51ea8e435489e88": {
      "model_module": "@jupyter-widgets/base",
      "model_module_version": "2.0.0",
      "model_name": "LayoutModel",
      "state": {}
     },
     "cc43621adf474c36b5800920eaed4afa": {
      "model_module": "@jupyter-widgets/controls",
      "model_module_version": "2.0.0",
      "model_name": "TextStyleModel",
      "state": {
       "description_width": "",
       "font_size": null,
       "text_color": null
      }
     },
     "cc9d7e27806c4dc8b0d4377a5e5a5659": {
      "model_module": "@jupyter-widgets/controls",
      "model_module_version": "2.0.0",
      "model_name": "VBoxModel",
      "state": {
       "children": [
        "IPY_MODEL_4eaf34f2ed7e478197831b2fa49c22c1",
        "IPY_MODEL_36f44300f97c45bdb1acbba601e0d60c"
       ],
       "layout": "IPY_MODEL_2ef9b16ca6df451aa93790afa754ffd4"
      }
     },
     "ccaff82a31644aafb028c727b90e0bcf": {
      "model_module": "@jupyter-widgets/controls",
      "model_module_version": "2.0.0",
      "model_name": "LabelStyleModel",
      "state": {
       "description_width": "",
       "font_family": null,
       "font_size": null,
       "font_style": null,
       "font_variant": null,
       "font_weight": null,
       "text_color": null,
       "text_decoration": null
      }
     },
     "cd253ea870ae441489f35c428ce81365": {
      "model_module": "@jupyter-widgets/controls",
      "model_module_version": "2.0.0",
      "model_name": "CheckboxStyleModel",
      "state": {
       "description_width": ""
      }
     },
     "cd5c120f04a246c597800e2498f96fbc": {
      "model_module": "@jupyter-widgets/controls",
      "model_module_version": "2.0.0",
      "model_name": "HBoxModel",
      "state": {
       "children": [
        "IPY_MODEL_cd8844fef558419fb79bb06577c19a13"
       ],
       "layout": "IPY_MODEL_faadce18f24449cda19a2135e8448036"
      }
     },
     "cd8844fef558419fb79bb06577c19a13": {
      "model_module": "@jupyter-widgets/controls",
      "model_module_version": "2.0.0",
      "model_name": "VBoxModel",
      "state": {
       "children": [
        "IPY_MODEL_bbad8d3db6e54b49afbb832e830e3920"
       ],
       "layout": "IPY_MODEL_650b4b3929fb4521b240b405fc44da4e"
      }
     },
     "cdef3fd8b068430693d36e92aa62a17f": {
      "model_module": "@jupyter-widgets/controls",
      "model_module_version": "2.0.0",
      "model_name": "SliderStyleModel",
      "state": {
       "description_width": ""
      }
     },
     "cdfc7a8240224332a69d9fee04d0c6b7": {
      "model_module": "@jupyter-widgets/controls",
      "model_module_version": "2.0.0",
      "model_name": "SliderStyleModel",
      "state": {
       "description_width": ""
      }
     },
     "ce8654a0d71447498c36c1cd1485ddc3": {
      "model_module": "@jupyter-widgets/controls",
      "model_module_version": "2.0.0",
      "model_name": "DescriptionStyleModel",
      "state": {
       "description_width": ""
      }
     },
     "cfe091daf7be475089533e83b00941c8": {
      "model_module": "@jupyter-widgets/base",
      "model_module_version": "2.0.0",
      "model_name": "LayoutModel",
      "state": {}
     },
     "d0da35a80614473ab811fb50cb6481cc": {
      "model_module": "@jupyter-widgets/output",
      "model_module_version": "1.0.0",
      "model_name": "OutputModel",
      "state": {
       "layout": "IPY_MODEL_252ec0e4a72449a1a242d5bab935c407"
      }
     },
     "d13e2d79b0324e758f9c3536aa9f8dd2": {
      "model_module": "ipycanvas",
      "model_module_version": "^0.13",
      "model_name": "CanvasModel",
      "state": {
       "_canvas_manager": "IPY_MODEL_e404249722934e43b115a8d31ac3cd3b",
       "_model_module_version": "^0.13",
       "_view_module_version": "^0.13",
       "height": 160,
       "layout": "IPY_MODEL_04eb6500fcb74efa94758eed892f3ff1",
       "width": 160
      }
     },
     "d166263c8b1b4c45b2f0c74dae6a525c": {
      "model_module": "@jupyter-widgets/controls",
      "model_module_version": "2.0.0",
      "model_name": "DescriptionStyleModel",
      "state": {
       "description_width": ""
      }
     },
     "d1f9e935923f4c9bb85af85e0aecc47a": {
      "model_module": "@jupyter-widgets/base",
      "model_module_version": "2.0.0",
      "model_name": "LayoutModel",
      "state": {}
     },
     "d2fcc18f0b4843bab65111e67c4c8e76": {
      "model_module": "@jupyter-widgets/controls",
      "model_module_version": "2.0.0",
      "model_name": "VBoxModel",
      "state": {
       "children": [
        "IPY_MODEL_52f91692bff84098bc64808e4d70f9f3"
       ],
       "layout": "IPY_MODEL_3d8dfbc16e494f4ca760ed64d12b180b"
      }
     },
     "d321402745d54a7bbb3535b7becd1475": {
      "model_module": "@jupyter-widgets/controls",
      "model_module_version": "2.0.0",
      "model_name": "LabelModel",
      "state": {
       "layout": "IPY_MODEL_bc82fa57c1b04217aa2ee0aac9e6216c",
       "style": "IPY_MODEL_3c4201146a1a49c7a9a110c4ee21a678",
       "value": "np.place( mask=no_image)"
      }
     },
     "d3246e83e166428eb82fd7b829c986a6": {
      "model_module": "ipycanvas",
      "model_module_version": "^0.13",
      "model_name": "CanvasModel",
      "state": {
       "_canvas_manager": "IPY_MODEL_e404249722934e43b115a8d31ac3cd3b",
       "_model_module_version": "^0.13",
       "_view_module_version": "^0.13",
       "height": 389,
       "layout": "IPY_MODEL_b694d9f5224f493198a0e68da865ac4c",
       "width": 235
      }
     },
     "d3378759f0d04d08baddb7f9c7f5c175": {
      "model_module": "@jupyter-widgets/controls",
      "model_module_version": "2.0.0",
      "model_name": "SliderStyleModel",
      "state": {
       "description_width": ""
      }
     },
     "d48457f2d9634c9ab07a2d97bcc715e1": {
      "model_module": "@jupyter-widgets/controls",
      "model_module_version": "2.0.0",
      "model_name": "HBoxModel",
      "state": {
       "children": [
        "IPY_MODEL_aa44d723508a471cb9d7d080badc84ac"
       ],
       "layout": "IPY_MODEL_ae2a8f2cd6ba46c8a561c8aac33f8deb"
      }
     },
     "d4c6d8afc7504ce1b16e152c043903f2": {
      "model_module": "ipycanvas",
      "model_module_version": "^0.13",
      "model_name": "CanvasModel",
      "state": {
       "_canvas_manager": "IPY_MODEL_e404249722934e43b115a8d31ac3cd3b",
       "_model_module_version": "^0.13",
       "_view_module_version": "^0.13",
       "height": 160,
       "layout": "IPY_MODEL_a2e81da738784d73b3ca9ae48bca52e8",
       "width": 160
      }
     },
     "d4cf23214ea44a28a9eff16280624379": {
      "model_module": "@jupyter-widgets/controls",
      "model_module_version": "2.0.0",
      "model_name": "IntSliderModel",
      "state": {
       "behavior": "drag-tap",
       "description": "Slice",
       "layout": "IPY_MODEL_bcfbce00547349ea9489cea0abbae1d3",
       "max": 119,
       "style": "IPY_MODEL_cdef3fd8b068430693d36e92aa62a17f",
       "value": 60
      }
     },
     "d54f11ea45974f828d32919a4b4f3a5d": {
      "model_module": "@jupyter-widgets/controls",
      "model_module_version": "2.0.0",
      "model_name": "VBoxModel",
      "state": {
       "children": [
        "IPY_MODEL_25c2cd8113044beea2e88a36838709d6"
       ],
       "layout": "IPY_MODEL_77820cd2bb494d4cba167b3286a7d5d7"
      }
     },
     "d5b44f3cf91b496e8877cd780e0c9b1f": {
      "model_module": "@jupyter-widgets/base",
      "model_module_version": "2.0.0",
      "model_name": "LayoutModel",
      "state": {}
     },
     "d66735958f194256835f58aa5fe71b8b": {
      "model_module": "@jupyter-widgets/controls",
      "model_module_version": "2.0.0",
      "model_name": "DropdownModel",
      "state": {
       "_options_labels": [
        "no_image",
        "image",
        "labels",
        "modified_image",
        "slice_image",
        "binary",
        "image_stack",
        "labels_stack"
       ],
       "description": "image",
       "index": 0,
       "layout": "IPY_MODEL_0151bea6e09b418a93f13b3b2d45f6ce",
       "style": "IPY_MODEL_5371650439e34fa3bbe638a9c8a9a462"
      }
     },
     "d6948b3c5ab044f1be7e3e709a85cbf9": {
      "model_module": "@jupyter-widgets/base",
      "model_module_version": "2.0.0",
      "model_name": "LayoutModel",
      "state": {}
     },
     "d6b6521cb3c14250a42cf4e44d91337b": {
      "model_module": "ipycanvas",
      "model_module_version": "^0.13",
      "model_name": "CanvasModel",
      "state": {
       "_canvas_manager": "IPY_MODEL_e404249722934e43b115a8d31ac3cd3b",
       "_model_module_version": "^0.13",
       "_view_module_version": "^0.13",
       "height": 120,
       "layout": "IPY_MODEL_9c2e26a087b64126a71ed327b7043b8c",
       "width": 160
      }
     },
     "d70860be67f942b8a495a55a524e98b2": {
      "model_module": "@jupyter-widgets/controls",
      "model_module_version": "2.0.0",
      "model_name": "LabelModel",
      "state": {
       "layout": "IPY_MODEL_a774788db6414ff282a8c146509a9d96",
       "style": "IPY_MODEL_0fdf0277883741c7bde9864869d487e8",
       "value": "my_custom_code(..., sigma=1.0, show_labels=True)"
      }
     },
     "d729168b34c84040ac1b14a149164fb9": {
      "model_module": "@jupyter-widgets/controls",
      "model_module_version": "2.0.0",
      "model_name": "VBoxModel",
      "state": {
       "children": [
        "IPY_MODEL_819763a35bf04fe08d0d5105f384a5ce",
        "IPY_MODEL_5a1c5ca48b614e6187c0328d029c521c"
       ],
       "layout": "IPY_MODEL_fb85a63ac7d44bbbab25a48b21d2eb5a"
      }
     },
     "d8bd676178484be4b427674be4341048": {
      "model_module": "@jupyter-widgets/base",
      "model_module_version": "2.0.0",
      "model_name": "LayoutModel",
      "state": {}
     },
     "d947a848769d4eb9a23ace4b2b1163b3": {
      "model_module": "@jupyter-widgets/base",
      "model_module_version": "2.0.0",
      "model_name": "LayoutModel",
      "state": {}
     },
     "d9e01ca6675446a99ecbbbe2af29ba5d": {
      "model_module": "@jupyter-widgets/base",
      "model_module_version": "2.0.0",
      "model_name": "LayoutModel",
      "state": {}
     },
     "da1bb6b9b2ea45a9bac46e97c7f023ab": {
      "model_module": "@jupyter-widgets/controls",
      "model_module_version": "2.0.0",
      "model_name": "VBoxModel",
      "state": {
       "_dom_classes": [
        "widget-interact"
       ],
       "children": [
        "IPY_MODEL_96296fa9c61141ef8fd26c850110c3c8",
        "IPY_MODEL_a359f7ff75eb43a9bc14011094242745",
        "IPY_MODEL_f5df41df69fe44f08e8111d3b7ff40ad"
       ],
       "layout": "IPY_MODEL_91e485c0da6047c2975f1fc552334610"
      }
     },
     "da60f0addf56484f9d49424ec8ad14de": {
      "model_module": "@jupyter-widgets/controls",
      "model_module_version": "2.0.0",
      "model_name": "LabelStyleModel",
      "state": {
       "description_width": "",
       "font_family": null,
       "font_size": null,
       "font_style": null,
       "font_variant": null,
       "font_weight": null,
       "text_color": null,
       "text_decoration": null
      }
     },
     "dad7fba797324a36ad4accf0bcd88e66": {
      "model_module": "@jupyter-widgets/controls",
      "model_module_version": "2.0.0",
      "model_name": "LabelStyleModel",
      "state": {
       "description_width": "",
       "font_family": null,
       "font_size": null,
       "font_style": null,
       "font_variant": null,
       "font_weight": null,
       "text_color": null,
       "text_decoration": null
      }
     },
     "daf7c2dfbca841bc890fa65eaa55bc78": {
      "model_module": "@jupyter-widgets/controls",
      "model_module_version": "2.0.0",
      "model_name": "HBoxModel",
      "state": {
       "children": [
        "IPY_MODEL_f9461d8dfbf64a98bf6816dcedf9e585",
        "IPY_MODEL_ae552f473cf449d3958da5245aa33222",
        "IPY_MODEL_8a87071e1d094c5eacc07033a687a6d3"
       ],
       "layout": "IPY_MODEL_57e42c28d3ca435ab7628f09b7a3de20"
      }
     },
     "db5aa4aff0d94caaa48920ba6af1581d": {
      "model_module": "@jupyter-widgets/base",
      "model_module_version": "2.0.0",
      "model_name": "LayoutModel",
      "state": {}
     },
     "db7c0cdf5b0043aba9a64f0f990a53ee": {
      "model_module": "@jupyter-widgets/base",
      "model_module_version": "2.0.0",
      "model_name": "LayoutModel",
      "state": {}
     },
     "dbc9985bc4db43eb8fe5e7d34d21b30d": {
      "model_module": "@jupyter-widgets/controls",
      "model_module_version": "2.0.0",
      "model_name": "VBoxModel",
      "state": {
       "children": [
        "IPY_MODEL_3e1cdfed3f684201ad4304db848b1d54"
       ],
       "layout": "IPY_MODEL_f1712fda213f432cbd3a54b9d8148402"
      }
     },
     "dc1b9c17f92a4c54b293af0697757955": {
      "model_module": "@jupyter-widgets/base",
      "model_module_version": "2.0.0",
      "model_name": "LayoutModel",
      "state": {}
     },
     "dc3af61aa1674e968d454ec581cfb67f": {
      "model_module": "@jupyter-widgets/base",
      "model_module_version": "2.0.0",
      "model_name": "LayoutModel",
      "state": {}
     },
     "dc795db0a7a64944b9f0c406f38aef6d": {
      "model_module": "@jupyter-widgets/controls",
      "model_module_version": "2.0.0",
      "model_name": "VBoxModel",
      "state": {
       "children": [
        "IPY_MODEL_c92807df24a44d1e85997b0537776fbb",
        "IPY_MODEL_0fcadf658ba84dec9b99350b68faa9d5",
        "IPY_MODEL_18cdcee211c64ebea2e21398540ec5b1"
       ],
       "layout": "IPY_MODEL_b35a69effbe648e496a52c0659f85b83"
      }
     },
     "ddcf7f86b45a4e69907fc0800c029174": {
      "model_module": "@jupyter-widgets/base",
      "model_module_version": "2.0.0",
      "model_name": "LayoutModel",
      "state": {}
     },
     "de65b108646c47f79572eef206d7227c": {
      "model_module": "@jupyter-widgets/controls",
      "model_module_version": "2.0.0",
      "model_name": "SliderStyleModel",
      "state": {
       "description_width": ""
      }
     },
     "df955632d3514bed914a789b2270da7d": {
      "model_module": "@jupyter-widgets/controls",
      "model_module_version": "2.0.0",
      "model_name": "SliderStyleModel",
      "state": {
       "description_width": ""
      }
     },
     "dfc57de54b19454f8015ef09e1068b09": {
      "model_module": "@jupyter-widgets/base",
      "model_module_version": "2.0.0",
      "model_name": "LayoutModel",
      "state": {}
     },
     "dfcb3ce128af47309518606571527dd9": {
      "model_module": "@jupyter-widgets/controls",
      "model_module_version": "2.0.0",
      "model_name": "VBoxModel",
      "state": {
       "children": [
        "IPY_MODEL_1ed0acc1f85242fe9985fab0e078268b",
        "IPY_MODEL_b3d0691cfe1a480b84643ed4dbf965c8",
        "IPY_MODEL_fec28de0d8834b68bafef6a5d785abe9"
       ],
       "layout": "IPY_MODEL_994f232598144f69b005e550c83868b2"
      }
     },
     "e0c456ec468a41668b94af933bbbe172": {
      "model_module": "ipycanvas",
      "model_module_version": "^0.13",
      "model_name": "CanvasModel",
      "state": {
       "_canvas_manager": "IPY_MODEL_e404249722934e43b115a8d31ac3cd3b",
       "_model_module_version": "^0.13",
       "_view_module_version": "^0.13",
       "height": 389,
       "layout": "IPY_MODEL_bcef0422ec2146d0ad9525bd0f872ef8",
       "width": 235
      }
     },
     "e0d099d5a1af47e2b99ffa413f1b67b7": {
      "model_module": "@jupyter-widgets/controls",
      "model_module_version": "2.0.0",
      "model_name": "CheckboxModel",
      "state": {
       "description": "show_labels",
       "disabled": false,
       "layout": "IPY_MODEL_878041716e3a4e53b3ca5d269788f222",
       "style": "IPY_MODEL_cd253ea870ae441489f35c428ce81365",
       "value": true
      }
     },
     "e12cdb6966fc44f58aa502d84ba449a6": {
      "model_module": "@jupyter-widgets/output",
      "model_module_version": "1.0.0",
      "model_name": "OutputModel",
      "state": {
       "layout": "IPY_MODEL_9e3dc13659ce4fd9aa79629c2dbc78fc"
      }
     },
     "e12cfd323357446b92227904e48a67d6": {
      "model_module": "@jupyter-widgets/controls",
      "model_module_version": "2.0.0",
      "model_name": "LabelStyleModel",
      "state": {
       "description_width": "",
       "font_family": null,
       "font_size": null,
       "font_style": null,
       "font_variant": null,
       "font_weight": null,
       "text_color": null,
       "text_decoration": null
      }
     },
     "e1dde2319642459b8a6fe06420ce340f": {
      "model_module": "@jupyter-widgets/base",
      "model_module_version": "2.0.0",
      "model_name": "LayoutModel",
      "state": {}
     },
     "e211a7610d0d4ba3842eb49c6463a7f5": {
      "model_module": "@jupyter-widgets/controls",
      "model_module_version": "2.0.0",
      "model_name": "FloatSliderModel",
      "state": {
       "behavior": "drag-tap",
       "continuous_update": false,
       "description": "sigma",
       "layout": "IPY_MODEL_609725038b0e4b69921898eee7aadec0",
       "max": 25,
       "style": "IPY_MODEL_3ac8ce8e1d0240bb8d49d85c87df6b1b",
       "value": 1
      }
     },
     "e256f8b1013a4c81a0bd1670348189d1": {
      "model_module": "@jupyter-widgets/controls",
      "model_module_version": "2.0.0",
      "model_name": "HBoxModel",
      "state": {
       "children": [
        "IPY_MODEL_12995ae3095f4c14ac60ad1b16f47f7d"
       ],
       "layout": "IPY_MODEL_538320761d4143f1a777f7eca70ab5ba"
      }
     },
     "e3132435a18946e59decc6da3f1e0f37": {
      "model_module": "@jupyter-widgets/base",
      "model_module_version": "2.0.0",
      "model_name": "LayoutModel",
      "state": {}
     },
     "e32382f1af1745dc9bdc8fc22c34f111": {
      "model_module": "@jupyter-widgets/base",
      "model_module_version": "2.0.0",
      "model_name": "LayoutModel",
      "state": {}
     },
     "e3813dfeb9b14f48a502d7849e274e9a": {
      "model_module": "@jupyter-widgets/controls",
      "model_module_version": "2.0.0",
      "model_name": "VBoxModel",
      "state": {
       "children": [
        "IPY_MODEL_8914462ef61e49dcb0bffff6778af7fd",
        "IPY_MODEL_9e50bd5f95ba42d993914867658a1ac8",
        "IPY_MODEL_731c3571d367446fa89041c58ea203f6",
        "IPY_MODEL_be33959e947140ac8f4872160b5796e0"
       ],
       "layout": "IPY_MODEL_472d1b99b53c4c6793dae0f212b73771"
      }
     },
     "e404249722934e43b115a8d31ac3cd3b": {
      "model_module": "ipycanvas",
      "model_module_version": "^0.13",
      "model_name": "CanvasManagerModel",
      "state": {
       "_model_module_version": "^0.13",
       "_view_module": null,
       "_view_module_version": ""
      }
     },
     "e4cda3cd8ef1446caa4151ff0dc738de": {
      "model_module": "@jupyter-widgets/base",
      "model_module_version": "2.0.0",
      "model_name": "LayoutModel",
      "state": {
       "display": "none"
      }
     },
     "e4e08cbdc15c4a31b3bef053c70ce137": {
      "model_module": "@jupyter-widgets/base",
      "model_module_version": "2.0.0",
      "model_name": "LayoutModel",
      "state": {}
     },
     "e58cf02d739d46fdaa640e78d7140bd1": {
      "model_module": "@jupyter-widgets/controls",
      "model_module_version": "2.0.0",
      "model_name": "VBoxModel",
      "state": {
       "children": [
        "IPY_MODEL_d4c6d8afc7504ce1b16e152c043903f2"
       ],
       "layout": "IPY_MODEL_179f678441d34b55a639ccf143585648"
      }
     },
     "e5bbd912c10c451198f1c564d60364b3": {
      "model_module": "@jupyter-widgets/base",
      "model_module_version": "2.0.0",
      "model_name": "LayoutModel",
      "state": {}
     },
     "e619182bf29a4da4982dae7c1e539fe0": {
      "model_module": "@jupyter-widgets/controls",
      "model_module_version": "2.0.0",
      "model_name": "VBoxModel",
      "state": {
       "children": [
        "IPY_MODEL_59fd08cb477f4af4aac36db7f4765742",
        "IPY_MODEL_1ea75160e27f46eca9617d8a8d422147"
       ],
       "layout": "IPY_MODEL_afe6dfbba1594c5c96f4609650967c0c"
      }
     },
     "e67c586e4c934a598614a197d42d2201": {
      "model_module": "@jupyter-widgets/controls",
      "model_module_version": "2.0.0",
      "model_name": "VBoxModel",
      "state": {
       "children": [
        "IPY_MODEL_fe9539b4a19f429db53367390b005299",
        "IPY_MODEL_4bea8151258e44d6834afa5ccc8e9bfa"
       ],
       "layout": "IPY_MODEL_b5717a077c914cdb9ebaf269d42e2f14"
      }
     },
     "e6b52d3a8df64f75bf3ca64964ddeefa": {
      "model_module": "@jupyter-widgets/controls",
      "model_module_version": "2.0.0",
      "model_name": "LabelModel",
      "state": {
       "layout": "IPY_MODEL_8f4062d6d63843369414729b1335b3c7",
       "style": "IPY_MODEL_a57647231a384da2b1294213e1fb567e",
       "value": "np.mask_indices( mask_func=no_image)"
      }
     },
     "e7a6fe1291d541e9a0a677d33023554c": {
      "model_module": "@jupyter-widgets/base",
      "model_module_version": "2.0.0",
      "model_name": "LayoutModel",
      "state": {}
     },
     "e7f8ff66b6594f36a5ebaa0e8273bd86": {
      "model_module": "@jupyter-widgets/base",
      "model_module_version": "2.0.0",
      "model_name": "LayoutModel",
      "state": {}
     },
     "e84a6e503c2545b0bca12ea1554167f4": {
      "model_module": "@jupyter-widgets/controls",
      "model_module_version": "2.0.0",
      "model_name": "IntSliderModel",
      "state": {
       "behavior": "drag-tap",
       "description": "Slice",
       "layout": "IPY_MODEL_bcf353466a164b4e8e8bbf75afcefb65",
       "max": 99,
       "style": "IPY_MODEL_838d0239ac1240babc21a31bf80dd90e",
       "value": 50
      }
     },
     "e84ee3e68f3f40d19dc9e6a0c1e36134": {
      "model_module": "@jupyter-widgets/base",
      "model_module_version": "2.0.0",
      "model_name": "LayoutModel",
      "state": {}
     },
     "e96be2e8a0ec4e3fbf4b2ec77a478055": {
      "model_module": "@jupyter-widgets/controls",
      "model_module_version": "2.0.0",
      "model_name": "IntSliderModel",
      "state": {
       "behavior": "drag-tap",
       "description": "Slice",
       "layout": "IPY_MODEL_6254199a9f2a4193abaab0bcc9a819bb",
       "max": 119,
       "style": "IPY_MODEL_83d71eed324043fd8c288d400e445cf0",
       "value": 60
      }
     },
     "e9e0a8d49e614883aaa3ea976295a27f": {
      "model_module": "@jupyter-widgets/controls",
      "model_module_version": "2.0.0",
      "model_name": "HBoxModel",
      "state": {
       "children": [
        "IPY_MODEL_f1fdafddad9f4e07bf5a57a9c6f1d7a9"
       ],
       "layout": "IPY_MODEL_4b92795ad99b45828d61a9853d02339a"
      }
     },
     "e9ff87fce4584e15909c17248a5e2b62": {
      "model_module": "@jupyter-widgets/base",
      "model_module_version": "2.0.0",
      "model_name": "LayoutModel",
      "state": {}
     },
     "ea23a6169c82488386d5b06fe7a3aebe": {
      "model_module": "@jupyter-widgets/base",
      "model_module_version": "2.0.0",
      "model_name": "LayoutModel",
      "state": {}
     },
     "ea2b23b005344c569571d6c4e2752a7f": {
      "model_module": "@jupyter-widgets/base",
      "model_module_version": "2.0.0",
      "model_name": "LayoutModel",
      "state": {
       "display": "none"
      }
     },
     "eaf24fcffa954e7bbd8e429583fb24d9": {
      "model_module": "@jupyter-widgets/controls",
      "model_module_version": "2.0.0",
      "model_name": "SliderStyleModel",
      "state": {
       "description_width": ""
      }
     },
     "eb48dfd6dedf4468a6286ec70236cccd": {
      "model_module": "@jupyter-widgets/controls",
      "model_module_version": "2.0.0",
      "model_name": "SliderStyleModel",
      "state": {
       "description_width": ""
      }
     },
     "ebb3262a3b5c40bcb4663b36ed4e067d": {
      "model_module": "@jupyter-widgets/base",
      "model_module_version": "2.0.0",
      "model_name": "LayoutModel",
      "state": {
       "display": "none"
      }
     },
     "ebc6a15c158b424cb7cdf0d598898c29": {
      "model_module": "@jupyter-widgets/base",
      "model_module_version": "2.0.0",
      "model_name": "LayoutModel",
      "state": {}
     },
     "ec55dea48a244fb9a975cb8547bdb3fa": {
      "model_module": "@jupyter-widgets/output",
      "model_module_version": "1.0.0",
      "model_name": "OutputModel",
      "state": {
       "layout": "IPY_MODEL_a0d76693a8254e06b2f5106ab9ca3e0d"
      }
     },
     "ef089bffc8df48d0911e0d43185450e9": {
      "model_module": "@jupyter-widgets/controls",
      "model_module_version": "2.0.0",
      "model_name": "DescriptionStyleModel",
      "state": {
       "description_width": ""
      }
     },
     "efb4f1429fa44e90b56502d91da8e8b8": {
      "model_module": "@jupyter-widgets/base",
      "model_module_version": "2.0.0",
      "model_name": "LayoutModel",
      "state": {}
     },
     "f019c47293384a728744edd4d774be34": {
      "model_module": "@jupyter-widgets/base",
      "model_module_version": "2.0.0",
      "model_name": "LayoutModel",
      "state": {}
     },
     "f05e6a6cd4924ab49438604a550a77a4": {
      "model_module": "@jupyter-widgets/controls",
      "model_module_version": "2.0.0",
      "model_name": "HBoxModel",
      "state": {
       "children": [
        "IPY_MODEL_92da5f73dbc743aa9b5d2ef41f6202eb",
        "IPY_MODEL_9a02ded372194a8ea0b9aec8f68a8494",
        "IPY_MODEL_a114e68b9813449a886ae7b14c1c3f93"
       ],
       "layout": "IPY_MODEL_dc3af61aa1674e968d454ec581cfb67f"
      }
     },
     "f0b0978c8f154ec5b833227b941cc5ef": {
      "model_module": "@jupyter-widgets/base",
      "model_module_version": "2.0.0",
      "model_name": "LayoutModel",
      "state": {}
     },
     "f124b2d3d1fe4278b59f4f438f3caf54": {
      "model_module": "@jupyter-widgets/controls",
      "model_module_version": "2.0.0",
      "model_name": "LabelModel",
      "state": {
       "layout": "IPY_MODEL_5d0951e282904293928d1a538d3d65e4",
       "style": "IPY_MODEL_dad7fba797324a36ad4accf0bcd88e66",
       "value": "4"
      }
     },
     "f154c0ebf8d04006b0df1fe7109ad46b": {
      "model_module": "@jupyter-widgets/base",
      "model_module_version": "2.0.0",
      "model_name": "LayoutModel",
      "state": {}
     },
     "f1712fda213f432cbd3a54b9d8148402": {
      "model_module": "@jupyter-widgets/base",
      "model_module_version": "2.0.0",
      "model_name": "LayoutModel",
      "state": {}
     },
     "f1d366b16f304b85b306c2abbc31b710": {
      "model_module": "@jupyter-widgets/base",
      "model_module_version": "2.0.0",
      "model_name": "LayoutModel",
      "state": {}
     },
     "f1fdafddad9f4e07bf5a57a9c6f1d7a9": {
      "model_module": "@jupyter-widgets/controls",
      "model_module_version": "2.0.0",
      "model_name": "VBoxModel",
      "state": {
       "children": [
        "IPY_MODEL_8103bc6af45f49d6a638943d3461f090"
       ],
       "layout": "IPY_MODEL_ca49ad33f9404a5c9748707fa847bb2b"
      }
     },
     "f3a4f14fb54e43d8be445c45c50e76ab": {
      "model_module": "@jupyter-widgets/base",
      "model_module_version": "2.0.0",
      "model_name": "LayoutModel",
      "state": {}
     },
     "f42853cc1ade48e994f7b21406e0c8ca": {
      "model_module": "@jupyter-widgets/controls",
      "model_module_version": "2.0.0",
      "model_name": "IntSliderModel",
      "state": {
       "behavior": "drag-tap",
       "continuous_update": false,
       "description": "Slice",
       "layout": "IPY_MODEL_ebb3262a3b5c40bcb4663b36ed4e067d",
       "max": 253,
       "style": "IPY_MODEL_95dde1cbccf442be934869eca96d439e",
       "value": 127
      }
     },
     "f46c2817c64f4965bdf352b6e0369933": {
      "model_module": "@jupyter-widgets/base",
      "model_module_version": "2.0.0",
      "model_name": "LayoutModel",
      "state": {}
     },
     "f55177693597449fb48c77d856e6a75c": {
      "model_module": "@jupyter-widgets/controls",
      "model_module_version": "2.0.0",
      "model_name": "VBoxModel",
      "state": {
       "children": [
        "IPY_MODEL_62c4afc273774674b3163ed9b3047a38",
        "IPY_MODEL_30c66a2810064a5d91a2462676c2acd7",
        "IPY_MODEL_717e3d70e04341bd97abe4477871e6a1",
        "IPY_MODEL_5ed0005cea2045d28c8596b7cb6250f2",
        "IPY_MODEL_021b668233bb49e6a495520b12aa617e"
       ],
       "layout": "IPY_MODEL_9359bd4d353944e186ac03a1e1fde39b"
      }
     },
     "f57d453ee64a42b2b51017dd5475204e": {
      "model_module": "@jupyter-widgets/base",
      "model_module_version": "2.0.0",
      "model_name": "LayoutModel",
      "state": {
       "display": "none"
      }
     },
     "f5824d853b324cf1b76a4e0eea92ee19": {
      "model_module": "@jupyter-widgets/controls",
      "model_module_version": "2.0.0",
      "model_name": "LabelModel",
      "state": {
       "layout": "IPY_MODEL_1b23a2a7ccb84dcd974a5c8b0cf708ee",
       "style": "IPY_MODEL_0fea30fb341c4a479957454405591878",
       "value": "sobel( image=no_image, mask=no_image)"
      }
     },
     "f5df41df69fe44f08e8111d3b7ff40ad": {
      "model_module": "@jupyter-widgets/output",
      "model_module_version": "1.0.0",
      "model_name": "OutputModel",
      "state": {
       "layout": "IPY_MODEL_a20a05c7644e48fb976bdc171c8b38ae"
      }
     },
     "f5f2dfbd563c40f8832d33d3cadcede1": {
      "model_module": "@jupyter-widgets/controls",
      "model_module_version": "2.0.0",
      "model_name": "VBoxModel",
      "state": {
       "children": [
        "IPY_MODEL_bde56a2abddb4ccc9bbdb35d5bb5fed5",
        "IPY_MODEL_03e9cb759771408992b112809a2fcfb2",
        "IPY_MODEL_e67c586e4c934a598614a197d42d2201",
        "IPY_MODEL_d729168b34c84040ac1b14a149164fb9",
        "IPY_MODEL_a2d40b263b294b118cd48a62a946ca27",
        "IPY_MODEL_f97d254136d74dd5ad9f7bdcf5d0560c",
        "IPY_MODEL_79b84876c0bb4d3ea4f9e07636892a42",
        "IPY_MODEL_4ff58f60a94c41f582fb2ca68ee6dd18",
        "IPY_MODEL_e619182bf29a4da4982dae7c1e539fe0",
        "IPY_MODEL_ff556ac614d34b50a934ac331b111c34",
        "IPY_MODEL_fefc5bfa51464c97bc1ca40c7bb15ea7",
        "IPY_MODEL_9314c186585341039330b0e179750426",
        "IPY_MODEL_9770f53cee514be09bb2875f569f714c",
        "IPY_MODEL_1649420d99b44bf894dc176acfcb8bbb",
        "IPY_MODEL_08154f52a7cf4d228b90f0aed602c1f4"
       ],
       "layout": "IPY_MODEL_975060df133b4b789b36d6a33ed1d7b2"
      }
     },
     "f661e5f571a1412b81c93a71199938c9": {
      "model_module": "@jupyter-widgets/controls",
      "model_module_version": "2.0.0",
      "model_name": "DropdownModel",
      "state": {
       "_options_labels": [
        "no_image",
        "image",
        "labels",
        "modified_image",
        "slice_image",
        "binary",
        "image_stack",
        "labels_stack"
       ],
       "description": "usemask",
       "index": 0,
       "layout": "IPY_MODEL_13c7c89ff28a48b2bb62dbffd0ce518f",
       "style": "IPY_MODEL_fbbcd3ec1b694d4c979a4fc6ee39e742"
      }
     },
     "f6912d749f6a44b2afffb58523ed59d6": {
      "model_module": "ipycanvas",
      "model_module_version": "^0.13",
      "model_name": "CanvasModel",
      "state": {
       "_canvas_manager": "IPY_MODEL_e404249722934e43b115a8d31ac3cd3b",
       "_model_module_version": "^0.13",
       "_view_module_version": "^0.13",
       "height": 160,
       "layout": "IPY_MODEL_4a6a517418ab4594a60ed07c452b12fd",
       "width": 160
      }
     },
     "f74fbab2107d4069a095f14be73871a0": {
      "model_module": "@jupyter-widgets/base",
      "model_module_version": "2.0.0",
      "model_name": "LayoutModel",
      "state": {}
     },
     "f7675713e91842b0a1b98248eeded4af": {
      "model_module": "@jupyter-widgets/controls",
      "model_module_version": "2.0.0",
      "model_name": "SliderStyleModel",
      "state": {
       "description_width": ""
      }
     },
     "f7f3415349644561b710e44a2f8e937d": {
      "model_module": "@jupyter-widgets/base",
      "model_module_version": "2.0.0",
      "model_name": "LayoutModel",
      "state": {}
     },
     "f87d0f68049446b48a0a5598871ca9ff": {
      "model_module": "@jupyter-widgets/controls",
      "model_module_version": "2.0.0",
      "model_name": "ButtonStyleModel",
      "state": {
       "font_family": null,
       "font_size": null,
       "font_style": null,
       "font_variant": null,
       "font_weight": null,
       "text_color": null,
       "text_decoration": null
      }
     },
     "f9461d8dfbf64a98bf6816dcedf9e585": {
      "model_module": "@jupyter-widgets/controls",
      "model_module_version": "2.0.0",
      "model_name": "HBoxModel",
      "state": {
       "children": [
        "IPY_MODEL_57ee355a4ade44af9baece02cf1d977b"
       ],
       "layout": "IPY_MODEL_920e9f8dd7b746d6b1e2df409a7334d0"
      }
     },
     "f97d254136d74dd5ad9f7bdcf5d0560c": {
      "model_module": "@jupyter-widgets/controls",
      "model_module_version": "2.0.0",
      "model_name": "VBoxModel",
      "state": {
       "children": [
        "IPY_MODEL_8aa079b6b7444b459c1193af2f186bbf",
        "IPY_MODEL_d321402745d54a7bbb3535b7becd1475"
       ],
       "layout": "IPY_MODEL_63606c8fccf14866a280a0e57b5840f1"
      }
     },
     "fa3fff47fbd64dcaa44e32cc4a71835c": {
      "model_module": "@jupyter-widgets/controls",
      "model_module_version": "2.0.0",
      "model_name": "HBoxModel",
      "state": {
       "children": [
        "IPY_MODEL_dbc9985bc4db43eb8fe5e7d34d21b30d"
       ],
       "layout": "IPY_MODEL_5b29d07783844c65a764165a71930aa9"
      }
     },
     "faadce18f24449cda19a2135e8448036": {
      "model_module": "@jupyter-widgets/base",
      "model_module_version": "2.0.0",
      "model_name": "LayoutModel",
      "state": {}
     },
     "fb85a63ac7d44bbbab25a48b21d2eb5a": {
      "model_module": "@jupyter-widgets/base",
      "model_module_version": "2.0.0",
      "model_name": "LayoutModel",
      "state": {
       "display": "none"
      }
     },
     "fb9dea18be00462589fba056ca7274ab": {
      "model_module": "@jupyter-widgets/base",
      "model_module_version": "2.0.0",
      "model_name": "LayoutModel",
      "state": {}
     },
     "fbb833114fde49579e21fe242f201f6a": {
      "model_module": "@jupyter-widgets/base",
      "model_module_version": "2.0.0",
      "model_name": "LayoutModel",
      "state": {}
     },
     "fbbcd3ec1b694d4c979a4fc6ee39e742": {
      "model_module": "@jupyter-widgets/controls",
      "model_module_version": "2.0.0",
      "model_name": "DescriptionStyleModel",
      "state": {
       "description_width": ""
      }
     },
     "fc689cfacb094efc923fc667d628678f": {
      "model_module": "@jupyter-widgets/controls",
      "model_module_version": "2.0.0",
      "model_name": "VBoxModel",
      "state": {
       "children": [
        "IPY_MODEL_da1bb6b9b2ea45a9bac46e97c7f023ab",
        "IPY_MODEL_d70860be67f942b8a495a55a524e98b2",
        "IPY_MODEL_bd65b1f66efd48d28f2a85533717d4f0",
        "IPY_MODEL_7b382eef4b4744aaa37915cb318b2a3d"
       ],
       "layout": "IPY_MODEL_e9ff87fce4584e15909c17248a5e2b62"
      }
     },
     "fcf0dcb58d134c29b45425ade33b67e0": {
      "model_module": "@jupyter-widgets/controls",
      "model_module_version": "2.0.0",
      "model_name": "LabelModel",
      "state": {
       "layout": "IPY_MODEL_cafa417770224e83bbba411f1ad1845f",
       "style": "IPY_MODEL_59e60d322e0b4f82b3efdd96aeb63956",
       "value": "gaussian(..., sigma=1.0)"
      }
     },
     "fdd7bfae63d343229d907547c91692f2": {
      "model_module": "@jupyter-widgets/controls",
      "model_module_version": "2.0.0",
      "model_name": "LabelModel",
      "state": {
       "layout": "IPY_MODEL_16b3aecc481b4870b3f01b2b5ce291af",
       "style": "IPY_MODEL_ccaff82a31644aafb028c727b90e0bcf",
       "value": "Label ID:"
      }
     },
     "fe9539b4a19f429db53367390b005299": {
      "model_module": "@jupyter-widgets/controls",
      "model_module_version": "2.0.0",
      "model_name": "VBoxModel",
      "state": {
       "_dom_classes": [
        "widget-interact"
       ],
       "children": [
        "IPY_MODEL_bde066b4c84b446ba9c5264b6549ca19",
        "IPY_MODEL_268cf8aad3e14ae899d2421a2686d87f"
       ],
       "layout": "IPY_MODEL_080c5100b42b4b79bd676855c3074d54"
      }
     },
     "feb0719f74b24ee99124e3ae13e560ca": {
      "model_module": "@jupyter-widgets/base",
      "model_module_version": "2.0.0",
      "model_name": "LayoutModel",
      "state": {
       "display": "none"
      }
     },
     "feb1706fe44b4ea6accf706d85ea9ff5": {
      "model_module": "@jupyter-widgets/controls",
      "model_module_version": "2.0.0",
      "model_name": "VBoxModel",
      "state": {
       "_dom_classes": [
        "widget-interact"
       ],
       "children": [
        "IPY_MODEL_2e243bf31a534d0b8703b79141872a2d",
        "IPY_MODEL_9f922dc6db4648fd8ed1be956615a44e",
        "IPY_MODEL_e0d099d5a1af47e2b99ffa413f1b67b7",
        "IPY_MODEL_ec55dea48a244fb9a975cb8547bdb3fa"
       ],
       "layout": "IPY_MODEL_65a5467dd0e649a59a5efb85931a950e"
      }
     },
     "fec28de0d8834b68bafef6a5d785abe9": {
      "model_module": "@jupyter-widgets/controls",
      "model_module_version": "2.0.0",
      "model_name": "IntSliderModel",
      "state": {
       "behavior": "drag-tap",
       "description": "Curtain",
       "layout": "IPY_MODEL_8367bc12518f41ccb5214da47186403b",
       "max": 160,
       "style": "IPY_MODEL_82613169155a423e9f57b19119e8953e",
       "value": 80
      }
     },
     "fee2d571de8a4caa9f7aa7840ec40b75": {
      "model_module": "@jupyter-widgets/base",
      "model_module_version": "2.0.0",
      "model_name": "LayoutModel",
      "state": {}
     },
     "fefc5bfa51464c97bc1ca40c7bb15ea7": {
      "model_module": "@jupyter-widgets/controls",
      "model_module_version": "2.0.0",
      "model_name": "VBoxModel",
      "state": {
       "children": [
        "IPY_MODEL_be7b006ae7a2450090ab17e244479886",
        "IPY_MODEL_f5824d853b324cf1b76a4e0eea92ee19"
       ],
       "layout": "IPY_MODEL_feb0719f74b24ee99124e3ae13e560ca"
      }
     },
     "ff556ac614d34b50a934ac331b111c34": {
      "model_module": "@jupyter-widgets/controls",
      "model_module_version": "2.0.0",
      "model_name": "VBoxModel",
      "state": {
       "children": [
        "IPY_MODEL_9a81ed5130cf44408eba42378d1f4545",
        "IPY_MODEL_39c8a82495dc4bbfa17250c93844e247"
       ],
       "layout": "IPY_MODEL_3de2ac8ead654c2390f56fc5c7bc4788"
      }
     },
     "ffbead4eb5a943ba9c8a88f85f5f1aad": {
      "model_module": "@jupyter-widgets/controls",
      "model_module_version": "2.0.0",
      "model_name": "SliderStyleModel",
      "state": {
       "description_width": ""
      }
     }
    },
    "version_major": 2,
    "version_minor": 0
   }
  }
 },
 "nbformat": 4,
 "nbformat_minor": 5
}
