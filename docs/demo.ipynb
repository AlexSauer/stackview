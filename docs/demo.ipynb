{
 "cells": [
  {
   "cell_type": "markdown",
   "id": "dca63629",
   "metadata": {},
   "source": [
    "# stackview\n",
    "Interactive image stack viewing in jupyter notebooks based on \n",
    "[numpy_image_widget](https://github.com/Who8MyLunch/Numpy_Image_Widget) and \n",
    "[ipywidgets](https://ipywidgets.readthedocs.io/en/latest/).\n",
    "\n",
    "## Installation"
   ]
  },
  {
   "cell_type": "code",
   "execution_count": null,
   "id": "9f7c7fc5",
   "metadata": {},
   "outputs": [],
   "source": [
    "!pip install stackview"
   ]
  },
  {
   "cell_type": "markdown",
   "id": "79a8abbc",
   "metadata": {},
   "source": [
    "## Usage\n",
    "You can use `stackview` from within jupyter notebooks as shown below.\n",
    "\n",
    "Starting point is a 3D image dataset provided as numpy array. "
   ]
  },
  {
   "cell_type": "code",
   "execution_count": 1,
   "id": "ca154076",
   "metadata": {},
   "outputs": [],
   "source": [
    "import stackview\n",
    "from skimage.io import imread\n",
    "from skimage.filters import gaussian"
   ]
  },
  {
   "cell_type": "code",
   "execution_count": 2,
   "id": "21067204",
   "metadata": {},
   "outputs": [],
   "source": [
    "image = imread('https://github.com/haesleinhuepf/stackview/blob/main/docs/data/Haase_MRT_tfl3d1.tif?raw=true', plugin='tifffile')"
   ]
  },
  {
   "cell_type": "markdown",
   "id": "42963cad",
   "metadata": {},
   "source": [
    "You can then view it slice-by-slice:"
   ]
  },
  {
   "cell_type": "code",
   "execution_count": 3,
   "id": "4cf3f9d3",
   "metadata": {},
   "outputs": [
    {
     "data": {
      "application/vnd.jupyter.widget-view+json": {
       "model_id": "b6fd45dc790a4caaa69770fe75a4d541",
       "version_major": 2,
       "version_minor": 0
      },
      "text/plain": [
       "VBox(children=(NumpyImage(value=b'\\xff\\xd8\\xff\\xe0\\x00\\x10JFIF\\x00\\x01\\x01\\x00\\x00\\x01\\x00\\x01\\x00\\x00\\xff\\xdb…"
      ]
     },
     "metadata": {},
     "output_type": "display_data"
    }
   ],
   "source": [
    "stackview.slice(image, continuous_update=True)"
   ]
  },
  {
   "cell_type": "markdown",
   "id": "2e552f7e",
   "metadata": {},
   "source": [
    "Orthogonal views are also available:"
   ]
  },
  {
   "cell_type": "code",
   "execution_count": 4,
   "id": "42dd2614",
   "metadata": {},
   "outputs": [
    {
     "data": {
      "application/vnd.jupyter.widget-view+json": {
       "model_id": "4871c6d8263a47238f169b86245f019e",
       "version_major": 2,
       "version_minor": 0
      },
      "text/plain": [
       "HBox(children=(VBox(children=(NumpyImage(value=b'\\xff\\xd8\\xff\\xe0\\x00\\x10JFIF\\x00\\x01\\x01\\x00\\x00\\x01\\x00\\x01\\…"
      ]
     },
     "metadata": {},
     "output_type": "display_data"
    }
   ],
   "source": [
    "stackview.orthogonal(image, continuous_update=True)"
   ]
  },
  {
   "cell_type": "markdown",
   "id": "634f0860",
   "metadata": {},
   "source": [
    "Furthermore, to visualize an original image in combination with a processed version, a curtain view may be helpful:"
   ]
  },
  {
   "cell_type": "code",
   "execution_count": 5,
   "id": "d4ee961e",
   "metadata": {},
   "outputs": [],
   "source": [
    "modified_image = image.max() - image"
   ]
  },
  {
   "cell_type": "code",
   "execution_count": 6,
   "id": "ab1dc868",
   "metadata": {},
   "outputs": [
    {
     "data": {
      "application/vnd.jupyter.widget-view+json": {
       "model_id": "c0c98c4405174cbb8ded04e0c2745dc1",
       "version_major": 2,
       "version_minor": 0
      },
      "text/plain": [
       "VBox(children=(NumpyImage(value=b'\\xff\\xd8\\xff\\xe0\\x00\\x10JFIF\\x00\\x01\\x01\\x00\\x00\\x01\\x00\\x01\\x00\\x00\\xff\\xdb…"
      ]
     },
     "metadata": {},
     "output_type": "display_data"
    }
   ],
   "source": [
    "stackview.curtain(image, modified_image, continuous_update=True)"
   ]
  },
  {
   "cell_type": "markdown",
   "id": "187cf539",
   "metadata": {},
   "source": [
    "The curtain also works with 2D data"
   ]
  },
  {
   "cell_type": "code",
   "execution_count": 7,
   "id": "2f21ee1d",
   "metadata": {},
   "outputs": [],
   "source": [
    "slice_image = imread('https://github.com/haesleinhuepf/stackview/blob/main/docs/data/blobs.tif?raw=true', plugin='tifffile')"
   ]
  },
  {
   "cell_type": "code",
   "execution_count": 8,
   "id": "bd7d1317",
   "metadata": {},
   "outputs": [],
   "source": [
    "from skimage.filters import threshold_otsu\n",
    "binary = (slice_image > threshold_otsu(slice_image)) * 255"
   ]
  },
  {
   "cell_type": "code",
   "execution_count": 9,
   "id": "6b5dd31a",
   "metadata": {},
   "outputs": [
    {
     "data": {
      "application/vnd.jupyter.widget-view+json": {
       "model_id": "b1c48f7666d742959239076d7ceb9242",
       "version_major": 2,
       "version_minor": 0
      },
      "text/plain": [
       "VBox(children=(NumpyImage(value=b'\\xff\\xd8\\xff\\xe0\\x00\\x10JFIF\\x00\\x01\\x01\\x00\\x00\\x01\\x00\\x01\\x00\\x00\\xff\\xdb…"
      ]
     },
     "metadata": {},
     "output_type": "display_data"
    }
   ],
   "source": [
    "stackview.curtain(slice_image, binary, continuous_update=True)"
   ]
  },
  {
   "cell_type": "markdown",
   "id": "4767b2f9",
   "metadata": {},
   "source": [
    "A side-by-side view of two stacks is also available. It might be useful for colocalization visualization or showing subsequent time points of a timelapse."
   ]
  },
  {
   "cell_type": "code",
   "execution_count": 10,
   "id": "7bf91429",
   "metadata": {},
   "outputs": [],
   "source": [
    "image_stack = imread('https://github.com/haesleinhuepf/stackview/blob/main/docs/data/CalibZAPWfixed_000154_max.tif?raw=true', plugin='tifffile').swapaxes(1,2)"
   ]
  },
  {
   "cell_type": "code",
   "execution_count": 11,
   "id": "5ad9ebf9",
   "metadata": {
    "scrolled": false
   },
   "outputs": [
    {
     "data": {
      "application/vnd.jupyter.widget-view+json": {
       "model_id": "ee9fbe57e23b4ee3bbf0bad3e790efcc",
       "version_major": 2,
       "version_minor": 0
      },
      "text/plain": [
       "VBox(children=(HBox(children=(NumpyImage(value=b'\\xff\\xd8\\xff\\xe0\\x00\\x10JFIF\\x00\\x01\\x01\\x00\\x00\\x01\\x00\\x01\\…"
      ]
     },
     "metadata": {},
     "output_type": "display_data"
    }
   ],
   "source": [
    "stackview.side_by_side(image_stack[1:], image_stack[:-1], continuous_update=True, display_width=300)"
   ]
  }
 ],
 "metadata": {
  "kernelspec": {
   "display_name": "Python 3 (ipykernel)",
   "language": "python",
   "name": "python3"
  },
  "language_info": {
   "codemirror_mode": {
    "name": "ipython",
    "version": 3
   },
   "file_extension": ".py",
   "mimetype": "text/x-python",
   "name": "python",
   "nbconvert_exporter": "python",
   "pygments_lexer": "ipython3",
   "version": "3.8.5"
  }
 },
 "nbformat": 4,
 "nbformat_minor": 5
}
