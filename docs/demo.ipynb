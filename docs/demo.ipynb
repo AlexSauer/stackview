{
 "cells": [
  {
   "cell_type": "markdown",
   "id": "dca63629",
   "metadata": {},
   "source": [
    "# stackview\n",
    "Interactive image stack viewing in jupyter notebooks based on \n",
    "[numpy_image_widget](https://github.com/Who8MyLunch/Numpy_Image_Widget) and \n",
    "[ipywidgets](https://ipywidgets.readthedocs.io/en/latest/).\n",
    "\n",
    "## Installation"
   ]
  },
  {
   "cell_type": "code",
   "execution_count": 4,
   "id": "d80069da",
   "metadata": {},
   "outputs": [
    {
     "name": "stdout",
     "output_type": "stream",
     "text": [
      "Requirement already satisfied: stackview in c:\\structure\\code\\stackview (0.1.0)\n",
      "Requirement already satisfied: numpy!=1.19.4 in c:\\users\\rober\\miniconda3\\envs\\bio1\\lib\\site-packages (from stackview) (1.21.0)\n",
      "Requirement already satisfied: numpy_image_widget in c:\\users\\rober\\miniconda3\\envs\\bio1\\lib\\site-packages (from stackview) (2020.7.21)\n",
      "Requirement already satisfied: ipywidgets in c:\\users\\rober\\miniconda3\\envs\\bio1\\lib\\site-packages (from stackview) (7.6.3)\n",
      "Requirement already satisfied: widgetsnbextension~=3.5.0 in c:\\users\\rober\\miniconda3\\envs\\bio1\\lib\\site-packages (from ipywidgets->stackview) (3.5.1)\n",
      "Requirement already satisfied: nbformat>=4.2.0 in c:\\users\\rober\\miniconda3\\envs\\bio1\\lib\\site-packages (from ipywidgets->stackview) (5.1.3)\n",
      "Requirement already satisfied: jupyterlab-widgets>=1.0.0 in c:\\users\\rober\\miniconda3\\envs\\bio1\\lib\\site-packages (from ipywidgets->stackview) (1.0.0)\n",
      "Requirement already satisfied: ipython>=4.0.0 in c:\\users\\rober\\miniconda3\\envs\\bio1\\lib\\site-packages (from ipywidgets->stackview) (7.25.0)\n",
      "Requirement already satisfied: ipykernel>=4.5.1 in c:\\users\\rober\\miniconda3\\envs\\bio1\\lib\\site-packages (from ipywidgets->stackview) (6.0.1)\n",
      "Requirement already satisfied: traitlets>=4.3.1 in c:\\users\\rober\\miniconda3\\envs\\bio1\\lib\\site-packages (from ipywidgets->stackview) (5.0.5)\n",
      "Requirement already satisfied: tornado>=4.2 in c:\\users\\rober\\miniconda3\\envs\\bio1\\lib\\site-packages (from ipykernel>=4.5.1->ipywidgets->stackview) (6.1)\n",
      "Requirement already satisfied: jupyter-client in c:\\users\\rober\\miniconda3\\envs\\bio1\\lib\\site-packages (from ipykernel>=4.5.1->ipywidgets->stackview) (6.1.12)\n",
      "Requirement already satisfied: debugpy>=1.0.0 in c:\\users\\rober\\miniconda3\\envs\\bio1\\lib\\site-packages (from ipykernel>=4.5.1->ipywidgets->stackview) (1.3.0)\n",
      "Requirement already satisfied: colorama in c:\\users\\rober\\miniconda3\\envs\\bio1\\lib\\site-packages (from ipython>=4.0.0->ipywidgets->stackview) (0.4.4)\n",
      "Requirement already satisfied: decorator in c:\\users\\rober\\miniconda3\\envs\\bio1\\lib\\site-packages (from ipython>=4.0.0->ipywidgets->stackview) (4.4.2)\n",
      "Requirement already satisfied: pickleshare in c:\\users\\rober\\miniconda3\\envs\\bio1\\lib\\site-packages (from ipython>=4.0.0->ipywidgets->stackview) (0.7.5)\n",
      "Requirement already satisfied: pygments in c:\\users\\rober\\miniconda3\\envs\\bio1\\lib\\site-packages (from ipython>=4.0.0->ipywidgets->stackview) (2.9.0)\n",
      "Requirement already satisfied: setuptools>=18.5 in c:\\users\\rober\\appdata\\roaming\\python\\python38\\site-packages (from ipython>=4.0.0->ipywidgets->stackview) (57.1.0)\n",
      "Requirement already satisfied: backcall in c:\\users\\rober\\miniconda3\\envs\\bio1\\lib\\site-packages (from ipython>=4.0.0->ipywidgets->stackview) (0.2.0)\n",
      "Requirement already satisfied: prompt-toolkit!=3.0.0,!=3.0.1,<3.1.0,>=2.0.0 in c:\\users\\rober\\miniconda3\\envs\\bio1\\lib\\site-packages (from ipython>=4.0.0->ipywidgets->stackview) (3.0.19)\n",
      "Requirement already satisfied: matplotlib-inline in c:\\users\\rober\\miniconda3\\envs\\bio1\\lib\\site-packages (from ipython>=4.0.0->ipywidgets->stackview) (0.1.2)\n",
      "Requirement already satisfied: jedi>=0.16 in c:\\users\\rober\\miniconda3\\envs\\bio1\\lib\\site-packages (from ipython>=4.0.0->ipywidgets->stackview) (0.18.0)\n",
      "Requirement already satisfied: parso<0.9.0,>=0.8.0 in c:\\users\\rober\\miniconda3\\envs\\bio1\\lib\\site-packages (from jedi>=0.16->ipython>=4.0.0->ipywidgets->stackview) (0.8.2)\n",
      "Requirement already satisfied: jupyter-core in c:\\users\\rober\\miniconda3\\envs\\bio1\\lib\\site-packages (from nbformat>=4.2.0->ipywidgets->stackview) (4.7.1)\n",
      "Requirement already satisfied: jsonschema!=2.5.0,>=2.4 in c:\\users\\rober\\miniconda3\\envs\\bio1\\lib\\site-packages (from nbformat>=4.2.0->ipywidgets->stackview) (3.2.0)\n",
      "Requirement already satisfied: ipython-genutils in c:\\users\\rober\\miniconda3\\envs\\bio1\\lib\\site-packages (from nbformat>=4.2.0->ipywidgets->stackview) (0.2.0)\n",
      "Requirement already satisfied: pyrsistent>=0.14.0 in c:\\users\\rober\\miniconda3\\envs\\bio1\\lib\\site-packages (from jsonschema!=2.5.0,>=2.4->nbformat>=4.2.0->ipywidgets->stackview) (0.17.3)\n",
      "Requirement already satisfied: attrs>=17.4.0 in c:\\users\\rober\\miniconda3\\envs\\bio1\\lib\\site-packages (from jsonschema!=2.5.0,>=2.4->nbformat>=4.2.0->ipywidgets->stackview) (21.2.0)\n",
      "Requirement already satisfied: six>=1.11.0 in c:\\users\\rober\\miniconda3\\envs\\bio1\\lib\\site-packages (from jsonschema!=2.5.0,>=2.4->nbformat>=4.2.0->ipywidgets->stackview) (1.15.0)\n",
      "Requirement already satisfied: wcwidth in c:\\users\\rober\\miniconda3\\envs\\bio1\\lib\\site-packages (from prompt-toolkit!=3.0.0,!=3.0.1,<3.1.0,>=2.0.0->ipython>=4.0.0->ipywidgets->stackview) (0.2.5)\n",
      "Requirement already satisfied: notebook>=4.4.1 in c:\\users\\rober\\miniconda3\\envs\\bio1\\lib\\site-packages (from widgetsnbextension~=3.5.0->ipywidgets->stackview) (6.4.0)\n",
      "Requirement already satisfied: nbconvert in c:\\users\\rober\\miniconda3\\envs\\bio1\\lib\\site-packages (from notebook>=4.4.1->widgetsnbextension~=3.5.0->ipywidgets->stackview) (6.1.0)\n",
      "Requirement already satisfied: pyzmq>=17 in c:\\users\\rober\\miniconda3\\envs\\bio1\\lib\\site-packages (from notebook>=4.4.1->widgetsnbextension~=3.5.0->ipywidgets->stackview) (22.1.0)\n",
      "Requirement already satisfied: argon2-cffi in c:\\users\\rober\\miniconda3\\envs\\bio1\\lib\\site-packages (from notebook>=4.4.1->widgetsnbextension~=3.5.0->ipywidgets->stackview) (20.1.0)\n",
      "Requirement already satisfied: jinja2 in c:\\users\\rober\\miniconda3\\envs\\bio1\\lib\\site-packages (from notebook>=4.4.1->widgetsnbextension~=3.5.0->ipywidgets->stackview) (3.0.1)\n",
      "Requirement already satisfied: prometheus-client in c:\\users\\rober\\miniconda3\\envs\\bio1\\lib\\site-packages (from notebook>=4.4.1->widgetsnbextension~=3.5.0->ipywidgets->stackview) (0.11.0)\n",
      "Requirement already satisfied: Send2Trash>=1.5.0 in c:\\users\\rober\\miniconda3\\envs\\bio1\\lib\\site-packages (from notebook>=4.4.1->widgetsnbextension~=3.5.0->ipywidgets->stackview) (1.7.1)\n",
      "Requirement already satisfied: terminado>=0.8.3 in c:\\users\\rober\\miniconda3\\envs\\bio1\\lib\\site-packages (from notebook>=4.4.1->widgetsnbextension~=3.5.0->ipywidgets->stackview) (0.10.1)\n",
      "Requirement already satisfied: python-dateutil>=2.1 in c:\\users\\rober\\miniconda3\\envs\\bio1\\lib\\site-packages (from jupyter-client->ipykernel>=4.5.1->ipywidgets->stackview) (2.8.2)\n",
      "Requirement already satisfied: pywin32>=1.0 in c:\\users\\rober\\miniconda3\\envs\\bio1\\lib\\site-packages (from jupyter-core->nbformat>=4.2.0->ipywidgets->stackview) (300)\n",
      "Requirement already satisfied: pywinpty>=1.1.0 in c:\\users\\rober\\miniconda3\\envs\\bio1\\lib\\site-packages (from terminado>=0.8.3->notebook>=4.4.1->widgetsnbextension~=3.5.0->ipywidgets->stackview) (1.1.3)\n",
      "Requirement already satisfied: cffi>=1.0.0 in c:\\users\\rober\\miniconda3\\envs\\bio1\\lib\\site-packages (from argon2-cffi->notebook>=4.4.1->widgetsnbextension~=3.5.0->ipywidgets->stackview) (1.14.6)\n",
      "Requirement already satisfied: pycparser in c:\\users\\rober\\miniconda3\\envs\\bio1\\lib\\site-packages (from cffi>=1.0.0->argon2-cffi->notebook>=4.4.1->widgetsnbextension~=3.5.0->ipywidgets->stackview) (2.20)\n",
      "Requirement already satisfied: MarkupSafe>=2.0 in c:\\users\\rober\\miniconda3\\envs\\bio1\\lib\\site-packages (from jinja2->notebook>=4.4.1->widgetsnbextension~=3.5.0->ipywidgets->stackview) (2.0.1)\n",
      "Requirement already satisfied: mistune<2,>=0.8.1 in c:\\users\\rober\\miniconda3\\envs\\bio1\\lib\\site-packages (from nbconvert->notebook>=4.4.1->widgetsnbextension~=3.5.0->ipywidgets->stackview) (0.8.4)\n",
      "Requirement already satisfied: nbclient<0.6.0,>=0.5.0 in c:\\users\\rober\\miniconda3\\envs\\bio1\\lib\\site-packages (from nbconvert->notebook>=4.4.1->widgetsnbextension~=3.5.0->ipywidgets->stackview) (0.5.3)\n",
      "Requirement already satisfied: bleach in c:\\users\\rober\\miniconda3\\envs\\bio1\\lib\\site-packages (from nbconvert->notebook>=4.4.1->widgetsnbextension~=3.5.0->ipywidgets->stackview) (3.3.0)\n",
      "Requirement already satisfied: testpath in c:\\users\\rober\\miniconda3\\envs\\bio1\\lib\\site-packages (from nbconvert->notebook>=4.4.1->widgetsnbextension~=3.5.0->ipywidgets->stackview) (0.5.0)\n",
      "Requirement already satisfied: pandocfilters>=1.4.1 in c:\\users\\rober\\miniconda3\\envs\\bio1\\lib\\site-packages (from nbconvert->notebook>=4.4.1->widgetsnbextension~=3.5.0->ipywidgets->stackview) (1.4.2)\n",
      "Requirement already satisfied: jupyterlab-pygments in c:\\users\\rober\\miniconda3\\envs\\bio1\\lib\\site-packages (from nbconvert->notebook>=4.4.1->widgetsnbextension~=3.5.0->ipywidgets->stackview) (0.1.2)\n",
      "Requirement already satisfied: entrypoints>=0.2.2 in c:\\users\\rober\\miniconda3\\envs\\bio1\\lib\\site-packages (from nbconvert->notebook>=4.4.1->widgetsnbextension~=3.5.0->ipywidgets->stackview) (0.3)\n",
      "Requirement already satisfied: defusedxml in c:\\users\\rober\\miniconda3\\envs\\bio1\\lib\\site-packages (from nbconvert->notebook>=4.4.1->widgetsnbextension~=3.5.0->ipywidgets->stackview) (0.7.1)\n",
      "Requirement already satisfied: nest-asyncio in c:\\users\\rober\\miniconda3\\envs\\bio1\\lib\\site-packages (from nbclient<0.6.0,>=0.5.0->nbconvert->notebook>=4.4.1->widgetsnbextension~=3.5.0->ipywidgets->stackview) (1.5.1)\n",
      "Requirement already satisfied: async-generator in c:\\users\\rober\\miniconda3\\envs\\bio1\\lib\\site-packages (from nbclient<0.6.0,>=0.5.0->nbconvert->notebook>=4.4.1->widgetsnbextension~=3.5.0->ipywidgets->stackview) (1.10)\n",
      "Requirement already satisfied: packaging in c:\\users\\rober\\miniconda3\\envs\\bio1\\lib\\site-packages (from bleach->nbconvert->notebook>=4.4.1->widgetsnbextension~=3.5.0->ipywidgets->stackview) (21.0)\n",
      "Requirement already satisfied: webencodings in c:\\users\\rober\\miniconda3\\envs\\bio1\\lib\\site-packages (from bleach->nbconvert->notebook>=4.4.1->widgetsnbextension~=3.5.0->ipywidgets->stackview) (0.5.1)\n",
      "Requirement already satisfied: image-attendant in c:\\users\\rober\\miniconda3\\envs\\bio1\\lib\\site-packages (from numpy_image_widget->stackview) (2020.7.29)\n",
      "Requirement already satisfied: ipyevents in c:\\users\\rober\\miniconda3\\envs\\bio1\\lib\\site-packages (from numpy_image_widget->stackview) (2.0.1)\n",
      "Requirement already satisfied: Pillow in c:\\users\\rober\\miniconda3\\envs\\bio1\\lib\\site-packages (from image-attendant->numpy_image_widget->stackview) (8.3.1)\n",
      "Requirement already satisfied: requests in c:\\users\\rober\\miniconda3\\envs\\bio1\\lib\\site-packages (from image-attendant->numpy_image_widget->stackview) (2.26.0)\n",
      "Requirement already satisfied: pyparsing>=2.0.2 in c:\\users\\rober\\miniconda3\\envs\\bio1\\lib\\site-packages (from packaging->bleach->nbconvert->notebook>=4.4.1->widgetsnbextension~=3.5.0->ipywidgets->stackview) (2.4.7)\n",
      "Requirement already satisfied: certifi>=2017.4.17 in c:\\users\\rober\\miniconda3\\envs\\bio1\\lib\\site-packages (from requests->image-attendant->numpy_image_widget->stackview) (2021.5.30)\n",
      "Requirement already satisfied: idna<4,>=2.5 in c:\\users\\rober\\miniconda3\\envs\\bio1\\lib\\site-packages (from requests->image-attendant->numpy_image_widget->stackview) (3.2)\n",
      "Requirement already satisfied: charset-normalizer~=2.0.0 in c:\\users\\rober\\miniconda3\\envs\\bio1\\lib\\site-packages (from requests->image-attendant->numpy_image_widget->stackview) (2.0.1)\n",
      "Requirement already satisfied: urllib3<1.27,>=1.21.1 in c:\\users\\rober\\miniconda3\\envs\\bio1\\lib\\site-packages (from requests->image-attendant->numpy_image_widget->stackview) (1.26.6)\n"
     ]
    }
   ],
   "source": [
    "!pip install stackview"
   ]
  },
  {
   "cell_type": "markdown",
   "id": "79a8abbc",
   "metadata": {},
   "source": [
    "## Usage\n",
    "You can use `stackview` from within jupyter notebooks as shown below.\n",
    "\n",
    "Starting point is a 3D image dataset provided as numpy array. "
   ]
  },
  {
   "cell_type": "code",
   "execution_count": 5,
   "id": "ca154076",
   "metadata": {},
   "outputs": [],
   "source": [
    "import stackview\n",
    "from skimage.io import imread\n",
    "from skimage.filters import gaussian"
   ]
  },
  {
   "cell_type": "code",
   "execution_count": 40,
   "id": "21067204",
   "metadata": {},
   "outputs": [],
   "source": [
    "image = imread('C:/structure/data/EM_C_6_c0_reduced.tif', plugin='tifffile')\n",
    "labels = imread('C:/structure/data/EM_C_6_c0_reduced_labels_morpholibj.tif', plugin='tifffile')"
   ]
  },
  {
   "cell_type": "code",
   "execution_count": 43,
   "id": "926cf509",
   "metadata": {},
   "outputs": [],
   "source": [
    "import pyclesperanto_prototype as cle\n",
    "\n",
    "detected_membrane = cle.pull(cle.detect_label_edges(labels))\n",
    "\n",
    "for z in range(detected_membrane.shape[0]):\n",
    "    detected_membrane[z] = cle.pull(cle.detect_label_edges(labels[z]))\n",
    "detected_membrane = detected_membrane * image.max()"
   ]
  },
  {
   "cell_type": "code",
   "execution_count": 44,
   "id": "80a4be3e",
   "metadata": {
    "scrolled": false
   },
   "outputs": [
    {
     "data": {
      "application/vnd.jupyter.widget-view+json": {
       "model_id": "ae8d83568e9d44c1a80c7df4926d512b",
       "version_major": 2,
       "version_minor": 0
      },
      "text/plain": [
       "VBox(children=(NumpyImage(value=b'\\xff\\xd8\\xff\\xe0\\x00\\x10JFIF\\x00\\x01\\x01\\x00\\x00\\x01\\x00\\x01\\x00\\x00\\xff\\xdb…"
      ]
     },
     "metadata": {},
     "output_type": "display_data"
    }
   ],
   "source": [
    "stackview.curtain(image, detected_membrane, continuous_update=True)"
   ]
  },
  {
   "cell_type": "markdown",
   "id": "42963cad",
   "metadata": {},
   "source": [
    "You can then view it slice-by-slice:"
   ]
  },
  {
   "cell_type": "code",
   "execution_count": 7,
   "id": "4cf3f9d3",
   "metadata": {},
   "outputs": [
    {
     "data": {
      "application/vnd.jupyter.widget-view+json": {
       "model_id": "68df7ed8c1c847a0a09c45ad39c14db9",
       "version_major": 2,
       "version_minor": 0
      },
      "text/plain": [
       "VBox(children=(NumpyImage(value=b'\\xff\\xd8\\xff\\xe0\\x00\\x10JFIF\\x00\\x01\\x01\\x00\\x00\\x01\\x00\\x01\\x00\\x00\\xff\\xdb…"
      ]
     },
     "metadata": {},
     "output_type": "display_data"
    }
   ],
   "source": [
    "stackview.slice(image, continuous_update=True)"
   ]
  },
  {
   "cell_type": "markdown",
   "id": "2e552f7e",
   "metadata": {},
   "source": [
    "Orthogonal views are also available:"
   ]
  },
  {
   "cell_type": "code",
   "execution_count": 8,
   "id": "42dd2614",
   "metadata": {},
   "outputs": [
    {
     "data": {
      "application/vnd.jupyter.widget-view+json": {
       "model_id": "b32b62ccadd548048b922c3c558ef912",
       "version_major": 2,
       "version_minor": 0
      },
      "text/plain": [
       "HBox(children=(VBox(children=(NumpyImage(value=b'\\xff\\xd8\\xff\\xe0\\x00\\x10JFIF\\x00\\x01\\x01\\x00\\x00\\x01\\x00\\x01\\…"
      ]
     },
     "metadata": {},
     "output_type": "display_data"
    }
   ],
   "source": [
    "stackview.orthogonal(image, continuous_update=True)"
   ]
  },
  {
   "cell_type": "markdown",
   "id": "634f0860",
   "metadata": {},
   "source": [
    "Furthermore, to visualize an original image in combination with a processed version, a curtain view may be helpful:"
   ]
  },
  {
   "cell_type": "code",
   "execution_count": 11,
   "id": "d4ee961e",
   "metadata": {},
   "outputs": [],
   "source": [
    "modified_image = image.max() - image"
   ]
  },
  {
   "cell_type": "code",
   "execution_count": null,
   "id": "ab1dc868",
   "metadata": {},
   "outputs": [],
   "source": []
  }
 ],
 "metadata": {
  "kernelspec": {
   "display_name": "Python 3 (ipykernel)",
   "language": "python",
   "name": "python3"
  },
  "language_info": {
   "codemirror_mode": {
    "name": "ipython",
    "version": 3
   },
   "file_extension": ".py",
   "mimetype": "text/x-python",
   "name": "python",
   "nbconvert_exporter": "python",
   "pygments_lexer": "ipython3",
   "version": "3.8.5"
  }
 },
 "nbformat": 4,
 "nbformat_minor": 5
}
